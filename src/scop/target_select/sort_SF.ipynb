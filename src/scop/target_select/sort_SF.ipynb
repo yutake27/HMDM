{
 "metadata": {
  "language_info": {
   "codemirror_mode": {
    "name": "ipython",
    "version": 3
   },
   "file_extension": ".py",
   "mimetype": "text/x-python",
   "name": "python",
   "nbconvert_exporter": "python",
   "pygments_lexer": "ipython3",
   "version": "3.9.1"
  },
  "orig_nbformat": 2,
  "kernelspec": {
   "name": "python3",
   "display_name": "Python 3.9.1 64-bit ('mypython': conda)"
  },
  "metadata": {
   "interpreter": {
    "hash": "033a30f494deec8ceeb512afef8c9dc113472ba2d32680e95a1365ed9cc23893"
   }
  },
  "interpreter": {
   "hash": "033a30f494deec8ceeb512afef8c9dc113472ba2d32680e95a1365ed9cc23893"
  }
 },
 "nbformat": 4,
 "nbformat_minor": 2,
 "cells": [
  {
   "source": [
    "# sort SCOP SuperFamily based on the number of entries"
   ],
   "cell_type": "markdown",
   "metadata": {}
  },
  {
   "cell_type": "code",
   "execution_count": 1,
   "metadata": {},
   "outputs": [],
   "source": [
    "import pandas as pd"
   ]
  },
  {
   "source": [
    "## read scop classification text"
   ],
   "cell_type": "markdown",
   "metadata": {}
  },
  {
   "cell_type": "code",
   "execution_count": 2,
   "metadata": {},
   "outputs": [],
   "source": [
    "scop_cla_path = '../../../scop/20210330/scop-cla-latest.txt'\n",
    "scop_cla_row_df = pd.read_csv(scop_cla_path, header=None, delim_whitespace=True, skiprows=6)\n",
    "header = ['FA-DOMID', 'FA-PDBID', 'FA-PDBREG' ,'FA-UNIID', 'FA-UNIREG', 'SF-DOMID', 'SF-PDBID', 'SF-PDBREG', 'SF-UNIID', 'SF-UNIREG', 'SCOPCLA']\n",
    "scop_cla_row_df.columns = header\n",
    "\n",
    "def parseSCOPCLA(line):\n",
    "    cla_line_row_list = line.split(',')\n",
    "    cla_line_list = [cla.split('=')[1] for cla in cla_line_row_list]\n",
    "    return cla_line_list\n",
    "\n",
    "cla_list = [parseSCOPCLA(line) for line in scop_cla_row_df['SCOPCLA']]\n",
    "SCOPCLA_df = pd.DataFrame(cla_list, columns=['TP', 'CL', 'CF', 'SF', 'FA'])\n",
    "scop_cla_df = pd.concat([scop_cla_row_df, SCOPCLA_df], axis=1).drop(['SCOPCLA'], axis=1)"
   ]
  },
  {
   "cell_type": "code",
   "execution_count": 3,
   "metadata": {},
   "outputs": [
    {
     "output_type": "execute_result",
     "data": {
      "text/plain": [
       "       FA-DOMID FA-PDBID    FA-PDBREG FA-UNIID  FA-UNIREG  SF-DOMID SF-PDBID  \\\n",
       "0       8045703     3H8D  C:1143-1264   Q64331  1143-1264   8091604     3H8D   \n",
       "1       8094330     6J56  A:1158-1282   Q9UM54  1167-1291   8094331     6J56   \n",
       "2       8017835     3FKQ      A:1-116   D0VX10      1-116   8017836     3FKQ   \n",
       "3       8021315     1XHF      A:2-122   P0A9Q1      2-122   8033695     1XHF   \n",
       "4       8021787     1Y7P     B:79-215   O28869     79-215   8034167     1Y7P   \n",
       "...         ...      ...          ...      ...        ...       ...      ...   \n",
       "34725   8022870     1SCJ    B:307-377   P04189     36-106   8035250     1SCJ   \n",
       "34726   8027500     1T1E     A:12-188   Q8RR56     12-188   8039879     1T1E   \n",
       "34727   8027593     1JQG    A:4P-100P   O97389     18-109   8039972     1JQG   \n",
       "34728   8028119     1KN6       A:4-76   P63239     31-103   8040498     1KN6   \n",
       "34729   8028297     1KWM     A:1A-95A   P15086     16-110   8040676     1KWM   \n",
       "\n",
       "         SF-PDBREG SF-UNIID  SF-UNIREG TP       CL       CF       SF       FA  \n",
       "0      C:1143-1264   Q64331  1143-1264  1  1000003  2001470  3002524  4004627  \n",
       "1      A:1158-1282   Q9UM54  1167-1291  1  1000003  2001470  3002524  4004627  \n",
       "2          A:1-116   D0VX10      1-116  1  1000002  2000016  3001156  4003986  \n",
       "3          A:2-122   P0A9Q1      2-122  1  1000002  2000016  3001156  4003632  \n",
       "4         B:79-215   O28869     79-215  1  1000002  2000016  3001156  4002481  \n",
       "...            ...      ...        ... ..      ...      ...      ...      ...  \n",
       "34725    B:307-377   P04189     36-106  1  1000003  2000014  3001155  4001246  \n",
       "34726     A:12-188   Q8RR56     12-188  1  1000003  2000014  3001155  4001246  \n",
       "34727    A:4P-100P   O97389     18-109  1  1000003  2000014  3001155  4001250  \n",
       "34728       A:4-76   P63239     31-103  1  1000003  2000014  3001155  4002630  \n",
       "34729     A:1A-95A   P15086     16-110  1  1000003  2000014  3001155  4001250  \n",
       "\n",
       "[34730 rows x 15 columns]"
      ],
      "text/html": "<div>\n<style scoped>\n    .dataframe tbody tr th:only-of-type {\n        vertical-align: middle;\n    }\n\n    .dataframe tbody tr th {\n        vertical-align: top;\n    }\n\n    .dataframe thead th {\n        text-align: right;\n    }\n</style>\n<table border=\"1\" class=\"dataframe\">\n  <thead>\n    <tr style=\"text-align: right;\">\n      <th></th>\n      <th>FA-DOMID</th>\n      <th>FA-PDBID</th>\n      <th>FA-PDBREG</th>\n      <th>FA-UNIID</th>\n      <th>FA-UNIREG</th>\n      <th>SF-DOMID</th>\n      <th>SF-PDBID</th>\n      <th>SF-PDBREG</th>\n      <th>SF-UNIID</th>\n      <th>SF-UNIREG</th>\n      <th>TP</th>\n      <th>CL</th>\n      <th>CF</th>\n      <th>SF</th>\n      <th>FA</th>\n    </tr>\n  </thead>\n  <tbody>\n    <tr>\n      <th>0</th>\n      <td>8045703</td>\n      <td>3H8D</td>\n      <td>C:1143-1264</td>\n      <td>Q64331</td>\n      <td>1143-1264</td>\n      <td>8091604</td>\n      <td>3H8D</td>\n      <td>C:1143-1264</td>\n      <td>Q64331</td>\n      <td>1143-1264</td>\n      <td>1</td>\n      <td>1000003</td>\n      <td>2001470</td>\n      <td>3002524</td>\n      <td>4004627</td>\n    </tr>\n    <tr>\n      <th>1</th>\n      <td>8094330</td>\n      <td>6J56</td>\n      <td>A:1158-1282</td>\n      <td>Q9UM54</td>\n      <td>1167-1291</td>\n      <td>8094331</td>\n      <td>6J56</td>\n      <td>A:1158-1282</td>\n      <td>Q9UM54</td>\n      <td>1167-1291</td>\n      <td>1</td>\n      <td>1000003</td>\n      <td>2001470</td>\n      <td>3002524</td>\n      <td>4004627</td>\n    </tr>\n    <tr>\n      <th>2</th>\n      <td>8017835</td>\n      <td>3FKQ</td>\n      <td>A:1-116</td>\n      <td>D0VX10</td>\n      <td>1-116</td>\n      <td>8017836</td>\n      <td>3FKQ</td>\n      <td>A:1-116</td>\n      <td>D0VX10</td>\n      <td>1-116</td>\n      <td>1</td>\n      <td>1000002</td>\n      <td>2000016</td>\n      <td>3001156</td>\n      <td>4003986</td>\n    </tr>\n    <tr>\n      <th>3</th>\n      <td>8021315</td>\n      <td>1XHF</td>\n      <td>A:2-122</td>\n      <td>P0A9Q1</td>\n      <td>2-122</td>\n      <td>8033695</td>\n      <td>1XHF</td>\n      <td>A:2-122</td>\n      <td>P0A9Q1</td>\n      <td>2-122</td>\n      <td>1</td>\n      <td>1000002</td>\n      <td>2000016</td>\n      <td>3001156</td>\n      <td>4003632</td>\n    </tr>\n    <tr>\n      <th>4</th>\n      <td>8021787</td>\n      <td>1Y7P</td>\n      <td>B:79-215</td>\n      <td>O28869</td>\n      <td>79-215</td>\n      <td>8034167</td>\n      <td>1Y7P</td>\n      <td>B:79-215</td>\n      <td>O28869</td>\n      <td>79-215</td>\n      <td>1</td>\n      <td>1000002</td>\n      <td>2000016</td>\n      <td>3001156</td>\n      <td>4002481</td>\n    </tr>\n    <tr>\n      <th>...</th>\n      <td>...</td>\n      <td>...</td>\n      <td>...</td>\n      <td>...</td>\n      <td>...</td>\n      <td>...</td>\n      <td>...</td>\n      <td>...</td>\n      <td>...</td>\n      <td>...</td>\n      <td>...</td>\n      <td>...</td>\n      <td>...</td>\n      <td>...</td>\n      <td>...</td>\n    </tr>\n    <tr>\n      <th>34725</th>\n      <td>8022870</td>\n      <td>1SCJ</td>\n      <td>B:307-377</td>\n      <td>P04189</td>\n      <td>36-106</td>\n      <td>8035250</td>\n      <td>1SCJ</td>\n      <td>B:307-377</td>\n      <td>P04189</td>\n      <td>36-106</td>\n      <td>1</td>\n      <td>1000003</td>\n      <td>2000014</td>\n      <td>3001155</td>\n      <td>4001246</td>\n    </tr>\n    <tr>\n      <th>34726</th>\n      <td>8027500</td>\n      <td>1T1E</td>\n      <td>A:12-188</td>\n      <td>Q8RR56</td>\n      <td>12-188</td>\n      <td>8039879</td>\n      <td>1T1E</td>\n      <td>A:12-188</td>\n      <td>Q8RR56</td>\n      <td>12-188</td>\n      <td>1</td>\n      <td>1000003</td>\n      <td>2000014</td>\n      <td>3001155</td>\n      <td>4001246</td>\n    </tr>\n    <tr>\n      <th>34727</th>\n      <td>8027593</td>\n      <td>1JQG</td>\n      <td>A:4P-100P</td>\n      <td>O97389</td>\n      <td>18-109</td>\n      <td>8039972</td>\n      <td>1JQG</td>\n      <td>A:4P-100P</td>\n      <td>O97389</td>\n      <td>18-109</td>\n      <td>1</td>\n      <td>1000003</td>\n      <td>2000014</td>\n      <td>3001155</td>\n      <td>4001250</td>\n    </tr>\n    <tr>\n      <th>34728</th>\n      <td>8028119</td>\n      <td>1KN6</td>\n      <td>A:4-76</td>\n      <td>P63239</td>\n      <td>31-103</td>\n      <td>8040498</td>\n      <td>1KN6</td>\n      <td>A:4-76</td>\n      <td>P63239</td>\n      <td>31-103</td>\n      <td>1</td>\n      <td>1000003</td>\n      <td>2000014</td>\n      <td>3001155</td>\n      <td>4002630</td>\n    </tr>\n    <tr>\n      <th>34729</th>\n      <td>8028297</td>\n      <td>1KWM</td>\n      <td>A:1A-95A</td>\n      <td>P15086</td>\n      <td>16-110</td>\n      <td>8040676</td>\n      <td>1KWM</td>\n      <td>A:1A-95A</td>\n      <td>P15086</td>\n      <td>16-110</td>\n      <td>1</td>\n      <td>1000003</td>\n      <td>2000014</td>\n      <td>3001155</td>\n      <td>4001250</td>\n    </tr>\n  </tbody>\n</table>\n<p>34730 rows × 15 columns</p>\n</div>"
     },
     "metadata": {},
     "execution_count": 3
    }
   ],
   "source": [
    "scop_cla_df"
   ]
  },
  {
   "cell_type": "code",
   "execution_count": 4,
   "metadata": {},
   "outputs": [],
   "source": [
    "scop_cla_csv_path = scop_cla_path.rsplit('.', 1)[0] + '.csv'\n",
    "scop_cla_df.to_csv(scop_cla_csv_path)"
   ]
  },
  {
   "source": [
    "## sort SuperFamily based on the number of entries"
   ],
   "cell_type": "markdown",
   "metadata": {}
  },
  {
   "cell_type": "code",
   "execution_count": 5,
   "metadata": {},
   "outputs": [],
   "source": [
    "sorted_sf_list = scop_cla_df.value_counts('SF')"
   ]
  },
  {
   "cell_type": "code",
   "execution_count": 6,
   "metadata": {},
   "outputs": [
    {
     "output_type": "execute_result",
     "data": {
      "text/plain": [
       "SF\n",
       "3000038    498\n",
       "3000313    437\n",
       "3000066    407\n",
       "3000034    395\n",
       "3000118    335\n",
       "          ... \n",
       "3001982      1\n",
       "3001140      1\n",
       "3001984      1\n",
       "3001985      1\n",
       "3000409      1\n",
       "Length: 2681, dtype: int64"
      ]
     },
     "metadata": {},
     "execution_count": 6
    }
   ],
   "source": [
    "sorted_sf_list"
   ]
  },
  {
   "source": [
    "## Aggregate Protein type and Class\n",
    "### Protein type\n",
    "* 1 Globular proteins\n",
    "* 2 Membrane proteins\n",
    "* 3 Fibrous proteins\n",
    "* 4 Non-globular/Intrinsically unstructured proteins\n",
    "### Protein Class\n",
    "* 1000000 All alpha proteins\n",
    "* 1000001 All beta proteins\n",
    "* 1000002 Alpha and beta proteins (a/b)\n",
    "* 1000003 Alpha and beta proteins (a+b)\n",
    "* 1000004 Small proteins"
   ],
   "cell_type": "markdown",
   "metadata": {}
  },
  {
   "source": [
    "### Check the correspondence between classes and superfamilies"
   ],
   "cell_type": "markdown",
   "metadata": {}
  },
  {
   "cell_type": "code",
   "execution_count": 7,
   "metadata": {
    "tags": []
   },
   "outputs": [
    {
     "output_type": "stream",
     "name": "stdout",
     "text": [
      "3000066\n",
      "TP\n",
      "1    407\n",
      "dtype: int64\n",
      "CL\n",
      "1000003    406\n",
      "1000000      1\n",
      "dtype: int64\n",
      "\n",
      "3000154\n",
      "TP\n",
      "1    79\n",
      "dtype: int64\n",
      "CL\n",
      "1000003    78\n",
      "1000000     1\n",
      "dtype: int64\n",
      "\n",
      "3001848\n",
      "TP\n",
      "1    60\n",
      "dtype: int64\n",
      "CL\n",
      "1000001    59\n",
      "1000003     1\n",
      "dtype: int64\n",
      "\n",
      "3000161\n",
      "TP\n",
      "1    53\n",
      "dtype: int64\n",
      "CL\n",
      "1000003    34\n",
      "1000001    19\n",
      "dtype: int64\n",
      "\n",
      "3000119\n",
      "TP\n",
      "1    51\n",
      "dtype: int64\n",
      "CL\n",
      "1000000    49\n",
      "1000003     2\n",
      "dtype: int64\n",
      "\n"
     ]
    }
   ],
   "source": [
    "# Within a single superfamily, there are cases where it belongs to multiple classes.\n",
    "for sf, num in sorted_sf_list[: 200].items():\n",
    "    sf_df = scop_cla_df.query('SF == @sf')\n",
    "    tp_count = sf_df.value_counts('TP')\n",
    "    cl_count = sf_df.value_counts('CL')\n",
    "    if len(tp_count) != 1 or len(cl_count) != 1:\n",
    "        print(sf)\n",
    "        print(tp_count)\n",
    "        print(cl_count)\n",
    "        print()"
   ]
  },
  {
   "source": [
    "### aggregate superfamily\n",
    "If more than one class exists in a superfamily, the class with the largest number is aggregated."
   ],
   "cell_type": "markdown",
   "metadata": {}
  },
  {
   "cell_type": "code",
   "execution_count": 8,
   "metadata": {},
   "outputs": [],
   "source": [
    "sf_agg_df = scop_cla_df.groupby('SF').apply(lambda x: pd.Series([x.value_counts('TP').index[0], x.value_counts('CL').index[0], len(x.value_counts('CL')), len(x)]))\n",
    "sf_agg_df.columns = ['TP', 'CL', 'len_CL', 'len_SF']"
   ]
  },
  {
   "cell_type": "code",
   "execution_count": 9,
   "metadata": {},
   "outputs": [
    {
     "output_type": "execute_result",
     "data": {
      "text/plain": [
       "        TP       CL  len_CL  len_SF\n",
       "SF                                 \n",
       "3000001  1  1000000       1     253\n",
       "3000002  1  1000001       1      36\n",
       "3000003  1  1000002       1       9\n",
       "3000006  1  1000003       1      33\n",
       "3000011  1  1000002       1       2\n",
       "...     ..      ...     ...     ...\n",
       "3002732  3  1000000       1       1\n",
       "3002733  2  1000000       1       7\n",
       "3002734  1  1000001       1       2\n",
       "3002735  4  1000004       1       1\n",
       "3002736  1  1000001       1      42\n",
       "\n",
       "[2681 rows x 4 columns]"
      ],
      "text/html": "<div>\n<style scoped>\n    .dataframe tbody tr th:only-of-type {\n        vertical-align: middle;\n    }\n\n    .dataframe tbody tr th {\n        vertical-align: top;\n    }\n\n    .dataframe thead th {\n        text-align: right;\n    }\n</style>\n<table border=\"1\" class=\"dataframe\">\n  <thead>\n    <tr style=\"text-align: right;\">\n      <th></th>\n      <th>TP</th>\n      <th>CL</th>\n      <th>len_CL</th>\n      <th>len_SF</th>\n    </tr>\n    <tr>\n      <th>SF</th>\n      <th></th>\n      <th></th>\n      <th></th>\n      <th></th>\n    </tr>\n  </thead>\n  <tbody>\n    <tr>\n      <th>3000001</th>\n      <td>1</td>\n      <td>1000000</td>\n      <td>1</td>\n      <td>253</td>\n    </tr>\n    <tr>\n      <th>3000002</th>\n      <td>1</td>\n      <td>1000001</td>\n      <td>1</td>\n      <td>36</td>\n    </tr>\n    <tr>\n      <th>3000003</th>\n      <td>1</td>\n      <td>1000002</td>\n      <td>1</td>\n      <td>9</td>\n    </tr>\n    <tr>\n      <th>3000006</th>\n      <td>1</td>\n      <td>1000003</td>\n      <td>1</td>\n      <td>33</td>\n    </tr>\n    <tr>\n      <th>3000011</th>\n      <td>1</td>\n      <td>1000002</td>\n      <td>1</td>\n      <td>2</td>\n    </tr>\n    <tr>\n      <th>...</th>\n      <td>...</td>\n      <td>...</td>\n      <td>...</td>\n      <td>...</td>\n    </tr>\n    <tr>\n      <th>3002732</th>\n      <td>3</td>\n      <td>1000000</td>\n      <td>1</td>\n      <td>1</td>\n    </tr>\n    <tr>\n      <th>3002733</th>\n      <td>2</td>\n      <td>1000000</td>\n      <td>1</td>\n      <td>7</td>\n    </tr>\n    <tr>\n      <th>3002734</th>\n      <td>1</td>\n      <td>1000001</td>\n      <td>1</td>\n      <td>2</td>\n    </tr>\n    <tr>\n      <th>3002735</th>\n      <td>4</td>\n      <td>1000004</td>\n      <td>1</td>\n      <td>1</td>\n    </tr>\n    <tr>\n      <th>3002736</th>\n      <td>1</td>\n      <td>1000001</td>\n      <td>1</td>\n      <td>42</td>\n    </tr>\n  </tbody>\n</table>\n<p>2681 rows × 4 columns</p>\n</div>"
     },
     "metadata": {},
     "execution_count": 9
    }
   ],
   "source": [
    "sf_agg_df"
   ]
  },
  {
   "cell_type": "code",
   "execution_count": 10,
   "metadata": {},
   "outputs": [
    {
     "output_type": "execute_result",
     "data": {
      "text/plain": [
       "CL\n",
       "1000002    37\n",
       "1000003    24\n",
       "1000001    21\n",
       "1000000    14\n",
       "1000004     4\n",
       "dtype: int64"
      ]
     },
     "metadata": {},
     "execution_count": 10
    }
   ],
   "source": [
    "num_target = 100\n",
    "sf_agg_df.query('TP == \"1\"').sort_values('len_SF', ascending=False)[: num_target].value_counts('CL')"
   ]
  },
  {
   "cell_type": "code",
   "execution_count": 11,
   "metadata": {},
   "outputs": [
    {
     "output_type": "execute_result",
     "data": {
      "text/plain": [
       "CL\n",
       "1000002    40\n",
       "1000003    24\n",
       "1000001    23\n",
       "1000000    16\n",
       "1000004     7\n",
       "dtype: int64"
      ]
     },
     "metadata": {},
     "execution_count": 11
    }
   ],
   "source": [
    "num_target = 110\n",
    "sf_agg_df.query('TP == \"1\"').sort_values('len_SF', ascending=False)[: num_target].value_counts('CL')"
   ]
  },
  {
   "cell_type": "code",
   "execution_count": 12,
   "metadata": {},
   "outputs": [
    {
     "output_type": "execute_result",
     "data": {
      "text/plain": [
       "        TP       CL  len_CL  len_SF\n",
       "SF                                 \n",
       "3000066  1  1000003       2     407\n",
       "3000154  1  1000003       2      79"
      ],
      "text/html": "<div>\n<style scoped>\n    .dataframe tbody tr th:only-of-type {\n        vertical-align: middle;\n    }\n\n    .dataframe tbody tr th {\n        vertical-align: top;\n    }\n\n    .dataframe thead th {\n        text-align: right;\n    }\n</style>\n<table border=\"1\" class=\"dataframe\">\n  <thead>\n    <tr style=\"text-align: right;\">\n      <th></th>\n      <th>TP</th>\n      <th>CL</th>\n      <th>len_CL</th>\n      <th>len_SF</th>\n    </tr>\n    <tr>\n      <th>SF</th>\n      <th></th>\n      <th></th>\n      <th></th>\n      <th></th>\n    </tr>\n  </thead>\n  <tbody>\n    <tr>\n      <th>3000066</th>\n      <td>1</td>\n      <td>1000003</td>\n      <td>2</td>\n      <td>407</td>\n    </tr>\n    <tr>\n      <th>3000154</th>\n      <td>1</td>\n      <td>1000003</td>\n      <td>2</td>\n      <td>79</td>\n    </tr>\n  </tbody>\n</table>\n</div>"
     },
     "metadata": {},
     "execution_count": 12
    }
   ],
   "source": [
    "sf_agg_df.query('TP == \"1\"').sort_values('len_SF', ascending=False)[: num_target].query('len_CL != 1')"
   ]
  },
  {
   "cell_type": "code",
   "execution_count": 13,
   "metadata": {},
   "outputs": [
    {
     "output_type": "execute_result",
     "data": {
      "text/plain": [
       "        TP       CL  len_CL  len_SF\n",
       "SF                                 \n",
       "3000038  1  1000002       1     498\n",
       "3000313  1  1000002       1     437\n",
       "3000066  1  1000003       2     407\n",
       "3000034  1  1000003       1     395\n",
       "3000118  1  1000002       1     335\n",
       "...     ..      ...     ...     ...\n",
       "3001432  1  1000000       1       1\n",
       "3000391  1  1000001       1       1\n",
       "3002082  1  1000001       1       1\n",
       "3001430  1  1000001       1       1\n",
       "3001828  1  1000001       1       1\n",
       "\n",
       "[2321 rows x 4 columns]"
      ],
      "text/html": "<div>\n<style scoped>\n    .dataframe tbody tr th:only-of-type {\n        vertical-align: middle;\n    }\n\n    .dataframe tbody tr th {\n        vertical-align: top;\n    }\n\n    .dataframe thead th {\n        text-align: right;\n    }\n</style>\n<table border=\"1\" class=\"dataframe\">\n  <thead>\n    <tr style=\"text-align: right;\">\n      <th></th>\n      <th>TP</th>\n      <th>CL</th>\n      <th>len_CL</th>\n      <th>len_SF</th>\n    </tr>\n    <tr>\n      <th>SF</th>\n      <th></th>\n      <th></th>\n      <th></th>\n      <th></th>\n    </tr>\n  </thead>\n  <tbody>\n    <tr>\n      <th>3000038</th>\n      <td>1</td>\n      <td>1000002</td>\n      <td>1</td>\n      <td>498</td>\n    </tr>\n    <tr>\n      <th>3000313</th>\n      <td>1</td>\n      <td>1000002</td>\n      <td>1</td>\n      <td>437</td>\n    </tr>\n    <tr>\n      <th>3000066</th>\n      <td>1</td>\n      <td>1000003</td>\n      <td>2</td>\n      <td>407</td>\n    </tr>\n    <tr>\n      <th>3000034</th>\n      <td>1</td>\n      <td>1000003</td>\n      <td>1</td>\n      <td>395</td>\n    </tr>\n    <tr>\n      <th>3000118</th>\n      <td>1</td>\n      <td>1000002</td>\n      <td>1</td>\n      <td>335</td>\n    </tr>\n    <tr>\n      <th>...</th>\n      <td>...</td>\n      <td>...</td>\n      <td>...</td>\n      <td>...</td>\n    </tr>\n    <tr>\n      <th>3001432</th>\n      <td>1</td>\n      <td>1000000</td>\n      <td>1</td>\n      <td>1</td>\n    </tr>\n    <tr>\n      <th>3000391</th>\n      <td>1</td>\n      <td>1000001</td>\n      <td>1</td>\n      <td>1</td>\n    </tr>\n    <tr>\n      <th>3002082</th>\n      <td>1</td>\n      <td>1000001</td>\n      <td>1</td>\n      <td>1</td>\n    </tr>\n    <tr>\n      <th>3001430</th>\n      <td>1</td>\n      <td>1000001</td>\n      <td>1</td>\n      <td>1</td>\n    </tr>\n    <tr>\n      <th>3001828</th>\n      <td>1</td>\n      <td>1000001</td>\n      <td>1</td>\n      <td>1</td>\n    </tr>\n  </tbody>\n</table>\n<p>2321 rows × 4 columns</p>\n</div>"
     },
     "metadata": {},
     "execution_count": 13
    }
   ],
   "source": [
    "select_superfamily_globular_df = sf_agg_df.query('TP == \"1\"').sort_values('len_SF', ascending=False)\n",
    "select_superfamily_globular_df"
   ]
  },
  {
   "cell_type": "code",
   "execution_count": 14,
   "metadata": {},
   "outputs": [],
   "source": [
    "save_path = '../../../scop/20210330/SF_globular_list.csv'\n",
    "select_superfamily_globular_df.to_csv(save_path)"
   ]
  },
  {
   "cell_type": "code",
   "execution_count": 15,
   "metadata": {},
   "outputs": [
    {
     "output_type": "execute_result",
     "data": {
      "text/plain": [
       "CL\n",
       "1000002    39\n",
       "1000003    24\n",
       "1000001    23\n",
       "1000000    14\n",
       "dtype: int64"
      ]
     },
     "metadata": {},
     "execution_count": 15
    }
   ],
   "source": [
    "select_superfamily_globular_df.query('CL != \"1000004\"')[: 100].value_counts('CL')"
   ]
  },
  {
   "source": [
    "## Select superfamily equally from each class of protein"
   ],
   "cell_type": "markdown",
   "metadata": {}
  },
  {
   "cell_type": "code",
   "execution_count": 16,
   "metadata": {},
   "outputs": [
    {
     "output_type": "execute_result",
     "data": {
      "text/plain": [
       "         SF TP       CL  len_CL  len_SF\n",
       "0   3000554  1  1000000       1     297\n",
       "1   3000001  1  1000000       1     253\n",
       "2   3001983  1  1000000       1     186\n",
       "3   3001658  1  1000000       1     158\n",
       "4   3001061  1  1000000       1     154\n",
       "..      ... ..      ...     ...     ...\n",
       "95  3000738  1  1000003       1      75\n",
       "96  3000739  1  1000003       1      74\n",
       "97  3000210  1  1000003       1      72\n",
       "98  3000197  1  1000003       1      71\n",
       "99  3000521  1  1000003       1      64\n",
       "\n",
       "[100 rows x 5 columns]"
      ],
      "text/html": "<div>\n<style scoped>\n    .dataframe tbody tr th:only-of-type {\n        vertical-align: middle;\n    }\n\n    .dataframe tbody tr th {\n        vertical-align: top;\n    }\n\n    .dataframe thead th {\n        text-align: right;\n    }\n</style>\n<table border=\"1\" class=\"dataframe\">\n  <thead>\n    <tr style=\"text-align: right;\">\n      <th></th>\n      <th>SF</th>\n      <th>TP</th>\n      <th>CL</th>\n      <th>len_CL</th>\n      <th>len_SF</th>\n    </tr>\n  </thead>\n  <tbody>\n    <tr>\n      <th>0</th>\n      <td>3000554</td>\n      <td>1</td>\n      <td>1000000</td>\n      <td>1</td>\n      <td>297</td>\n    </tr>\n    <tr>\n      <th>1</th>\n      <td>3000001</td>\n      <td>1</td>\n      <td>1000000</td>\n      <td>1</td>\n      <td>253</td>\n    </tr>\n    <tr>\n      <th>2</th>\n      <td>3001983</td>\n      <td>1</td>\n      <td>1000000</td>\n      <td>1</td>\n      <td>186</td>\n    </tr>\n    <tr>\n      <th>3</th>\n      <td>3001658</td>\n      <td>1</td>\n      <td>1000000</td>\n      <td>1</td>\n      <td>158</td>\n    </tr>\n    <tr>\n      <th>4</th>\n      <td>3001061</td>\n      <td>1</td>\n      <td>1000000</td>\n      <td>1</td>\n      <td>154</td>\n    </tr>\n    <tr>\n      <th>...</th>\n      <td>...</td>\n      <td>...</td>\n      <td>...</td>\n      <td>...</td>\n      <td>...</td>\n    </tr>\n    <tr>\n      <th>95</th>\n      <td>3000738</td>\n      <td>1</td>\n      <td>1000003</td>\n      <td>1</td>\n      <td>75</td>\n    </tr>\n    <tr>\n      <th>96</th>\n      <td>3000739</td>\n      <td>1</td>\n      <td>1000003</td>\n      <td>1</td>\n      <td>74</td>\n    </tr>\n    <tr>\n      <th>97</th>\n      <td>3000210</td>\n      <td>1</td>\n      <td>1000003</td>\n      <td>1</td>\n      <td>72</td>\n    </tr>\n    <tr>\n      <th>98</th>\n      <td>3000197</td>\n      <td>1</td>\n      <td>1000003</td>\n      <td>1</td>\n      <td>71</td>\n    </tr>\n    <tr>\n      <th>99</th>\n      <td>3000521</td>\n      <td>1</td>\n      <td>1000003</td>\n      <td>1</td>\n      <td>64</td>\n    </tr>\n  </tbody>\n</table>\n<p>100 rows × 5 columns</p>\n</div>"
     },
     "metadata": {},
     "execution_count": 16
    }
   ],
   "source": [
    "cl_equal_df = select_superfamily_globular_df.reset_index().query('CL != \"1000004\"').groupby('CL').apply(lambda x: x.sort_values('len_SF', ascending=False)[: 25]).reset_index(drop=True)\n",
    "cl_equal_df"
   ]
  },
  {
   "cell_type": "code",
   "execution_count": 17,
   "metadata": {},
   "outputs": [
    {
     "output_type": "execute_result",
     "data": {
      "text/plain": [
       "CL\n",
       "1000000    25\n",
       "1000001    25\n",
       "1000002    25\n",
       "1000003    25\n",
       "dtype: int64"
      ]
     },
     "metadata": {},
     "execution_count": 17
    }
   ],
   "source": [
    "cl_equal_df.value_counts('CL')"
   ]
  },
  {
   "cell_type": "code",
   "execution_count": 18,
   "metadata": {},
   "outputs": [
    {
     "output_type": "execute_result",
     "data": {
      "text/plain": [
       "         SF TP       CL  len_CL  len_SF\n",
       "24  3001284  1  1000000       1      45\n",
       "23  3000264  1  1000000       1      48\n",
       "22  3000799  1  1000000       1      49\n",
       "21  3000119  1  1000000       2      51\n",
       "20  3000305  1  1000000       1      52\n",
       "19  3001717  1  1000000       1      55\n",
       "18  3001843  1  1000000       1      58\n",
       "17  3000069  1  1000000       1      59\n",
       "49  3001848  1  1000001       2      60\n",
       "48  3000965  1  1000001       1      62\n",
       "16  3001572  1  1000000       1      63\n",
       "99  3000521  1  1000003       1      64\n",
       "15  3000053  1  1000000       1      66\n",
       "14  3001235  1  1000000       1      67\n",
       "47  3000168  1  1000001       1      68\n",
       "98  3000197  1  1000003       1      71\n",
       "46  3000433  1  1000001       1      71\n",
       "97  3000210  1  1000003       1      72\n",
       "13  3001615  1  1000000       1      73\n",
       "96  3000739  1  1000003       1      74"
      ],
      "text/html": "<div>\n<style scoped>\n    .dataframe tbody tr th:only-of-type {\n        vertical-align: middle;\n    }\n\n    .dataframe tbody tr th {\n        vertical-align: top;\n    }\n\n    .dataframe thead th {\n        text-align: right;\n    }\n</style>\n<table border=\"1\" class=\"dataframe\">\n  <thead>\n    <tr style=\"text-align: right;\">\n      <th></th>\n      <th>SF</th>\n      <th>TP</th>\n      <th>CL</th>\n      <th>len_CL</th>\n      <th>len_SF</th>\n    </tr>\n  </thead>\n  <tbody>\n    <tr>\n      <th>24</th>\n      <td>3001284</td>\n      <td>1</td>\n      <td>1000000</td>\n      <td>1</td>\n      <td>45</td>\n    </tr>\n    <tr>\n      <th>23</th>\n      <td>3000264</td>\n      <td>1</td>\n      <td>1000000</td>\n      <td>1</td>\n      <td>48</td>\n    </tr>\n    <tr>\n      <th>22</th>\n      <td>3000799</td>\n      <td>1</td>\n      <td>1000000</td>\n      <td>1</td>\n      <td>49</td>\n    </tr>\n    <tr>\n      <th>21</th>\n      <td>3000119</td>\n      <td>1</td>\n      <td>1000000</td>\n      <td>2</td>\n      <td>51</td>\n    </tr>\n    <tr>\n      <th>20</th>\n      <td>3000305</td>\n      <td>1</td>\n      <td>1000000</td>\n      <td>1</td>\n      <td>52</td>\n    </tr>\n    <tr>\n      <th>19</th>\n      <td>3001717</td>\n      <td>1</td>\n      <td>1000000</td>\n      <td>1</td>\n      <td>55</td>\n    </tr>\n    <tr>\n      <th>18</th>\n      <td>3001843</td>\n      <td>1</td>\n      <td>1000000</td>\n      <td>1</td>\n      <td>58</td>\n    </tr>\n    <tr>\n      <th>17</th>\n      <td>3000069</td>\n      <td>1</td>\n      <td>1000000</td>\n      <td>1</td>\n      <td>59</td>\n    </tr>\n    <tr>\n      <th>49</th>\n      <td>3001848</td>\n      <td>1</td>\n      <td>1000001</td>\n      <td>2</td>\n      <td>60</td>\n    </tr>\n    <tr>\n      <th>48</th>\n      <td>3000965</td>\n      <td>1</td>\n      <td>1000001</td>\n      <td>1</td>\n      <td>62</td>\n    </tr>\n    <tr>\n      <th>16</th>\n      <td>3001572</td>\n      <td>1</td>\n      <td>1000000</td>\n      <td>1</td>\n      <td>63</td>\n    </tr>\n    <tr>\n      <th>99</th>\n      <td>3000521</td>\n      <td>1</td>\n      <td>1000003</td>\n      <td>1</td>\n      <td>64</td>\n    </tr>\n    <tr>\n      <th>15</th>\n      <td>3000053</td>\n      <td>1</td>\n      <td>1000000</td>\n      <td>1</td>\n      <td>66</td>\n    </tr>\n    <tr>\n      <th>14</th>\n      <td>3001235</td>\n      <td>1</td>\n      <td>1000000</td>\n      <td>1</td>\n      <td>67</td>\n    </tr>\n    <tr>\n      <th>47</th>\n      <td>3000168</td>\n      <td>1</td>\n      <td>1000001</td>\n      <td>1</td>\n      <td>68</td>\n    </tr>\n    <tr>\n      <th>98</th>\n      <td>3000197</td>\n      <td>1</td>\n      <td>1000003</td>\n      <td>1</td>\n      <td>71</td>\n    </tr>\n    <tr>\n      <th>46</th>\n      <td>3000433</td>\n      <td>1</td>\n      <td>1000001</td>\n      <td>1</td>\n      <td>71</td>\n    </tr>\n    <tr>\n      <th>97</th>\n      <td>3000210</td>\n      <td>1</td>\n      <td>1000003</td>\n      <td>1</td>\n      <td>72</td>\n    </tr>\n    <tr>\n      <th>13</th>\n      <td>3001615</td>\n      <td>1</td>\n      <td>1000000</td>\n      <td>1</td>\n      <td>73</td>\n    </tr>\n    <tr>\n      <th>96</th>\n      <td>3000739</td>\n      <td>1</td>\n      <td>1000003</td>\n      <td>1</td>\n      <td>74</td>\n    </tr>\n  </tbody>\n</table>\n</div>"
     },
     "metadata": {},
     "execution_count": 18
    }
   ],
   "source": [
    "cl_equal_df.sort_values('len_SF')[: 20]"
   ]
  },
  {
   "source": [
    "### A minority entry in a super family that belongs to multiple classes"
   ],
   "cell_type": "markdown",
   "metadata": {}
  },
  {
   "cell_type": "code",
   "execution_count": 19,
   "metadata": {},
   "outputs": [
    {
     "output_type": "execute_result",
     "data": {
      "text/plain": [
       "         SF TP       CL  len_CL  len_SF\n",
       "21  3000119  1  1000000       2      51\n",
       "49  3001848  1  1000001       2      60\n",
       "75  3000066  1  1000003       2     407\n",
       "94  3000154  1  1000003       2      79"
      ],
      "text/html": "<div>\n<style scoped>\n    .dataframe tbody tr th:only-of-type {\n        vertical-align: middle;\n    }\n\n    .dataframe tbody tr th {\n        vertical-align: top;\n    }\n\n    .dataframe thead th {\n        text-align: right;\n    }\n</style>\n<table border=\"1\" class=\"dataframe\">\n  <thead>\n    <tr style=\"text-align: right;\">\n      <th></th>\n      <th>SF</th>\n      <th>TP</th>\n      <th>CL</th>\n      <th>len_CL</th>\n      <th>len_SF</th>\n    </tr>\n  </thead>\n  <tbody>\n    <tr>\n      <th>21</th>\n      <td>3000119</td>\n      <td>1</td>\n      <td>1000000</td>\n      <td>2</td>\n      <td>51</td>\n    </tr>\n    <tr>\n      <th>49</th>\n      <td>3001848</td>\n      <td>1</td>\n      <td>1000001</td>\n      <td>2</td>\n      <td>60</td>\n    </tr>\n    <tr>\n      <th>75</th>\n      <td>3000066</td>\n      <td>1</td>\n      <td>1000003</td>\n      <td>2</td>\n      <td>407</td>\n    </tr>\n    <tr>\n      <th>94</th>\n      <td>3000154</td>\n      <td>1</td>\n      <td>1000003</td>\n      <td>2</td>\n      <td>79</td>\n    </tr>\n  </tbody>\n</table>\n</div>"
     },
     "metadata": {},
     "execution_count": 19
    }
   ],
   "source": [
    "cl_equal_df.query('len_CL != 1')"
   ]
  },
  {
   "cell_type": "code",
   "execution_count": 20,
   "metadata": {},
   "outputs": [
    {
     "output_type": "display_data",
     "data": {
      "text/plain": "            SF  SF-DOMID\n11154  3000119   8003968\n11184  3000119   8056853",
      "text/html": "<div>\n<style scoped>\n    .dataframe tbody tr th:only-of-type {\n        vertical-align: middle;\n    }\n\n    .dataframe tbody tr th {\n        vertical-align: top;\n    }\n\n    .dataframe thead th {\n        text-align: right;\n    }\n</style>\n<table border=\"1\" class=\"dataframe\">\n  <thead>\n    <tr style=\"text-align: right;\">\n      <th></th>\n      <th>SF</th>\n      <th>SF-DOMID</th>\n    </tr>\n  </thead>\n  <tbody>\n    <tr>\n      <th>11154</th>\n      <td>3000119</td>\n      <td>8003968</td>\n    </tr>\n    <tr>\n      <th>11184</th>\n      <td>3000119</td>\n      <td>8056853</td>\n    </tr>\n  </tbody>\n</table>\n</div>"
     },
     "metadata": {}
    },
    {
     "output_type": "display_data",
     "data": {
      "text/plain": "            SF  SF-DOMID\n22155  3001848   8092965",
      "text/html": "<div>\n<style scoped>\n    .dataframe tbody tr th:only-of-type {\n        vertical-align: middle;\n    }\n\n    .dataframe tbody tr th {\n        vertical-align: top;\n    }\n\n    .dataframe thead th {\n        text-align: right;\n    }\n</style>\n<table border=\"1\" class=\"dataframe\">\n  <thead>\n    <tr style=\"text-align: right;\">\n      <th></th>\n      <th>SF</th>\n      <th>SF-DOMID</th>\n    </tr>\n  </thead>\n  <tbody>\n    <tr>\n      <th>22155</th>\n      <td>3001848</td>\n      <td>8092965</td>\n    </tr>\n  </tbody>\n</table>\n</div>"
     },
     "metadata": {}
    },
    {
     "output_type": "display_data",
     "data": {
      "text/plain": "           SF  SF-DOMID\n7163  3000066   8091280",
      "text/html": "<div>\n<style scoped>\n    .dataframe tbody tr th:only-of-type {\n        vertical-align: middle;\n    }\n\n    .dataframe tbody tr th {\n        vertical-align: top;\n    }\n\n    .dataframe thead th {\n        text-align: right;\n    }\n</style>\n<table border=\"1\" class=\"dataframe\">\n  <thead>\n    <tr style=\"text-align: right;\">\n      <th></th>\n      <th>SF</th>\n      <th>SF-DOMID</th>\n    </tr>\n  </thead>\n  <tbody>\n    <tr>\n      <th>7163</th>\n      <td>3000066</td>\n      <td>8091280</td>\n    </tr>\n  </tbody>\n</table>\n</div>"
     },
     "metadata": {}
    },
    {
     "output_type": "display_data",
     "data": {
      "text/plain": "            SF  SF-DOMID\n13032  3000154   8004057",
      "text/html": "<div>\n<style scoped>\n    .dataframe tbody tr th:only-of-type {\n        vertical-align: middle;\n    }\n\n    .dataframe tbody tr th {\n        vertical-align: top;\n    }\n\n    .dataframe thead th {\n        text-align: right;\n    }\n</style>\n<table border=\"1\" class=\"dataframe\">\n  <thead>\n    <tr style=\"text-align: right;\">\n      <th></th>\n      <th>SF</th>\n      <th>SF-DOMID</th>\n    </tr>\n  </thead>\n  <tbody>\n    <tr>\n      <th>13032</th>\n      <td>3000154</td>\n      <td>8004057</td>\n    </tr>\n  </tbody>\n</table>\n</div>"
     },
     "metadata": {}
    }
   ],
   "source": [
    "from IPython.core.display import display\n",
    "for sf in cl_equal_df.query('len_CL != 1')['SF']:\n",
    "    sf_df = scop_cla_df.query('SF == @sf')\n",
    "    sf_counts = sf_df.value_counts('CL')\n",
    "    minor_cl = sf_counts.keys()[1]\n",
    "    display(sf_df.query('CL == @minor_cl')[['SF', 'SF-DOMID']])"
   ]
  },
  {
   "source": [
    "## Select small proteins"
   ],
   "cell_type": "markdown",
   "metadata": {}
  },
  {
   "cell_type": "code",
   "execution_count": 21,
   "metadata": {},
   "outputs": [
    {
     "output_type": "execute_result",
     "data": {
      "text/plain": [
       "        TP       CL  len_CL  len_SF\n",
       "SF                                 \n",
       "3000068  1  1000004       1     192\n",
       "3000309  1  1000004       1     128\n",
       "3001077  1  1000004       1     107\n",
       "3001320  1  1000004       1      99\n",
       "3000255  1  1000004       1      68\n",
       "3000160  1  1000004       1      67\n",
       "3000412  1  1000004       1      67\n",
       "3000545  1  1000004       1      64\n",
       "3000846  1  1000004       1      48\n",
       "3001459  1  1000004       1      40\n",
       "3001257  1  1000004       1      31\n",
       "3000605  1  1000004       1      31\n",
       "3000628  1  1000004       1      30\n",
       "3000902  1  1000004       1      30\n",
       "3001238  1  1000004       1      25\n",
       "3001346  1  1000004       1      25\n",
       "3001452  1  1000004       1      23\n",
       "3000971  1  1000004       1      21\n",
       "3001359  1  1000004       1      21\n",
       "3000761  1  1000004       1      21\n",
       "3000681  1  1000004       1      21\n",
       "3001741  1  1000004       1      21\n",
       "3000979  1  1000004       1      18\n",
       "3001550  1  1000004       1      18\n",
       "3000133  1  1000004       1      17\n",
       "3000923  1  1000004       1      16\n",
       "3000195  1  1000004       1      16\n",
       "3000398  1  1000004       1      15\n",
       "3002156  1  1000004       1      14\n",
       "3001404  1  1000004       1      13"
      ],
      "text/html": "<div>\n<style scoped>\n    .dataframe tbody tr th:only-of-type {\n        vertical-align: middle;\n    }\n\n    .dataframe tbody tr th {\n        vertical-align: top;\n    }\n\n    .dataframe thead th {\n        text-align: right;\n    }\n</style>\n<table border=\"1\" class=\"dataframe\">\n  <thead>\n    <tr style=\"text-align: right;\">\n      <th></th>\n      <th>TP</th>\n      <th>CL</th>\n      <th>len_CL</th>\n      <th>len_SF</th>\n    </tr>\n    <tr>\n      <th>SF</th>\n      <th></th>\n      <th></th>\n      <th></th>\n      <th></th>\n    </tr>\n  </thead>\n  <tbody>\n    <tr>\n      <th>3000068</th>\n      <td>1</td>\n      <td>1000004</td>\n      <td>1</td>\n      <td>192</td>\n    </tr>\n    <tr>\n      <th>3000309</th>\n      <td>1</td>\n      <td>1000004</td>\n      <td>1</td>\n      <td>128</td>\n    </tr>\n    <tr>\n      <th>3001077</th>\n      <td>1</td>\n      <td>1000004</td>\n      <td>1</td>\n      <td>107</td>\n    </tr>\n    <tr>\n      <th>3001320</th>\n      <td>1</td>\n      <td>1000004</td>\n      <td>1</td>\n      <td>99</td>\n    </tr>\n    <tr>\n      <th>3000255</th>\n      <td>1</td>\n      <td>1000004</td>\n      <td>1</td>\n      <td>68</td>\n    </tr>\n    <tr>\n      <th>3000160</th>\n      <td>1</td>\n      <td>1000004</td>\n      <td>1</td>\n      <td>67</td>\n    </tr>\n    <tr>\n      <th>3000412</th>\n      <td>1</td>\n      <td>1000004</td>\n      <td>1</td>\n      <td>67</td>\n    </tr>\n    <tr>\n      <th>3000545</th>\n      <td>1</td>\n      <td>1000004</td>\n      <td>1</td>\n      <td>64</td>\n    </tr>\n    <tr>\n      <th>3000846</th>\n      <td>1</td>\n      <td>1000004</td>\n      <td>1</td>\n      <td>48</td>\n    </tr>\n    <tr>\n      <th>3001459</th>\n      <td>1</td>\n      <td>1000004</td>\n      <td>1</td>\n      <td>40</td>\n    </tr>\n    <tr>\n      <th>3001257</th>\n      <td>1</td>\n      <td>1000004</td>\n      <td>1</td>\n      <td>31</td>\n    </tr>\n    <tr>\n      <th>3000605</th>\n      <td>1</td>\n      <td>1000004</td>\n      <td>1</td>\n      <td>31</td>\n    </tr>\n    <tr>\n      <th>3000628</th>\n      <td>1</td>\n      <td>1000004</td>\n      <td>1</td>\n      <td>30</td>\n    </tr>\n    <tr>\n      <th>3000902</th>\n      <td>1</td>\n      <td>1000004</td>\n      <td>1</td>\n      <td>30</td>\n    </tr>\n    <tr>\n      <th>3001238</th>\n      <td>1</td>\n      <td>1000004</td>\n      <td>1</td>\n      <td>25</td>\n    </tr>\n    <tr>\n      <th>3001346</th>\n      <td>1</td>\n      <td>1000004</td>\n      <td>1</td>\n      <td>25</td>\n    </tr>\n    <tr>\n      <th>3001452</th>\n      <td>1</td>\n      <td>1000004</td>\n      <td>1</td>\n      <td>23</td>\n    </tr>\n    <tr>\n      <th>3000971</th>\n      <td>1</td>\n      <td>1000004</td>\n      <td>1</td>\n      <td>21</td>\n    </tr>\n    <tr>\n      <th>3001359</th>\n      <td>1</td>\n      <td>1000004</td>\n      <td>1</td>\n      <td>21</td>\n    </tr>\n    <tr>\n      <th>3000761</th>\n      <td>1</td>\n      <td>1000004</td>\n      <td>1</td>\n      <td>21</td>\n    </tr>\n    <tr>\n      <th>3000681</th>\n      <td>1</td>\n      <td>1000004</td>\n      <td>1</td>\n      <td>21</td>\n    </tr>\n    <tr>\n      <th>3001741</th>\n      <td>1</td>\n      <td>1000004</td>\n      <td>1</td>\n      <td>21</td>\n    </tr>\n    <tr>\n      <th>3000979</th>\n      <td>1</td>\n      <td>1000004</td>\n      <td>1</td>\n      <td>18</td>\n    </tr>\n    <tr>\n      <th>3001550</th>\n      <td>1</td>\n      <td>1000004</td>\n      <td>1</td>\n      <td>18</td>\n    </tr>\n    <tr>\n      <th>3000133</th>\n      <td>1</td>\n      <td>1000004</td>\n      <td>1</td>\n      <td>17</td>\n    </tr>\n    <tr>\n      <th>3000923</th>\n      <td>1</td>\n      <td>1000004</td>\n      <td>1</td>\n      <td>16</td>\n    </tr>\n    <tr>\n      <th>3000195</th>\n      <td>1</td>\n      <td>1000004</td>\n      <td>1</td>\n      <td>16</td>\n    </tr>\n    <tr>\n      <th>3000398</th>\n      <td>1</td>\n      <td>1000004</td>\n      <td>1</td>\n      <td>15</td>\n    </tr>\n    <tr>\n      <th>3002156</th>\n      <td>1</td>\n      <td>1000004</td>\n      <td>1</td>\n      <td>14</td>\n    </tr>\n    <tr>\n      <th>3001404</th>\n      <td>1</td>\n      <td>1000004</td>\n      <td>1</td>\n      <td>13</td>\n    </tr>\n  </tbody>\n</table>\n</div>"
     },
     "metadata": {},
     "execution_count": 21
    }
   ],
   "source": [
    "select_superfamily_globular_df.query('CL == \"1000004\"').sort_values('len_SF', ascending=False)[: 30]"
   ]
  }
 ]
}