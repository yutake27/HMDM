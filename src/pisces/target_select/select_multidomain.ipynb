{
 "metadata": {
  "language_info": {
   "codemirror_mode": {
    "name": "ipython",
    "version": 3
   },
   "file_extension": ".py",
   "mimetype": "text/x-python",
   "name": "python",
   "nbconvert_exporter": "python",
   "pygments_lexer": "ipython3",
   "version": "3.9.1"
  },
  "orig_nbformat": 2,
  "kernelspec": {
   "name": "python37364bit00d4d3a58f944c1c8375f1b9a9835895",
   "display_name": "Python 3.9.1 64-bit ('mypython': conda)"
  },
  "metadata": {
   "interpreter": {
    "hash": "033a30f494deec8ceeb512afef8c9dc113472ba2d32680e95a1365ed9cc23893"
   }
  }
 },
 "nbformat": 4,
 "nbformat_minor": 2,
 "cells": [
  {
   "source": [
    "# select Multi domain protein from pisces"
   ],
   "cell_type": "markdown",
   "metadata": {}
  },
  {
   "source": [
    "## Read pisces text"
   ],
   "cell_type": "markdown",
   "metadata": {}
  },
  {
   "cell_type": "code",
   "execution_count": 1,
   "metadata": {},
   "outputs": [],
   "source": [
    "import numpy as np\n",
    "import pandas as pd\n",
    "from prody import parsePDB\n",
    "import os\n",
    "import random\n",
    "import time"
   ]
  },
  {
   "cell_type": "code",
   "execution_count": 2,
   "metadata": {},
   "outputs": [],
   "source": [
    "pisces_df = pd.read_csv('../../../pisces/20210225/cullpdb_pc20_res2.0_R0.25_d210225_chains7584', delim_whitespace=True)\n",
    "pisces_df['PDB_ID'] = pisces_df['IDs'].str[: 4]\n",
    "pisces_df['Chain'] = pisces_df['IDs'].str[4]"
   ]
  },
  {
   "cell_type": "code",
   "execution_count": 3,
   "metadata": {},
   "outputs": [
    {
     "output_type": "execute_result",
     "data": {
      "text/plain": [
       "        IDs  length Exptl.  resolution  R-factor  FreeRvalue PDB_ID Chain\n",
       "0     1A1XA     108   XRAY        2.00      0.21        0.25   1A1X     A\n",
       "1     1A62A     130   XRAY        1.55      0.22        0.25   1A62     A\n",
       "2     1A73A     163   XRAY        1.80      0.21        0.30   1A73     A\n",
       "3     1A92A      50   XRAY        1.80      0.23        0.28   1A92     A\n",
       "4     1AE9A     179   XRAY        1.90      0.20        0.23   1AE9     A\n",
       "...     ...     ...    ...         ...       ...         ...    ...   ...\n",
       "7579  7L4AA     229   XRAY        1.50      0.15        0.19   7L4A     A\n",
       "7580  7L9UA     294   XRAY        1.55      0.16        0.17   7L9U     A\n",
       "7581  7LDQA     223   XRAY        1.15      0.14        0.16   7LDQ     A\n",
       "7582  7ODCA     424   XRAY        1.60      0.20        0.23   7ODC     A\n",
       "7583  8ABPA     306   XRAY        1.49      0.17        1.00   8ABP     A\n",
       "\n",
       "[7584 rows x 8 columns]"
      ],
      "text/html": "<div>\n<style scoped>\n    .dataframe tbody tr th:only-of-type {\n        vertical-align: middle;\n    }\n\n    .dataframe tbody tr th {\n        vertical-align: top;\n    }\n\n    .dataframe thead th {\n        text-align: right;\n    }\n</style>\n<table border=\"1\" class=\"dataframe\">\n  <thead>\n    <tr style=\"text-align: right;\">\n      <th></th>\n      <th>IDs</th>\n      <th>length</th>\n      <th>Exptl.</th>\n      <th>resolution</th>\n      <th>R-factor</th>\n      <th>FreeRvalue</th>\n      <th>PDB_ID</th>\n      <th>Chain</th>\n    </tr>\n  </thead>\n  <tbody>\n    <tr>\n      <th>0</th>\n      <td>1A1XA</td>\n      <td>108</td>\n      <td>XRAY</td>\n      <td>2.00</td>\n      <td>0.21</td>\n      <td>0.25</td>\n      <td>1A1X</td>\n      <td>A</td>\n    </tr>\n    <tr>\n      <th>1</th>\n      <td>1A62A</td>\n      <td>130</td>\n      <td>XRAY</td>\n      <td>1.55</td>\n      <td>0.22</td>\n      <td>0.25</td>\n      <td>1A62</td>\n      <td>A</td>\n    </tr>\n    <tr>\n      <th>2</th>\n      <td>1A73A</td>\n      <td>163</td>\n      <td>XRAY</td>\n      <td>1.80</td>\n      <td>0.21</td>\n      <td>0.30</td>\n      <td>1A73</td>\n      <td>A</td>\n    </tr>\n    <tr>\n      <th>3</th>\n      <td>1A92A</td>\n      <td>50</td>\n      <td>XRAY</td>\n      <td>1.80</td>\n      <td>0.23</td>\n      <td>0.28</td>\n      <td>1A92</td>\n      <td>A</td>\n    </tr>\n    <tr>\n      <th>4</th>\n      <td>1AE9A</td>\n      <td>179</td>\n      <td>XRAY</td>\n      <td>1.90</td>\n      <td>0.20</td>\n      <td>0.23</td>\n      <td>1AE9</td>\n      <td>A</td>\n    </tr>\n    <tr>\n      <th>...</th>\n      <td>...</td>\n      <td>...</td>\n      <td>...</td>\n      <td>...</td>\n      <td>...</td>\n      <td>...</td>\n      <td>...</td>\n      <td>...</td>\n    </tr>\n    <tr>\n      <th>7579</th>\n      <td>7L4AA</td>\n      <td>229</td>\n      <td>XRAY</td>\n      <td>1.50</td>\n      <td>0.15</td>\n      <td>0.19</td>\n      <td>7L4A</td>\n      <td>A</td>\n    </tr>\n    <tr>\n      <th>7580</th>\n      <td>7L9UA</td>\n      <td>294</td>\n      <td>XRAY</td>\n      <td>1.55</td>\n      <td>0.16</td>\n      <td>0.17</td>\n      <td>7L9U</td>\n      <td>A</td>\n    </tr>\n    <tr>\n      <th>7581</th>\n      <td>7LDQA</td>\n      <td>223</td>\n      <td>XRAY</td>\n      <td>1.15</td>\n      <td>0.14</td>\n      <td>0.16</td>\n      <td>7LDQ</td>\n      <td>A</td>\n    </tr>\n    <tr>\n      <th>7582</th>\n      <td>7ODCA</td>\n      <td>424</td>\n      <td>XRAY</td>\n      <td>1.60</td>\n      <td>0.20</td>\n      <td>0.23</td>\n      <td>7ODC</td>\n      <td>A</td>\n    </tr>\n    <tr>\n      <th>7583</th>\n      <td>8ABPA</td>\n      <td>306</td>\n      <td>XRAY</td>\n      <td>1.49</td>\n      <td>0.17</td>\n      <td>1.00</td>\n      <td>8ABP</td>\n      <td>A</td>\n    </tr>\n  </tbody>\n</table>\n<p>7584 rows × 8 columns</p>\n</div>"
     },
     "metadata": {},
     "execution_count": 3
    }
   ],
   "source": [
    "pisces_df"
   ]
  },
  {
   "source": [
    "## Read CATH text"
   ],
   "cell_type": "markdown",
   "metadata": {}
  },
  {
   "cell_type": "code",
   "execution_count": 4,
   "metadata": {},
   "outputs": [
    {
     "output_type": "execute_result",
     "data": {
      "text/plain": [
       "          IDs  Domain_num\n",
       "0       101MA           1\n",
       "1       102LA           1\n",
       "2       102MA           1\n",
       "3       103LA           1\n",
       "4       103MA           1\n",
       "...       ...         ...\n",
       "329469  9XIAA           1\n",
       "329470  9XIMA           1\n",
       "329471  9XIMB           1\n",
       "329472  9XIMC           1\n",
       "329473  9XIMD           1\n",
       "\n",
       "[329474 rows x 2 columns]"
      ],
      "text/html": "<div>\n<style scoped>\n    .dataframe tbody tr th:only-of-type {\n        vertical-align: middle;\n    }\n\n    .dataframe tbody tr th {\n        vertical-align: top;\n    }\n\n    .dataframe thead th {\n        text-align: right;\n    }\n</style>\n<table border=\"1\" class=\"dataframe\">\n  <thead>\n    <tr style=\"text-align: right;\">\n      <th></th>\n      <th>IDs</th>\n      <th>Domain_num</th>\n    </tr>\n  </thead>\n  <tbody>\n    <tr>\n      <th>0</th>\n      <td>101MA</td>\n      <td>1</td>\n    </tr>\n    <tr>\n      <th>1</th>\n      <td>102LA</td>\n      <td>1</td>\n    </tr>\n    <tr>\n      <th>2</th>\n      <td>102MA</td>\n      <td>1</td>\n    </tr>\n    <tr>\n      <th>3</th>\n      <td>103LA</td>\n      <td>1</td>\n    </tr>\n    <tr>\n      <th>4</th>\n      <td>103MA</td>\n      <td>1</td>\n    </tr>\n    <tr>\n      <th>...</th>\n      <td>...</td>\n      <td>...</td>\n    </tr>\n    <tr>\n      <th>329469</th>\n      <td>9XIAA</td>\n      <td>1</td>\n    </tr>\n    <tr>\n      <th>329470</th>\n      <td>9XIMA</td>\n      <td>1</td>\n    </tr>\n    <tr>\n      <th>329471</th>\n      <td>9XIMB</td>\n      <td>1</td>\n    </tr>\n    <tr>\n      <th>329472</th>\n      <td>9XIMC</td>\n      <td>1</td>\n    </tr>\n    <tr>\n      <th>329473</th>\n      <td>9XIMD</td>\n      <td>1</td>\n    </tr>\n  </tbody>\n</table>\n<p>329474 rows × 2 columns</p>\n</div>"
     },
     "metadata": {},
     "execution_count": 4
    }
   ],
   "source": [
    "# Read CATH domain text\n",
    "cath_domain_df = pd.read_csv('../../../CATH/20191109/cath-domain-list.txt', delim_whitespace=True, skiprows=16, header=None)\n",
    "cath_domain_df = cath_domain_df.drop(list(range(1, 12)), axis=1)\n",
    "cath_domain_df = cath_domain_df.rename({0: 'CATH_Domain'}, axis=1)\n",
    "cath_domain_df['IDs'] = cath_domain_df['CATH_Domain'].str[: 5].str.upper()\n",
    "domain_num_df = pd.DataFrame(cath_domain_df.groupby('IDs').apply(len)).rename({0: 'Domain_num'}, axis=1).reset_index()\n",
    "domain_num_df"
   ]
  },
  {
   "source": [
    "## Concat pisces df and CATH df"
   ],
   "cell_type": "markdown",
   "metadata": {}
  },
  {
   "cell_type": "code",
   "execution_count": 5,
   "metadata": {},
   "outputs": [
    {
     "output_type": "execute_result",
     "data": {
      "text/plain": [
       "        IDs  length Exptl.  resolution  R-factor  FreeRvalue PDB_ID Chain  \\\n",
       "0     1A1XA     108   XRAY        2.00      0.21        0.25   1A1X     A   \n",
       "1     1A62A     130   XRAY        1.55      0.22        0.25   1A62     A   \n",
       "2     1A73A     163   XRAY        1.80      0.21        0.30   1A73     A   \n",
       "3     1A92A      50   XRAY        1.80      0.23        0.28   1A92     A   \n",
       "4     1AE9A     179   XRAY        1.90      0.20        0.23   1AE9     A   \n",
       "...     ...     ...    ...         ...       ...         ...    ...   ...   \n",
       "4924  6RF9A     288   XRAY        1.80      0.17        0.20   6RF9     A   \n",
       "4925  6RI6A     498   XRAY        0.93      0.11        0.12   6RI6     A   \n",
       "4926  7A3HA     303   XRAY        0.95      0.11        0.13   7A3H     A   \n",
       "4927  7ODCA     424   XRAY        1.60      0.20        0.23   7ODC     A   \n",
       "4928  8ABPA     306   XRAY        1.49      0.17        1.00   8ABP     A   \n",
       "\n",
       "      Domain_num  \n",
       "0              1  \n",
       "1              2  \n",
       "2              1  \n",
       "3              1  \n",
       "4              1  \n",
       "...          ...  \n",
       "4924           1  \n",
       "4925           3  \n",
       "4926           1  \n",
       "4927           2  \n",
       "4928           2  \n",
       "\n",
       "[4929 rows x 9 columns]"
      ],
      "text/html": "<div>\n<style scoped>\n    .dataframe tbody tr th:only-of-type {\n        vertical-align: middle;\n    }\n\n    .dataframe tbody tr th {\n        vertical-align: top;\n    }\n\n    .dataframe thead th {\n        text-align: right;\n    }\n</style>\n<table border=\"1\" class=\"dataframe\">\n  <thead>\n    <tr style=\"text-align: right;\">\n      <th></th>\n      <th>IDs</th>\n      <th>length</th>\n      <th>Exptl.</th>\n      <th>resolution</th>\n      <th>R-factor</th>\n      <th>FreeRvalue</th>\n      <th>PDB_ID</th>\n      <th>Chain</th>\n      <th>Domain_num</th>\n    </tr>\n  </thead>\n  <tbody>\n    <tr>\n      <th>0</th>\n      <td>1A1XA</td>\n      <td>108</td>\n      <td>XRAY</td>\n      <td>2.00</td>\n      <td>0.21</td>\n      <td>0.25</td>\n      <td>1A1X</td>\n      <td>A</td>\n      <td>1</td>\n    </tr>\n    <tr>\n      <th>1</th>\n      <td>1A62A</td>\n      <td>130</td>\n      <td>XRAY</td>\n      <td>1.55</td>\n      <td>0.22</td>\n      <td>0.25</td>\n      <td>1A62</td>\n      <td>A</td>\n      <td>2</td>\n    </tr>\n    <tr>\n      <th>2</th>\n      <td>1A73A</td>\n      <td>163</td>\n      <td>XRAY</td>\n      <td>1.80</td>\n      <td>0.21</td>\n      <td>0.30</td>\n      <td>1A73</td>\n      <td>A</td>\n      <td>1</td>\n    </tr>\n    <tr>\n      <th>3</th>\n      <td>1A92A</td>\n      <td>50</td>\n      <td>XRAY</td>\n      <td>1.80</td>\n      <td>0.23</td>\n      <td>0.28</td>\n      <td>1A92</td>\n      <td>A</td>\n      <td>1</td>\n    </tr>\n    <tr>\n      <th>4</th>\n      <td>1AE9A</td>\n      <td>179</td>\n      <td>XRAY</td>\n      <td>1.90</td>\n      <td>0.20</td>\n      <td>0.23</td>\n      <td>1AE9</td>\n      <td>A</td>\n      <td>1</td>\n    </tr>\n    <tr>\n      <th>...</th>\n      <td>...</td>\n      <td>...</td>\n      <td>...</td>\n      <td>...</td>\n      <td>...</td>\n      <td>...</td>\n      <td>...</td>\n      <td>...</td>\n      <td>...</td>\n    </tr>\n    <tr>\n      <th>4924</th>\n      <td>6RF9A</td>\n      <td>288</td>\n      <td>XRAY</td>\n      <td>1.80</td>\n      <td>0.17</td>\n      <td>0.20</td>\n      <td>6RF9</td>\n      <td>A</td>\n      <td>1</td>\n    </tr>\n    <tr>\n      <th>4925</th>\n      <td>6RI6A</td>\n      <td>498</td>\n      <td>XRAY</td>\n      <td>0.93</td>\n      <td>0.11</td>\n      <td>0.12</td>\n      <td>6RI6</td>\n      <td>A</td>\n      <td>3</td>\n    </tr>\n    <tr>\n      <th>4926</th>\n      <td>7A3HA</td>\n      <td>303</td>\n      <td>XRAY</td>\n      <td>0.95</td>\n      <td>0.11</td>\n      <td>0.13</td>\n      <td>7A3H</td>\n      <td>A</td>\n      <td>1</td>\n    </tr>\n    <tr>\n      <th>4927</th>\n      <td>7ODCA</td>\n      <td>424</td>\n      <td>XRAY</td>\n      <td>1.60</td>\n      <td>0.20</td>\n      <td>0.23</td>\n      <td>7ODC</td>\n      <td>A</td>\n      <td>2</td>\n    </tr>\n    <tr>\n      <th>4928</th>\n      <td>8ABPA</td>\n      <td>306</td>\n      <td>XRAY</td>\n      <td>1.49</td>\n      <td>0.17</td>\n      <td>1.00</td>\n      <td>8ABP</td>\n      <td>A</td>\n      <td>2</td>\n    </tr>\n  </tbody>\n</table>\n<p>4929 rows × 9 columns</p>\n</div>"
     },
     "metadata": {},
     "execution_count": 5
    }
   ],
   "source": [
    "cdf = pd.merge(pisces_df, domain_num_df, on='IDs', how='inner')\n",
    "cdf"
   ]
  },
  {
   "source": [
    "## select Multidomain entries"
   ],
   "cell_type": "markdown",
   "metadata": {}
  },
  {
   "cell_type": "code",
   "execution_count": 6,
   "metadata": {},
   "outputs": [
    {
     "output_type": "execute_result",
     "data": {
      "text/plain": [
       "        IDs  length Exptl.  resolution  R-factor  FreeRvalue PDB_ID Chain  \\\n",
       "1     1A62A     130   XRAY        1.55      0.22        0.25   1A62     A   \n",
       "7     1AL3A     324   XRAY        1.80      0.18        0.25   1AL3     A   \n",
       "11    1ATGA     231   XRAY        1.20      0.16        0.18   1ATG     A   \n",
       "15    1B25A     619   XRAY        1.85      0.17        0.22   1B25     A   \n",
       "17    1B9WA      95   XRAY        1.80      0.21        0.28   1B9W     A   \n",
       "...     ...     ...    ...         ...       ...         ...    ...   ...   \n",
       "4917  6Q4RA     912   XRAY        1.60      0.18        0.21   6Q4R     A   \n",
       "4920  6QEJA     378   XRAY        1.62      0.17        0.18   6QEJ     A   \n",
       "4925  6RI6A     498   XRAY        0.93      0.11        0.12   6RI6     A   \n",
       "4927  7ODCA     424   XRAY        1.60      0.20        0.23   7ODC     A   \n",
       "4928  8ABPA     306   XRAY        1.49      0.17        1.00   8ABP     A   \n",
       "\n",
       "      Domain_num  \n",
       "1              2  \n",
       "7              2  \n",
       "11             2  \n",
       "15             3  \n",
       "17             2  \n",
       "...          ...  \n",
       "4917           4  \n",
       "4920           2  \n",
       "4925           3  \n",
       "4927           2  \n",
       "4928           2  \n",
       "\n",
       "[1376 rows x 9 columns]"
      ],
      "text/html": "<div>\n<style scoped>\n    .dataframe tbody tr th:only-of-type {\n        vertical-align: middle;\n    }\n\n    .dataframe tbody tr th {\n        vertical-align: top;\n    }\n\n    .dataframe thead th {\n        text-align: right;\n    }\n</style>\n<table border=\"1\" class=\"dataframe\">\n  <thead>\n    <tr style=\"text-align: right;\">\n      <th></th>\n      <th>IDs</th>\n      <th>length</th>\n      <th>Exptl.</th>\n      <th>resolution</th>\n      <th>R-factor</th>\n      <th>FreeRvalue</th>\n      <th>PDB_ID</th>\n      <th>Chain</th>\n      <th>Domain_num</th>\n    </tr>\n  </thead>\n  <tbody>\n    <tr>\n      <th>1</th>\n      <td>1A62A</td>\n      <td>130</td>\n      <td>XRAY</td>\n      <td>1.55</td>\n      <td>0.22</td>\n      <td>0.25</td>\n      <td>1A62</td>\n      <td>A</td>\n      <td>2</td>\n    </tr>\n    <tr>\n      <th>7</th>\n      <td>1AL3A</td>\n      <td>324</td>\n      <td>XRAY</td>\n      <td>1.80</td>\n      <td>0.18</td>\n      <td>0.25</td>\n      <td>1AL3</td>\n      <td>A</td>\n      <td>2</td>\n    </tr>\n    <tr>\n      <th>11</th>\n      <td>1ATGA</td>\n      <td>231</td>\n      <td>XRAY</td>\n      <td>1.20</td>\n      <td>0.16</td>\n      <td>0.18</td>\n      <td>1ATG</td>\n      <td>A</td>\n      <td>2</td>\n    </tr>\n    <tr>\n      <th>15</th>\n      <td>1B25A</td>\n      <td>619</td>\n      <td>XRAY</td>\n      <td>1.85</td>\n      <td>0.17</td>\n      <td>0.22</td>\n      <td>1B25</td>\n      <td>A</td>\n      <td>3</td>\n    </tr>\n    <tr>\n      <th>17</th>\n      <td>1B9WA</td>\n      <td>95</td>\n      <td>XRAY</td>\n      <td>1.80</td>\n      <td>0.21</td>\n      <td>0.28</td>\n      <td>1B9W</td>\n      <td>A</td>\n      <td>2</td>\n    </tr>\n    <tr>\n      <th>...</th>\n      <td>...</td>\n      <td>...</td>\n      <td>...</td>\n      <td>...</td>\n      <td>...</td>\n      <td>...</td>\n      <td>...</td>\n      <td>...</td>\n      <td>...</td>\n    </tr>\n    <tr>\n      <th>4917</th>\n      <td>6Q4RA</td>\n      <td>912</td>\n      <td>XRAY</td>\n      <td>1.60</td>\n      <td>0.18</td>\n      <td>0.21</td>\n      <td>6Q4R</td>\n      <td>A</td>\n      <td>4</td>\n    </tr>\n    <tr>\n      <th>4920</th>\n      <td>6QEJA</td>\n      <td>378</td>\n      <td>XRAY</td>\n      <td>1.62</td>\n      <td>0.17</td>\n      <td>0.18</td>\n      <td>6QEJ</td>\n      <td>A</td>\n      <td>2</td>\n    </tr>\n    <tr>\n      <th>4925</th>\n      <td>6RI6A</td>\n      <td>498</td>\n      <td>XRAY</td>\n      <td>0.93</td>\n      <td>0.11</td>\n      <td>0.12</td>\n      <td>6RI6</td>\n      <td>A</td>\n      <td>3</td>\n    </tr>\n    <tr>\n      <th>4927</th>\n      <td>7ODCA</td>\n      <td>424</td>\n      <td>XRAY</td>\n      <td>1.60</td>\n      <td>0.20</td>\n      <td>0.23</td>\n      <td>7ODC</td>\n      <td>A</td>\n      <td>2</td>\n    </tr>\n    <tr>\n      <th>4928</th>\n      <td>8ABPA</td>\n      <td>306</td>\n      <td>XRAY</td>\n      <td>1.49</td>\n      <td>0.17</td>\n      <td>1.00</td>\n      <td>8ABP</td>\n      <td>A</td>\n      <td>2</td>\n    </tr>\n  </tbody>\n</table>\n<p>1376 rows × 9 columns</p>\n</div>"
     },
     "metadata": {},
     "execution_count": 6
    }
   ],
   "source": [
    "multidomain_df = cdf.query('Domain_num > 1')\n",
    "multidomain_df"
   ]
  },
  {
   "cell_type": "code",
   "execution_count": 7,
   "metadata": {},
   "outputs": [
    {
     "output_type": "execute_result",
     "data": {
      "text/plain": [
       "        IDs  length Exptl.  resolution  R-factor  FreeRvalue PDB_ID Chain  \\\n",
       "4370  5BNZA     564   XRAY        1.90      0.19        0.23   5BNZ     A   \n",
       "1303  2JE8A     848   XRAY        1.70      0.16        0.19   2JE8     A   \n",
       "1652  2VFRA     422   XRAY        1.10      0.14        0.17   2VFR     A   \n",
       "1949  3B34A     891   XRAY        1.30      0.18        0.19   3B34     A   \n",
       "1740  2WYHA     923   XRAY        1.90      0.18        0.20   2WYH     A   \n",
       "2881  3QEXA     903   XRAY        1.73      0.18        0.21   3QEX     A   \n",
       "2871  3Q23B    1118   XRAY        1.80      0.20        0.23   3Q23     B   \n",
       "1483  2PY5A     575   XRAY        1.60      0.17        0.19   2PY5     A   \n",
       "3315  4BBYA     658   XRAY        1.90      0.19        0.24   4BBY     A   \n",
       "2514  3K59A     786   XRAY        1.92      0.20        0.20   3K59     A   \n",
       "\n",
       "      Domain_num  \n",
       "4370           5  \n",
       "1303           5  \n",
       "1652           5  \n",
       "1949           5  \n",
       "1740           6  \n",
       "2881           6  \n",
       "2871           6  \n",
       "1483           6  \n",
       "3315           6  \n",
       "2514           7  "
      ],
      "text/html": "<div>\n<style scoped>\n    .dataframe tbody tr th:only-of-type {\n        vertical-align: middle;\n    }\n\n    .dataframe tbody tr th {\n        vertical-align: top;\n    }\n\n    .dataframe thead th {\n        text-align: right;\n    }\n</style>\n<table border=\"1\" class=\"dataframe\">\n  <thead>\n    <tr style=\"text-align: right;\">\n      <th></th>\n      <th>IDs</th>\n      <th>length</th>\n      <th>Exptl.</th>\n      <th>resolution</th>\n      <th>R-factor</th>\n      <th>FreeRvalue</th>\n      <th>PDB_ID</th>\n      <th>Chain</th>\n      <th>Domain_num</th>\n    </tr>\n  </thead>\n  <tbody>\n    <tr>\n      <th>4370</th>\n      <td>5BNZA</td>\n      <td>564</td>\n      <td>XRAY</td>\n      <td>1.90</td>\n      <td>0.19</td>\n      <td>0.23</td>\n      <td>5BNZ</td>\n      <td>A</td>\n      <td>5</td>\n    </tr>\n    <tr>\n      <th>1303</th>\n      <td>2JE8A</td>\n      <td>848</td>\n      <td>XRAY</td>\n      <td>1.70</td>\n      <td>0.16</td>\n      <td>0.19</td>\n      <td>2JE8</td>\n      <td>A</td>\n      <td>5</td>\n    </tr>\n    <tr>\n      <th>1652</th>\n      <td>2VFRA</td>\n      <td>422</td>\n      <td>XRAY</td>\n      <td>1.10</td>\n      <td>0.14</td>\n      <td>0.17</td>\n      <td>2VFR</td>\n      <td>A</td>\n      <td>5</td>\n    </tr>\n    <tr>\n      <th>1949</th>\n      <td>3B34A</td>\n      <td>891</td>\n      <td>XRAY</td>\n      <td>1.30</td>\n      <td>0.18</td>\n      <td>0.19</td>\n      <td>3B34</td>\n      <td>A</td>\n      <td>5</td>\n    </tr>\n    <tr>\n      <th>1740</th>\n      <td>2WYHA</td>\n      <td>923</td>\n      <td>XRAY</td>\n      <td>1.90</td>\n      <td>0.18</td>\n      <td>0.20</td>\n      <td>2WYH</td>\n      <td>A</td>\n      <td>6</td>\n    </tr>\n    <tr>\n      <th>2881</th>\n      <td>3QEXA</td>\n      <td>903</td>\n      <td>XRAY</td>\n      <td>1.73</td>\n      <td>0.18</td>\n      <td>0.21</td>\n      <td>3QEX</td>\n      <td>A</td>\n      <td>6</td>\n    </tr>\n    <tr>\n      <th>2871</th>\n      <td>3Q23B</td>\n      <td>1118</td>\n      <td>XRAY</td>\n      <td>1.80</td>\n      <td>0.20</td>\n      <td>0.23</td>\n      <td>3Q23</td>\n      <td>B</td>\n      <td>6</td>\n    </tr>\n    <tr>\n      <th>1483</th>\n      <td>2PY5A</td>\n      <td>575</td>\n      <td>XRAY</td>\n      <td>1.60</td>\n      <td>0.17</td>\n      <td>0.19</td>\n      <td>2PY5</td>\n      <td>A</td>\n      <td>6</td>\n    </tr>\n    <tr>\n      <th>3315</th>\n      <td>4BBYA</td>\n      <td>658</td>\n      <td>XRAY</td>\n      <td>1.90</td>\n      <td>0.19</td>\n      <td>0.24</td>\n      <td>4BBY</td>\n      <td>A</td>\n      <td>6</td>\n    </tr>\n    <tr>\n      <th>2514</th>\n      <td>3K59A</td>\n      <td>786</td>\n      <td>XRAY</td>\n      <td>1.92</td>\n      <td>0.20</td>\n      <td>0.20</td>\n      <td>3K59</td>\n      <td>A</td>\n      <td>7</td>\n    </tr>\n  </tbody>\n</table>\n</div>"
     },
     "metadata": {},
     "execution_count": 7
    }
   ],
   "source": [
    "multidomain_df.sort_values('Domain_num')[-10: ]"
   ]
  },
  {
   "cell_type": "code",
   "execution_count": 8,
   "metadata": {},
   "outputs": [],
   "source": [
    "multidomain_df_outpath = '../../../pisces/20210225/multidomain_cullpdb_pc20_res2.0_R0.25.csv'\n",
    "multidomain_df.to_csv(multidomain_df_outpath)"
   ]
  },
  {
   "source": [
    "## Get fasta sequence from multidomain df"
   ],
   "cell_type": "markdown",
   "metadata": {}
  },
  {
   "cell_type": "code",
   "execution_count": 9,
   "metadata": {},
   "outputs": [],
   "source": [
    "from Bio import SeqIO\n",
    "from pathlib import Path\n",
    "pdb_fasta_path = '../../../PDBseq/pdb_seqres.txt'\n",
    "out_fasta_dir = Path('../../../pisces/20210225/multi-domain_fasta/')\n",
    "records_dict = SeqIO.to_dict(SeqIO.parse(pdb_fasta_path, 'fasta'))"
   ]
  },
  {
   "cell_type": "code",
   "execution_count": 10,
   "metadata": {},
   "outputs": [
    {
     "output_type": "stream",
     "name": "stdout",
     "text": [
      "5xli_A\n"
     ]
    }
   ],
   "source": [
    "for index, rows in multidomain_df.iterrows():\n",
    "    seq_id = rows['PDB_ID'].lower() + '_' + rows['Chain']\n",
    "    try:\n",
    "        seq = records_dict[seq_id]\n",
    "    except KeyError:\n",
    "        print(seq_id)\n",
    "    else:\n",
    "        out_path = (out_fasta_dir / seq_id.upper()).with_suffix('.fasta')\n",
    "        # SeqIO.write(seq, out_path, 'fasta')"
   ]
  }
 ]
}