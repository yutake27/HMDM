{
 "metadata": {
  "language_info": {
   "codemirror_mode": {
    "name": "ipython",
    "version": 3
   },
   "file_extension": ".py",
   "mimetype": "text/x-python",
   "name": "python",
   "nbconvert_exporter": "python",
   "pygments_lexer": "ipython3",
   "version": "3.9.1"
  },
  "orig_nbformat": 2,
  "kernelspec": {
   "name": "python37364bit00d4d3a58f944c1c8375f1b9a9835895",
   "display_name": "Python 3.9.1 64-bit ('mypython': conda)"
  },
  "metadata": {
   "interpreter": {
    "hash": "033a30f494deec8ceeb512afef8c9dc113472ba2d32680e95a1365ed9cc23893"
   }
  }
 },
 "nbformat": 4,
 "nbformat_minor": 2,
 "cells": [
  {
   "cell_type": "code",
   "execution_count": 1,
   "metadata": {},
   "outputs": [],
   "source": [
    "import pandas as pd\n",
    "import subprocess"
   ]
  },
  {
   "cell_type": "code",
   "execution_count": 2,
   "metadata": {},
   "outputs": [],
   "source": [
    "df = pd.read_csv('scop_cl_equal_globular100_miss_target.csv', index_col=0).rename({'Unnamed: 0': 'model'}, axis=1)"
   ]
  },
  {
   "cell_type": "code",
   "execution_count": 3,
   "metadata": {},
   "outputs": [
    {
     "output_type": "execute_result",
     "data": {
      "text/plain": [
       "                      model  GDT_TS  GDT_HA target.1  template  seq_len  \\\n",
       "target                                                                    \n",
       "1IRU_I    1IRU_I_6EPC_2_1_1  0.3795  0.1659   1IRU_I  6EPC_2_1    220.0   \n",
       "1P3C_A    1P3C_A_2VID_A_1_1  0.3802  0.2640   1P3C_A  2VID_A_1    215.0   \n",
       "1W3B_A    1W3B_A_6EOU_A_1_1  0.6430  0.4865   1W3B_A  6EOU_A_1    388.0   \n",
       "1XWN_A    1XWN_A_2K7N_A_1_1  0.6611  0.4473   1XWN_A  2K7N_A_1    166.0   \n",
       "1XZP_A    1XZP_A_1RFL_A_2_1  0.3203  0.1703   1XZP_A  1RFL_A_2    160.0   \n",
       "3JAI_SS  3JAI_SS_2ZKQ_m_1_1  0.5201  0.3595  3JAI_SS  2ZKQ_m_1    137.0   \n",
       "4V52_BC  4V52_BC_1P85_A_1_1  0.4983  0.3793  4V52_BC  1P85_A_1    147.0   \n",
       "5JT8_A    5JT8_A_1XKG_A_1_1  0.6669  0.5008   5JT8_A  1XKG_A_1    310.0   \n",
       "\n",
       "                evalue  identity  positive  align_len       Method   SF-DOMID  \n",
       "target                                                                         \n",
       "1IRU_I   4.000020e-162     217.0     218.0      220.0  nofiltering  8079518.0  \n",
       "1P3C_A    4.388420e-07      57.0      82.0      197.0    filtering  8038193.0  \n",
       "1W3B_A    0.000000e+00     385.0     385.0      388.0  nofiltering  8041646.0  \n",
       "1XWN_A   2.695880e-124     166.0     166.0      166.0  nofiltering  8033930.0  \n",
       "1XZP_A    1.095190e-38      69.0     100.0      162.0  nofiltering  8002425.0  \n",
       "3JAI_SS   4.898260e-98     137.0     137.0      137.0  nofiltering  8101437.0  \n",
       "4V52_BC  1.876470e-104     147.0     147.0      147.0  nofiltering  8035393.0  \n",
       "5JT8_A    2.535770e-47     104.0     149.0      297.0  nofiltering  8073435.0  "
      ],
      "text/html": "<div>\n<style scoped>\n    .dataframe tbody tr th:only-of-type {\n        vertical-align: middle;\n    }\n\n    .dataframe tbody tr th {\n        vertical-align: top;\n    }\n\n    .dataframe thead th {\n        text-align: right;\n    }\n</style>\n<table border=\"1\" class=\"dataframe\">\n  <thead>\n    <tr style=\"text-align: right;\">\n      <th></th>\n      <th>model</th>\n      <th>GDT_TS</th>\n      <th>GDT_HA</th>\n      <th>target.1</th>\n      <th>template</th>\n      <th>seq_len</th>\n      <th>evalue</th>\n      <th>identity</th>\n      <th>positive</th>\n      <th>align_len</th>\n      <th>Method</th>\n      <th>SF-DOMID</th>\n    </tr>\n    <tr>\n      <th>target</th>\n      <th></th>\n      <th></th>\n      <th></th>\n      <th></th>\n      <th></th>\n      <th></th>\n      <th></th>\n      <th></th>\n      <th></th>\n      <th></th>\n      <th></th>\n      <th></th>\n    </tr>\n  </thead>\n  <tbody>\n    <tr>\n      <th>1IRU_I</th>\n      <td>1IRU_I_6EPC_2_1_1</td>\n      <td>0.3795</td>\n      <td>0.1659</td>\n      <td>1IRU_I</td>\n      <td>6EPC_2_1</td>\n      <td>220.0</td>\n      <td>4.000020e-162</td>\n      <td>217.0</td>\n      <td>218.0</td>\n      <td>220.0</td>\n      <td>nofiltering</td>\n      <td>8079518.0</td>\n    </tr>\n    <tr>\n      <th>1P3C_A</th>\n      <td>1P3C_A_2VID_A_1_1</td>\n      <td>0.3802</td>\n      <td>0.2640</td>\n      <td>1P3C_A</td>\n      <td>2VID_A_1</td>\n      <td>215.0</td>\n      <td>4.388420e-07</td>\n      <td>57.0</td>\n      <td>82.0</td>\n      <td>197.0</td>\n      <td>filtering</td>\n      <td>8038193.0</td>\n    </tr>\n    <tr>\n      <th>1W3B_A</th>\n      <td>1W3B_A_6EOU_A_1_1</td>\n      <td>0.6430</td>\n      <td>0.4865</td>\n      <td>1W3B_A</td>\n      <td>6EOU_A_1</td>\n      <td>388.0</td>\n      <td>0.000000e+00</td>\n      <td>385.0</td>\n      <td>385.0</td>\n      <td>388.0</td>\n      <td>nofiltering</td>\n      <td>8041646.0</td>\n    </tr>\n    <tr>\n      <th>1XWN_A</th>\n      <td>1XWN_A_2K7N_A_1_1</td>\n      <td>0.6611</td>\n      <td>0.4473</td>\n      <td>1XWN_A</td>\n      <td>2K7N_A_1</td>\n      <td>166.0</td>\n      <td>2.695880e-124</td>\n      <td>166.0</td>\n      <td>166.0</td>\n      <td>166.0</td>\n      <td>nofiltering</td>\n      <td>8033930.0</td>\n    </tr>\n    <tr>\n      <th>1XZP_A</th>\n      <td>1XZP_A_1RFL_A_2_1</td>\n      <td>0.3203</td>\n      <td>0.1703</td>\n      <td>1XZP_A</td>\n      <td>1RFL_A_2</td>\n      <td>160.0</td>\n      <td>1.095190e-38</td>\n      <td>69.0</td>\n      <td>100.0</td>\n      <td>162.0</td>\n      <td>nofiltering</td>\n      <td>8002425.0</td>\n    </tr>\n    <tr>\n      <th>3JAI_SS</th>\n      <td>3JAI_SS_2ZKQ_m_1_1</td>\n      <td>0.5201</td>\n      <td>0.3595</td>\n      <td>3JAI_SS</td>\n      <td>2ZKQ_m_1</td>\n      <td>137.0</td>\n      <td>4.898260e-98</td>\n      <td>137.0</td>\n      <td>137.0</td>\n      <td>137.0</td>\n      <td>nofiltering</td>\n      <td>8101437.0</td>\n    </tr>\n    <tr>\n      <th>4V52_BC</th>\n      <td>4V52_BC_1P85_A_1_1</td>\n      <td>0.4983</td>\n      <td>0.3793</td>\n      <td>4V52_BC</td>\n      <td>1P85_A_1</td>\n      <td>147.0</td>\n      <td>1.876470e-104</td>\n      <td>147.0</td>\n      <td>147.0</td>\n      <td>147.0</td>\n      <td>nofiltering</td>\n      <td>8035393.0</td>\n    </tr>\n    <tr>\n      <th>5JT8_A</th>\n      <td>5JT8_A_1XKG_A_1_1</td>\n      <td>0.6669</td>\n      <td>0.5008</td>\n      <td>5JT8_A</td>\n      <td>1XKG_A_1</td>\n      <td>310.0</td>\n      <td>2.535770e-47</td>\n      <td>104.0</td>\n      <td>149.0</td>\n      <td>297.0</td>\n      <td>nofiltering</td>\n      <td>8073435.0</td>\n    </tr>\n  </tbody>\n</table>\n</div>"
     },
     "metadata": {},
     "execution_count": 3
    }
   ],
   "source": [
    "df"
   ]
  },
  {
   "cell_type": "code",
   "execution_count": 4,
   "metadata": {},
   "outputs": [],
   "source": [
    "from pathlib import Path\n",
    "tsubame_path = Path('/gs/hs0/tga-ishidalab/takei/MQA_dataset/')"
   ]
  },
  {
   "cell_type": "code",
   "execution_count": 5,
   "metadata": {},
   "outputs": [],
   "source": [
    "dataset_name = 'scop_cl_equal_globular100'\n",
    "native_dir = tsubame_path / 'native_pdb' / dataset_name\n",
    "model_dir = tsubame_path / 'pdb' / dataset_name"
   ]
  },
  {
   "cell_type": "code",
   "execution_count": 10,
   "metadata": {},
   "outputs": [
    {
     "output_type": "stream",
     "name": "stdout",
     "text": [
      "1IRU_I\n",
      "1P3C_A\n",
      "1W3B_A\n",
      "1XWN_A\n",
      "1XZP_A\n",
      "scp tsubame:/gs/hs0/tga-ishidalab/takei/MQA_dataset/pdb/scop_cl_equal_globular100/1XZP_A/nofiltering/1XZP_A_1RFL_A_2_1.pdb pdb_dir\n",
      "3JAI_SS\n",
      "scp tsubame:/gs/hs0/tga-ishidalab/takei/MQA_dataset/native_pdb/scop_cl_equal_globular100/3JAI_SS.pdb pdb_dir\n",
      "scp tsubame:/gs/hs0/tga-ishidalab/takei/MQA_dataset/pdb/scop_cl_equal_globular100/3JAI_SS/nofiltering/3JAI_SS_2ZKQ_m_1_1.pdb pdb_dir\n",
      "4V52_BC\n",
      "scp tsubame:/gs/hs0/tga-ishidalab/takei/MQA_dataset/native_pdb/scop_cl_equal_globular100/4V52_BC.pdb pdb_dir\n",
      "scp tsubame:/gs/hs0/tga-ishidalab/takei/MQA_dataset/pdb/scop_cl_equal_globular100/4V52_BC/nofiltering/4V52_BC_1P85_A_1_1.pdb pdb_dir\n",
      "5JT8_A\n",
      "scp tsubame:/gs/hs0/tga-ishidalab/takei/MQA_dataset/native_pdb/scop_cl_equal_globular100/5JT8_A.pdb pdb_dir\n",
      "scp tsubame:/gs/hs0/tga-ishidalab/takei/MQA_dataset/pdb/scop_cl_equal_globular100/5JT8_A/nofiltering/5JT8_A_1XKG_A_1_1.pdb pdb_dir\n"
     ]
    }
   ],
   "source": [
    "def scp_from_tsubame(tsubame_path):\n",
    "    download_dir = 'pdb_dir'\n",
    "    # cmd = ['./scp.sh', str(tsubame_path), download_dir]\n",
    "    cmd = ['scp', 'tsubame:' + str(tsubame_path), download_dir]\n",
    "    print(' '.join(cmd))\n",
    "    subprocess.run(cmd)\n",
    "\n",
    "import time\n",
    "\n",
    "for index, row in df.iterrows():\n",
    "    model = row['model']\n",
    "    target = index\n",
    "    method = row['Method']\n",
    "    print(target)\n",
    "    native_path = (native_dir / target).with_suffix('.pdb')\n",
    "    model_path = (model_dir / target / method / model).with_suffix('.pdb')\n",
    "    output_dir = Path('pdb_dir')\n",
    "    if not (output_dir / native_path.name).exists():\n",
    "        scp_from_tsubame(native_path)\n",
    "        time.sleep(5)\n",
    "    if not (output_dir / model_path.name).exists():\n",
    "        scp_from_tsubame(model_path)\n",
    "        time.sleep(5)"
   ]
  },
  {
   "cell_type": "code",
   "execution_count": null,
   "metadata": {},
   "outputs": [],
   "source": []
  }
 ]
}