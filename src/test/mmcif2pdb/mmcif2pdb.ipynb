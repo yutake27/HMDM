{
 "metadata": {
  "language_info": {
   "codemirror_mode": {
    "name": "ipython",
    "version": 3
   },
   "file_extension": ".py",
   "mimetype": "text/x-python",
   "name": "python",
   "nbconvert_exporter": "python",
   "pygments_lexer": "ipython3",
   "version": "3.9.1"
  },
  "orig_nbformat": 2,
  "kernelspec": {
   "name": "python37664bitbasecondaf3e22bd17c454a6bb49105bdf7af0c73",
   "display_name": "Python 3.9.1 64-bit ('mypython': conda)"
  },
  "metadata": {
   "interpreter": {
    "hash": "033a30f494deec8ceeb512afef8c9dc113472ba2d32680e95a1365ed9cc23893"
   }
  }
 },
 "nbformat": 4,
 "nbformat_minor": 2,
 "cells": [
  {
   "source": [
    "# Convert pdb using ProDy (failed..)"
   ],
   "cell_type": "markdown",
   "metadata": {}
  },
  {
   "cell_type": "code",
   "execution_count": 1,
   "metadata": {},
   "outputs": [],
   "source": [
    "from prody import parseMMCIF, parsePDB, writePDB\n",
    "import numpy as np"
   ]
  },
  {
   "cell_type": "code",
   "execution_count": 2,
   "metadata": {},
   "outputs": [],
   "source": [
    "def mmcif2pdb(pdb_id: str, chain: str, output_path: str = None):\n",
    "    mol = parseMMCIF(pdb_id)\n",
    "    chids = mol.getChids()\n",
    "    sel_mol = mol.select('chain {}'.format(chain[: 2]))\n",
    "    assert sel_mol is not None\n",
    "    if output_path is None:\n",
    "        output_path = pdb_id + '_' + chain + '.pdb'\n",
    "    if len(chain) > 1:\n",
    "        sel_mol.setChids(chain[0])\n",
    "    writePDB(output_path, sel_mol)\n",
    "    with open(output_path, 'r') as f:\n",
    "        lines = f.readlines()\n",
    "    with open(output_path, 'w') as f:\n",
    "        def del_res_prefix(line):\n",
    "            if line[: 4] == 'ATOM' or line[: 6] == 'HETATM':\n",
    "                line_str_list = list(line)\n",
    "                line_str_list[16] = ' '\n",
    "                line = ''.join(line_str_list)\n",
    "            return line\n",
    "\n",
    "        lines = list(map(lambda line: del_res_prefix(line), lines))\n",
    "        f.writelines(lines)\n",
    "    return sel_mol, parsePDB(output_path)"
   ]
  },
  {
   "cell_type": "code",
   "execution_count": 11,
   "metadata": {},
   "outputs": [
    {
     "output_type": "stream",
     "name": "stderr",
     "text": [
      "@> Connecting wwPDB FTP server RCSB PDB (USA).\n",
      "@> 3j7p downloaded (3j7p.cif)\n",
      "@> PDB download via FTP completed (1 downloaded, 0 failed).\n",
      "@> 221686 atoms and 1 coordinate set(s) were parsed in 2.21s.\n",
      "@> 1868 atoms and 1 coordinate set(s) were parsed in 0.01s.\n"
     ]
    },
    {
     "output_type": "execute_result",
     "data": {
      "text/plain": [
       "(<Selection: 'chain A' from 3j7p (1868 atoms)>,\n",
       " <AtomGroup: 3j7p_A (1868 atoms)>)"
      ]
     },
     "metadata": {},
     "execution_count": 11
    }
   ],
   "source": [
    "# チェイン名が1文字の場合\n",
    "pdb_id = '3j7p'\n",
    "chain = 'A'\n",
    "mmcif2pdb(pdb_id, chain)"
   ]
  },
  {
   "cell_type": "code",
   "execution_count": 13,
   "metadata": {},
   "outputs": [
    {
     "output_type": "stream",
     "name": "stderr",
     "text": [
      "@> 221686 atoms and 1 coordinate set(s) were parsed in 2.14s.\n",
      "@> 1454 atoms and 1 coordinate set(s) were parsed in 0.01s.\n"
     ]
    },
    {
     "output_type": "execute_result",
     "data": {
      "text/plain": [
       "(<Selection: 'chain S' from 3j7p (1454 atoms)>,\n",
       " <AtomGroup: 3j7p_S (1454 atoms)>)"
      ]
     },
     "metadata": {},
     "execution_count": 13
    }
   ],
   "source": [
    "# チェイン名が1文字の場合\n",
    "pdb_id = '3j7p'\n",
    "chain = 'S'\n",
    "mmcif2pdb(pdb_id, chain)"
   ]
  },
  {
   "cell_type": "code",
   "execution_count": 14,
   "metadata": {},
   "outputs": [
    {
     "output_type": "stream",
     "name": "stderr",
     "text": [
      "@> 221686 atoms and 1 coordinate set(s) were parsed in 2.14s.\n"
     ]
    },
    {
     "output_type": "execute_result",
     "data": {
      "text/plain": [
       "<Selection: 'chain 5' from 3j7p (78604 atoms)>"
      ]
     },
     "metadata": {},
     "execution_count": 14
    }
   ],
   "source": [
    "mol = parseMMCIF('3j7p')\n",
    "mol.select('chain 5')"
   ]
  },
  {
   "cell_type": "code",
   "execution_count": 12,
   "metadata": {},
   "outputs": [
    {
     "output_type": "stream",
     "name": "stderr",
     "text": [
      "@> 221686 atoms and 1 coordinate set(s) were parsed in 2.18s.\n"
     ]
    },
    {
     "output_type": "error",
     "ename": "PDBParseError",
     "evalue": "invalid or missing coordinate(s) at line 2",
     "traceback": [
      "\u001b[0;31m---------------------------------------------------------------------------\u001b[0m",
      "\u001b[0;31mValueError\u001b[0m                                Traceback (most recent call last)",
      "\u001b[0;32m~/miniforge3/envs/mypython/lib/python3.9/site-packages/ProDy-2.0-py3.9-macosx-11.0-arm64.egg/prody/proteins/pdbfile.py\u001b[0m in \u001b[0;36m_parsePDBLines\u001b[0;34m(atomgroup, lines, split, model, chain, subset, altloc_torf, format, bonds)\u001b[0m\n\u001b[1;32m    553\u001b[0m                     \u001b[0mcoordinates\u001b[0m\u001b[0;34m[\u001b[0m\u001b[0macount\u001b[0m\u001b[0;34m,\u001b[0m \u001b[0;36m0\u001b[0m\u001b[0;34m]\u001b[0m \u001b[0;34m=\u001b[0m \u001b[0mline\u001b[0m\u001b[0;34m[\u001b[0m\u001b[0;36m30\u001b[0m\u001b[0;34m:\u001b[0m\u001b[0;36m38\u001b[0m\u001b[0;34m]\u001b[0m\u001b[0;34m\u001b[0m\u001b[0;34m\u001b[0m\u001b[0m\n\u001b[0;32m--> 554\u001b[0;31m                     \u001b[0mcoordinates\u001b[0m\u001b[0;34m[\u001b[0m\u001b[0macount\u001b[0m\u001b[0;34m,\u001b[0m \u001b[0;36m1\u001b[0m\u001b[0;34m]\u001b[0m \u001b[0;34m=\u001b[0m \u001b[0mline\u001b[0m\u001b[0;34m[\u001b[0m\u001b[0;36m38\u001b[0m\u001b[0;34m:\u001b[0m\u001b[0;36m46\u001b[0m\u001b[0;34m]\u001b[0m\u001b[0;34m\u001b[0m\u001b[0;34m\u001b[0m\u001b[0m\n\u001b[0m\u001b[1;32m    555\u001b[0m                     \u001b[0mcoordinates\u001b[0m\u001b[0;34m[\u001b[0m\u001b[0macount\u001b[0m\u001b[0;34m,\u001b[0m \u001b[0;36m2\u001b[0m\u001b[0;34m]\u001b[0m \u001b[0;34m=\u001b[0m \u001b[0mline\u001b[0m\u001b[0;34m[\u001b[0m\u001b[0;36m46\u001b[0m\u001b[0;34m:\u001b[0m\u001b[0;36m54\u001b[0m\u001b[0;34m]\u001b[0m\u001b[0;34m\u001b[0m\u001b[0;34m\u001b[0m\u001b[0m\n",
      "\u001b[0;31mValueError\u001b[0m: could not convert string to float: '3 262.79'",
      "\nDuring handling of the above exception, another exception occurred:\n",
      "\u001b[0;31mPDBParseError\u001b[0m                             Traceback (most recent call last)",
      "\u001b[0;32m<ipython-input-12-87588eac6562>\u001b[0m in \u001b[0;36m<module>\u001b[0;34m\u001b[0m\n\u001b[1;32m      2\u001b[0m \u001b[0mpdb_id\u001b[0m \u001b[0;34m=\u001b[0m \u001b[0;34m'3j7p'\u001b[0m\u001b[0;34m\u001b[0m\u001b[0;34m\u001b[0m\u001b[0m\n\u001b[1;32m      3\u001b[0m \u001b[0mchain\u001b[0m \u001b[0;34m=\u001b[0m \u001b[0;34m'5'\u001b[0m\u001b[0;34m\u001b[0m\u001b[0;34m\u001b[0m\u001b[0m\n\u001b[0;32m----> 4\u001b[0;31m \u001b[0mmmcif2pdb\u001b[0m\u001b[0;34m(\u001b[0m\u001b[0mpdb_id\u001b[0m\u001b[0;34m,\u001b[0m \u001b[0mchain\u001b[0m\u001b[0;34m)\u001b[0m\u001b[0;34m\u001b[0m\u001b[0;34m\u001b[0m\u001b[0m\n\u001b[0m",
      "\u001b[0;32m<ipython-input-2-61557dafcbd3>\u001b[0m in \u001b[0;36mmmcif2pdb\u001b[0;34m(pdb_id, chain, output_path)\u001b[0m\n\u001b[1;32m     21\u001b[0m         \u001b[0mlines\u001b[0m \u001b[0;34m=\u001b[0m \u001b[0mlist\u001b[0m\u001b[0;34m(\u001b[0m\u001b[0mmap\u001b[0m\u001b[0;34m(\u001b[0m\u001b[0;32mlambda\u001b[0m \u001b[0mline\u001b[0m\u001b[0;34m:\u001b[0m \u001b[0mdel_res_prefix\u001b[0m\u001b[0;34m(\u001b[0m\u001b[0mline\u001b[0m\u001b[0;34m)\u001b[0m\u001b[0;34m,\u001b[0m \u001b[0mlines\u001b[0m\u001b[0;34m)\u001b[0m\u001b[0;34m)\u001b[0m\u001b[0;34m\u001b[0m\u001b[0;34m\u001b[0m\u001b[0m\n\u001b[1;32m     22\u001b[0m         \u001b[0mf\u001b[0m\u001b[0;34m.\u001b[0m\u001b[0mwritelines\u001b[0m\u001b[0;34m(\u001b[0m\u001b[0mlines\u001b[0m\u001b[0;34m)\u001b[0m\u001b[0;34m\u001b[0m\u001b[0;34m\u001b[0m\u001b[0m\n\u001b[0;32m---> 23\u001b[0;31m     \u001b[0;32mreturn\u001b[0m \u001b[0msel_mol\u001b[0m\u001b[0;34m,\u001b[0m \u001b[0mparsePDB\u001b[0m\u001b[0;34m(\u001b[0m\u001b[0moutput_path\u001b[0m\u001b[0;34m)\u001b[0m\u001b[0;34m\u001b[0m\u001b[0;34m\u001b[0m\u001b[0m\n\u001b[0m",
      "\u001b[0;32m~/miniforge3/envs/mypython/lib/python3.9/site-packages/ProDy-2.0-py3.9-macosx-11.0-arm64.egg/prody/proteins/pdbfile.py\u001b[0m in \u001b[0;36mparsePDB\u001b[0;34m(*pdb, **kwargs)\u001b[0m\n\u001b[1;32m    121\u001b[0m \u001b[0;34m\u001b[0m\u001b[0m\n\u001b[1;32m    122\u001b[0m     \u001b[0;32mif\u001b[0m \u001b[0mn_pdb\u001b[0m \u001b[0;34m==\u001b[0m \u001b[0;36m1\u001b[0m\u001b[0;34m:\u001b[0m\u001b[0;34m\u001b[0m\u001b[0;34m\u001b[0m\u001b[0m\n\u001b[0;32m--> 123\u001b[0;31m         \u001b[0;32mreturn\u001b[0m \u001b[0m_parsePDB\u001b[0m\u001b[0;34m(\u001b[0m\u001b[0mpdb\u001b[0m\u001b[0;34m[\u001b[0m\u001b[0;36m0\u001b[0m\u001b[0;34m]\u001b[0m\u001b[0;34m,\u001b[0m \u001b[0;34m**\u001b[0m\u001b[0mkwargs\u001b[0m\u001b[0;34m)\u001b[0m\u001b[0;34m\u001b[0m\u001b[0;34m\u001b[0m\u001b[0m\n\u001b[0m\u001b[1;32m    124\u001b[0m     \u001b[0;32melse\u001b[0m\u001b[0;34m:\u001b[0m\u001b[0;34m\u001b[0m\u001b[0;34m\u001b[0m\u001b[0m\n\u001b[1;32m    125\u001b[0m         \u001b[0mresults\u001b[0m \u001b[0;34m=\u001b[0m \u001b[0;34m[\u001b[0m\u001b[0;34m]\u001b[0m\u001b[0;34m\u001b[0m\u001b[0;34m\u001b[0m\u001b[0m\n",
      "\u001b[0;32m~/miniforge3/envs/mypython/lib/python3.9/site-packages/ProDy-2.0-py3.9-macosx-11.0-arm64.egg/prody/proteins/pdbfile.py\u001b[0m in \u001b[0;36m_parsePDB\u001b[0;34m(pdb, **kwargs)\u001b[0m\n\u001b[1;32m    230\u001b[0m     \u001b[0;32mif\u001b[0m \u001b[0mchain\u001b[0m \u001b[0;34m!=\u001b[0m \u001b[0;34m''\u001b[0m\u001b[0;34m:\u001b[0m\u001b[0;34m\u001b[0m\u001b[0;34m\u001b[0m\u001b[0m\n\u001b[1;32m    231\u001b[0m         \u001b[0mkwargs\u001b[0m\u001b[0;34m[\u001b[0m\u001b[0;34m'chain'\u001b[0m\u001b[0;34m]\u001b[0m \u001b[0;34m=\u001b[0m \u001b[0mchain\u001b[0m\u001b[0;34m\u001b[0m\u001b[0;34m\u001b[0m\u001b[0m\n\u001b[0;32m--> 232\u001b[0;31m     \u001b[0mresult\u001b[0m \u001b[0;34m=\u001b[0m \u001b[0mparsePDBStream\u001b[0m\u001b[0;34m(\u001b[0m\u001b[0mpdb\u001b[0m\u001b[0;34m,\u001b[0m \u001b[0;34m**\u001b[0m\u001b[0mkwargs\u001b[0m\u001b[0;34m)\u001b[0m\u001b[0;34m\u001b[0m\u001b[0;34m\u001b[0m\u001b[0m\n\u001b[0m\u001b[1;32m    233\u001b[0m     \u001b[0mpdb\u001b[0m\u001b[0;34m.\u001b[0m\u001b[0mclose\u001b[0m\u001b[0;34m(\u001b[0m\u001b[0;34m)\u001b[0m\u001b[0;34m\u001b[0m\u001b[0;34m\u001b[0m\u001b[0m\n\u001b[1;32m    234\u001b[0m     \u001b[0;32mreturn\u001b[0m \u001b[0mresult\u001b[0m\u001b[0;34m\u001b[0m\u001b[0;34m\u001b[0m\u001b[0m\n",
      "\u001b[0;32m~/miniforge3/envs/mypython/lib/python3.9/site-packages/ProDy-2.0-py3.9-macosx-11.0-arm64.egg/prody/proteins/pdbfile.py\u001b[0m in \u001b[0;36mparsePDBStream\u001b[0;34m(stream, **kwargs)\u001b[0m\n\u001b[1;32m    305\u001b[0m             \u001b[0mhd\u001b[0m\u001b[0;34m,\u001b[0m \u001b[0msplit\u001b[0m \u001b[0;34m=\u001b[0m \u001b[0mgetHeaderDict\u001b[0m\u001b[0;34m(\u001b[0m\u001b[0mlines\u001b[0m\u001b[0;34m)\u001b[0m\u001b[0;34m\u001b[0m\u001b[0;34m\u001b[0m\u001b[0m\n\u001b[1;32m    306\u001b[0m         \u001b[0mbonds\u001b[0m \u001b[0;34m=\u001b[0m \u001b[0;34m[\u001b[0m\u001b[0;34m]\u001b[0m \u001b[0;32mif\u001b[0m \u001b[0mget_bonds\u001b[0m \u001b[0;32melse\u001b[0m \u001b[0;32mNone\u001b[0m\u001b[0;34m\u001b[0m\u001b[0;34m\u001b[0m\u001b[0m\n\u001b[0;32m--> 307\u001b[0;31m         \u001b[0m_parsePDBLines\u001b[0m\u001b[0;34m(\u001b[0m\u001b[0mag\u001b[0m\u001b[0;34m,\u001b[0m \u001b[0mlines\u001b[0m\u001b[0;34m,\u001b[0m \u001b[0msplit\u001b[0m\u001b[0;34m,\u001b[0m \u001b[0mmodel\u001b[0m\u001b[0;34m,\u001b[0m \u001b[0mchain\u001b[0m\u001b[0;34m,\u001b[0m \u001b[0msubset\u001b[0m\u001b[0;34m,\u001b[0m \u001b[0maltloc\u001b[0m\u001b[0;34m,\u001b[0m \u001b[0mbonds\u001b[0m\u001b[0;34m=\u001b[0m\u001b[0mbonds\u001b[0m\u001b[0;34m)\u001b[0m\u001b[0;34m\u001b[0m\u001b[0;34m\u001b[0m\u001b[0m\n\u001b[0m\u001b[1;32m    308\u001b[0m         \u001b[0;32mif\u001b[0m \u001b[0mbonds\u001b[0m\u001b[0;34m:\u001b[0m\u001b[0;34m\u001b[0m\u001b[0;34m\u001b[0m\u001b[0m\n\u001b[1;32m    309\u001b[0m             \u001b[0;32mtry\u001b[0m\u001b[0;34m:\u001b[0m\u001b[0;34m\u001b[0m\u001b[0;34m\u001b[0m\u001b[0m\n",
      "\u001b[0;32m~/miniforge3/envs/mypython/lib/python3.9/site-packages/ProDy-2.0-py3.9-macosx-11.0-arm64.egg/prody/proteins/pdbfile.py\u001b[0m in \u001b[0;36m_parsePDBLines\u001b[0;34m(atomgroup, lines, split, model, chain, subset, altloc_torf, format, bonds)\u001b[0m\n\u001b[1;32m    573\u001b[0m                             \u001b[0mi\u001b[0m \u001b[0;34m+=\u001b[0m \u001b[0;36m1\u001b[0m\u001b[0;34m\u001b[0m\u001b[0;34m\u001b[0m\u001b[0m\n\u001b[1;32m    574\u001b[0m                 \u001b[0;32melse\u001b[0m\u001b[0;34m:\u001b[0m\u001b[0;34m\u001b[0m\u001b[0;34m\u001b[0m\u001b[0m\n\u001b[0;32m--> 575\u001b[0;31m                     raise PDBParseError('invalid or missing coordinate(s) at '\n\u001b[0m\u001b[1;32m    576\u001b[0m                                          'line {0}'.format(i+1))\n\u001b[1;32m    577\u001b[0m             \u001b[0;32mif\u001b[0m \u001b[0monlycoords\u001b[0m\u001b[0;34m:\u001b[0m\u001b[0;34m\u001b[0m\u001b[0;34m\u001b[0m\u001b[0m\n",
      "\u001b[0;31mPDBParseError\u001b[0m: invalid or missing coordinate(s) at line 2"
     ]
    }
   ],
   "source": [
    "# チェイン名が1文字の場合 かつ　数字の場合　バグがある\n",
    "pdb_id = '3j7p'\n",
    "chain = '5'\n",
    "mmcif2pdb(pdb_id, chain)"
   ]
  },
  {
   "cell_type": "code",
   "execution_count": 7,
   "metadata": {},
   "outputs": [
    {
     "output_type": "stream",
     "name": "stderr",
     "text": [
      "@> 20901 atoms and 1 coordinate set(s) were parsed in 0.22s.\n"
     ]
    },
    {
     "output_type": "execute_result",
     "data": {
      "text/plain": [
       "array(['AA', 'AA', 'AA', ..., 'HH', 'HH', 'HH'], dtype='<U2')"
      ]
     },
     "metadata": {},
     "execution_count": 7
    }
   ],
   "source": [
    "# チェイン名が3文字だが，2文字までしかロードされていない．\n",
    "mol = parseMMCIF('6zzr')\n",
    "mol.getChids()"
   ]
  },
  {
   "cell_type": "code",
   "execution_count": 8,
   "metadata": {},
   "outputs": [
    {
     "output_type": "stream",
     "name": "stderr",
     "text": [
      "@> 20901 atoms and 1 coordinate set(s) were parsed in 0.22s.\n",
      "@> 2667 atoms and 1 coordinate set(s) were parsed in 0.01s.\n"
     ]
    }
   ],
   "source": [
    "pdb_id = '6zzr'\n",
    "chain = 'AAA'\n",
    "sel_mol, pdb_mol = mmcif2pdb(pdb_id, chain)"
   ]
  },
  {
   "cell_type": "code",
   "execution_count": 6,
   "metadata": {},
   "outputs": [
    {
     "output_type": "stream",
     "name": "stderr",
     "text": [
      "@> 291123 atoms and 1 coordinate set(s) were parsed in 2.90s.\n",
      "@> 834 atoms and 1 coordinate set(s) were parsed in 0.00s.\n"
     ]
    }
   ],
   "source": [
    "pdb_id = '1vvj'\n",
    "chain = 'QQ'\n",
    "sel_mol, pdb_mol = mmcif2pdb(pdb_id, chain)"
   ]
  },
  {
   "cell_type": "code",
   "execution_count": 9,
   "metadata": {},
   "outputs": [
    {
     "output_type": "stream",
     "name": "stderr",
     "text": [
      "@> 284172 atoms and 1 coordinate set(s) were parsed in 2.72s.\n",
      "@> 2087 atoms and 1 coordinate set(s) were parsed in 0.01s.\n"
     ]
    },
    {
     "output_type": "execute_result",
     "data": {
      "text/plain": [
       "(<Selection: 'chain BC' from 4v52 (2087 atoms)>,\n",
       " <AtomGroup: 4v52_BC (2087 atoms)>)"
      ]
     },
     "metadata": {},
     "execution_count": 9
    }
   ],
   "source": [
    "# チェイン名が2文字の場合\n",
    "# チェイン名のせいで出力pdbの列がずれてしまうため，parseできない(修正済み)\n",
    "mmcif2pdb('4v52', 'BC')"
   ]
  },
  {
   "cell_type": "code",
   "execution_count": 10,
   "metadata": {},
   "outputs": [
    {
     "output_type": "stream",
     "name": "stderr",
     "text": [
      "@> 226453 atoms and 1 coordinate set(s) were parsed in 2.16s.\n",
      "@> 1139 atoms and 1 coordinate set(s) were parsed in 0.01s.\n"
     ]
    },
    {
     "output_type": "execute_result",
     "data": {
      "text/plain": [
       "(<Selection: 'chain SS' from 3jai (1139 atoms)>,\n",
       " <AtomGroup: 3jai_SS (1139 atoms)>)"
      ]
     },
     "metadata": {},
     "execution_count": 10
    }
   ],
   "source": [
    "mmcif2pdb('3jai', 'SS')"
   ]
  },
  {
   "source": [
    "# Convert pdb using biopython"
   ],
   "cell_type": "markdown",
   "metadata": {}
  },
  {
   "cell_type": "code",
   "execution_count": 15,
   "metadata": {},
   "outputs": [],
   "source": [
    "from Bio.PDB import MMCIFParser, PDBParser, PDBIO, Select"
   ]
  },
  {
   "cell_type": "code",
   "execution_count": 16,
   "metadata": {},
   "outputs": [],
   "source": [
    "parser = MMCIFParser()"
   ]
  },
  {
   "cell_type": "code",
   "execution_count": 17,
   "metadata": {},
   "outputs": [
    {
     "output_type": "stream",
     "name": "stderr",
     "text": [
      "/Users/TAKEI/miniforge3/envs/mypython/lib/python3.9/site-packages/Bio/PDB/StructureBuilder.py:89: PDBConstructionWarning: WARNING: Chain AAA is discontinuous at line 20545.\n  warnings.warn(\n/Users/TAKEI/miniforge3/envs/mypython/lib/python3.9/site-packages/Bio/PDB/StructureBuilder.py:89: PDBConstructionWarning: WARNING: Chain BBB is discontinuous at line 20581.\n  warnings.warn(\n/Users/TAKEI/miniforge3/envs/mypython/lib/python3.9/site-packages/Bio/PDB/StructureBuilder.py:89: PDBConstructionWarning: WARNING: Chain CCC is discontinuous at line 20599.\n  warnings.warn(\n/Users/TAKEI/miniforge3/envs/mypython/lib/python3.9/site-packages/Bio/PDB/StructureBuilder.py:89: PDBConstructionWarning: WARNING: Chain DDD is discontinuous at line 20607.\n  warnings.warn(\n/Users/TAKEI/miniforge3/envs/mypython/lib/python3.9/site-packages/Bio/PDB/StructureBuilder.py:89: PDBConstructionWarning: WARNING: Chain EEE is discontinuous at line 20623.\n  warnings.warn(\n/Users/TAKEI/miniforge3/envs/mypython/lib/python3.9/site-packages/Bio/PDB/StructureBuilder.py:89: PDBConstructionWarning: WARNING: Chain FFF is discontinuous at line 20631.\n  warnings.warn(\n/Users/TAKEI/miniforge3/envs/mypython/lib/python3.9/site-packages/Bio/PDB/StructureBuilder.py:89: PDBConstructionWarning: WARNING: Chain GGG is discontinuous at line 20643.\n  warnings.warn(\n/Users/TAKEI/miniforge3/envs/mypython/lib/python3.9/site-packages/Bio/PDB/StructureBuilder.py:89: PDBConstructionWarning: WARNING: Chain HHH is discontinuous at line 20651.\n  warnings.warn(\n/Users/TAKEI/miniforge3/envs/mypython/lib/python3.9/site-packages/Bio/PDB/StructureBuilder.py:89: PDBConstructionWarning: WARNING: Chain AAA is discontinuous at line 20655.\n  warnings.warn(\n/Users/TAKEI/miniforge3/envs/mypython/lib/python3.9/site-packages/Bio/PDB/StructureBuilder.py:89: PDBConstructionWarning: WARNING: Chain BBB is discontinuous at line 20718.\n  warnings.warn(\n/Users/TAKEI/miniforge3/envs/mypython/lib/python3.9/site-packages/Bio/PDB/StructureBuilder.py:89: PDBConstructionWarning: WARNING: Chain CCC is discontinuous at line 20774.\n  warnings.warn(\n/Users/TAKEI/miniforge3/envs/mypython/lib/python3.9/site-packages/Bio/PDB/StructureBuilder.py:89: PDBConstructionWarning: WARNING: Chain DDD is discontinuous at line 20812.\n  warnings.warn(\n/Users/TAKEI/miniforge3/envs/mypython/lib/python3.9/site-packages/Bio/PDB/StructureBuilder.py:89: PDBConstructionWarning: WARNING: Chain EEE is discontinuous at line 20864.\n  warnings.warn(\n/Users/TAKEI/miniforge3/envs/mypython/lib/python3.9/site-packages/Bio/PDB/StructureBuilder.py:89: PDBConstructionWarning: WARNING: Chain FFF is discontinuous at line 20893.\n  warnings.warn(\n/Users/TAKEI/miniforge3/envs/mypython/lib/python3.9/site-packages/Bio/PDB/StructureBuilder.py:89: PDBConstructionWarning: WARNING: Chain GGG is discontinuous at line 20918.\n  warnings.warn(\n/Users/TAKEI/miniforge3/envs/mypython/lib/python3.9/site-packages/Bio/PDB/StructureBuilder.py:89: PDBConstructionWarning: WARNING: Chain HHH is discontinuous at line 20934.\n  warnings.warn(\n"
     ]
    }
   ],
   "source": [
    "structure = parser.get_structure('6zzr', '6zzr.cif')"
   ]
  },
  {
   "cell_type": "code",
   "execution_count": 18,
   "metadata": {},
   "outputs": [
    {
     "output_type": "execute_result",
     "data": {
      "text/plain": [
       "{'name': 'The Crystal Structure of human LDHA from Wuxi Biortus.',\n",
       " 'head': 'OXIDOREDUCTASE',\n",
       " 'idcode': '6ZZR',\n",
       " 'deposition_date': '2020-08-05',\n",
       " 'structure_method': 'X-RAY DIFFRACTION',\n",
       " 'resolution': 2.65}"
      ]
     },
     "metadata": {},
     "execution_count": 18
    }
   ],
   "source": [
    "structure.header"
   ]
  },
  {
   "cell_type": "code",
   "execution_count": 19,
   "metadata": {},
   "outputs": [],
   "source": [
    "io = PDBIO()\n",
    "io.set_structure(structure)"
   ]
  },
  {
   "cell_type": "code",
   "execution_count": 48,
   "metadata": {},
   "outputs": [],
   "source": [
    "class ChainSelect(Select):\n",
    "    def __init__(self, chain_name):\n",
    "        self.chain_name = chain_name\n",
    "    def accept_chain(self, chain):\n",
    "        print(type(chain))\n",
    "        if chain.get_id() == self.chain_name:\n",
    "            return 1\n",
    "        else:\n",
    "            return 0"
   ]
  },
  {
   "cell_type": "code",
   "execution_count": 15,
   "metadata": {},
   "outputs": [
    {
     "output_type": "execute_result",
     "data": {
      "text/plain": [
       "<generator object Structure.get_chains at 0x125f58dd0>"
      ]
     },
     "metadata": {},
     "execution_count": 15
    }
   ],
   "source": [
    "structure.get_chains()"
   ]
  },
  {
   "cell_type": "code",
   "execution_count": 49,
   "metadata": {},
   "outputs": [
    {
     "output_type": "stream",
     "name": "stdout",
     "text": [
      "<class 'Bio.PDB.Chain.Chain'>\n"
     ]
    },
    {
     "output_type": "error",
     "ename": "TypeError",
     "evalue": "%c requires int or char",
     "traceback": [
      "\u001b[0;31m---------------------------------------------------------------------------\u001b[0m",
      "\u001b[0;31mTypeError\u001b[0m                                 Traceback (most recent call last)",
      "\u001b[0;32m<ipython-input-49-752ae7c08ce4>\u001b[0m in \u001b[0;36m<module>\u001b[0;34m\u001b[0m\n\u001b[0;32m----> 1\u001b[0;31m \u001b[0mio\u001b[0m\u001b[0;34m.\u001b[0m\u001b[0msave\u001b[0m\u001b[0;34m(\u001b[0m\u001b[0;34m'6zzr_A_bio.pdb'\u001b[0m\u001b[0;34m,\u001b[0m \u001b[0mChainSelect\u001b[0m\u001b[0;34m(\u001b[0m\u001b[0;34m'AAA'\u001b[0m\u001b[0;34m)\u001b[0m\u001b[0;34m)\u001b[0m\u001b[0;34m\u001b[0m\u001b[0;34m\u001b[0m\u001b[0m\n\u001b[0m",
      "\u001b[0;32m~/miniforge3/envs/mypython/lib/python3.9/site-packages/Bio/PDB/PDBIO.py\u001b[0m in \u001b[0;36msave\u001b[0;34m(self, file, select, write_end, preserve_atom_numbering)\u001b[0m\n\u001b[1;32m    368\u001b[0m                                     )\n\u001b[1;32m    369\u001b[0m \u001b[0;34m\u001b[0m\u001b[0m\n\u001b[0;32m--> 370\u001b[0;31m                             s = get_atom_line(\n\u001b[0m\u001b[1;32m    371\u001b[0m                                 \u001b[0matom\u001b[0m\u001b[0;34m,\u001b[0m\u001b[0;34m\u001b[0m\u001b[0;34m\u001b[0m\u001b[0m\n\u001b[1;32m    372\u001b[0m                                 \u001b[0mhetfield\u001b[0m\u001b[0;34m,\u001b[0m\u001b[0;34m\u001b[0m\u001b[0;34m\u001b[0m\u001b[0m\n",
      "\u001b[0;32m~/miniforge3/envs/mypython/lib/python3.9/site-packages/Bio/PDB/PDBIO.py\u001b[0m in \u001b[0;36m_get_atom_line\u001b[0;34m(self, atom, hetfield, segid, atom_number, resname, resseq, icode, chain_id, charge)\u001b[0m\n\u001b[1;32m    227\u001b[0m                 \u001b[0mcharge\u001b[0m\u001b[0;34m,\u001b[0m\u001b[0;34m\u001b[0m\u001b[0;34m\u001b[0m\u001b[0m\n\u001b[1;32m    228\u001b[0m             )\n\u001b[0;32m--> 229\u001b[0;31m             \u001b[0;32mreturn\u001b[0m \u001b[0m_ATOM_FORMAT_STRING\u001b[0m \u001b[0;34m%\u001b[0m \u001b[0margs\u001b[0m\u001b[0;34m\u001b[0m\u001b[0;34m\u001b[0m\u001b[0m\n\u001b[0m\u001b[1;32m    230\u001b[0m \u001b[0;34m\u001b[0m\u001b[0m\n\u001b[1;32m    231\u001b[0m         \u001b[0;32melse\u001b[0m\u001b[0;34m:\u001b[0m\u001b[0;34m\u001b[0m\u001b[0;34m\u001b[0m\u001b[0m\n",
      "\u001b[0;31mTypeError\u001b[0m: %c requires int or char"
     ]
    }
   ],
   "source": [
    "io.save('6zzr_A_bio.pdb', ChainSelect('AAA'))"
   ]
  },
  {
   "cell_type": "code",
   "execution_count": 15,
   "metadata": {},
   "outputs": [
    {
     "output_type": "execute_result",
     "data": {
      "text/plain": [
       "[<Chain id=AAA>,\n",
       " <Chain id=BBB>,\n",
       " <Chain id=CCC>,\n",
       " <Chain id=DDD>,\n",
       " <Chain id=EEE>,\n",
       " <Chain id=FFF>,\n",
       " <Chain id=GGG>,\n",
       " <Chain id=HHH>]"
      ]
     },
     "metadata": {},
     "execution_count": 15
    }
   ],
   "source": [
    "list(structure.get_chains())"
   ]
  },
  {
   "cell_type": "code",
   "execution_count": 1,
   "metadata": {},
   "outputs": [],
   "source": [
    "import urllib\n",
    "\n",
    "rcsb_download_url = 'https://files.rcsb.org/download/'\n",
    "\n",
    "def download_file_from_url(url: str, output_path: str):\n",
    "    urllib.request.urlretrieve(url, output_path)\n",
    "\n",
    "def download_pdb(pdb_id: str, output_path: str = None):\n",
    "    pdb_url = rcsb_download_url + pdb_id.upper() + '.pdb'\n",
    "    if output_path is None:\n",
    "        output_path = pdb_id.upper() + '.pdb'\n",
    "    download_file_from_url(pdb_url, output_path)\n",
    "\n",
    "def download_mmcif(pdb_id: str, output_path: str = None):\n",
    "    mmcif_url = rcsb_download_url + pdb_id.upper() + '.cif.gz'\n",
    "    if output_path is None:\n",
    "        output_path = pdb_id.upper() + '.cif.gz'\n",
    "    download_file_from_url(mmcif_url, output_path)"
   ]
  },
  {
   "cell_type": "code",
   "execution_count": 4,
   "metadata": {},
   "outputs": [],
   "source": [
    "import urllib\n",
    "import gzip\n",
    "rcsb_download_url = 'https://files.rcsb.org/download/'\n",
    "\n",
    "def download_and_decompress_file_from_url(url: str, output_path: str):\n",
    "    urllib.request.urlretrieve(url, output_path)\n",
    "    with gzip.open(output_path, 'rt') as f:\n",
    "        lines = f.readlines()\n",
    "    with open(output_path, 'w') as f:\n",
    "        f.writelines(lines)\n",
    "\n",
    "def download_mmcif(pdb_id,output_path = None):\n",
    "    mmcif_url = rcsb_download_url + pdb_id.upper() + '.cif.gz'\n",
    "    if output_path is None:\n",
    "        output_path = pdb_id.upper() + '.cif'\n",
    "    download_and_decompress_file_from_url(mmcif_url, output_path)"
   ]
  },
  {
   "cell_type": "code",
   "execution_count": 45,
   "metadata": {},
   "outputs": [],
   "source": [
    "from Bio.PDB import MMCIFParser, PDBIO, Select, PDBExceptions\n",
    "from prody import parsePDB\n",
    "import warnings\n",
    "warnings.simplefilter('ignore', PDBExceptions.PDBConstructionWarning)\n",
    "\n",
    "class ChainSelect(Select):\n",
    "    def __init__(self, chain_name):\n",
    "        self.chain_name = chain_name\n",
    "\n",
    "    def accept_chain(self, chain):\n",
    "        print(type(chain))\n",
    "        if chain.get_id() == self.chain_name:\n",
    "            return 1\n",
    "        else:\n",
    "            return 0\n",
    "\n",
    "import copy\n",
    "\n",
    "def biopython_mmcif2pdb(pdb_id, chain):\n",
    "    out_path = 'bio_' + pdb_id + '_' + chain + '.pdb'\n",
    "    parser = MMCIFParser()\n",
    "    structure = parser.get_structure(\"\", pdb_id + '.cif')\n",
    "    sel_structure = structure[0][chain]\n",
    "    if len(chain) > 1:\n",
    "        if chain[0] in [chain.id for chain in structure.get_chains()]:\n",
    "            structure[0][chain[0]].id = None\n",
    "        sel_structure.id = chain[0]\n",
    "    io = PDBIO()\n",
    "    io.set_structure(sel_structure)\n",
    "    io.save(out_path)\n",
    "    return parsePDB(out_path)"
   ]
  },
  {
   "cell_type": "code",
   "execution_count": 46,
   "metadata": {},
   "outputs": [
    {
     "output_type": "execute_result",
     "data": {
      "text/plain": [
       "Bio.PDB.Structure.Structure"
      ]
     },
     "metadata": {},
     "execution_count": 46
    }
   ],
   "source": [
    "type(structure)"
   ]
  },
  {
   "cell_type": "code",
   "execution_count": 47,
   "metadata": {},
   "outputs": [
    {
     "output_type": "execute_result",
     "data": {
      "text/plain": [
       "Bio.PDB.Model.Model"
      ]
     },
     "metadata": {},
     "execution_count": 47
    }
   ],
   "source": [
    "type(structure[0])"
   ]
  },
  {
   "cell_type": "code",
   "execution_count": 27,
   "metadata": {},
   "outputs": [],
   "source": [
    "parser = MMCIFParser()\n",
    "structure = parser.get_structure('', '5MYJ.cif')"
   ]
  },
  {
   "cell_type": "code",
   "execution_count": 10,
   "metadata": {},
   "outputs": [],
   "source": [
    "download_mmcif('5MYJ')"
   ]
  },
  {
   "cell_type": "code",
   "execution_count": 42,
   "metadata": {},
   "outputs": [
    {
     "output_type": "stream",
     "name": "stderr",
     "text": [
      "@> 675 atoms and 1 coordinate set(s) were parsed in 0.00s.\n"
     ]
    },
    {
     "output_type": "execute_result",
     "data": {
      "text/plain": [
       "<AtomGroup: bio_5MYJ_AQ (675 atoms)>"
      ]
     },
     "metadata": {},
     "execution_count": 42
    }
   ],
   "source": [
    "biopython_mmcif2pdb('5MYJ', 'AQ')"
   ]
  },
  {
   "cell_type": "code",
   "execution_count": 19,
   "metadata": {},
   "outputs": [],
   "source": [
    "download_mmcif('6V39')"
   ]
  },
  {
   "cell_type": "code",
   "execution_count": 21,
   "metadata": {},
   "outputs": [
    {
     "output_type": "stream",
     "name": "stderr",
     "text": [
      "/Users/TAKEI/miniforge3/envs/mypython/lib/python3.9/site-packages/Bio/PDB/StructureBuilder.py:89: PDBConstructionWarning: WARNING: Chain 3 is discontinuous at line 141498.\n  warnings.warn(\n/Users/TAKEI/miniforge3/envs/mypython/lib/python3.9/site-packages/Bio/PDB/StructureBuilder.py:89: PDBConstructionWarning: WARNING: Chain AN1 is discontinuous at line 141499.\n  warnings.warn(\n/Users/TAKEI/miniforge3/envs/mypython/lib/python3.9/site-packages/Bio/PDB/StructureBuilder.py:89: PDBConstructionWarning: WARNING: Chain sN1 is discontinuous at line 141569.\n  warnings.warn(\n/Users/TAKEI/miniforge3/envs/mypython/lib/python3.9/site-packages/Bio/PDB/StructureBuilder.py:89: PDBConstructionWarning: WARNING: Chain 1 is discontinuous at line 141624.\n  warnings.warn(\n/Users/TAKEI/miniforge3/envs/mypython/lib/python3.9/site-packages/Bio/PDB/StructureBuilder.py:89: PDBConstructionWarning: WARNING: Chain AN1 is discontinuous at line 141625.\n  warnings.warn(\n/Users/TAKEI/miniforge3/envs/mypython/lib/python3.9/site-packages/Bio/PDB/StructureBuilder.py:89: PDBConstructionWarning: WARNING: Chain B is discontinuous at line 141818.\n  warnings.warn(\n/Users/TAKEI/miniforge3/envs/mypython/lib/python3.9/site-packages/Bio/PDB/StructureBuilder.py:89: PDBConstructionWarning: WARNING: Chain C is discontinuous at line 141819.\n  warnings.warn(\n/Users/TAKEI/miniforge3/envs/mypython/lib/python3.9/site-packages/Bio/PDB/StructureBuilder.py:89: PDBConstructionWarning: WARNING: Chain D is discontinuous at line 141821.\n  warnings.warn(\n/Users/TAKEI/miniforge3/envs/mypython/lib/python3.9/site-packages/Bio/PDB/StructureBuilder.py:89: PDBConstructionWarning: WARNING: Chain K is discontinuous at line 141823.\n  warnings.warn(\n/Users/TAKEI/miniforge3/envs/mypython/lib/python3.9/site-packages/Bio/PDB/StructureBuilder.py:89: PDBConstructionWarning: WARNING: Chain Z is discontinuous at line 141825.\n  warnings.warn(\n/Users/TAKEI/miniforge3/envs/mypython/lib/python3.9/site-packages/Bio/PDB/StructureBuilder.py:89: PDBConstructionWarning: WARNING: Chain sN1 is discontinuous at line 141826.\n  warnings.warn(\n/Users/TAKEI/miniforge3/envs/mypython/lib/python3.9/site-packages/Bio/PDB/StructureBuilder.py:89: PDBConstructionWarning: WARNING: Chain h is discontinuous at line 141889.\n  warnings.warn(\n/Users/TAKEI/miniforge3/envs/mypython/lib/python3.9/site-packages/Bio/PDB/StructureBuilder.py:89: PDBConstructionWarning: WARNING: Chain j is discontinuous at line 141890.\n  warnings.warn(\n/Users/TAKEI/miniforge3/envs/mypython/lib/python3.9/site-packages/Bio/PDB/StructureBuilder.py:89: PDBConstructionWarning: WARNING: Chain m is discontinuous at line 141891.\n  warnings.warn(\n/Users/TAKEI/miniforge3/envs/mypython/lib/python3.9/site-packages/Bio/PDB/StructureBuilder.py:89: PDBConstructionWarning: WARNING: Chain q is discontinuous at line 141892.\n  warnings.warn(\n/Users/TAKEI/miniforge3/envs/mypython/lib/python3.9/site-packages/Bio/PDB/StructureBuilder.py:89: PDBConstructionWarning: WARNING: Chain s is discontinuous at line 141893.\n  warnings.warn(\n/Users/TAKEI/miniforge3/envs/mypython/lib/python3.9/site-packages/Bio/PDB/StructureBuilder.py:89: PDBConstructionWarning: WARNING: Chain t is discontinuous at line 141896.\n  warnings.warn(\n@> 631 atoms and 1 coordinate set(s) were parsed in 0.00s.\n"
     ]
    },
    {
     "output_type": "execute_result",
     "data": {
      "text/plain": [
       "<AtomGroup: bio_6V39_q (631 atoms)>"
      ]
     },
     "metadata": {},
     "execution_count": 21
    }
   ],
   "source": [
    "biopython_mmcif2pdb('6V39', 'q')"
   ]
  },
  {
   "cell_type": "code",
   "execution_count": 43,
   "metadata": {},
   "outputs": [
    {
     "output_type": "stream",
     "name": "stderr",
     "text": [
      "/Users/TAKEI/miniforge3/envs/mypython/lib/python3.9/site-packages/Bio/PDB/StructureBuilder.py:89: PDBConstructionWarning: WARNING: Chain QA is discontinuous at line 290434.\n  warnings.warn(\n/Users/TAKEI/miniforge3/envs/mypython/lib/python3.9/site-packages/Bio/PDB/StructureBuilder.py:89: PDBConstructionWarning: WARNING: Chain QD is discontinuous at line 290536.\n  warnings.warn(\n/Users/TAKEI/miniforge3/envs/mypython/lib/python3.9/site-packages/Bio/PDB/StructureBuilder.py:89: PDBConstructionWarning: WARNING: Chain QF is discontinuous at line 290537.\n  warnings.warn(\n/Users/TAKEI/miniforge3/envs/mypython/lib/python3.9/site-packages/Bio/PDB/StructureBuilder.py:89: PDBConstructionWarning: WARNING: Chain QH is discontinuous at line 290538.\n  warnings.warn(\n/Users/TAKEI/miniforge3/envs/mypython/lib/python3.9/site-packages/Bio/PDB/StructureBuilder.py:89: PDBConstructionWarning: WARNING: Chain QM is discontinuous at line 290539.\n  warnings.warn(\n/Users/TAKEI/miniforge3/envs/mypython/lib/python3.9/site-packages/Bio/PDB/StructureBuilder.py:89: PDBConstructionWarning: WARNING: Chain QN is discontinuous at line 290540.\n  warnings.warn(\n/Users/TAKEI/miniforge3/envs/mypython/lib/python3.9/site-packages/Bio/PDB/StructureBuilder.py:89: PDBConstructionWarning: WARNING: Chain QV is discontinuous at line 290541.\n  warnings.warn(\n/Users/TAKEI/miniforge3/envs/mypython/lib/python3.9/site-packages/Bio/PDB/StructureBuilder.py:89: PDBConstructionWarning: WARNING: Chain QX is discontinuous at line 290543.\n  warnings.warn(\n/Users/TAKEI/miniforge3/envs/mypython/lib/python3.9/site-packages/Bio/PDB/StructureBuilder.py:89: PDBConstructionWarning: WARNING: Chain RA is discontinuous at line 290545.\n  warnings.warn(\n/Users/TAKEI/miniforge3/envs/mypython/lib/python3.9/site-packages/Bio/PDB/StructureBuilder.py:89: PDBConstructionWarning: WARNING: Chain RB is discontinuous at line 290757.\n  warnings.warn(\n/Users/TAKEI/miniforge3/envs/mypython/lib/python3.9/site-packages/Bio/PDB/StructureBuilder.py:89: PDBConstructionWarning: WARNING: Chain RE is discontinuous at line 290759.\n  warnings.warn(\n/Users/TAKEI/miniforge3/envs/mypython/lib/python3.9/site-packages/Bio/PDB/StructureBuilder.py:89: PDBConstructionWarning: WARNING: Chain RF is discontinuous at line 290761.\n  warnings.warn(\n/Users/TAKEI/miniforge3/envs/mypython/lib/python3.9/site-packages/Bio/PDB/StructureBuilder.py:89: PDBConstructionWarning: WARNING: Chain RP is discontinuous at line 290762.\n  warnings.warn(\n/Users/TAKEI/miniforge3/envs/mypython/lib/python3.9/site-packages/Bio/PDB/StructureBuilder.py:89: PDBConstructionWarning: WARNING: Chain R5 is discontinuous at line 290763.\n  warnings.warn(\n/Users/TAKEI/miniforge3/envs/mypython/lib/python3.9/site-packages/Bio/PDB/StructureBuilder.py:89: PDBConstructionWarning: WARNING: Chain XA is discontinuous at line 290764.\n  warnings.warn(\n/Users/TAKEI/miniforge3/envs/mypython/lib/python3.9/site-packages/Bio/PDB/StructureBuilder.py:89: PDBConstructionWarning: WARNING: Chain XD is discontinuous at line 290869.\n  warnings.warn(\n/Users/TAKEI/miniforge3/envs/mypython/lib/python3.9/site-packages/Bio/PDB/StructureBuilder.py:89: PDBConstructionWarning: WARNING: Chain XM is discontinuous at line 290870.\n  warnings.warn(\n/Users/TAKEI/miniforge3/envs/mypython/lib/python3.9/site-packages/Bio/PDB/StructureBuilder.py:89: PDBConstructionWarning: WARNING: Chain XN is discontinuous at line 290872.\n  warnings.warn(\n/Users/TAKEI/miniforge3/envs/mypython/lib/python3.9/site-packages/Bio/PDB/StructureBuilder.py:89: PDBConstructionWarning: WARNING: Chain XV is discontinuous at line 290873.\n  warnings.warn(\n/Users/TAKEI/miniforge3/envs/mypython/lib/python3.9/site-packages/Bio/PDB/StructureBuilder.py:89: PDBConstructionWarning: WARNING: Chain YA is discontinuous at line 290875.\n  warnings.warn(\n/Users/TAKEI/miniforge3/envs/mypython/lib/python3.9/site-packages/Bio/PDB/StructureBuilder.py:89: PDBConstructionWarning: WARNING: Chain YB is discontinuous at line 291117.\n  warnings.warn(\n/Users/TAKEI/miniforge3/envs/mypython/lib/python3.9/site-packages/Bio/PDB/StructureBuilder.py:89: PDBConstructionWarning: WARNING: Chain YE is discontinuous at line 291119.\n  warnings.warn(\n/Users/TAKEI/miniforge3/envs/mypython/lib/python3.9/site-packages/Bio/PDB/StructureBuilder.py:89: PDBConstructionWarning: WARNING: Chain YX is discontinuous at line 291121.\n  warnings.warn(\n/Users/TAKEI/miniforge3/envs/mypython/lib/python3.9/site-packages/Bio/PDB/StructureBuilder.py:89: PDBConstructionWarning: WARNING: Chain Y5 is discontinuous at line 291122.\n  warnings.warn(\n@> 834 atoms and 1 coordinate set(s) were parsed in 0.01s.\n"
     ]
    }
   ],
   "source": [
    "mol = biopython_mmcif2pdb('1VVJ', 'QQ')"
   ]
  },
  {
   "cell_type": "code",
   "execution_count": 9,
   "metadata": {},
   "outputs": [
    {
     "output_type": "stream",
     "name": "stderr",
     "text": [
      "@> 834 atoms and 1 coordinate set(s) were parsed in 0.02s.\n"
     ]
    },
    {
     "output_type": "execute_result",
     "data": {
      "text/plain": [
       "<AtomGroup: bio_1VVJ_QQQ (834 atoms)>"
      ]
     },
     "metadata": {},
     "execution_count": 9
    }
   ],
   "source": [
    "path = 'bio_1VVJ_QQ.pdb'\n",
    "parsePDB(path, chain='Q')"
   ]
  },
  {
   "cell_type": "code",
   "execution_count": 66,
   "metadata": {},
   "outputs": [],
   "source": [
    "def biopython_parseMMCIF(pdb_id):\n",
    "    parser = MMCIFParser()\n",
    "    structure = parser.get_structure(pdb_id, pdb_id + '.cif')\n",
    "    return structure"
   ]
  },
  {
   "cell_type": "code",
   "execution_count": 90,
   "metadata": {},
   "outputs": [
    {
     "output_type": "stream",
     "name": "stderr",
     "text": [
      "/Users/TAKEI/miniforge3/envs/mypython/lib/python3.9/site-packages/Bio/PDB/StructureBuilder.py:89: PDBConstructionWarning: WARNING: Chain AAA is discontinuous at line 20545.\n  warnings.warn(\n/Users/TAKEI/miniforge3/envs/mypython/lib/python3.9/site-packages/Bio/PDB/StructureBuilder.py:89: PDBConstructionWarning: WARNING: Chain BBB is discontinuous at line 20581.\n  warnings.warn(\n/Users/TAKEI/miniforge3/envs/mypython/lib/python3.9/site-packages/Bio/PDB/StructureBuilder.py:89: PDBConstructionWarning: WARNING: Chain CCC is discontinuous at line 20599.\n  warnings.warn(\n/Users/TAKEI/miniforge3/envs/mypython/lib/python3.9/site-packages/Bio/PDB/StructureBuilder.py:89: PDBConstructionWarning: WARNING: Chain DDD is discontinuous at line 20607.\n  warnings.warn(\n/Users/TAKEI/miniforge3/envs/mypython/lib/python3.9/site-packages/Bio/PDB/StructureBuilder.py:89: PDBConstructionWarning: WARNING: Chain EEE is discontinuous at line 20623.\n  warnings.warn(\n/Users/TAKEI/miniforge3/envs/mypython/lib/python3.9/site-packages/Bio/PDB/StructureBuilder.py:89: PDBConstructionWarning: WARNING: Chain FFF is discontinuous at line 20631.\n  warnings.warn(\n/Users/TAKEI/miniforge3/envs/mypython/lib/python3.9/site-packages/Bio/PDB/StructureBuilder.py:89: PDBConstructionWarning: WARNING: Chain GGG is discontinuous at line 20643.\n  warnings.warn(\n/Users/TAKEI/miniforge3/envs/mypython/lib/python3.9/site-packages/Bio/PDB/StructureBuilder.py:89: PDBConstructionWarning: WARNING: Chain HHH is discontinuous at line 20651.\n  warnings.warn(\n/Users/TAKEI/miniforge3/envs/mypython/lib/python3.9/site-packages/Bio/PDB/StructureBuilder.py:89: PDBConstructionWarning: WARNING: Chain AAA is discontinuous at line 20655.\n  warnings.warn(\n/Users/TAKEI/miniforge3/envs/mypython/lib/python3.9/site-packages/Bio/PDB/StructureBuilder.py:89: PDBConstructionWarning: WARNING: Chain BBB is discontinuous at line 20718.\n  warnings.warn(\n/Users/TAKEI/miniforge3/envs/mypython/lib/python3.9/site-packages/Bio/PDB/StructureBuilder.py:89: PDBConstructionWarning: WARNING: Chain CCC is discontinuous at line 20774.\n  warnings.warn(\n/Users/TAKEI/miniforge3/envs/mypython/lib/python3.9/site-packages/Bio/PDB/StructureBuilder.py:89: PDBConstructionWarning: WARNING: Chain DDD is discontinuous at line 20812.\n  warnings.warn(\n/Users/TAKEI/miniforge3/envs/mypython/lib/python3.9/site-packages/Bio/PDB/StructureBuilder.py:89: PDBConstructionWarning: WARNING: Chain EEE is discontinuous at line 20864.\n  warnings.warn(\n/Users/TAKEI/miniforge3/envs/mypython/lib/python3.9/site-packages/Bio/PDB/StructureBuilder.py:89: PDBConstructionWarning: WARNING: Chain FFF is discontinuous at line 20893.\n  warnings.warn(\n/Users/TAKEI/miniforge3/envs/mypython/lib/python3.9/site-packages/Bio/PDB/StructureBuilder.py:89: PDBConstructionWarning: WARNING: Chain GGG is discontinuous at line 20918.\n  warnings.warn(\n/Users/TAKEI/miniforge3/envs/mypython/lib/python3.9/site-packages/Bio/PDB/StructureBuilder.py:89: PDBConstructionWarning: WARNING: Chain HHH is discontinuous at line 20934.\n  warnings.warn(\n"
     ]
    }
   ],
   "source": [
    "structure = biopython_parseMMCIF('6zzr')\n",
    "sel_structure = structure[0]['AAA']"
   ]
  },
  {
   "cell_type": "code",
   "execution_count": 93,
   "metadata": {},
   "outputs": [
    {
     "output_type": "stream",
     "name": "stderr",
     "text": [
      "/Users/TAKEI/miniforge3/envs/mypython/lib/python3.9/site-packages/Bio/PDB/StructureBuilder.py:89: PDBConstructionWarning: WARNING: Chain AAA is discontinuous at line 20545.\n  warnings.warn(\n/Users/TAKEI/miniforge3/envs/mypython/lib/python3.9/site-packages/Bio/PDB/StructureBuilder.py:89: PDBConstructionWarning: WARNING: Chain BBB is discontinuous at line 20581.\n  warnings.warn(\n/Users/TAKEI/miniforge3/envs/mypython/lib/python3.9/site-packages/Bio/PDB/StructureBuilder.py:89: PDBConstructionWarning: WARNING: Chain CCC is discontinuous at line 20599.\n  warnings.warn(\n/Users/TAKEI/miniforge3/envs/mypython/lib/python3.9/site-packages/Bio/PDB/StructureBuilder.py:89: PDBConstructionWarning: WARNING: Chain DDD is discontinuous at line 20607.\n  warnings.warn(\n/Users/TAKEI/miniforge3/envs/mypython/lib/python3.9/site-packages/Bio/PDB/StructureBuilder.py:89: PDBConstructionWarning: WARNING: Chain EEE is discontinuous at line 20623.\n  warnings.warn(\n/Users/TAKEI/miniforge3/envs/mypython/lib/python3.9/site-packages/Bio/PDB/StructureBuilder.py:89: PDBConstructionWarning: WARNING: Chain FFF is discontinuous at line 20631.\n  warnings.warn(\n/Users/TAKEI/miniforge3/envs/mypython/lib/python3.9/site-packages/Bio/PDB/StructureBuilder.py:89: PDBConstructionWarning: WARNING: Chain GGG is discontinuous at line 20643.\n  warnings.warn(\n/Users/TAKEI/miniforge3/envs/mypython/lib/python3.9/site-packages/Bio/PDB/StructureBuilder.py:89: PDBConstructionWarning: WARNING: Chain HHH is discontinuous at line 20651.\n  warnings.warn(\n/Users/TAKEI/miniforge3/envs/mypython/lib/python3.9/site-packages/Bio/PDB/StructureBuilder.py:89: PDBConstructionWarning: WARNING: Chain AAA is discontinuous at line 20655.\n  warnings.warn(\n/Users/TAKEI/miniforge3/envs/mypython/lib/python3.9/site-packages/Bio/PDB/StructureBuilder.py:89: PDBConstructionWarning: WARNING: Chain BBB is discontinuous at line 20718.\n  warnings.warn(\n/Users/TAKEI/miniforge3/envs/mypython/lib/python3.9/site-packages/Bio/PDB/StructureBuilder.py:89: PDBConstructionWarning: WARNING: Chain CCC is discontinuous at line 20774.\n  warnings.warn(\n/Users/TAKEI/miniforge3/envs/mypython/lib/python3.9/site-packages/Bio/PDB/StructureBuilder.py:89: PDBConstructionWarning: WARNING: Chain DDD is discontinuous at line 20812.\n  warnings.warn(\n/Users/TAKEI/miniforge3/envs/mypython/lib/python3.9/site-packages/Bio/PDB/StructureBuilder.py:89: PDBConstructionWarning: WARNING: Chain EEE is discontinuous at line 20864.\n  warnings.warn(\n/Users/TAKEI/miniforge3/envs/mypython/lib/python3.9/site-packages/Bio/PDB/StructureBuilder.py:89: PDBConstructionWarning: WARNING: Chain FFF is discontinuous at line 20893.\n  warnings.warn(\n/Users/TAKEI/miniforge3/envs/mypython/lib/python3.9/site-packages/Bio/PDB/StructureBuilder.py:89: PDBConstructionWarning: WARNING: Chain GGG is discontinuous at line 20918.\n  warnings.warn(\n/Users/TAKEI/miniforge3/envs/mypython/lib/python3.9/site-packages/Bio/PDB/StructureBuilder.py:89: PDBConstructionWarning: WARNING: Chain HHH is discontinuous at line 20934.\n  warnings.warn(\n@> 2667 atoms and 1 coordinate set(s) were parsed in 0.03s.\n"
     ]
    },
    {
     "output_type": "execute_result",
     "data": {
      "text/plain": [
       "<AtomGroup: bio_6zzr_AAA (2667 atoms)>"
      ]
     },
     "metadata": {},
     "execution_count": 93
    }
   ],
   "source": [
    "biopython_mmcif2pdb('6zzr', 'AAA')"
   ]
  },
  {
   "cell_type": "code",
   "execution_count": 67,
   "metadata": {},
   "outputs": [
    {
     "output_type": "stream",
     "name": "stderr",
     "text": [
      "/Users/TAKEI/miniforge3/envs/mypython/lib/python3.9/site-packages/Bio/PDB/StructureBuilder.py:89: PDBConstructionWarning: WARNING: Chain 5 is discontinuous at line 221516.\n  warnings.warn(\n/Users/TAKEI/miniforge3/envs/mypython/lib/python3.9/site-packages/Bio/PDB/StructureBuilder.py:89: PDBConstructionWarning: WARNING: Chain 7 is discontinuous at line 221634.\n  warnings.warn(\n/Users/TAKEI/miniforge3/envs/mypython/lib/python3.9/site-packages/Bio/PDB/StructureBuilder.py:89: PDBConstructionWarning: WARNING: Chain 8 is discontinuous at line 221639.\n  warnings.warn(\n/Users/TAKEI/miniforge3/envs/mypython/lib/python3.9/site-packages/Bio/PDB/StructureBuilder.py:89: PDBConstructionWarning: WARNING: Chain P is discontinuous at line 221643.\n  warnings.warn(\n/Users/TAKEI/miniforge3/envs/mypython/lib/python3.9/site-packages/Bio/PDB/StructureBuilder.py:89: PDBConstructionWarning: WARNING: Chain V is discontinuous at line 221644.\n  warnings.warn(\n/Users/TAKEI/miniforge3/envs/mypython/lib/python3.9/site-packages/Bio/PDB/StructureBuilder.py:89: PDBConstructionWarning: WARNING: Chain j is discontinuous at line 221645.\n  warnings.warn(\n/Users/TAKEI/miniforge3/envs/mypython/lib/python3.9/site-packages/Bio/PDB/StructureBuilder.py:89: PDBConstructionWarning: WARNING: Chain m is discontinuous at line 221646.\n  warnings.warn(\n/Users/TAKEI/miniforge3/envs/mypython/lib/python3.9/site-packages/Bio/PDB/StructureBuilder.py:89: PDBConstructionWarning: WARNING: Chain o is discontinuous at line 221647.\n  warnings.warn(\n/Users/TAKEI/miniforge3/envs/mypython/lib/python3.9/site-packages/Bio/PDB/StructureBuilder.py:89: PDBConstructionWarning: WARNING: Chain 4 is discontinuous at line 221648.\n  warnings.warn(\n/Users/TAKEI/miniforge3/envs/mypython/lib/python3.9/site-packages/Bio/PDB/StructureBuilder.py:89: PDBConstructionWarning: WARNING: Chain S2 is discontinuous at line 221649.\n  warnings.warn(\n/Users/TAKEI/miniforge3/envs/mypython/lib/python3.9/site-packages/Bio/PDB/StructureBuilder.py:89: PDBConstructionWarning: WARNING: Chain Sa is discontinuous at line 221685.\n  warnings.warn(\n"
     ]
    }
   ],
   "source": [
    "structure = biopython_parseMMCIF('3j7p')"
   ]
  },
  {
   "cell_type": "code",
   "execution_count": 94,
   "metadata": {},
   "outputs": [
    {
     "output_type": "stream",
     "name": "stderr",
     "text": [
      "/Users/TAKEI/miniforge3/envs/mypython/lib/python3.9/site-packages/Bio/PDB/StructureBuilder.py:89: PDBConstructionWarning: WARNING: Chain 5 is discontinuous at line 221516.\n  warnings.warn(\n/Users/TAKEI/miniforge3/envs/mypython/lib/python3.9/site-packages/Bio/PDB/StructureBuilder.py:89: PDBConstructionWarning: WARNING: Chain 7 is discontinuous at line 221634.\n  warnings.warn(\n/Users/TAKEI/miniforge3/envs/mypython/lib/python3.9/site-packages/Bio/PDB/StructureBuilder.py:89: PDBConstructionWarning: WARNING: Chain 8 is discontinuous at line 221639.\n  warnings.warn(\n/Users/TAKEI/miniforge3/envs/mypython/lib/python3.9/site-packages/Bio/PDB/StructureBuilder.py:89: PDBConstructionWarning: WARNING: Chain P is discontinuous at line 221643.\n  warnings.warn(\n/Users/TAKEI/miniforge3/envs/mypython/lib/python3.9/site-packages/Bio/PDB/StructureBuilder.py:89: PDBConstructionWarning: WARNING: Chain V is discontinuous at line 221644.\n  warnings.warn(\n/Users/TAKEI/miniforge3/envs/mypython/lib/python3.9/site-packages/Bio/PDB/StructureBuilder.py:89: PDBConstructionWarning: WARNING: Chain j is discontinuous at line 221645.\n  warnings.warn(\n/Users/TAKEI/miniforge3/envs/mypython/lib/python3.9/site-packages/Bio/PDB/StructureBuilder.py:89: PDBConstructionWarning: WARNING: Chain m is discontinuous at line 221646.\n  warnings.warn(\n/Users/TAKEI/miniforge3/envs/mypython/lib/python3.9/site-packages/Bio/PDB/StructureBuilder.py:89: PDBConstructionWarning: WARNING: Chain o is discontinuous at line 221647.\n  warnings.warn(\n/Users/TAKEI/miniforge3/envs/mypython/lib/python3.9/site-packages/Bio/PDB/StructureBuilder.py:89: PDBConstructionWarning: WARNING: Chain 4 is discontinuous at line 221648.\n  warnings.warn(\n/Users/TAKEI/miniforge3/envs/mypython/lib/python3.9/site-packages/Bio/PDB/StructureBuilder.py:89: PDBConstructionWarning: WARNING: Chain S2 is discontinuous at line 221649.\n  warnings.warn(\n/Users/TAKEI/miniforge3/envs/mypython/lib/python3.9/site-packages/Bio/PDB/StructureBuilder.py:89: PDBConstructionWarning: WARNING: Chain Sa is discontinuous at line 221685.\n  warnings.warn(\n@> 1454 atoms and 1 coordinate set(s) were parsed in 0.02s.\n"
     ]
    },
    {
     "output_type": "execute_result",
     "data": {
      "text/plain": [
       "<AtomGroup: bio_3j7p_S (1454 atoms)>"
      ]
     },
     "metadata": {},
     "execution_count": 94
    }
   ],
   "source": [
    "biopython_mmcif2pdb('3j7p', 'S')"
   ]
  },
  {
   "cell_type": "code",
   "execution_count": 95,
   "metadata": {},
   "outputs": [
    {
     "output_type": "stream",
     "name": "stderr",
     "text": [
      "/Users/TAKEI/miniforge3/envs/mypython/lib/python3.9/site-packages/Bio/PDB/StructureBuilder.py:89: PDBConstructionWarning: WARNING: Chain 5 is discontinuous at line 221516.\n",
      "  warnings.warn(\n",
      "/Users/TAKEI/miniforge3/envs/mypython/lib/python3.9/site-packages/Bio/PDB/StructureBuilder.py:89: PDBConstructionWarning: WARNING: Chain 7 is discontinuous at line 221634.\n",
      "  warnings.warn(\n",
      "/Users/TAKEI/miniforge3/envs/mypython/lib/python3.9/site-packages/Bio/PDB/StructureBuilder.py:89: PDBConstructionWarning: WARNING: Chain 8 is discontinuous at line 221639.\n",
      "  warnings.warn(\n",
      "/Users/TAKEI/miniforge3/envs/mypython/lib/python3.9/site-packages/Bio/PDB/StructureBuilder.py:89: PDBConstructionWarning: WARNING: Chain P is discontinuous at line 221643.\n",
      "  warnings.warn(\n",
      "/Users/TAKEI/miniforge3/envs/mypython/lib/python3.9/site-packages/Bio/PDB/StructureBuilder.py:89: PDBConstructionWarning: WARNING: Chain V is discontinuous at line 221644.\n",
      "  warnings.warn(\n",
      "/Users/TAKEI/miniforge3/envs/mypython/lib/python3.9/site-packages/Bio/PDB/StructureBuilder.py:89: PDBConstructionWarning: WARNING: Chain j is discontinuous at line 221645.\n",
      "  warnings.warn(\n",
      "/Users/TAKEI/miniforge3/envs/mypython/lib/python3.9/site-packages/Bio/PDB/StructureBuilder.py:89: PDBConstructionWarning: WARNING: Chain m is discontinuous at line 221646.\n",
      "  warnings.warn(\n",
      "/Users/TAKEI/miniforge3/envs/mypython/lib/python3.9/site-packages/Bio/PDB/StructureBuilder.py:89: PDBConstructionWarning: WARNING: Chain o is discontinuous at line 221647.\n",
      "  warnings.warn(\n",
      "/Users/TAKEI/miniforge3/envs/mypython/lib/python3.9/site-packages/Bio/PDB/StructureBuilder.py:89: PDBConstructionWarning: WARNING: Chain 4 is discontinuous at line 221648.\n",
      "  warnings.warn(\n",
      "/Users/TAKEI/miniforge3/envs/mypython/lib/python3.9/site-packages/Bio/PDB/StructureBuilder.py:89: PDBConstructionWarning: WARNING: Chain S2 is discontinuous at line 221649.\n",
      "  warnings.warn(\n",
      "/Users/TAKEI/miniforge3/envs/mypython/lib/python3.9/site-packages/Bio/PDB/StructureBuilder.py:89: PDBConstructionWarning: WARNING: Chain Sa is discontinuous at line 221685.\n",
      "  warnings.warn(\n",
      "@> 78604 atoms and 1 coordinate set(s) were parsed in 0.38s.\n"
     ]
    },
    {
     "output_type": "execute_result",
     "data": {
      "text/plain": [
       "<AtomGroup: bio_3j7p_5 (78604 atoms)>"
      ]
     },
     "metadata": {},
     "execution_count": 95
    }
   ],
   "source": [
    "biopython_mmcif2pdb('3j7p', '5')"
   ]
  },
  {
   "cell_type": "code",
   "execution_count": null,
   "metadata": {},
   "outputs": [],
   "source": []
  }
 ]
}