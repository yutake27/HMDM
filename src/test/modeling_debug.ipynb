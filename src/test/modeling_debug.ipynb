{
 "metadata": {
  "language_info": {
   "codemirror_mode": {
    "name": "ipython",
    "version": 3
   },
   "file_extension": ".py",
   "mimetype": "text/x-python",
   "name": "python",
   "nbconvert_exporter": "python",
   "pygments_lexer": "ipython3",
   "version": "3.9.1-final"
  },
  "orig_nbformat": 2,
  "kernelspec": {
   "name": "python3",
   "display_name": "Python 3",
   "language": "python"
  }
 },
 "nbformat": 4,
 "nbformat_minor": 2,
 "cells": [
  {
   "source": [
    "# debug modeling"
   ],
   "cell_type": "markdown",
   "metadata": {}
  },
  {
   "cell_type": "code",
   "execution_count": 13,
   "metadata": {},
   "outputs": [],
   "source": [
    "from pathlib import Path\n",
    "\n",
    "import time\n",
    "import shutil\n",
    "import numpy as np\n",
    "import pandas as pd\n",
    "from Bio import SearchIO, SeqIO, SeqRecord, pairwise2\n",
    "from Bio.Seq import Seq\n",
    "from prody import parsePDB, writePDB"
   ]
  },
  {
   "cell_type": "code",
   "execution_count": 8,
   "metadata": {},
   "outputs": [],
   "source": [
    "def correct_pdb_resnums(mol):\n",
    "    \"\"\"correct pdb residue number such as 1A,1B, and 1C\n",
    "\n",
    "    Args:\n",
    "        mol (prody.atomic.atomgroup.AtomGroup): pdb mol\n",
    "\n",
    "    Returns:\n",
    "        np.ndarray : correct residue number\n",
    "    \"\"\"\n",
    "    new_resnum_list = []\n",
    "    plus = 0\n",
    "    resnum_before = float('inf')\n",
    "    resid_before = float('inf')\n",
    "    for resnum, resid in zip(mol.getResnums(), mol.getResindices()):\n",
    "        if resnum_before == resnum and resid_before != resid:\n",
    "            plus += 1\n",
    "        new_resnum_list.append(resnum + plus)\n",
    "        resnum_before = resnum\n",
    "        resid_before = resid\n",
    "    return np.array(new_resnum_list)\n",
    "\n",
    "def remove_pdb_resnum_alphabet(pdb_file: str):\n",
    "    \"\"\"remove the alphabet from the residue number in pdb file\n",
    "\n",
    "    Args:\n",
    "        pdb_file (str) : pdb file path\n",
    "    \"\"\"\n",
    "    with open(pdb_file, 'r') as f:\n",
    "        lines = f.readlines()\n",
    "        lines = list(filter(lambda line: len(line) > 0, lines))\n",
    "        for i, line in enumerate(lines):\n",
    "            if i > 0:\n",
    "                line = line[:26] + ' ' + line[27:]\n",
    "                lines[i] = line\n",
    "    with open(pdb_file, 'w') as f:\n",
    "        f.writelines(lines)\n",
    "\n",
    "def download_template_pdb(pdb_id):\n",
    "    template_pdb_dir = Path('template_pdb')\n",
    "    template_pdb_file = (template_pdb_dir / pdb_id).with_suffix('.pdb')\n",
    "    if not template_pdb_file.exists():\n",
    "        pdb_file = str(Path(pdb_id.lower()).with_suffix('.pdb'))\n",
    "        mol = parsePDB(pdb_id, compressed=False)\n",
    "        correct_resnums = correct_pdb_resnums(mol)\n",
    "        mol.setResnums(correct_resnums)\n",
    "        mol = mol.select('not hetatm')\n",
    "        writePDB(pdb_file, mol)\n",
    "        remove_pdb_resnum_alphabet(pdb_file)\n",
    "        shutil.move(pdb_file, template_pdb_file)\n",
    "        time.sleep(3)\n",
    "    return template_pdb_file"
   ]
  },
  {
   "cell_type": "code",
   "execution_count": 17,
   "metadata": {},
   "outputs": [],
   "source": [
    "def convert_mol_to_seq(mol):\n",
    "    resindices = mol.getResindices()\n",
    "    resindices_diff = np.diff(resindices, prepend=float('inf'))\n",
    "    res_start_indices = np.where(resindices_diff != 0)[0]\n",
    "    seq = ''.join(np.array(list(mol.getSequence()))[res_start_indices])\n",
    "    resnums = mol.getResnums()[res_start_indices]\n",
    "    return seq, resnums\n",
    "\n",
    "def convert_pdb_to_seq(pdb_path, chain):\n",
    "    mol = parsePDB(pdb_path, chain=chain).select('not hetatm')\n",
    "    seq, resnums = convert_mol_to_seq(mol)\n",
    "    return seq, resnums"
   ]
  },
  {
   "cell_type": "code",
   "execution_count": 14,
   "metadata": {},
   "outputs": [],
   "source": [
    "pdb_path = download_template_pdb('2ZCM')"
   ]
  },
  {
   "cell_type": "code",
   "execution_count": 23,
   "metadata": {},
   "outputs": [
    {
     "output_type": "stream",
     "name": "stderr",
     "text": [
      "@> 1470 atoms and 1 coordinate set(s) were parsed in 0.01s.\n"
     ]
    },
    {
     "output_type": "execute_result",
     "data": {
      "text/plain": [
       "('KDKIIDNAITLFSEKGYDGTTLDDISKSVNIKKASLYYHYDNKEEIYRKSVENCFNYFIDFYSIDGLYQFLFKFIFDVDERYIKLYVQLSSAPEALNSEIKHHLQEINTTLHDELIKYYDPTHIALDKEDFINILFLETWYFRASFSQKFGIIEDSKNRFKDQVYSLLNVFLK',\n",
       " array([  2,   3,   4,   5,   6,   7,   8,   9,  10,  11,  12,  13,  14,\n",
       "         15,  16,  17,  18,  19,  20,  21,  22,  23,  24,  25,  26,  27,\n",
       "         28,  29,  30,  31,  32,  33,  34,  35,  36,  37,  38,  39,  40,\n",
       "         41,  42,  43,  44,  45,  46,  47,  48,  49,  50,  51,  52,  53,\n",
       "         54,  55,  56,  57,  58,  59,  60,  61,  62,  71,  72,  73,  74,\n",
       "         75,  76,  77,  78,  79,  80,  81,  82,  83,  84,  85,  86,  87,\n",
       "         88,  89,  90,  91,  92,  93,  94,  95,  96,  97,  98,  99, 100,\n",
       "        101, 102, 103, 104, 105, 106, 107, 108, 109, 110, 111, 112, 113,\n",
       "        114, 115, 116, 117, 118, 119, 120, 121, 122, 123, 124, 125, 126,\n",
       "        127, 128, 129, 130, 131, 132, 133, 134, 135, 136, 137, 138, 139,\n",
       "        140, 141, 142, 144, 145, 147, 148, 149, 150, 151, 152, 153, 154,\n",
       "        155, 156, 157, 158, 159, 160, 161, 162, 163, 164, 165, 166, 167,\n",
       "        168, 169, 170, 171, 172, 173, 174, 175, 176, 177, 178, 179, 180,\n",
       "        181, 182, 183, 184]))"
      ]
     },
     "metadata": {},
     "execution_count": 23
    }
   ],
   "source": [
    "convert_pdb_to_seq(pdb_path, 'A')"
   ]
  },
  {
   "cell_type": "code",
   "execution_count": 18,
   "metadata": {},
   "outputs": [
    {
     "output_type": "stream",
     "name": "stderr",
     "text": [
      "@> Connecting wwPDB FTP server RCSB PDB (USA).\n",
      "@> 2zcm downloaded (2zcm.pdb.gz)\n",
      "@> PDB download via FTP completed (1 downloaded, 0 failed).\n",
      "@> 3888 atoms and 1 coordinate set(s) were parsed in 0.02s.\n"
     ]
    }
   ],
   "source": [
    "mol = parsePDB('2ZCM')"
   ]
  },
  {
   "cell_type": "code",
   "execution_count": 19,
   "metadata": {},
   "outputs": [
    {
     "output_type": "execute_result",
     "data": {
      "text/plain": [
       "('MKDKIIDNAITLFSEKGYDGTTLDDISKSVNIKKASLYYHYDNKEEIYRKSVENCFNYFIDFMYSIDGLYQFLFKFIFDVDERYIKLYVQLSSAPEALNSEIKHHLQEINTTLHDELIKYYDPTHIALDKEDFINMILMFLETWYFRASFSQKFGIIEDSKNRFKDQVYSLLNVFLKMKDKIIDNAITLFSEKGYDGTTLDDISKSVNIKKASLYYHYDNKEEIYRKSVENCFNYFIDFMMRNYSIDGLYQFLFKFIFDVDERYIKLYVQLSSAPEALNSEIKHHLQEINTTLHDELIKYYDPTHIALDKEDFINMILMFLETWYFRASFSQKFGIIEDSKNRFKDQVYSLLNVFLKXXXXXXXXXXXXXXXXXXXXXXXXXXXXXXXXXXXXXXXXXXXXXXXXXXXXXXXXXXXXXXXXXXXXXXXXXXXXXXXXXXXXXXXXXXXXXXXXXXXXXXXXXXXXXXXXXXXXXXXXXXXXXXXXXXXXXXXXXXXXXXXXXXXXXXXXXXXXXXXXXXXXXXXXXXXXXXXXXXXXXXXXXXXXXXXXXXXXXXXXXXXXXXXXXXXXXXXXXXXXXXXXXXXXXXXXXXXXXXXXXXXXXXXXXXXXXXXXXXXXXXXXXXXXXXXXXXXXXXXXXXXXXXXXXXXXXXXXXXXXXXXXXXXXXXXXXXXXXXXXXXXXXXXXXXXXXXXXXXXXXXXXXXXXXXXXXXXXXXXXXXXXXXXXXXXXXXXXXXXXXXXXXXXXXXXXXXXXXXXXXXXXXXXXXXXXXXXXXXXXXXXXXXXXXXXXXXXXXXXXXXXXXXXXXXXXXXXXXXXXXXXXXXXXXXXXXXXXXXXXXXXXXXXXXXXXXXXXXXXXXXXXXXXXXXXXXXXXXXXXXXXXXXXXXXXXXXXXXXXXXXXXXXXXXXXXXXXXXXXXXXXXXXXXXXXXXXXXXXXXXXXXXXXXXXXXXXXXXXXXXXXXXXXXXXXXXXXXXXXXXXXXXXXXXXXXXXXXXXXXXXXXXXXXXXXXXXXXXXXXXXXXXXXXXXXXXXXXXXXXXXXXXXXXXXXXXXXXXXXXXXXXXXXXXXXXXXXXXXXXXXXXXXXXXXXXXXXXXXXXXXXXXXXXXXXXXXXXXXXXXXXXXXXXXXXXXXXXXXXXXXXXXXXXXXXXXXXXXXXXXXXXXXXXXXXXXXXXXXXXXXXXXXXXXXXXXXXXXXXXXXXXXXXXXXXXXXXXX',\n",
       " array([   1,    2,    3, ..., 1038, 1039, 1041]))"
      ]
     },
     "metadata": {},
     "execution_count": 19
    }
   ],
   "source": [
    "convert_mol_to_seq(mol)"
   ]
  },
  {
   "cell_type": "code",
   "execution_count": 22,
   "metadata": {},
   "outputs": [],
   "source": [
    "def get_max_serial_position(np_array):\n",
    "    start, end = 0, 0\n",
    "    max_serial_len, tmp_len = 0, 0\n",
    "    b_num = -2\n",
    "    for i, num in enumerate(np_array):\n",
    "        if num == b_num + 1:\n",
    "            tmp_len += 1\n",
    "        else:\n",
    "            tmp_len = 1\n",
    "            tmp_start = i\n",
    "        b_num = num\n",
    "        tmp_end = i\n",
    "        if max_serial_len < tmp_len:\n",
    "            start = tmp_start\n",
    "            end = tmp_end\n",
    "            max_serial_len = tmp_len\n",
    "    return start, end\n",
    "\n",
    "def align_seq(hseq, tseq):\n",
    "    alignment_list = pairwise2.align.globalms(hseq, tseq, 5, -10, -2, -1)\n",
    "    alignment = None\n",
    "    var_indices_min = float('inf')\n",
    "    for a in alignment_list:\n",
    "        var_indices = np.var(np.where(np.array(list(a.seqA)) != '-')[0])\n",
    "        if var_indices < var_indices_min:\n",
    "            alignment = a\n",
    "            var_indices_min = var_indices\n",
    "    align_hseq, align_tseq = np.array(list(alignment.seqA)), np.array(list(alignment.seqB))\n",
    "    align_hseq, align_tseq = align_hseq[np.where(align_tseq != '-')], align_tseq[np.where(align_hseq != '-')]\n",
    "    align_hindices = np.where(align_tseq != '-')[0]\n",
    "    align_tindices = np.where(align_hseq != '-')[0]\n",
    "    t_start, t_end = get_max_serial_position(align_tindices)\n",
    "    if t_end - t_start + 1 < len(hseq) * 0.8:\n",
    "        raise(ValueError)\n",
    "    t_not_serial = np.delete(np.arange(len(align_tindices)), np.arange(t_start, t_end + 1), 0)\n",
    "    align_hindices = np.delete(align_hindices, t_not_serial, 0)\n",
    "    align_tindices = np.delete(align_tindices, t_not_serial, 0)\n",
    "    align_tseq[t_not_serial] = '-'\n",
    "    return align_hseq, align_tseq, align_hindices, align_tindices"
   ]
  },
  {
   "cell_type": "code",
   "execution_count": 24,
   "metadata": {},
   "outputs": [],
   "source": [
    "tseq = 'KDKIIDNAITLFSEKGYDGTTLDDISKSVNIKKASLYYHYDNKEEIYRKSVENCFNYFIDFYSIDGLYQFLFKFIFDVDERYIKLYVQLSSAPEALNSEIKHHLQEINTTLHDELIKYYDPTHIALDKEDFINILFLETWYFRASFSQKFGIIEDSKNRFKDQVYSLLNVFLK'\n",
    "hseq = 'KDKIIDNAITLFSEKGYDGTTLDDISKSVNIKKASLYYHYDNKEEIYRKSVENCFNYFIDFXXRNHDDNYSIDG'"
   ]
  },
  {
   "cell_type": "code",
   "execution_count": 25,
   "metadata": {},
   "outputs": [
    {
     "output_type": "execute_result",
     "data": {
      "text/plain": [
       "(array(['K', 'D', 'K', 'I', 'I', 'D', 'N', 'A', 'I', 'T', 'L', 'F', 'S',\n",
       "        'E', 'K', 'G', 'Y', 'D', 'G', 'T', 'T', 'L', 'D', 'D', 'I', 'S',\n",
       "        'K', 'S', 'V', 'N', 'I', 'K', 'K', 'A', 'S', 'L', 'Y', 'Y', 'H',\n",
       "        'Y', 'D', 'N', 'K', 'E', 'E', 'I', 'Y', 'R', 'K', 'S', 'V', 'E',\n",
       "        'N', 'C', 'F', 'N', 'Y', 'F', 'I', 'D', 'F', '-', '-', '-', '-',\n",
       "        '-', '-', '-', '-', '-', '-', '-', '-', '-', '-', '-', '-', '-',\n",
       "        '-', '-', 'R', '-', '-', '-', '-', '-', '-', '-', '-', '-', '-',\n",
       "        '-', '-', '-', '-', '-', 'N', '-', '-', '-', '-', '-', '-', '-',\n",
       "        '-', '-', '-', '-', '-', '-', '-', 'H', 'D', '-', '-', '-', '-',\n",
       "        '-', '-', 'D', '-', '-', '-', '-', '-', '-', '-', '-', '-', '-',\n",
       "        '-', '-', 'N', '-', '-', '-', '-', '-', '-', '-', 'Y', '-', '-',\n",
       "        '-', 'S', '-', '-', '-', '-', '-', '-', 'I', '-', '-', 'D', '-',\n",
       "        '-', '-', '-', '-', '-', '-', '-', '-', '-', '-', '-', '-', '-',\n",
       "        '-', '-', '-', '-'], dtype='<U1'),\n",
       " array(['K', 'D', 'K', 'I', 'I', 'D', 'N', 'A', 'I', 'T', 'L', 'F', 'S',\n",
       "        'E', 'K', 'G', 'Y', 'D', 'G', 'T', 'T', 'L', 'D', 'D', 'I', 'S',\n",
       "        'K', 'S', 'V', 'N', 'I', 'K', 'K', 'A', 'S', 'L', 'Y', 'Y', 'H',\n",
       "        'Y', 'D', 'N', 'K', 'E', 'E', 'I', 'Y', 'R', 'K', 'S', 'V', 'E',\n",
       "        'N', 'C', 'F', 'N', 'Y', 'F', 'I', 'D', 'F', '-', '-', '-', '-',\n",
       "        '-', '-', '-', '-', '-', '-', 'I', 'D', '-'], dtype='<U1'),\n",
       " array([ 0,  1,  2,  3,  4,  5,  6,  7,  8,  9, 10, 11, 12, 13, 14, 15, 16,\n",
       "        17, 18, 19, 20, 21, 22, 23, 24, 25, 26, 27, 28, 29, 30, 31, 32, 33,\n",
       "        34, 35, 36, 37, 38, 39, 40, 41, 42, 43, 44, 45, 46, 47, 48, 49, 50,\n",
       "        51, 52, 53, 54, 55, 56, 57, 58, 59, 60]),\n",
       " array([ 0,  1,  2,  3,  4,  5,  6,  7,  8,  9, 10, 11, 12, 13, 14, 15, 16,\n",
       "        17, 18, 19, 20, 21, 22, 23, 24, 25, 26, 27, 28, 29, 30, 31, 32, 33,\n",
       "        34, 35, 36, 37, 38, 39, 40, 41, 42, 43, 44, 45, 46, 47, 48, 49, 50,\n",
       "        51, 52, 53, 54, 55, 56, 57, 58, 59, 60]))"
      ]
     },
     "metadata": {},
     "execution_count": 25
    }
   ],
   "source": [
    "align_seq(hseq, tseq)"
   ]
  },
  {
   "cell_type": "code",
   "execution_count": 26,
   "metadata": {},
   "outputs": [
    {
     "output_type": "stream",
     "name": "stderr",
     "text": [
      "@> Connecting wwPDB FTP server RCSB PDB (USA).\n",
      "@> 1qdm downloaded (1qdm.pdb)\n",
      "@> PDB download via FTP completed (1 downloaded, 0 failed).\n",
      "@> 9336 atoms and 1 coordinate set(s) were parsed in 0.06s.\n"
     ]
    }
   ],
   "source": [
    "pdb_path = download_template_pdb('1QDM')"
   ]
  },
  {
   "cell_type": "code",
   "execution_count": 27,
   "metadata": {},
   "outputs": [
    {
     "output_type": "stream",
     "name": "stderr",
     "text": [
      "@> 9336 atoms and 1 coordinate set(s) were parsed in 0.04s.\n"
     ]
    }
   ],
   "source": [
    "mol = parsePDB(pdb_path)"
   ]
  },
  {
   "cell_type": "code",
   "execution_count": 29,
   "metadata": {},
   "outputs": [
    {
     "output_type": "execute_result",
     "data": {
      "text/plain": [
       "('VRIALKKRPIDRNSRVATGLSGEEEGDIVALKNYMNAQYFGEIGVGTPPQKFTVIFDTGSSNLWVPSAKCYFSIACYLHSRYKAGASSTYKKNGKPAAIQYGTGSIAGYFSEDSVTVGDLVVKDQEFIEATKEPGITFLVAKFDGILGLGFKEISVGKAVPVWYKMIEQGLVSDPVFSFWLNRHVGGEIIFGGMDPKHYVGEHTYVPVTQKGYWQFDMGDVLVGGKSTGFCAGGCAAIADSGTSLLAGPTAIITEINEKIGAAGVVSQECKTIVSQYGQQILDLLLAETQPKKICSQVGLCTADPMCSACEMAVVWMQNQLAQNKTQDLILDYVNQLCNRLPSPMGESAVDCGSLGSMPDIEFTIGGKKFALKPEEYILKVGEGAAAQCISGFTAMDIPPPRGPLWILGDVFMGPYHTVFDYGKLRIGFAKAAVRIALKKRPIDRNSRVATGLSGEEEGDIVALKNYMNAQYFGEIGVGTPPQKFTVIFDTGSSNLWVPSAKCYFSIACYLHSRYKAGASSTYKKNGKPAAIQYGTGSIAGYFSEDSVTVGDLVVKDQEFIEATKEPGITFLVAKFDGILGLGFKEISVGKAVPVWYKMIEQGLVSDPVFSFWLNRHVGGEIIFGGMDPKHYVGEHTYVPVTQKGYWQFDMGDVLVGGKSTGFCAGGCAAIADSGTSLLAGPTAIITEINEKIGAAGVVSQECKTIVSQYGQQILDLLLAETQPKKICSQVGLCTADPMCSACEMAVVWMQNQLAQNKTQDLILDYVNQLCNRLPSPMGESAVDCGSLGSMPDIEFTIGGKKFALKPEEYILKVGEGAAAQCISGFTAMDIPPPRGPLWILGDVFMGPYHTVFDYGKLRIGFAKAAVRIALKKRPIDRNSRVATGLSGEEGDIVALKNYMNAQYFGEIGVGTPPQKFTVIFDTGSSNLWVPSAKCYFSIACYLHSRYKAGASSTYKKNGKPAAIQYGTGSIAGYFSEDSVTVGDLVVKDQEFIEATKEPGITFLVAKFDGILGLGFKEISVGKAVPVWYKMIEQGLVSDPVFSFWLNRHVGGEIIFGGMDPKHYVGEHTYVPVTQKGYWQFDMGDVLVGGKSTGFCAGGCAAIADSGTSLLAGPTAIITEINEKIGAAGVVSQECKTIVSQYGQQILDLLLAETQPKKICSQVGLCTADPMCSACEMAVVWMQNQLAQNKTQDLILDYVNQLCNRLPSPMGESAVDCGSLGSMPDIEFTIGGKKFALKPEEYILKVGEGAAQCISGFTAMDIPPPRGPLWILGDVFMGPYHTVFDYGKLRIGFAKAA',\n",
       " array([  6,   7,   8, ..., 336, 337, 338]))"
      ]
     },
     "metadata": {},
     "execution_count": 29
    }
   ],
   "source": [
    "convert_mol_to_seq(mol)"
   ]
  },
  {
   "cell_type": "code",
   "execution_count": 30,
   "metadata": {},
   "outputs": [
    {
     "output_type": "stream",
     "name": "stderr",
     "text": [
      "@> 3127 atoms and 1 coordinate set(s) were parsed in 0.02s.\n"
     ]
    },
    {
     "output_type": "execute_result",
     "data": {
      "text/plain": [
       "('VRIALKKRPIDRNSRVATGLSGEEEGDIVALKNYMNAQYFGEIGVGTPPQKFTVIFDTGSSNLWVPSAKCYFSIACYLHSRYKAGASSTYKKNGKPAAIQYGTGSIAGYFSEDSVTVGDLVVKDQEFIEATKEPGITFLVAKFDGILGLGFKEISVGKAVPVWYKMIEQGLVSDPVFSFWLNRHVGGEIIFGGMDPKHYVGEHTYVPVTQKGYWQFDMGDVLVGGKSTGFCAGGCAAIADSGTSLLAGPTAIITEINEKIGAAGVVSQECKTIVSQYGQQILDLLLAETQPKKICSQVGLCTADPMCSACEMAVVWMQNQLAQNKTQDLILDYVNQLCNRLPSPMGESAVDCGSLGSMPDIEFTIGGKKFALKPEEYILKVGEGAAAQCISGFTAMDIPPPRGPLWILGDVFMGPYHTVFDYGKLRIGFAKAA',\n",
       " array([  6,   7,   8,   9,  10,  11,  12,  13,  14,  15,  16,  17,  18,\n",
       "         19,  20,  21,  22,  23,  24,  25,  26,  27,   2,   3,   4,   5,\n",
       "          6,   7,   8,   9,  10,  11,  12,  13,  14,  15,  16,  17,  18,\n",
       "         19,  20,  21,  22,  23,  24,  25,  26,  27,  28,  29,  30,  31,\n",
       "         32,  33,  34,  35,  36,  37,  38,  39,  40,  41,  42,  43,  44,\n",
       "         45,  46,  47,  48,  49,  50,  51,  52,  53,  54,  55,  56,  57,\n",
       "         58,  59,  60,  61,  62,  63,  64,  65,  66,  67,  68,  69,  70,\n",
       "         71,  72,  73,  74,  75,  76,  77,  78,  79,  80,  81,  82,  83,\n",
       "         84,  85,  86,  87,  88,  89,  90,  91,  92,  93,  94,  95,  96,\n",
       "         97,  98,  99, 100, 101, 102, 103, 104, 105, 106, 107, 108, 109,\n",
       "        110, 111, 112, 113, 114, 115, 116, 117, 118, 119, 120, 121, 122,\n",
       "        123, 124, 125, 126, 127, 128, 129, 130, 131, 132, 133, 134, 135,\n",
       "        136, 137, 138, 139, 140, 141, 142, 143, 144, 145, 146, 147, 148,\n",
       "        149, 150, 151, 152, 153, 154, 155, 156, 157, 158, 159, 160, 161,\n",
       "        162, 163, 164, 169, 170, 171, 172, 173, 174, 175, 176, 177, 178,\n",
       "        179, 180, 181, 182, 183, 184, 185, 186, 187, 188, 189, 190, 191,\n",
       "        192, 193, 194, 195, 196, 197, 198, 199, 200, 201, 202, 203, 204,\n",
       "        205, 206, 207, 208, 209, 210, 211, 212, 213, 214, 215, 216, 217,\n",
       "        218, 219, 220, 221, 222, 223, 224, 225, 226, 227, 228, 229, 230,\n",
       "        231, 232, 233, 234, 235, 236, 237, 238, 239, 240, 241, 242, 243,\n",
       "        244, 245, 246, 247,   1,   2,   3,   4,   5,   6,   7,   8,   9,\n",
       "         10,  11,  12,  13,  14,  15,  16,  17,  18,  19,  20,  21,  22,\n",
       "         23,  24,  25,  26,  27,  28,  29,  30,  31,  32,  33,  34,  35,\n",
       "         36,  37,  38,  65,  66,  67,  68,  69,  70,  71,  72,  73,  74,\n",
       "         75,  76,  77,  78,  79,  80,  81,  82,  83,  84,  85,  86,  87,\n",
       "         88,  89,  90,  91,  92,  93,  94,  95,  96,  97,  98,  99, 100,\n",
       "        101, 102, 103, 104, 248, 249, 250, 251, 252, 253, 254, 255, 256,\n",
       "        257, 258, 259, 260, 261, 262, 263, 264, 265, 266, 267, 268, 269,\n",
       "        270, 271, 272, 273, 274, 275, 276, 277, 278, 279, 280, 281, 282,\n",
       "        283, 284, 285, 286, 287, 288, 289, 290, 291, 292, 293, 294, 295,\n",
       "        296, 297, 298, 299, 300, 301, 302, 303, 304, 305, 306, 307, 308,\n",
       "        309, 310, 311, 312, 313, 314, 315, 316, 317, 318, 319, 320, 321,\n",
       "        322, 323, 324, 325, 326, 327, 328, 329, 330, 331, 332, 333, 334,\n",
       "        335, 336, 337, 338]))"
      ]
     },
     "metadata": {},
     "execution_count": 30
    }
   ],
   "source": [
    "convert_pdb_to_seq(pdb_path, 'A')"
   ]
  },
  {
   "cell_type": "code",
   "execution_count": 31,
   "metadata": {},
   "outputs": [
    {
     "output_type": "stream",
     "name": "stderr",
     "text": [
      "@> Connecting wwPDB FTP server RCSB PDB (USA).\n",
      "@> 1hvc downloaded (1hvc.pdb)\n",
      "@> PDB download via FTP completed (1 downloaded, 0 failed).\n",
      "@> 3491 atoms and 1 coordinate set(s) were parsed in 0.03s.\n"
     ]
    },
    {
     "output_type": "execute_result",
     "data": {
      "text/plain": [
       "PosixPath('template_pdb/1HVC.pdb')"
      ]
     },
     "metadata": {},
     "execution_count": 31
    }
   ],
   "source": [
    "download_template_pdb('1HVC')"
   ]
  }
 ]
}