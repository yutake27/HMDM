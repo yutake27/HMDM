{
 "metadata": {
  "language_info": {
   "codemirror_mode": {
    "name": "ipython",
    "version": 3
   },
   "file_extension": ".py",
   "mimetype": "text/x-python",
   "name": "python",
   "nbconvert_exporter": "python",
   "pygments_lexer": "ipython3",
   "version": "3.9.1"
  },
  "orig_nbformat": 4,
  "kernelspec": {
   "name": "python3",
   "display_name": "Python 3.9.1 64-bit ('mypython': conda)"
  },
  "interpreter": {
   "hash": "033a30f494deec8ceeb512afef8c9dc113472ba2d32680e95a1365ed9cc23893"
  }
 },
 "nbformat": 4,
 "nbformat_minor": 2,
 "cells": [
  {
   "source": [
    "# missing residueを考慮したidentity, positive, coverageを計算"
   ],
   "cell_type": "markdown",
   "metadata": {}
  },
  {
   "cell_type": "code",
   "execution_count": 3,
   "metadata": {},
   "outputs": [],
   "source": [
    "import numpy as np\n",
    "import pandas as pd\n",
    "from Bio import SearchIO, SeqIO, SeqRecord\n",
    "from Bio.Seq import Seq\n",
    "from pathlib import Path"
   ]
  },
  {
   "cell_type": "code",
   "execution_count": 5,
   "metadata": {},
   "outputs": [],
   "source": [
    "target = '5M04_A'\n",
    "data_dir = Path('data') / target\n",
    "xml_path = data_dir / (target + '.xml')\n",
    "template = '4CSU_9_1'\n",
    "pir_path = data_dir / 'filtering' / (template + '.pir')"
   ]
  },
  {
   "cell_type": "code",
   "execution_count": 6,
   "metadata": {},
   "outputs": [],
   "source": [
    "qresult_list = list(SearchIO.parse(xml_path, 'blast-xml'))"
   ]
  },
  {
   "cell_type": "code",
   "execution_count": 7,
   "metadata": {},
   "outputs": [],
   "source": [
    "qresult = qresult_list[0]"
   ]
  },
  {
   "cell_type": "code",
   "execution_count": 8,
   "metadata": {},
   "outputs": [
    {
     "output_type": "execute_result",
     "data": {
      "text/plain": [
       "QueryResult(id='5m04_A', 15 hits)"
      ]
     },
     "metadata": {},
     "execution_count": 8
    }
   ],
   "source": [
    "qresult"
   ]
  },
  {
   "cell_type": "code",
   "execution_count": 17,
   "metadata": {},
   "outputs": [
    {
     "output_type": "stream",
     "name": "stdout",
     "text": [
      "Query: 5m04_A\n       mol:protein length:360 GTPase ObgE/CgtA\n  Hit: pdb|5M04|A (360)\n       Structure of ObgE from Escherichia coli [Escherichia coli DH5[alpha]]\n HSPs: ----  --------  ---------  ------  ---------------  ---------------------\n          #   E-value  Bit score    Span      Query range              Hit range\n       ----  --------  ---------  ------  ---------------  ---------------------\n          0         0     737.26     360          [0:360]                [0:360]\n360\nstart 0 end 360\nQuery: 5m04_A\n       mol:protein length:360 GTPase ObgE/CgtA\n  Hit: pdb|4CSU|9 (390)\n       Cryo-EM structures of the 50S ribosome subunit bound with ObgE [Escher...\n HSPs: ----  --------  ---------  ------  ---------------  ---------------------\n          #   E-value  Bit score    Span      Query range              Hit range\n       ----  --------  ---------  ------  ---------------  ---------------------\n          0         0     692.58     340         [20:360]                [0:340]\n340\nstart 20 end 360\nQuery: 5m04_A\n       mol:protein length:360 GTPase ObgE/CgtA\n  Hit: pdb|1LNZ|A (342)\n       Structure of the Obg GTP-binding protein [Bacillus subtilis]\n HSPs: ----  --------  ---------  ------  ---------------  ---------------------\n          #   E-value  Bit score    Span      Query range              Hit range\n       ----  --------  ---------  ------  ---------------  ---------------------\n          0     3e-93     283.11     334         [22:356]                [1:332]\n163\nstart 22 end 356\nQuery: 5m04_A\n       mol:protein length:360 GTPase ObgE/CgtA\n  Hit: pdb|1UDX|A (416)\n       Crystal structure of the conserved protein TT1381 from Thermus thermop...\n HSPs: ----  --------  ---------  ------  ---------------  ---------------------\n          #   E-value  Bit score    Span      Query range              Hit range\n       ----  --------  ---------  ------  ---------------  ---------------------\n          0   2.3e-77     244.97     323         [22:344]                [1:315]\n152\nstart 22 end 344\nQuery: 5m04_A\n       mol:protein length:360 GTPase ObgE/CgtA\n  Hit: pdb|2DWQ|A (368)\n       Thermus thermophilus YchF GTP-binding protein [Thermus thermophilus HB8]\n HSPs: ----  --------  ---------  ------  ---------------  ---------------------\n          #   E-value  Bit score    Span      Query range              Hit range\n       ----  --------  ---------  ------  ---------------  ---------------------\n          0   2.3e-14      74.71     146        [181:300]                [3:147]\n47\nstart 181 end 300\nQuery: 5m04_A\n       mol:protein length:360 GTPase ObgE/CgtA\n  Hit: pdb|2DBY|A (368)\n       Crystal structure of the GTP-binding protein YchF in complexed with GD...\n HSPs: ----  --------  ---------  ------  ---------------  ---------------------\n          #   E-value  Bit score    Span      Query range              Hit range\n       ----  --------  ---------  ------  ---------------  ---------------------\n          0   2.4e-14      74.71     146        [181:300]                [3:147]\n47\nstart 181 end 300\nQuery: 5m04_A\n       mol:protein length:360 GTPase ObgE/CgtA\n  Hit: pdb|1WXQ|A (397)\n       Crystal Structure of GTP binding protein from Pyrococcus horikoshii OT...\n HSPs: ----  --------  ---------  ------  ---------------  ---------------------\n          #   E-value  Bit score    Span      Query range              Hit range\n       ----  --------  ---------  ------  ---------------  ---------------------\n          0   2.2e-13      72.02     176        [180:325]                [1:173]\n54\nstart 180 end 325\nQuery: 5m04_A\n       mol:protein length:360 GTPase ObgE/CgtA\n  Hit: pdb|2OHF|A (396)\n       Crystal structure of human OLA1 in complex with AMPPCP [Homo sapiens]\n HSPs: ----  --------  ---------  ------  ---------------  ---------------------\n          #   E-value  Bit score    Span      Query range              Hit range\n       ----  --------  ---------  ------  ---------------  ---------------------\n          0   7.3e-13      70.09     135        [181:293]               [24:159]\n42\nstart 181 end 293\nQuery: 5m04_A\n       mol:protein length:360 GTPase ObgE/CgtA\n  Hit: pdb|4A9A|A (376)\n       Structure of Rbg1 in complex with Tma46 dfrp domain [Saccharomyces cer...\n HSPs: ----  --------  ---------  ------  ---------------  ---------------------\n          #   E-value  Bit score    Span      Query range              Hit range\n       ----  --------  ---------  ------  ---------------  ---------------------\n          0     3e-12      68.17     126        [178:304]               [71:191]\n41\nstart 178 end 304\nQuery: 5m04_A\n       mol:protein length:360 GTPase ObgE/CgtA\n  Hit: pdb|1JAL|A (363)\n       Ychf Protein (Hi0393) [Haemophilus influenzae]\n HSPs: ----  --------  ---------  ------  ---------------  ---------------------\n          #   E-value  Bit score    Span      Query range              Hit range\n       ----  --------  ---------  ------  ---------------  ---------------------\n          0   1.9e-11      65.86     134        [182:287]                [5:138]\n40\nstart 182 end 287\nQuery: 5m04_A\n       mol:protein length:360 GTPase ObgE/CgtA\n  Hit: pdb|5EE0|A (395)\n       Crystal structure of OsYchF1 at pH 6.5 [Oryza sativa Japonica Group]\n HSPs: ----  --------  ---------  ------  ---------------  ---------------------\n          #   E-value  Bit score    Span      Query range              Hit range\n       ----  --------  ---------  ------  ---------------  ---------------------\n          0   2.4e-10      62.39     166        [160:310]                [7:172]\n49\nstart 160 end 310\nQuery: 5m04_A\n       mol:protein length:360 GTPase ObgE/CgtA\n  Hit: pdb|1NI3|A (392)\n       Structure of the Schizosaccharomyces pombe YchF GTPase [Schizosaccharo...\n HSPs: ----  --------  ---------  ------  ---------------  ---------------------\n          #   E-value  Bit score    Span      Query range              Hit range\n       ----  --------  ---------  ------  ---------------  ---------------------\n          0   1.4e-09      60.08     130        [182:286]               [23:151]\n41\nstart 182 end 286\nQuery: 5m04_A\n       mol:protein length:360 GTPase ObgE/CgtA\n  Hit: pdb|5ADY|6 (426)\n       Cryo-EM structures of the 50S ribosome subunit bound with HflX [Escher...\n HSPs: ----  --------  ---------  ------  ---------------  ---------------------\n          #   E-value  Bit score    Span      Query range              Hit range\n       ----  --------  ---------  ------  ---------------  ---------------------\n          0   1.6e-08      57.00     132        [181:312]              [199:326]\n38\nstart 181 end 312\nQuery: 5m04_A\n       mol:protein length:360 GTPase ObgE/CgtA\n  Hit: pdb|2E87|A (357)\n       Crystal structure of hypothetical GTP-binding protein PH1320 from Pyro...\n HSPs: ----  --------  ---------  ------  ---------------  ---------------------\n          #   E-value  Bit score    Span      Query range              Hit range\n       ----  --------  ---------  ------  ---------------  ---------------------\n          0   7.1e-08      54.68     164        [169:322]              [153:307]\n49\nstart 169 end 322\nQuery: 5m04_A\n       mol:protein length:360 GTPase ObgE/CgtA\n  Hit: pdb|1XZP|A (482)\n       Structure of the GTP-binding protein TrmE from Thermotoga maritima [Th...\n HSPs: ----  --------  ---------  ------  ---------------  ---------------------\n          #   E-value  Bit score    Span      Query range              Hit range\n       ----  --------  ---------  ------  ---------------  ---------------------\n          0   0.00043      43.13     191        [169:344]              [223:395]\n54\nstart 169 end 344\n"
     ]
    }
   ],
   "source": [
    "for hit in qresult:\n",
    "    print(hit)\n",
    "    print(hit[0].ident_num)\n",
    "    print('start', hit[0].query_start, 'end', hit[0].query_end)"
   ]
  },
  {
   "cell_type": "code",
   "execution_count": 19,
   "metadata": {},
   "outputs": [
    {
     "output_type": "execute_result",
     "data": {
      "text/plain": [
       "Hit(id='pdb|1LNZ|A', query_id='5m04_A', 1 hsps)"
      ]
     },
     "metadata": {},
     "execution_count": 19
    }
   ],
   "source": [
    "sample_hit = qresult[2]\n",
    "sample_hit"
   ]
  },
  {
   "cell_type": "code",
   "execution_count": 20,
   "metadata": {},
   "outputs": [
    {
     "output_type": "execute_result",
     "data": {
      "text/plain": [
       "{'similarity': 'FVD+  + V  GDGGNG V+FRREKY+PKGGP GGDGG GGDV  E DE L TL D+R++K F+A RG++G S++  G+   D  IKVP GT V D  T + + D+T+HGQR ++A+GG  G GN+RF +  N  P+   NG PG +R ++LEL +LADVG++G P+ GKST +  VS+AKPK+ADY FTTLVP+LG V  D+ +SFV AD+PGLIEGA +G GLG +FL+H+ER RV++H+ID   ++G DP ++   I  EL +Y+  L  +P+ +V NK    D  EA E  +A  E L  +   + ISA +  G+++L ++V   +   P'}"
      ]
     },
     "metadata": {},
     "execution_count": 20
    }
   ],
   "source": [
    "sample_hit[0].aln_annotation"
   ]
  },
  {
   "cell_type": "code",
   "execution_count": 22,
   "metadata": {},
   "outputs": [
    {
     "output_type": "execute_result",
     "data": {
      "text/plain": [
       "'FVD+  + V  GDGGNG V+FRREKY+PKGGP GGDGG GGDV  E DE L TL D+R++K F+A RG++G S++  G+   D  IKVP GT V D  T + + D+T+HGQR ++A+GG  G GN+RF +  N  P+   NG PG +R ++LEL +LADVG++G P+ GKST +  VS+AKPK+ADY FTTLVP+LG V  D+ +SFV AD+PGLIEGA +G GLG +FL+H+ER RV++H+ID   ++G DP ++   I  EL +Y+  L  +P+ +V NK    D  EA E  +A  E L  +   + ISA +  G+++L ++V   +   P'"
      ]
     },
     "metadata": {},
     "execution_count": 22
    }
   ],
   "source": [
    "aln_annotation = sample_hit[0].aln_annotation['similarity']\n",
    "aln_annotation"
   ]
  },
  {
   "cell_type": "code",
   "execution_count": 23,
   "metadata": {},
   "outputs": [
    {
     "output_type": "stream",
     "name": "stdout",
     "text": [
      "163 226\n"
     ]
    }
   ],
   "source": [
    "identity = 0\n",
    "positive = 0\n",
    "for r in aln_annotation:\n",
    "    if r == ' ':\n",
    "        continue\n",
    "    elif r == '+':\n",
    "        positive += 1\n",
    "    else:\n",
    "        identity += 1\n",
    "        positive += 1\n",
    "print(identity, positive)"
   ]
  },
  {
   "cell_type": "code",
   "execution_count": 35,
   "metadata": {},
   "outputs": [
    {
     "output_type": "stream",
     "name": "stdout",
     "text": [
      "ID: TARGET\nName: TARGET\nDescription: sequence:TARGET:1::360:::::\nNumber of features: 0\n/PIR-type=P1\n/molecule_type=protein\nSeq('MGSSHHHHHHSSGLVPRGSHMKFVDEASILVVAGDGGNGCVSFRREKYIPKGGP...VQA')\nID: 1LNZ\nName: 1LNZ\nDescription: structure:1LNZ:2:A:332:A::::\nNumber of features: 0\n/PIR-type=P1\n/molecule_type=protein\nSeq('----------------------FVDQVKVYVKGGDGGNG-VAFRREKYVPKGGP...---')\n"
     ]
    }
   ],
   "source": [
    "pir_file = data_dir / 'filtering' / '1LNZ_A_1.pir'\n",
    "for i in SeqIO.parse(pir_file, 'pir'):\n",
    "    print(i)"
   ]
  },
  {
   "cell_type": "code",
   "execution_count": 41,
   "metadata": {},
   "outputs": [
    {
     "output_type": "execute_result",
     "data": {
      "text/plain": [
       "'----------------------FVDQVKVYVKGGDGGNG-VAFRREKYVPKGGPAGGDGGKGGDVVFEVDEGLRTL-DFRYKKHFKAIRGEHG-SKNQHGRNADD-VIKVPPGTVVTDDDTKQVIADLTEHGQRAVIARGGRGGRGNSRFATPANPAPQLSENGEPGKERYIVLELKVLADVGLVGFPSVGKSTLLSVVSSAKPKIADYHFTTLVPNLG-VETDDGRSFV-ADLPGLIEGAHQGVGLGHQFLRHIERTRVIVHVID-SGLEGRDPYDDYLTINQELSEYNLRLTERPQIIVANK----D-PEAAENLEAFKEKLTDDYPVFPISAVTREGLRELLFEVANQLENTP----'"
      ]
     },
     "metadata": {},
     "execution_count": 41
    }
   ],
   "source": [
    "pir_template_seq = str(list(SeqIO.parse(pir_file, 'pir'))[1].seq)\n",
    "pir_template_seq"
   ]
  },
  {
   "cell_type": "code",
   "execution_count": 53,
   "metadata": {},
   "outputs": [
    {
     "output_type": "execute_result",
     "data": {
      "text/plain": [
       "'FVDQVKVYVKGGDGGNGXVAFRREKYVPKGGPAGGDGGKGGDVVFEVDEGLRTLXDFRYKKHFKAIRGEHGXSKNQHGRNADDXVIKVPPGTVVTDDDTKQVIADLTEHGQRAVIARGGRGGRGNSRFATPANPAPQLSENGEPGKERYIVLELKVLADVGLVGFPSVGKSTLLSVVSSAKPKIADYHFTTLVPNLGXVETDDGRSFVXADLPGLIEGAHQGVGLGHQFLRHIERTRVIVHVIDXSGLEGRDPYDDYLTINQELSEYNLRLTERPQIIVANK---XDXPEAAENLEAFKEKLTDDYPVFPISAVTREGLRELLFEVANQLENTP'"
      ]
     },
     "metadata": {},
     "execution_count": 53
    }
   ],
   "source": [
    "xml_hit_seq = str(sample_hit[0].hit.seq)\n",
    "xml_hit_seq"
   ]
  },
  {
   "cell_type": "code",
   "execution_count": 46,
   "metadata": {},
   "outputs": [
    {
     "output_type": "execute_result",
     "data": {
      "text/plain": [
       "'FVD+  + V  GDGGNG V+FRREKY+PKGGP GGDGG GGDV  E DE L TL D+R++K F+A RG++G S++  G+   D  IKVP GT V D  T + + D+T+HGQR ++A+GG  G GN+RF +  N  P+   NG PG +R ++LEL +LADVG++G P+ GKST +  VS+AKPK+ADY FTTLVP+LG V  D+ +SFV AD+PGLIEGA +G GLG +FL+H+ER RV++H+ID   ++G DP ++   I  EL +Y+  L  +P+ +V NK    D  EA E  +A  E L  +   + ISA +  G+++L ++V   +   P'"
      ]
     },
     "metadata": {},
     "execution_count": 46
    }
   ],
   "source": [
    "aln_annotation"
   ]
  },
  {
   "cell_type": "code",
   "execution_count": 50,
   "metadata": {},
   "outputs": [
    {
     "output_type": "stream",
     "name": "stdout",
     "text": [
      "22 356\n"
     ]
    }
   ],
   "source": [
    "start = sample_hit[0].query_start\n",
    "end = sample_hit[0].query_end\n",
    "print(start, end)"
   ]
  },
  {
   "cell_type": "code",
   "execution_count": 56,
   "metadata": {},
   "outputs": [
    {
     "output_type": "execute_result",
     "data": {
      "text/plain": [
       "'FVDQVKVYVKGGDGGNG-VAFRREKYVPKGGPAGGDGGKGGDVVFEVDEGLRTL-DFRYKKHFKAIRGEHG-SKNQHGRNADD-VIKVPPGTVVTDDDTKQVIADLTEHGQRAVIARGGRGGRGNSRFATPANPAPQLSENGEPGKERYIVLELKVLADVGLVGFPSVGKSTLLSVVSSAKPKIADYHFTTLVPNLG-VETDDGRSFV-ADLPGLIEGAHQGVGLGHQFLRHIERTRVIVHVID-SGLEGRDPYDDYLTINQELSEYNLRLTERPQIIVANK----D-PEAAENLEAFKEKLTDDYPVFPISAVTREGLRELLFEVANQLENTP'"
      ]
     },
     "metadata": {},
     "execution_count": 56
    }
   ],
   "source": [
    "pir_template_seq_hit_part =  pir_template_seq[start: end]\n",
    "pir_template_seq_hit_part"
   ]
  },
  {
   "source": [
    "テンプレートのpirの中の配列と，xml中の配列の一致を確認\n",
    "\n",
    "一致している場所は問題なし．\n",
    "\n",
    "一致していない場合はmissing residueの可能性あり\n",
    "\n",
    "xml配列中にあってpir配列にない場合はmissing residue\n",
    "\n",
    "逆にxml中になく pir配列にある場合がある．(X残基など)　これは無視されるように処理する．\n",
    "\n",
    "\n",
    "identity, positiveはxmlのmidlineの残基から数えることが可能(アルファベットは一致，+はpositive, 空白は不一致)"
   ],
   "cell_type": "markdown",
   "metadata": {}
  },
  {
   "cell_type": "code",
   "execution_count": 61,
   "metadata": {},
   "outputs": [
    {
     "output_type": "stream",
     "name": "stdout",
     "text": [
      "17\nX - \" \"\n54\nX - \" \"\n71\nX - \" \"\n83\nX - \" \"\n197\nX - \" \"\n208\nX - \" \"\n244\nX - \" \"\n285\nX - \" \"\n287\nX - \" \"\n"
     ]
    }
   ],
   "source": [
    "for i, (xr, pr) in enumerate(zip(xml_hit_seq, pir_template_seq_hit_part)):\n",
    "    if xr != pr:\n",
    "        print(i)\n",
    "        print(xr, pr, '\"' + aln_annotation[i] + '\"')"
   ]
  },
  {
   "cell_type": "code",
   "execution_count": 76,
   "metadata": {},
   "outputs": [
    {
     "output_type": "stream",
     "name": "stdout",
     "text": [
      "pdb|4CSU|9\ndata/5M04_A/filtering/4CSU_9_1.pir\n"
     ]
    }
   ],
   "source": [
    "iteration = 1\n",
    "qresult = qresult_list[iteration - 1]\n",
    "hit = qresult[1]\n",
    "print(hit.id)\n",
    "pir_name = '_'.join(hit.id.split('|')[1: ]) + '_' + str(iteration) + '.pir'\n",
    "pir_file = data_dir / 'filtering' / pir_name\n",
    "print(pir_file)\n",
    "def calc_correct_template_quality(hit, pir_file: Path):\n",
    "    assert pir_file.exists()\n",
    "    aln_annotation = hit[0].aln_annotation['similarity']\n",
    "    hit_seq = str(hit[0].hit.seq)\n",
    "    ident_num = hit[0].ident_num\n",
    "    positive_num = hit[0].pos_num\n",
    "    aln_len = hit[0].aln_span\n",
    "    start = hit[0].query_start\n",
    "    end = hit[0].query_end\n",
    "    pir_template_seq = str(list(SeqIO.parse(pir_file, 'pir'))[1].seq)[start: end]\n",
    "    not_ident_num = 0\n",
    "    not_pos_num = 0\n",
    "    for i, (xr, pr) in enumerate(zip(hit_seq, pir_template_seq)):\n",
    "        if xr != pr:\n",
    "            if aln_annotation[i] == ' ':\n",
    "                continue\n",
    "            elif aln_annotation[i] == '+':\n",
    "                not_pos_num += 1\n",
    "            else:\n",
    "                not_pos_num += 1\n",
    "                not_ident_num += 1\n",
    "            print(i, xr, pr, '\"' + aln_annotation[i] + '\"')\n",
    "    if not_pos_num > 0 or not_ident_num > 0:\n",
    "        print(not_pos_num, not_ident_num)"
   ]
  },
  {
   "cell_type": "code",
   "execution_count": 74,
   "metadata": {},
   "outputs": [
    {
     "output_type": "stream",
     "name": "stdout",
     "text": [
      "data/5M04_A/filtering/4CSU_9_1.pir\n0 M - \"M\"\n1 K - \"K\"\n2 F - \"F\"\n337 V - \"V\"\n338 Q - \"Q\"\n339 A - \"A\"\n6 6\ndata/5M04_A/filtering/1LNZ_A_1.pir\ndata/5M04_A/filtering/1UDX_A_1.pir\ndata/5M04_A/filtering/2DWQ_A_1.pir\n26 N - \"+\"\n27 Y - \"Y\"\n28 P - \"P\"\n29 F - \"F\"\n115 M - \"+\"\n5 3\ndata/5M04_A/filtering/1WXQ_A_1.pir\n24 E - \"+\"\n25 I - \"+\"\n26 A - \"A\"\n27 N - \"+\"\n28 Y - \"Y\"\n29 P - \"P\"\n30 F - \"F\"\n31 T - \"T\"\n32 T - \"T\"\n33 I - \"+\"\n78 G - \"G\"\n79 L - \"L\"\n80 V - \"+\"\n82 G - \"G\"\n83 A - \"A\"\n85 E - \"E\"\n86 G - \"G\"\n88 G - \"G\"\n89 L - \"L\"\n90 G - \"G\"\n92 K - \"+\"\n21 15\ndata/5M04_A/filtering/4A9A_A_1.pir\n62 A - \"A\"\n64 D - \"+\"\n65 G - \"G\"\n125 K - \"K\"\n4 3\ndata/5M04_A/filtering/1JAL_A_1.pir\n22 E - \"+\"\n24 A - \"A\"\n25 N - \"+\"\n26 Y - \"Y\"\n4 2\ndata/5M04_A/filtering/5EE0_A_1.pir\n0 K - \"K\"\n2 D - \"+\"\n5 P - \"P\"\n7 E - \"+\"\n9 R - \"R\"\n93 V - \"+\"\n95 G - \"G\"\n96 A - \"A\"\n99 G - \"G\"\n9 6\ndata/5M04_A/filtering/1NI3_A_1.pir\ndata/5M04_A/filtering/5ADY_6_1.pir\ndata/5M04_A/filtering/2E87_A_2.pir\ndata/5M04_A/filtering/1XZP_A_2.pir\ndata/5M04_A/filtering/3R9W_A_2.pir\ndata/5M04_A/filtering/3K53_A_2.pir\ndata/5M04_A/filtering/2WJH_A_2.pir\ndata/5M04_A/filtering/2QTF_A_2.pir\n1 K - \"K\"\n8 N - \"+\"\n9 K - \"K\"\n10 R - \"R\"\n45 K - \"K\"\n46 V - \"V\"\n51 F - \"F\"\n52 T - \"T\"\n53 T - \"T\"\n9 8\ndata/5M04_A/filtering/3J8G_X_2.pir\n29 V - \"V\"\n30 A - \"A\"\n31 D - \"D\"\n32 F - \"+\"\n33 P - \"P\"\n36 T - \"T\"\n59 G - \"G\"\n61 I - \"I\"\n62 D - \"+\"\n63 G - \"G\"\n10 8\ndata/5M04_A/filtering/1MKY_A_2.pir\n54 T - \"T\"\n55 T - \"T\"\n58 P - \"P\"\n3 3\ndata/5M04_A/filtering/3A1W_A_2.pir\n0 L - \"+\"\n138 K - \"+\"\n178 K - \"+\"\n3 0\ndata/5M04_A/filtering/3J65_o_2.pir\ndata/5M04_A/filtering/4Q00_A_3.pir\n0 M - \"M\"\n36 T - \"T\"\n37 V - \"+\"\n3 2\ndata/5M04_A/filtering/4Q5I_A_3.pir\n0 M - \"M\"\n1 1\ndata/5M04_A/filtering/2WIA_A_3.pir\n67 S - \"+\"\n163 S - \"+\"\n2 0\ndata/5M04_A/filtering/3LX5_A_3.pir\n1 M - \"+\"\n1 0\ndata/5M04_A/filtering/3IBY_A_3.pir\n61 E - \"E\"\n62 G - \"G\"\n2 2\ndata/5M04_A/filtering/3PQC_A_3.pir\ndata/5M04_A/filtering/5M7H_A_3.pir\n0 M - \"M\"\n30 V - \"V\"\n37 T - \"T\"\n134 E - \"+\"\n4 3\ndata/5M04_A/filtering/5DN8_A_3.pir\n62 D - \"+\"\n66 K - \"+\"\n2 0\ndata/5M04_A/filtering/2DYK_A_3.pir\n26 V - \"V\"\n27 A - \"A\"\n28 D - \"D\"\n30 P - \"P\"\n33 T - \"T\"\n5 5\ndata/5M04_A/filtering/6XRS_A_3.pir\n0 S - \"+\"\n3 E - \"+\"\n4 R - \"+\"\n10 D - \"+\"\n80 G - \"G\"\n5 1\n"
     ]
    }
   ],
   "source": [
    "for iteration in range(1, 4):\n",
    "    qresult = qresult_list[iteration - 1]\n",
    "    for hit in qresult:\n",
    "        pir_name = '_'.join(hit.id.split('|')[1: ]) + '_' + str(iteration) + '.pir'\n",
    "        pir_file = data_dir / 'filtering' / pir_name\n",
    "        if not pir_file.exists():\n",
    "            continue\n",
    "        print(pir_file)\n",
    "        calc_correct_template_quality(hit, pir_file)"
   ]
  },
  {
   "cell_type": "code",
   "execution_count": 98,
   "metadata": {},
   "outputs": [],
   "source": [
    "def calc_coverage_from_pir(pir_file):\n",
    "    query_record, template_record = SeqIO.parse(pir_file, 'pir')\n",
    "    query_seq, template_seq = target_record.seq, template_record.seq\n",
    "    template_not_gap_indices = np.where(np.array(template_seq) != '-')[0]\n",
    "    aln_start, aln_end = template_not_gap_indices[0], template_not_gap_indices[-1]\n",
    "    query_aln_seq_array = np.array(query_seq)[aln_start: aln_end + 1]\n",
    "    aln_len = len(np.where(query_aln_seq_array != '-')[0])\n",
    "    return aln_len"
   ]
  },
  {
   "cell_type": "code",
   "execution_count": 97,
   "metadata": {},
   "outputs": [
    {
     "output_type": "stream",
     "name": "stdout",
     "text": [
      "pdb|4CSU|9\n334\n"
     ]
    }
   ],
   "source": [
    "iteration = 1\n",
    "qresult = qresult_list[iteration - 1]\n",
    "hit = qresult[1]\n",
    "print(hit.id)\n",
    "pir_name = '_'.join(hit.id.split('|')[1: ]) + '_' + str(iteration) + '.pir'\n",
    "pir_file = data_dir / 'filtering' / pir_name\n",
    "query_record, template_record = SeqIO.parse(pir_file, 'pir')\n",
    "query_seq, template_seq = query_record.seq, template_record.seq\n",
    "template_not_gap_indices = np.where(np.array(template_seq) != '-')[0]\n",
    "aln_start, aln_end = template_not_gap_indices[0], template_not_gap_indices[-1]\n",
    "query_aln_seq_array = np.array(query_seq)[aln_start: aln_end + 1]\n",
    "aln_len = len(np.where(query_aln_seq_array != '-')[0])\n",
    "print(aln_len)"
   ]
  },
  {
   "cell_type": "code",
   "execution_count": 92,
   "metadata": {},
   "outputs": [
    {
     "output_type": "execute_result",
     "data": {
      "text/plain": [
       "(array([ 23,  24,  25,  26,  27,  28,  29,  30,  31,  32,  33,  34,  35,\n",
       "         36,  37,  38,  39,  40,  41,  42,  43,  44,  45,  46,  47,  48,\n",
       "         49,  50,  51,  52,  53,  54,  55,  56,  57,  58,  59,  60,  61,\n",
       "         62,  63,  64,  65,  66,  67,  68,  69,  70,  71,  72,  73,  74,\n",
       "         75,  76,  77,  78,  79,  80,  81,  82,  83,  84,  85,  86,  87,\n",
       "         88,  89,  90,  91,  92,  93,  94,  95,  96,  97,  98,  99, 100,\n",
       "        101, 102, 103, 104, 105, 106, 107, 108, 109, 110, 111, 112, 113,\n",
       "        114, 115, 116, 117, 118, 119, 120, 121, 122, 123, 124, 125, 126,\n",
       "        127, 128, 129, 130, 131, 132, 133, 134, 135, 136, 137, 138, 139,\n",
       "        140, 141, 142, 143, 144, 145, 146, 147, 148, 149, 150, 151, 152,\n",
       "        153, 154, 155, 156, 157, 158, 159, 160, 161, 162, 163, 164, 165,\n",
       "        166, 167, 168, 169, 170, 171, 172, 173, 174, 175, 176, 177, 178,\n",
       "        179, 180, 181, 182, 183, 184, 185, 186, 187, 188, 189, 190, 191,\n",
       "        192, 193, 194, 195, 196, 197, 198, 199, 200, 201, 202, 203, 204,\n",
       "        205, 206, 207, 208, 209, 210, 211, 212, 213, 214, 215, 216, 217,\n",
       "        218, 219, 220, 221, 222, 223, 224, 225, 226, 227, 228, 229, 230,\n",
       "        231, 232, 233, 234, 235, 236, 237, 238, 239, 240, 241, 242, 243,\n",
       "        244, 245, 246, 247, 248, 249, 250, 251, 252, 253, 254, 255, 256,\n",
       "        257, 258, 259, 260, 261, 262, 263, 264, 265, 266, 267, 268, 269,\n",
       "        270, 271, 272, 273, 274, 275, 276, 277, 278, 279, 280, 281, 282,\n",
       "        283, 284, 285, 286, 287, 288, 289, 290, 291, 292, 293, 294, 295,\n",
       "        296, 297, 298, 299, 300, 301, 302, 303, 304, 305, 306, 307, 308,\n",
       "        309, 310, 311, 312, 313, 314, 315, 316, 317, 318, 319, 320, 321,\n",
       "        322, 323, 324, 325, 326, 327, 328, 329, 330, 331, 332, 333, 334,\n",
       "        335, 336, 337, 338, 339, 340, 341, 342, 343, 344, 345, 346, 347,\n",
       "        348, 349, 350, 351, 352, 353, 354, 355, 356]),)"
      ]
     },
     "metadata": {},
     "execution_count": 92
    }
   ],
   "source": [
    "np.where(np.array(template_seq) != '-')"
   ]
  },
  {
   "cell_type": "code",
   "execution_count": 93,
   "metadata": {},
   "outputs": [
    {
     "output_type": "execute_result",
     "data": {
      "text/plain": [
       "array(['V', 'D', 'E', 'A', 'S', 'I', 'L', 'V', 'V', 'A', 'G', 'D', 'G',\n",
       "       'G', 'N', 'G', 'C', 'V', 'S', 'F', 'R', 'R', 'E', 'K', 'Y', 'I',\n",
       "       'P', 'K', 'G', 'G', 'P', 'D', 'G', 'G', 'D', 'G', 'G', 'D', 'G',\n",
       "       'G', 'D', 'V', 'W', 'M', 'E', 'A', 'D', 'E', 'N', 'L', 'N', 'T',\n",
       "       'L', 'I', 'D', 'Y', 'R', 'F', 'E', 'K', 'S', 'F', 'R', 'A', 'E',\n",
       "       'R', 'G', 'Q', 'N', 'G', 'A', 'S', 'R', 'D', 'C', 'T', 'G', 'K',\n",
       "       'R', 'G', 'K', 'D', 'V', 'T', 'I', 'K', 'V', 'P', 'V', 'G', 'T',\n",
       "       'R', 'V', 'I', 'D', 'Q', 'G', 'T', 'G', 'E', 'T', 'M', 'G', 'D',\n",
       "       'M', 'T', 'K', 'H', 'G', 'Q', 'R', 'L', 'L', 'V', 'A', 'K', 'G',\n",
       "       'G', 'W', 'H', 'G', 'L', 'G', 'N', 'T', 'R', 'F', 'K', 'S', 'S',\n",
       "       'V', 'N', 'R', 'T', 'P', 'R', 'Q', 'K', 'T', 'N', 'G', 'T', 'P',\n",
       "       'G', 'D', 'K', 'R', 'E', 'L', 'L', 'L', 'E', 'L', 'M', 'L', 'L',\n",
       "       'A', 'D', 'V', 'G', 'M', 'L', 'G', 'M', 'P', 'N', 'A', 'G', 'K',\n",
       "       'S', 'T', 'F', 'I', 'R', 'A', 'V', 'S', 'A', 'A', 'K', 'P', 'K',\n",
       "       'V', 'A', 'D', 'Y', 'P', 'F', 'T', 'T', 'L', 'V', 'P', 'S', 'L',\n",
       "       'G', 'V', 'V', 'R', 'M', 'D', 'N', 'E', 'K', 'S', 'F', 'V', 'V',\n",
       "       'A', 'D', 'I', 'P', 'G', 'L', 'I', 'E', 'G', 'A', 'A', 'E', 'G',\n",
       "       'A', 'G', 'L', 'G', 'I', 'R', 'F', 'L', 'K', 'H', 'L', 'E', 'R',\n",
       "       'C', 'R', 'V', 'L', 'L', 'H', 'L', 'I', 'D', 'I', 'D', 'P', 'I',\n",
       "       'D', 'G', 'T', 'D', 'P', 'V', 'E', 'N', 'A', 'R', 'I', 'I', 'I',\n",
       "       'S', 'E', 'L', 'E', 'K', 'Y', 'S', 'Q', 'D', 'L', 'A', 'T', 'K',\n",
       "       'P', 'R', 'W', 'L', 'V', 'F', 'N', 'K', 'I', 'D', 'L', 'L', 'D',\n",
       "       'K', 'V', 'E', 'A', 'E', 'E', 'K', 'A', 'K', 'A', 'I', 'A', 'E',\n",
       "       'A', 'L', 'G', 'W', 'E', 'D', 'K', 'Y', 'Y', 'L', 'I', 'S', 'A',\n",
       "       'A', 'S', 'G', 'L', 'G', 'V', 'K', 'D', 'L', 'C', 'W', 'D', 'V',\n",
       "       'M', 'T', 'F', 'I', 'I', 'E', 'N', 'P', 'V'], dtype='<U1')"
      ]
     },
     "metadata": {},
     "execution_count": 93
    }
   ],
   "source": [
    "np.array(target_seq)[23: 356 + 1]"
   ]
  },
  {
   "cell_type": "code",
   "execution_count": 85,
   "metadata": {},
   "outputs": [
    {
     "output_type": "execute_result",
     "data": {
      "text/plain": [
       "Seq('-----------------------VDEASILVVAGDGGNGCVSFRREKYIPKGGP...---')"
      ]
     },
     "metadata": {},
     "execution_count": 85
    }
   ],
   "source": [
    "template_seq"
   ]
  },
  {
   "cell_type": "code",
   "execution_count": 86,
   "metadata": {},
   "outputs": [
    {
     "output_type": "execute_result",
     "data": {
      "text/plain": [
       "['-',\n",
       " '-',\n",
       " '-',\n",
       " '-',\n",
       " '-',\n",
       " '-',\n",
       " '-',\n",
       " '-',\n",
       " '-',\n",
       " '-',\n",
       " '-',\n",
       " '-',\n",
       " '-',\n",
       " '-',\n",
       " '-',\n",
       " '-',\n",
       " '-',\n",
       " '-',\n",
       " '-',\n",
       " '-',\n",
       " '-',\n",
       " '-',\n",
       " '-',\n",
       " 'V',\n",
       " 'D',\n",
       " 'E',\n",
       " 'A',\n",
       " 'S',\n",
       " 'I',\n",
       " 'L',\n",
       " 'V',\n",
       " 'V',\n",
       " 'A',\n",
       " 'G',\n",
       " 'D',\n",
       " 'G',\n",
       " 'G',\n",
       " 'N',\n",
       " 'G',\n",
       " 'C',\n",
       " 'V',\n",
       " 'S',\n",
       " 'F',\n",
       " 'R',\n",
       " 'R',\n",
       " 'E',\n",
       " 'K',\n",
       " 'Y',\n",
       " 'I',\n",
       " 'P',\n",
       " 'K',\n",
       " 'G',\n",
       " 'G',\n",
       " 'P',\n",
       " 'D',\n",
       " 'G',\n",
       " 'G',\n",
       " 'D',\n",
       " 'G',\n",
       " 'G',\n",
       " 'D',\n",
       " 'G',\n",
       " 'G',\n",
       " 'D',\n",
       " 'V',\n",
       " 'W',\n",
       " 'M',\n",
       " 'E',\n",
       " 'A',\n",
       " 'D',\n",
       " 'E',\n",
       " 'N',\n",
       " 'L',\n",
       " 'N',\n",
       " 'T',\n",
       " 'L',\n",
       " 'I',\n",
       " 'D',\n",
       " 'Y',\n",
       " 'R',\n",
       " 'F',\n",
       " 'E',\n",
       " 'K',\n",
       " 'S',\n",
       " 'F',\n",
       " 'R',\n",
       " 'A',\n",
       " 'E',\n",
       " 'R',\n",
       " 'G',\n",
       " 'Q',\n",
       " 'N',\n",
       " 'G',\n",
       " 'A',\n",
       " 'S',\n",
       " 'R',\n",
       " 'D',\n",
       " 'C',\n",
       " 'T',\n",
       " 'G',\n",
       " 'K',\n",
       " 'R',\n",
       " 'G',\n",
       " 'K',\n",
       " 'D',\n",
       " 'V',\n",
       " 'T',\n",
       " 'I',\n",
       " 'K',\n",
       " 'V',\n",
       " 'P',\n",
       " 'V',\n",
       " 'G',\n",
       " 'T',\n",
       " 'R',\n",
       " 'V',\n",
       " 'I',\n",
       " 'D',\n",
       " 'Q',\n",
       " 'G',\n",
       " 'T',\n",
       " 'G',\n",
       " 'E',\n",
       " 'T',\n",
       " 'M',\n",
       " 'G',\n",
       " 'D',\n",
       " 'M',\n",
       " 'T',\n",
       " 'K',\n",
       " 'H',\n",
       " 'G',\n",
       " 'Q',\n",
       " 'R',\n",
       " 'L',\n",
       " 'L',\n",
       " 'V',\n",
       " 'A',\n",
       " 'K',\n",
       " 'G',\n",
       " 'G',\n",
       " 'W',\n",
       " 'H',\n",
       " 'G',\n",
       " 'L',\n",
       " 'G',\n",
       " 'N',\n",
       " 'T',\n",
       " 'R',\n",
       " 'F',\n",
       " 'K',\n",
       " 'S',\n",
       " 'S',\n",
       " 'V',\n",
       " 'N',\n",
       " 'R',\n",
       " 'T',\n",
       " 'P',\n",
       " 'R',\n",
       " 'Q',\n",
       " 'K',\n",
       " 'T',\n",
       " 'N',\n",
       " 'G',\n",
       " 'T',\n",
       " 'P',\n",
       " 'G',\n",
       " 'D',\n",
       " 'K',\n",
       " 'R',\n",
       " 'E',\n",
       " 'L',\n",
       " 'L',\n",
       " 'L',\n",
       " 'E',\n",
       " 'L',\n",
       " 'M',\n",
       " 'L',\n",
       " 'L',\n",
       " 'A',\n",
       " 'D',\n",
       " 'V',\n",
       " 'G',\n",
       " 'M',\n",
       " 'L',\n",
       " 'G',\n",
       " 'M',\n",
       " 'P',\n",
       " 'N',\n",
       " 'A',\n",
       " 'G',\n",
       " 'K',\n",
       " 'S',\n",
       " 'T',\n",
       " 'F',\n",
       " 'I',\n",
       " 'R',\n",
       " 'A',\n",
       " 'V',\n",
       " 'S',\n",
       " 'A',\n",
       " 'A',\n",
       " 'K',\n",
       " 'P',\n",
       " 'K',\n",
       " 'V',\n",
       " 'A',\n",
       " 'D',\n",
       " 'Y',\n",
       " 'P',\n",
       " 'F',\n",
       " 'T',\n",
       " 'T',\n",
       " 'L',\n",
       " 'V',\n",
       " 'P',\n",
       " 'S',\n",
       " 'L',\n",
       " 'G',\n",
       " 'V',\n",
       " 'V',\n",
       " 'R',\n",
       " 'M',\n",
       " 'D',\n",
       " 'N',\n",
       " 'E',\n",
       " 'K',\n",
       " 'S',\n",
       " 'F',\n",
       " 'V',\n",
       " 'V',\n",
       " 'A',\n",
       " 'D',\n",
       " 'I',\n",
       " 'P',\n",
       " 'G',\n",
       " 'L',\n",
       " 'I',\n",
       " 'E',\n",
       " 'G',\n",
       " 'A',\n",
       " 'A',\n",
       " 'E',\n",
       " 'G',\n",
       " 'A',\n",
       " 'G',\n",
       " 'L',\n",
       " 'G',\n",
       " 'I',\n",
       " 'R',\n",
       " 'F',\n",
       " 'L',\n",
       " 'K',\n",
       " 'H',\n",
       " 'L',\n",
       " 'E',\n",
       " 'R',\n",
       " 'C',\n",
       " 'R',\n",
       " 'V',\n",
       " 'L',\n",
       " 'L',\n",
       " 'H',\n",
       " 'L',\n",
       " 'I',\n",
       " 'D',\n",
       " 'I',\n",
       " 'D',\n",
       " 'P',\n",
       " 'I',\n",
       " 'D',\n",
       " 'G',\n",
       " 'T',\n",
       " 'D',\n",
       " 'P',\n",
       " 'V',\n",
       " 'E',\n",
       " 'N',\n",
       " 'A',\n",
       " 'R',\n",
       " 'I',\n",
       " 'I',\n",
       " 'I',\n",
       " 'S',\n",
       " 'E',\n",
       " 'L',\n",
       " 'E',\n",
       " 'K',\n",
       " 'Y',\n",
       " 'S',\n",
       " 'Q',\n",
       " 'D',\n",
       " 'L',\n",
       " 'A',\n",
       " 'T',\n",
       " 'K',\n",
       " 'P',\n",
       " 'R',\n",
       " 'W',\n",
       " 'L',\n",
       " 'V',\n",
       " 'F',\n",
       " 'N',\n",
       " 'K',\n",
       " 'I',\n",
       " 'D',\n",
       " 'L',\n",
       " 'L',\n",
       " 'D',\n",
       " 'K',\n",
       " 'V',\n",
       " 'E',\n",
       " 'A',\n",
       " 'E',\n",
       " 'E',\n",
       " 'K',\n",
       " 'A',\n",
       " 'K',\n",
       " 'A',\n",
       " 'I',\n",
       " 'A',\n",
       " 'E',\n",
       " 'A',\n",
       " 'L',\n",
       " 'G',\n",
       " 'W',\n",
       " 'E',\n",
       " 'D',\n",
       " 'K',\n",
       " 'Y',\n",
       " 'Y',\n",
       " 'L',\n",
       " 'I',\n",
       " 'S',\n",
       " 'A',\n",
       " 'A',\n",
       " 'S',\n",
       " 'G',\n",
       " 'L',\n",
       " 'G',\n",
       " 'V',\n",
       " 'K',\n",
       " 'D',\n",
       " 'L',\n",
       " 'C',\n",
       " 'W',\n",
       " 'D',\n",
       " 'V',\n",
       " 'M',\n",
       " 'T',\n",
       " 'F',\n",
       " 'I',\n",
       " 'I',\n",
       " 'E',\n",
       " 'N',\n",
       " 'P',\n",
       " 'V',\n",
       " '-',\n",
       " '-',\n",
       " '-']"
      ]
     },
     "metadata": {},
     "execution_count": 86
    }
   ],
   "source": [
    "list(template_seq)"
   ]
  },
  {
   "cell_type": "code",
   "execution_count": null,
   "metadata": {},
   "outputs": [],
   "source": []
  }
 ]
}