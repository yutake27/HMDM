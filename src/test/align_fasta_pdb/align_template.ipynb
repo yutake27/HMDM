{
 "metadata": {
  "language_info": {
   "codemirror_mode": {
    "name": "ipython",
    "version": 3
   },
   "file_extension": ".py",
   "mimetype": "text/x-python",
   "name": "python",
   "nbconvert_exporter": "python",
   "pygments_lexer": "ipython3",
   "version": "3.9.1"
  },
  "orig_nbformat": 2,
  "kernelspec": {
   "name": "python37364bit00d4d3a58f944c1c8375f1b9a9835895",
   "display_name": "Python 3.9.1 64-bit ('mypython': conda)"
  },
  "metadata": {
   "interpreter": {
    "hash": "033a30f494deec8ceeb512afef8c9dc113472ba2d32680e95a1365ed9cc23893"
   }
  }
 },
 "nbformat": 4,
 "nbformat_minor": 2,
 "cells": [
  {
   "cell_type": "code",
   "execution_count": 23,
   "metadata": {},
   "outputs": [],
   "source": [
    "from pathlib import Path\n",
    "import numpy as np\n",
    "from prody import parsePDB, writePDB, LOGGER\n",
    "LOGGER.verbosity = 'None'\n",
    "import sys\n",
    "sys.path.append('../..')\n",
    "from seq import ReadSeq, AlignSeq"
   ]
  },
  {
   "cell_type": "code",
   "execution_count": 10,
   "metadata": {},
   "outputs": [],
   "source": [
    "template_path = 'template_pdb/2RH1.pdb'\n",
    "chain = 'A'"
   ]
  },
  {
   "cell_type": "code",
   "execution_count": 11,
   "metadata": {},
   "outputs": [],
   "source": [
    "mol = parsePDB(template_path, chain=chain).select('not hetatm')"
   ]
  },
  {
   "cell_type": "code",
   "execution_count": 13,
   "metadata": {},
   "outputs": [],
   "source": [
    "pdb_seq, pdb_resnum = ReadSeq.mol2seq(mol, insert_gap=True)"
   ]
  },
  {
   "cell_type": "code",
   "execution_count": 14,
   "metadata": {},
   "outputs": [
    {
     "output_type": "execute_result",
     "data": {
      "text/plain": [
       "'DEVWVVGMGIVMSLIVLAIVFGNVLVITAIAKFERLQTVTNYFITSLACADLVMGLAVVPFGAAHILMKMWTFGNFWCEFWTSIDVLCVTASIETLCVIAVDRYFAITSPFKYQSLLTKNKARVIILMVWIVSGLTSFLPIQMHWYRATHQEAINCYAEETCCDFFTNQAYAIASSIVSFYVPLVIMVFVYSRVFQEAKRQL--------------------------------KFCLKEHKALKTLGIIMGTFTLCWLPFFIVNIVHVIQDNLIRKEVYILLNWIGYVNSGFNPLIYCRSPDFRIAFQELLCL-----------------------------------------------------------------------------------------------------------------------------------------------------------------------------------------------------------------------------------------------------------------------------------------------------------------------------------------------------------------------------------------------------------------------------------------------------------------------------------------------------------------------------------------------------------------------------------------------------------------------------------------------------------------------------------NIFEMLRIDEGLRLKIYKDTEGYYTIGIGHLLTKSPSLNAAKSELDKAIGRNTNGVITKDEAEKLFNQDVDAAVRGILRNAKLKPVYDSLDAVRRAALINMVFQMGETGVAGFTNSLRMLQQKRWDEAAVNLAKSRWYNQTPNRAKRVITTFRTGTWDAY'"
      ]
     },
     "metadata": {},
     "execution_count": 14
    }
   ],
   "source": [
    "pdb_seq"
   ]
  },
  {
   "cell_type": "code",
   "execution_count": 15,
   "metadata": {},
   "outputs": [
    {
     "output_type": "execute_result",
     "data": {
      "text/plain": [
       "array([  29,   30,   31,   32,   33,   34,   35,   36,   37,   38,   39,\n",
       "         40,   41,   42,   43,   44,   45,   46,   47,   48,   49,   50,\n",
       "         51,   52,   53,   54,   55,   56,   57,   58,   59,   60,   61,\n",
       "         62,   63,   64,   65,   66,   67,   68,   69,   70,   71,   72,\n",
       "         73,   74,   75,   76,   77,   78,   79,   80,   81,   82,   83,\n",
       "         84,   85,   86,   87,   88,   89,   90,   91,   92,   93,   94,\n",
       "         95,   96,   97,   98,   99,  100,  101,  102,  103,  104,  105,\n",
       "        106,  107,  108,  109,  110,  111,  112,  113,  114,  115,  116,\n",
       "        117,  118,  119,  120,  121,  122,  123,  124,  125,  126,  127,\n",
       "        128,  129,  130,  131,  132,  133,  134,  135,  136,  137,  138,\n",
       "        139,  140,  141,  142,  143,  144,  145,  146,  147,  148,  149,\n",
       "        150,  151,  152,  153,  154,  155,  156,  157,  158,  159,  160,\n",
       "        161,  162,  163,  164,  165,  166,  167,  168,  169,  170,  171,\n",
       "        172,  173,  174,  175,  176,  177,  178,  179,  180,  181,  182,\n",
       "        183,  184,  185,  186,  187,  188,  189,  190,  191,  192,  193,\n",
       "        194,  195,  196,  197,  198,  199,  200,  201,  202,  203,  204,\n",
       "        205,  206,  207,  208,  209,  210,  211,  212,  213,  214,  215,\n",
       "        216,  217,  218,  219,  220,  221,  222,  223,  224,  225,  226,\n",
       "        227,  228,  229,  230, 1002, 1003, 1004, 1005, 1006, 1007, 1008,\n",
       "       1009, 1010, 1011, 1012, 1013, 1014, 1015, 1016, 1017, 1018, 1019,\n",
       "       1020, 1021, 1022, 1023, 1024, 1025, 1026, 1027, 1028, 1029, 1030,\n",
       "       1031, 1032, 1033, 1034, 1035, 1036, 1037, 1038, 1039, 1040, 1041,\n",
       "       1042, 1043, 1044, 1045, 1046, 1047, 1048, 1049, 1050, 1051, 1052,\n",
       "       1053, 1054, 1055, 1056, 1057, 1058, 1059, 1060, 1061, 1062, 1063,\n",
       "       1064, 1065, 1066, 1067, 1068, 1069, 1070, 1071, 1072, 1073, 1074,\n",
       "       1075, 1076, 1077, 1078, 1079, 1080, 1081, 1082, 1083, 1084, 1085,\n",
       "       1086, 1087, 1088, 1089, 1090, 1091, 1092, 1093, 1094, 1095, 1096,\n",
       "       1097, 1098, 1099, 1100, 1101, 1102, 1103, 1104, 1105, 1106, 1107,\n",
       "       1108, 1109, 1110, 1111, 1112, 1113, 1114, 1115, 1116, 1117, 1118,\n",
       "       1119, 1120, 1121, 1122, 1123, 1124, 1125, 1126, 1127, 1128, 1129,\n",
       "       1130, 1131, 1132, 1133, 1134, 1135, 1136, 1137, 1138, 1139, 1140,\n",
       "       1141, 1142, 1143, 1144, 1145, 1146, 1147, 1148, 1149, 1150, 1151,\n",
       "       1152, 1153, 1154, 1155, 1156, 1157, 1158, 1159, 1160, 1161,  263,\n",
       "        264,  265,  266,  267,  268,  269,  270,  271,  272,  273,  274,\n",
       "        275,  276,  277,  278,  279,  280,  281,  282,  283,  284,  285,\n",
       "        286,  287,  288,  289,  290,  291,  292,  293,  294,  295,  296,\n",
       "        297,  298,  299,  300,  301,  302,  303,  304,  305,  306,  307,\n",
       "        308,  309,  310,  311,  312,  313,  314,  315,  316,  317,  318,\n",
       "        319,  320,  321,  322,  323,  324,  325,  326,  327,  328,  329,\n",
       "        330,  331,  332,  333,  334,  335,  336,  337,  338,  339,  340,\n",
       "        341,  342])"
      ]
     },
     "metadata": {},
     "execution_count": 15
    }
   ],
   "source": [
    "pdb_resnum"
   ]
  },
  {
   "cell_type": "code",
   "execution_count": 21,
   "metadata": {},
   "outputs": [],
   "source": [
    "def mol2seq(mol,\n",
    "            insert_gap: bool = True) -> (str, np.ndarray):\n",
    "    \"\"\"Convert mol (prody.atomic.atomgroup.AtomGroup) to sequence.\n",
    "\n",
    "    Args:\n",
    "        mol (prody.atomic.atomgroup.AtomGroup): [description].\n",
    "        insert_gap (bool, optional): Flag to insert gaps in areas of missing residue. Defaults to True.\n",
    "\n",
    "    Returns:\n",
    "        str: Sequece of mol.\n",
    "        np.ndarray: Array of the residue numbers.\n",
    "    \"\"\"\n",
    "    resindices = mol.getResindices()\n",
    "    resindices_diff = np.diff(resindices, prepend=float('inf'))\n",
    "    res_start_indices = np.where(resindices_diff != 0)[0]\n",
    "    seq = ''.join(np.array(list(mol.getSequence()))[res_start_indices])\n",
    "    resnums = mol.getResnums()[res_start_indices]\n",
    "    assert len(resnums) == len(np.unique(resnums))\n",
    "    if insert_gap:\n",
    "        # if resnums[0] != np.min(resnums):\n",
    "        #     del_indices = np.where(resnums < resnums[0])[0]\n",
    "        #     seq = ''.join(np.delete(list(seq), del_indices, 0))\n",
    "        #     resnums = np.delete(resnums, del_indices, 0)\n",
    "        # assert resnums[0] == np.min(resnums)\n",
    "        min_resnums = np.min(resnums)\n",
    "        len_seq = np.max(resnums) - min_resnums + 1\n",
    "        seq_array = np.array(['-'] * len_seq)\n",
    "        seq_indices = resnums - min_resnums\n",
    "        seq_array[seq_indices] = list(seq)\n",
    "        seq = ''.join(seq_array)\n",
    "        resnums = np.where(seq_array != '-')[0] + min_resnums\n",
    "    return seq, resnums"
   ]
  },
  {
   "cell_type": "code",
   "execution_count": 22,
   "metadata": {},
   "outputs": [
    {
     "output_type": "execute_result",
     "data": {
      "text/plain": [
       "('DEVWVVGMGIVMSLIVLAIVFGNVLVITAIAKFERLQTVTNYFITSLACADLVMGLAVVPFGAAHILMKMWTFGNFWCEFWTSIDVLCVTASIETLCVIAVDRYFAITSPFKYQSLLTKNKARVIILMVWIVSGLTSFLPIQMHWYRATHQEAINCYAEETCCDFFTNQAYAIASSIVSFYVPLVIMVFVYSRVFQEAKRQL--------------------------------KFCLKEHKALKTLGIIMGTFTLCWLPFFIVNIVHVIQDNLIRKEVYILLNWIGYVNSGFNPLIYCRSPDFRIAFQELLCL-----------------------------------------------------------------------------------------------------------------------------------------------------------------------------------------------------------------------------------------------------------------------------------------------------------------------------------------------------------------------------------------------------------------------------------------------------------------------------------------------------------------------------------------------------------------------------------------------------------------------------------------------------------------------------------NIFEMLRIDEGLRLKIYKDTEGYYTIGIGHLLTKSPSLNAAKSELDKAIGRNTNGVITKDEAEKLFNQDVDAAVRGILRNAKLKPVYDSLDAVRRAALINMVFQMGETGVAGFTNSLRMLQQKRWDEAAVNLAKSRWYNQTPNRAKRVITTFRTGTWDAY',\n",
       " array([  29,   30,   31,   32,   33,   34,   35,   36,   37,   38,   39,\n",
       "          40,   41,   42,   43,   44,   45,   46,   47,   48,   49,   50,\n",
       "          51,   52,   53,   54,   55,   56,   57,   58,   59,   60,   61,\n",
       "          62,   63,   64,   65,   66,   67,   68,   69,   70,   71,   72,\n",
       "          73,   74,   75,   76,   77,   78,   79,   80,   81,   82,   83,\n",
       "          84,   85,   86,   87,   88,   89,   90,   91,   92,   93,   94,\n",
       "          95,   96,   97,   98,   99,  100,  101,  102,  103,  104,  105,\n",
       "         106,  107,  108,  109,  110,  111,  112,  113,  114,  115,  116,\n",
       "         117,  118,  119,  120,  121,  122,  123,  124,  125,  126,  127,\n",
       "         128,  129,  130,  131,  132,  133,  134,  135,  136,  137,  138,\n",
       "         139,  140,  141,  142,  143,  144,  145,  146,  147,  148,  149,\n",
       "         150,  151,  152,  153,  154,  155,  156,  157,  158,  159,  160,\n",
       "         161,  162,  163,  164,  165,  166,  167,  168,  169,  170,  171,\n",
       "         172,  173,  174,  175,  176,  177,  178,  179,  180,  181,  182,\n",
       "         183,  184,  185,  186,  187,  188,  189,  190,  191,  192,  193,\n",
       "         194,  195,  196,  197,  198,  199,  200,  201,  202,  203,  204,\n",
       "         205,  206,  207,  208,  209,  210,  211,  212,  213,  214,  215,\n",
       "         216,  217,  218,  219,  220,  221,  222,  223,  224,  225,  226,\n",
       "         227,  228,  229,  230,  263,  264,  265,  266,  267,  268,  269,\n",
       "         270,  271,  272,  273,  274,  275,  276,  277,  278,  279,  280,\n",
       "         281,  282,  283,  284,  285,  286,  287,  288,  289,  290,  291,\n",
       "         292,  293,  294,  295,  296,  297,  298,  299,  300,  301,  302,\n",
       "         303,  304,  305,  306,  307,  308,  309,  310,  311,  312,  313,\n",
       "         314,  315,  316,  317,  318,  319,  320,  321,  322,  323,  324,\n",
       "         325,  326,  327,  328,  329,  330,  331,  332,  333,  334,  335,\n",
       "         336,  337,  338,  339,  340,  341,  342, 1002, 1003, 1004, 1005,\n",
       "        1006, 1007, 1008, 1009, 1010, 1011, 1012, 1013, 1014, 1015, 1016,\n",
       "        1017, 1018, 1019, 1020, 1021, 1022, 1023, 1024, 1025, 1026, 1027,\n",
       "        1028, 1029, 1030, 1031, 1032, 1033, 1034, 1035, 1036, 1037, 1038,\n",
       "        1039, 1040, 1041, 1042, 1043, 1044, 1045, 1046, 1047, 1048, 1049,\n",
       "        1050, 1051, 1052, 1053, 1054, 1055, 1056, 1057, 1058, 1059, 1060,\n",
       "        1061, 1062, 1063, 1064, 1065, 1066, 1067, 1068, 1069, 1070, 1071,\n",
       "        1072, 1073, 1074, 1075, 1076, 1077, 1078, 1079, 1080, 1081, 1082,\n",
       "        1083, 1084, 1085, 1086, 1087, 1088, 1089, 1090, 1091, 1092, 1093,\n",
       "        1094, 1095, 1096, 1097, 1098, 1099, 1100, 1101, 1102, 1103, 1104,\n",
       "        1105, 1106, 1107, 1108, 1109, 1110, 1111, 1112, 1113, 1114, 1115,\n",
       "        1116, 1117, 1118, 1119, 1120, 1121, 1122, 1123, 1124, 1125, 1126,\n",
       "        1127, 1128, 1129, 1130, 1131, 1132, 1133, 1134, 1135, 1136, 1137,\n",
       "        1138, 1139, 1140, 1141, 1142, 1143, 1144, 1145, 1146, 1147, 1148,\n",
       "        1149, 1150, 1151, 1152, 1153, 1154, 1155, 1156, 1157, 1158, 1159,\n",
       "        1160, 1161]))"
      ]
     },
     "metadata": {},
     "execution_count": 22
    }
   ],
   "source": [
    "mol2seq(mol)"
   ]
  },
  {
   "cell_type": "code",
   "execution_count": 57,
   "metadata": {},
   "outputs": [
    {
     "output_type": "execute_result",
     "data": {
      "text/plain": [
       "('QLSVEQFLNEQKQAVETALSRYIERLEGPAKLKKAMAYSLEAGGKRIRPLLLLSTVRALGKDPAVGLPVACAIEMIHTYSLIHDDLPSMDNDDLRRGKPTNHKVFGEAMAILAGDGLLTYAFQLITE--DERIPPSVRLRLIERLAKAAGPEGMVAGQAADMEGEGKTLTLSELEYIHRHKTGKMLQYSVHAGALIGGADARQTRELDEFAAHLGLAFQIR---------------------------------LAGAKEKLAFHIEAAQRHLRNADVDGAALAYICELVAAR',\n",
       " array([  3,   4,   5,   6,   7,   8,   9,  10,  11,  12,  13,  14,  15,\n",
       "         16,  17,  18,  19,  20,  21,  22,  23,  24,  25,  26,  27,  28,\n",
       "         29,  30,  31,  32,  33,  34,  35,  36,  37,  38,  39,  40,  41,\n",
       "         42,  43,  44,  45,  46,  47,  48,  49,  50,  51,  52,  53,  54,\n",
       "         55,  56,  57,  58,  59,  60,  61,  62,  63,  64,  65,  66,  67,\n",
       "         68,  69,  70,  71,  72,  73,  74,  75,  76,  77,  78,  79,  80,\n",
       "         81,  82,  83,  84,  85,  86,  87,  88,  89,  90,  91,  92,  93,\n",
       "         94,  95,  96,  97,  98,  99, 100, 101, 102, 103, 104, 105, 106,\n",
       "        107, 108, 109, 110, 111, 112, 113, 114, 115, 116, 117, 118, 119,\n",
       "        120, 121, 122, 123, 124, 125, 126, 127, 128, 129, 132, 133, 134,\n",
       "        135, 136, 137, 138, 139, 140, 141, 142, 143, 144, 145, 146, 147,\n",
       "        148, 149, 150, 151, 152, 153, 154, 155, 156, 157, 158, 159, 160,\n",
       "        161, 162, 163, 164, 165, 166, 167, 168, 169, 170, 171, 172, 173,\n",
       "        174, 175, 176, 177, 178, 179, 180, 181, 182, 183, 184, 185, 186,\n",
       "        187, 188, 189, 190, 191, 192, 193, 194, 195, 196, 197, 198, 199,\n",
       "        200, 201, 202, 203, 204, 205, 206, 207, 208, 209, 210, 211, 212,\n",
       "        213, 214, 215, 216, 217, 218, 219, 220, 221, 222, 223, 257, 258,\n",
       "        259, 260, 261, 262, 263, 264, 265, 266, 267, 268, 269, 270, 271,\n",
       "        272, 273, 274, 275, 276, 277, 278, 279, 280, 281, 282, 283, 284,\n",
       "        285, 286, 287, 288, 289, 290, 291, 292, 293, 294, 295]))"
      ]
     },
     "metadata": {},
     "execution_count": 57
    }
   ],
   "source": [
    "pdb_path = 'template_pdb/5AYP.pdb'\n",
    "ReadSeq.pdb2seq(pdb_path, 'A')"
   ]
  },
  {
   "cell_type": "code",
   "execution_count": 58,
   "metadata": {},
   "outputs": [],
   "source": [
    "pdb_seq, pdb_resnum = ReadSeq.pdb2seq(pdb_path, 'A')"
   ]
  },
  {
   "cell_type": "code",
   "execution_count": 59,
   "metadata": {},
   "outputs": [],
   "source": [
    "hit_seq = \"LNEQKQAVETALSRYIERLEGPA-KLKKAMAYSLEAGGKRIRPLLLLSTVRALGKDPAVGLPVACAIEMIHTYSLIHDDLPSMDNDDLRRGKPTNHKVFGEAMAILAGDGLLTYAFQLITEIDDERIPPSVRLRLIERLAKAAGPEGMVAGQAADMEGEGKT--LTLSELEYIHRHKTGKMLQYSVHAGALIGGADARQTRELDEFAAHLGLAFQIRDDILDIEGAEEKIGKPVGSDQSNNKATYPALLSLAGAKEKLA\""
   ]
  },
  {
   "cell_type": "code",
   "execution_count": 60,
   "metadata": {},
   "outputs": [
    {
     "output_type": "execute_result",
     "data": {
      "text/plain": [
       "(array(['-', '-', '-', '-', '-', '-', '-', 'L', 'N', 'E', 'Q', 'K', 'Q',\n",
       "        'A', 'V', 'E', 'T', 'A', 'L', 'S', 'R', 'Y', 'I', 'E', 'R', 'L',\n",
       "        'E', 'G', 'P', 'A', 'K', 'L', 'K', 'K', 'A', 'M', 'A', 'Y', 'S',\n",
       "        'L', 'E', 'A', 'G', 'G', 'K', 'R', 'I', 'R', 'P', 'L', 'L', 'L',\n",
       "        'L', 'S', 'T', 'V', 'R', 'A', 'L', 'G', 'K', 'D', 'P', 'A', 'V',\n",
       "        'G', 'L', 'P', 'V', 'A', 'C', 'A', 'I', 'E', 'M', 'I', 'H', 'T',\n",
       "        'Y', 'S', 'L', 'I', 'H', 'D', 'D', 'L', 'P', 'S', 'M', 'D', 'N',\n",
       "        'D', 'D', 'L', 'R', 'R', 'G', 'K', 'P', 'T', 'N', 'H', 'K', 'V',\n",
       "        'F', 'G', 'E', 'A', 'M', 'A', 'I', 'L', 'A', 'G', 'D', 'G', 'L',\n",
       "        'L', 'T', 'Y', 'A', 'F', 'Q', 'L', 'I', 'T', 'E', 'D', 'E', 'R',\n",
       "        'I', 'P', 'P', 'S', 'V', 'R', 'L', 'R', 'L', 'I', 'E', 'R', 'L',\n",
       "        'A', 'K', 'A', 'A', 'G', 'P', 'E', 'G', 'M', 'V', 'A', 'G', 'Q',\n",
       "        'A', 'A', 'D', 'M', 'E', 'G', 'E', 'G', 'K', 'T', 'L', 'T', 'L',\n",
       "        'S', 'E', 'L', 'E', 'Y', 'I', 'H', 'R', 'H', 'K', 'T', 'G', 'K',\n",
       "        'M', 'L', 'Q', 'Y', 'S', 'V', 'H', 'A', 'G', 'A', 'L', 'I', 'G',\n",
       "        'G', 'A', 'D', 'A', 'R', 'Q', 'T', 'R', 'E', 'L', 'D', 'E', 'F',\n",
       "        'A', 'A', 'H', 'L', 'G', 'L', 'A', 'F', 'Q', 'I', 'R', 'L', 'A',\n",
       "        'G', 'A', 'K', 'E', 'K', 'L', 'A', '-', '-', '-', '-', '-', '-',\n",
       "        '-', '-', '-', '-', '-', '-', '-', '-', '-', '-', '-', '-', '-',\n",
       "        '-', '-', '-', '-', '-', '-', '-', '-', '-', '-', '-'], dtype='<U1'),\n",
       " array(['L', 'N', 'E', 'Q', 'K', 'Q', 'A', 'V', 'E', 'T', 'A', 'L', 'S',\n",
       "        'R', 'Y', 'I', 'E', 'R', 'L', 'E', 'G', 'P', 'A', 'K', 'L', 'K',\n",
       "        'K', 'A', 'M', 'A', 'Y', 'S', 'L', 'E', 'A', 'G', 'G', 'K', 'R',\n",
       "        'I', 'R', 'P', 'L', 'L', 'L', 'L', 'S', 'T', 'V', 'R', 'A', 'L',\n",
       "        'G', 'K', 'D', 'P', 'A', 'V', 'G', 'L', 'P', 'V', 'A', 'C', 'A',\n",
       "        'I', 'E', 'M', 'I', 'H', 'T', 'Y', 'S', 'L', 'I', 'H', 'D', 'D',\n",
       "        'L', 'P', 'S', 'M', 'D', 'N', 'D', 'D', 'L', 'R', 'R', 'G', 'K',\n",
       "        'P', 'T', 'N', 'H', 'K', 'V', 'F', 'G', 'E', 'A', 'M', 'A', 'I',\n",
       "        'L', 'A', 'G', 'D', 'G', 'L', 'L', 'T', 'Y', 'A', 'F', 'Q', 'L',\n",
       "        'I', 'T', 'E', '-', '-', 'D', 'E', 'R', 'I', 'P', 'P', 'S', 'V',\n",
       "        'R', 'L', 'R', 'L', 'I', 'E', 'R', 'L', 'A', 'K', 'A', 'A', 'G',\n",
       "        'P', 'E', 'G', 'M', 'V', 'A', 'G', 'Q', 'A', 'A', 'D', 'M', 'E',\n",
       "        'G', 'E', 'G', 'K', 'T', 'L', 'T', 'L', 'S', 'E', 'L', 'E', 'Y',\n",
       "        'I', 'H', 'R', 'H', 'K', 'T', 'G', 'K', 'M', 'L', 'Q', 'Y', 'S',\n",
       "        'V', 'H', 'A', 'G', 'A', 'L', 'I', 'G', 'G', 'A', 'D', 'A', 'R',\n",
       "        'Q', 'T', 'R', 'E', 'L', 'D', 'E', 'F', 'A', 'A', 'H', 'L', 'G',\n",
       "        'L', 'A', 'F', 'Q', 'I', 'R', '-', '-', '-', '-', '-', '-', '-',\n",
       "        '-', '-', '-', '-', '-', '-', '-', '-', '-', '-', '-', '-', '-',\n",
       "        '-', '-', '-', '-', '-', '-', '-', '-', '-', '-', '-', '-', '-',\n",
       "        'L', 'A', 'G', 'A', 'K', 'E', 'K', 'L', 'A'], dtype='<U1'),\n",
       " array([  0,   1,   2,   3,   4,   5,   6,   7,   8,   9,  10,  11,  12,\n",
       "         13,  14,  15,  16,  17,  18,  19,  20,  21,  22,  23,  24,  25,\n",
       "         26,  27,  28,  29,  30,  31,  32,  33,  34,  35,  36,  37,  38,\n",
       "         39,  40,  41,  42,  43,  44,  45,  46,  47,  48,  49,  50,  51,\n",
       "         52,  53,  54,  55,  56,  57,  58,  59,  60,  61,  62,  63,  64,\n",
       "         65,  66,  67,  68,  69,  70,  71,  72,  73,  74,  75,  76,  77,\n",
       "         78,  79,  80,  81,  82,  83,  84,  85,  86,  87,  88,  89,  90,\n",
       "         91,  92,  93,  94,  95,  96,  97,  98,  99, 100, 101, 102, 103,\n",
       "        104, 105, 106, 107, 108, 109, 110, 111, 112, 113, 114, 115, 116,\n",
       "        117, 118, 119, 122, 123, 124, 125, 126, 127, 128, 129, 130, 131,\n",
       "        132, 133, 134, 135, 136, 137, 138, 139, 140, 141, 142, 143, 144,\n",
       "        145, 146, 147, 148, 149, 150, 151, 152, 153, 154, 155, 156, 157,\n",
       "        158, 159, 160, 161, 162, 163, 164, 165, 166, 167, 168, 169, 170,\n",
       "        171, 172, 173, 174, 175, 176, 177, 178, 179, 180, 181, 182, 183,\n",
       "        184, 185, 186, 187, 188, 189, 190, 191, 192, 193, 194, 195, 196,\n",
       "        197, 198, 199, 200, 201, 202, 203, 204, 205, 206, 207, 208, 209,\n",
       "        210, 211, 212, 213, 247, 248, 249, 250, 251, 252, 253, 254, 255]),\n",
       " array([  7,   8,   9,  10,  11,  12,  13,  14,  15,  16,  17,  18,  19,\n",
       "         20,  21,  22,  23,  24,  25,  26,  27,  28,  29,  30,  31,  32,\n",
       "         33,  34,  35,  36,  37,  38,  39,  40,  41,  42,  43,  44,  45,\n",
       "         46,  47,  48,  49,  50,  51,  52,  53,  54,  55,  56,  57,  58,\n",
       "         59,  60,  61,  62,  63,  64,  65,  66,  67,  68,  69,  70,  71,\n",
       "         72,  73,  74,  75,  76,  77,  78,  79,  80,  81,  82,  83,  84,\n",
       "         85,  86,  87,  88,  89,  90,  91,  92,  93,  94,  95,  96,  97,\n",
       "         98,  99, 100, 101, 102, 103, 104, 105, 106, 107, 108, 109, 110,\n",
       "        111, 112, 113, 114, 115, 116, 117, 118, 119, 120, 121, 122, 123,\n",
       "        124, 125, 126, 127, 128, 129, 130, 131, 132, 133, 134, 135, 136,\n",
       "        137, 138, 139, 140, 141, 142, 143, 144, 145, 146, 147, 148, 149,\n",
       "        150, 151, 152, 153, 154, 155, 156, 157, 158, 159, 160, 161, 162,\n",
       "        163, 164, 165, 166, 167, 168, 169, 170, 171, 172, 173, 174, 175,\n",
       "        176, 177, 178, 179, 180, 181, 182, 183, 184, 185, 186, 187, 188,\n",
       "        189, 190, 191, 192, 193, 194, 195, 196, 197, 198, 199, 200, 201,\n",
       "        202, 203, 204, 205, 206, 207, 208, 209, 210, 211, 212, 213, 214,\n",
       "        215, 216, 217, 218, 219, 220, 221, 222, 223, 224, 225, 226, 227]))"
      ]
     },
     "metadata": {},
     "execution_count": 60
    }
   ],
   "source": [
    "hit_seq_fil = ''.join(list(filter(lambda x: x != '-', hit_seq)))\n",
    "AlignSeq.align_seq(hit_seq_fil, pdb_seq, 5, 1, -2, -1)"
   ]
  },
  {
   "cell_type": "code",
   "execution_count": 61,
   "metadata": {},
   "outputs": [
    {
     "output_type": "execute_result",
     "data": {
      "text/plain": [
       "IERLEGPAKLKKAMAYSLEAGGKRIRPLLLLSTVRALGKDPAVGLPVACAIEMIHTYSLIHDDLPSMDNDDLRRGKPTNHKVFGEAMAILAGDGLLTYAFQLITEIDDERIPPSVRLRLIERLAKAAGPEGMVAGQAADMEGEGKTLTLSELEYIHRHKTGKMLQYSVHAGALIGGADARQTRELDEFAAHLGLAFQIRDD------------------------------ILDIEGAEEK----IGKPVGSDQ--SNNKATYP-ALLSLAGAKEKL--A-', seqB='QLSVEQFLNEQKQAVETALSRYIERLEGPAKLKKAMAYSLEAGGKRIRPLLLLSTVRALGKDPAVGLPVACAIEMIHTYSLIHDDLPSMDNDDLRRGKPTNHKVFGEAMAILAGDGLLTYAFQLITE--DERIPPSVRLRLIERLAKAAGPEGMVAGQAADMEGEGKTLTLSELEYIHRHKTGKMLQYSVHAGALIGGADARQTRELDEFAAHLGLAFQIR---------------------------------L--AGAKEKLAFHI----EAAQRHLRN-ADVDGAAL--AYICE-LVAAR', score=1047.0, start=0, end=303),\n",
       " Alignment(seqA='-------LNEQKQAVETALSRYIERLEGPAKLKKAMAYSLEAGGKRIRPLLLLSTVRALGKDPAVGLPVACAIEMIHTYSLIHDDLPSMDNDDLRRGKPTNHKVFGEAMAILAGDGLLTYAFQLITEIDDERIPPSVRLRLIERLAKAAGPEGMVAGQAADMEGEGKTLTLSELEYIHRHKTGKMLQYSVHAGALIGGADARQTRELDEFAAHLGLAFQIRDDI------------------------------LDIEGAEEK----IGKPVGSDQ--SNNKATYP-ALLSLAGAKEKL--A-', seqB='QLSVEQFLNEQKQAVETALSRYIERLEGPAKLKKAMAYSLEAGGKRIRPLLLLSTVRALGKDPAVGLPVACAIEMIHTYSLIHDDLPSMDNDDLRRGKPTNHKVFGEAMAILAGDGLLTYAFQLITE--DERIPPSVRLRLIERLAKAAGPEGMVAGQAADMEGEGKTLTLSELEYIHRHKTGKMLQYSVHAGALIGGADARQTRELDEFAAHLGLAFQIR---------------------------------L--AGAKEKLAFHI----EAAQRHLRN-ADVDGAAL--AYICE-LVAAR', score=1047.0, start=0, end=303),\n",
       " Alignment(seqA='-------LNEQKQAVETALSRYIERLEGPAKLKKAMAYSLEAGGKRIRPLLLLSTVRALGKDPAVGLPVACAIEMIHTYSLIHDDLPSMDNDDLRRGKPTNHKVFGEAMAILAGDGLLTYAFQLITEIDDERIPPSVRLRLIERLAKAAGPEGMVAGQAADMEGEGKTLTLSELEYIHRHKTGKMLQYSVHAGALIGGADARQTRELDEFAAHLGLAFQIR------------------------------DDILDIEGAEEK----IGKPVGSDQ--SNNKATYP-ALLSLAGAKEKL--A-', seqB='QLSVEQFLNEQKQAVETALSRYIERLEGPAKLKKAMAYSLEAGGKRIRPLLLLSTVRALGKDPAVGLPVACAIEMIHTYSLIHDDLPSMDNDDLRRGKPTNHKVFGEAMAILAGDGLLTYAFQLITE--DERIPPSVRLRLIERLAKAAGPEGMVAGQAADMEGEGKTLTLSELEYIHRHKTGKMLQYSVHAGALIGGADARQTRELDEFAAHLGLAFQIR---------------------------------LA--GAKEKLAFHI----EAAQRHLRN-ADVDGAAL--AYICE-LVAAR', score=1047.0, start=0, end=303),\n",
       " Alignment(seqA='-------LNEQKQAVETALSRYIERLEGPAKLKKAMAYSLEAGGKRIRPLLLLSTVRALGKDPAVGLPVACAIEMIHTYSLIHDDLPSMDNDDLRRGKPTNHKVFGEAMAILAGDGLLTYAFQLITEIDDERIPPSVRLRLIERLAKAAGPEGMVAGQAADMEGEGKTLTLSELEYIHRHKTGKMLQYSVHAGALIGGADARQTRELDEFAAHLGLAFQIRD------------------------------DILDIEGAEEK----IGKPVGSDQ--SNNKATYP-ALLSLAGAKEKL--A-', seqB='QLSVEQFLNEQKQAVETALSRYIERLEGPAKLKKAMAYSLEAGGKRIRPLLLLSTVRALGKDPAVGLPVACAIEMIHTYSLIHDDLPSMDNDDLRRGKPTNHKVFGEAMAILAGDGLLTYAFQLITE--DERIPPSVRLRLIERLAKAAGPEGMVAGQAADMEGEGKTLTLSELEYIHRHKTGKMLQYSVHAGALIGGADARQTRELDEFAAHLGLAFQIR---------------------------------LA--GAKEKLAFHI----EAAQRHLRN-ADVDGAAL--AYICE-LVAAR', score=1047.0, start=0, end=303),\n",
       " Alignment(seqA='-------LNEQKQAVETALSRYIERLEGPAKLKKAMAYSLEAGGKRIRPLLLLSTVRALGKDPAVGLPVACAIEMIHTYSLIHDDLPSMDNDDLRRGKPTNHKVFGEAMAILAGDGLLTYAFQLITEIDDERIPPSVRLRLIERLAKAAGPEGMVAGQAADMEGEGKTLTLSELEYIHRHKTGKMLQYSVHAGALIGGADARQTRELDEFAAHLGLAFQIRDD------------------------------ILDIEGAEEK----IGKPVGSDQ--SNNKATYP-ALLSLAGAKEKL--A-', seqB='QLSVEQFLNEQKQAVETALSRYIERLEGPAKLKKAMAYSLEAGGKRIRPLLLLSTVRALGKDPAVGLPVACAIEMIHTYSLIHDDLPSMDNDDLRRGKPTNHKVFGEAMAILAGDGLLTYAFQLITE--DERIPPSVRLRLIERLAKAAGPEGMVAGQAADMEGEGKTLTLSELEYIHRHKTGKMLQYSVHAGALIGGADARQTRELDEFAAHLGLAFQIR---------------------------------LA--GAKEKLAFHI----EAAQRHLRN-ADVDGAAL--AYICE-LVAAR', score=1047.0, start=0, end=303),\n",
       " Alignment(seqA='-------LNEQKQAVETALSRYIERLEGPAKLKKAMAYSLEAGGKRIRPLLLLSTVRALGKDPAVGLPVACAIEMIHTYSLIHDDLPSMDNDDLRRGKPTNHKVFGEAMAILAGDGLLTYAFQLITEIDDERIPPSVRLRLIERLAKAAGPEGMVAGQAADMEGEGKTLTLSELEYIHRHKTGKMLQYSVHAGALIGGADARQTRELDEFAAHLGLAFQIRDDI------------------------------LDIEGAEEK----IGKPVGSDQ--SNNKATYP-ALLSLAGAKEKL--A-', seqB='QLSVEQFLNEQKQAVETALSRYIERLEGPAKLKKAMAYSLEAGGKRIRPLLLLSTVRALGKDPAVGLPVACAIEMIHTYSLIHDDLPSMDNDDLRRGKPTNHKVFGEAMAILAGDGLLTYAFQLITE--DERIPPSVRLRLIERLAKAAGPEGMVAGQAADMEGEGKTLTLSELEYIHRHKTGKMLQYSVHAGALIGGADARQTRELDEFAAHLGLAFQIR---------------------------------LA--GAKEKLAFHI----EAAQRHLRN-ADVDGAAL--AYICE-LVAAR', score=1047.0, start=0, end=303),\n",
       " Alignment(seqA='-------LNEQKQAVETALSRYIERLEGPAKLKKAMAYSLEAGGKRIRPLLLLSTVRALGKDPAVGLPVACAIEMIHTYSLIHDDLPSMDNDDLRRGKPTNHKVFGEAMAILAGDGLLTYAFQLITEIDDERIPPSVRLRLIERLAKAAGPEGMVAGQAADMEGEGKTLTLSELEYIHRHKTGKMLQYSVHAGALIGGADARQTRELDEFAAHLGLAFQIR------------------------------DDILDIEGAEEK----IGKPVGSDQ--SNNKATYP-ALLSLAGAKEKL--A-', seqB='QLSVEQFLNEQKQAVETALSRYIERLEGPAKLKKAMAYSLEAGGKRIRPLLLLSTVRALGKDPAVGLPVACAIEMIHTYSLIHDDLPSMDNDDLRRGKPTNHKVFGEAMAILAGDGLLTYAFQLITE--DERIPPSVRLRLIERLAKAAGPEGMVAGQAADMEGEGKTLTLSELEYIHRHKTGKMLQYSVHAGALIGGADARQTRELDEFAAHLGLAFQIR---------------------------------L--AGAKEKLAFHIE----AAQRHLRN-ADVDGAAL--AYICE-LVAAR', score=1047.0, start=0, end=303),\n",
       " Alignment(seqA='-------LNEQKQAVETALSRYIERLEGPAKLKKAMAYSLEAGGKRIRPLLLLSTVRALGKDPAVGLPVACAIEMIHTYSLIHDDLPSMDNDDLRRGKPTNHKVFGEAMAILAGDGLLTYAFQLITEIDDERIPPSVRLRLIERLAKAAGPEGMVAGQAADMEGEGKTLTLSELEYIHRHKTGKMLQYSVHAGALIGGADARQTRELDEFAAHLGLAFQIRD------------------------------DILDIEGAEEK----IGKPVGSDQ--SNNKATYP-ALLSLAGAKEKL--A-', seqB='QLSVEQFLNEQKQAVETALSRYIERLEGPAKLKKAMAYSLEAGGKRIRPLLLLSTVRALGKDPAVGLPVACAIEMIHTYSLIHDDLPSMDNDDLRRGKPTNHKVFGEAMAILAGDGLLTYAFQLITE--DERIPPSVRLRLIERLAKAAGPEGMVAGQAADMEGEGKTLTLSELEYIHRHKTGKMLQYSVHAGALIGGADARQTRELDEFAAHLGLAFQIR---------------------------------L--AGAKEKLAFHIE----AAQRHLRN-ADVDGAAL--AYICE-LVAAR', score=1047.0, start=0, end=303),\n",
       " Alignment(seqA='-------LNEQKQAVETALSRYIERLEGPAKLKKAMAYSLEAGGKRIRPLLLLSTVRALGKDPAVGLPVACAIEMIHTYSLIHDDLPSMDNDDLRRGKPTNHKVFGEAMAILAGDGLLTYAFQLITEIDDERIPPSVRLRLIERLAKAAGPEGMVAGQAADMEGEGKTLTLSELEYIHRHKTGKMLQYSVHAGALIGGADARQTRELDEFAAHLGLAFQIRDD------------------------------ILDIEGAEEK----IGKPVGSDQ--SNNKATYP-ALLSLAGAKEKL--A-', seqB='QLSVEQFLNEQKQAVETALSRYIERLEGPAKLKKAMAYSLEAGGKRIRPLLLLSTVRALGKDPAVGLPVACAIEMIHTYSLIHDDLPSMDNDDLRRGKPTNHKVFGEAMAILAGDGLLTYAFQLITE--DERIPPSVRLRLIERLAKAAGPEGMVAGQAADMEGEGKTLTLSELEYIHRHKTGKMLQYSVHAGALIGGADARQTRELDEFAAHLGLAFQIR---------------------------------L--AGAKEKLAFHIE----AAQRHLRN-ADVDGAAL--AYICE-LVAAR', score=1047.0, start=0, end=303),\n",
       " Alignment(seqA='-------LNEQKQAVETALSRYIERLEGPAKLKKAMAYSLEAGGKRIRPLLLLSTVRALGKDPAVGLPVACAIEMIHTYSLIHDDLPSMDNDDLRRGKPTNHKVFGEAMAILAGDGLLTYAFQLITEIDDERIPPSVRLRLIERLAKAAGPEGMVAGQAADMEGEGKTLTLSELEYIHRHKTGKMLQYSVHAGALIGGADARQTRELDEFAAHLGLAFQIRDDI------------------------------LDIEGAEEK----IGKPVGSDQ--SNNKATYP-ALLSLAGAKEKL--A-', seqB='QLSVEQFLNEQKQAVETALSRYIERLEGPAKLKKAMAYSLEAGGKRIRPLLLLSTVRALGKDPAVGLPVACAIEMIHTYSLIHDDLPSMDNDDLRRGKPTNHKVFGEAMAILAGDGLLTYAFQLITE--DERIPPSVRLRLIERLAKAAGPEGMVAGQAADMEGEGKTLTLSELEYIHRHKTGKMLQYSVHAGALIGGADARQTRELDEFAAHLGLAFQIR---------------------------------L--AGAKEKLAFHIE----AAQRHLRN-ADVDGAAL--AYICE-LVAAR', score=1047.0, start=0, end=303),\n",
       " Alignment(seqA='-------LNEQKQAVETALSRYIERLEGPAKLKKAMAYSLEAGGKRIRPLLLLSTVRALGKDPAVGLPVACAIEMIHTYSLIHDDLPSMDNDDLRRGKPTNHKVFGEAMAILAGDGLLTYAFQLITEIDDERIPPSVRLRLIERLAKAAGPEGMVAGQAADMEGEGKTLTLSELEYIHRHKTGKMLQYSVHAGALIGGADARQTRELDEFAAHLGLAFQIR------------------------------DDILDIEGAEEK----IGKPVGSDQ--SNNKATYP-ALLSLAGAKEKL--A-', seqB='QLSVEQFLNEQKQAVETALSRYIERLEGPAKLKKAMAYSLEAGGKRIRPLLLLSTVRALGKDPAVGLPVACAIEMIHTYSLIHDDLPSMDNDDLRRGKPTNHKVFGEAMAILAGDGLLTYAFQLITE--DERIPPSVRLRLIERLAKAAGPEGMVAGQAADMEGEGKTLTLSELEYIHRHKTGKMLQYSVHAGALIGGADARQTRELDEFAAHLGLAFQIR---------------------------------LA--GAKEKLAFHIE----AAQRHLRN-ADVDGAAL--AYICE-LVAAR', score=1047.0, start=0, end=303),\n",
       " Alignment(seqA='-------LNEQKQAVETALSRYIERLEGPAKLKKAMAYSLEAGGKRIRPLLLLSTVRALGKDPAVGLPVACAIEMIHTYSLIHDDLPSMDNDDLRRGKPTNHKVFGEAMAILAGDGLLTYAFQLITEIDDERIPPSVRLRLIERLAKAAGPEGMVAGQAADMEGEGKTLTLSELEYIHRHKTGKMLQYSVHAGALIGGADARQTRELDEFAAHLGLAFQIRD------------------------------DILDIEGAEEK----IGKPVGSDQ--SNNKATYP-ALLSLAGAKEKL--A-', seqB='QLSVEQFLNEQKQAVETALSRYIERLEGPAKLKKAMAYSLEAGGKRIRPLLLLSTVRALGKDPAVGLPVACAIEMIHTYSLIHDDLPSMDNDDLRRGKPTNHKVFGEAMAILAGDGLLTYAFQLITE--DERIPPSVRLRLIERLAKAAGPEGMVAGQAADMEGEGKTLTLSELEYIHRHKTGKMLQYSVHAGALIGGADARQTRELDEFAAHLGLAFQIR---------------------------------LA--GAKEKLAFHIE----AAQRHLRN-ADVDGAAL--AYICE-LVAAR', score=1047.0, start=0, end=303),\n",
       " Alignment(seqA='-------LNEQKQAVETALSRYIERLEGPAKLKKAMAYSLEAGGKRIRPLLLLSTVRALGKDPAVGLPVACAIEMIHTYSLIHDDLPSMDNDDLRRGKPTNHKVFGEAMAILAGDGLLTYAFQLITEIDDERIPPSVRLRLIERLAKAAGPEGMVAGQAADMEGEGKTLTLSELEYIHRHKTGKMLQYSVHAGALIGGADARQTRELDEFAAHLGLAFQIRDD------------------------------ILDIEGAEEK----IGKPVGSDQ--SNNKATYP-ALLSLAGAKEKL--A-', seqB='QLSVEQFLNEQKQAVETALSRYIERLEGPAKLKKAMAYSLEAGGKRIRPLLLLSTVRALGKDPAVGLPVACAIEMIHTYSLIHDDLPSMDNDDLRRGKPTNHKVFGEAMAILAGDGLLTYAFQLITE--DERIPPSVRLRLIERLAKAAGPEGMVAGQAADMEGEGKTLTLSELEYIHRHKTGKMLQYSVHAGALIGGADARQTRELDEFAAHLGLAFQIR---------------------------------LA--GAKEKLAFHIE----AAQRHLRN-ADVDGAAL--AYICE-LVAAR', score=1047.0, start=0, end=303),\n",
       " Alignment(seqA='-------LNEQKQAVETALSRYIERLEGPAKLKKAMAYSLEAGGKRIRPLLLLSTVRALGKDPAVGLPVACAIEMIHTYSLIHDDLPSMDNDDLRRGKPTNHKVFGEAMAILAGDGLLTYAFQLITEIDDERIPPSVRLRLIERLAKAAGPEGMVAGQAADMEGEGKTLTLSELEYIHRHKTGKMLQYSVHAGALIGGADARQTRELDEFAAHLGLAFQIRDDI------------------------------LDIEGAEEK----IGKPVGSDQ--SNNKATYP-ALLSLAGAKEKL--A-', seqB='QLSVEQFLNEQKQAVETALSRYIERLEGPAKLKKAMAYSLEAGGKRIRPLLLLSTVRALGKDPAVGLPVACAIEMIHTYSLIHDDLPSMDNDDLRRGKPTNHKVFGEAMAILAGDGLLTYAFQLITE--DERIPPSVRLRLIERLAKAAGPEGMVAGQAADMEGEGKTLTLSELEYIHRHKTGKMLQYSVHAGALIGGADARQTRELDEFAAHLGLAFQIR---------------------------------LA--GAKEKLAFHIE----AAQRHLRN-ADVDGAAL--AYICE-LVAAR', score=1047.0, start=0, end=303),\n",
       " Alignment(seqA='-------LNEQKQAVETALSRYIERLEGPAKLKKAMAYSLEAGGKRIRPLLLLSTVRALGKDPAVGLPVACAIEMIHTYSLIHDDLPSMDNDDLRRGKPTNHKVFGEAMAILAGDGLLTYAFQLITEIDDERIPPSVRLRLIERLAKAAGPEGMVAGQAADMEGEGKTLTLSELEYIHRHKTGKMLQYSVHAGALIGGADARQTRELDEFAAHLGLAFQIR------------------------------DDILDIEGAEEK----IGKPVGSDQ--SNNKATYP-ALLSLAGAKEKL--A-', seqB='QLSVEQFLNEQKQAVETALSRYIERLEGPAKLKKAMAYSLEAGGKRIRPLLLLSTVRALGKDPAVGLPVACAIEMIHTYSLIHDDLPSMDNDDLRRGKPTNHKVFGEAMAILAGDGLLTYAFQLITE--DERIPPSVRLRLIERLAKAAGPEGMVAGQAADMEGEGKTLTLSELEYIHRHKTGKMLQYSVHAGALIGGADARQTRELDEFAAHLGLAFQIR---------------------------------L--AGAKEKLAFHIEA----AQRHLRN-ADVDGAAL--AYICE-LVAAR', score=1047.0, start=0, end=303),\n",
       " Alignment(seqA='-------LNEQKQAVETALSRYIERLEGPAKLKKAMAYSLEAGGKRIRPLLLLSTVRALGKDPAVGLPVACAIEMIHTYSLIHDDLPSMDNDDLRRGKPTNHKVFGEAMAILAGDGLLTYAFQLITEIDDERIPPSVRLRLIERLAKAAGPEGMVAGQAADMEGEGKTLTLSELEYIHRHKTGKMLQYSVHAGALIGGADARQTRELDEFAAHLGLAFQIRD------------------------------DILDIEGAEEK----IGKPVGSDQ--SNNKATYP-ALLSLAGAKEKL--A-', seqB='QLSVEQFLNEQKQAVETALSRYIERLEGPAKLKKAMAYSLEAGGKRIRPLLLLSTVRALGKDPAVGLPVACAIEMIHTYSLIHDDLPSMDNDDLRRGKPTNHKVFGEAMAILAGDGLLTYAFQLITE--DERIPPSVRLRLIERLAKAAGPEGMVAGQAADMEGEGKTLTLSELEYIHRHKTGKMLQYSVHAGALIGGADARQTRELDEFAAHLGLAFQIR---------------------------------L--AGAKEKLAFHIEA----AQRHLRN-ADVDGAAL--AYICE-LVAAR', score=1047.0, start=0, end=303),\n",
       " Alignment(seqA='-------LNEQKQAVETALSRYIERLEGPAKLKKAMAYSLEAGGKRIRPLLLLSTVRALGKDPAVGLPVACAIEMIHTYSLIHDDLPSMDNDDLRRGKPTNHKVFGEAMAILAGDGLLTYAFQLITEIDDERIPPSVRLRLIERLAKAAGPEGMVAGQAADMEGEGKTLTLSELEYIHRHKTGKMLQYSVHAGALIGGADARQTRELDEFAAHLGLAFQIRDD------------------------------ILDIEGAEEK----IGKPVGSDQ--SNNKATYP-ALLSLAGAKEKL--A-', seqB='QLSVEQFLNEQKQAVETALSRYIERLEGPAKLKKAMAYSLEAGGKRIRPLLLLSTVRALGKDPAVGLPVACAIEMIHTYSLIHDDLPSMDNDDLRRGKPTNHKVFGEAMAILAGDGLLTYAFQLITE--DERIPPSVRLRLIERLAKAAGPEGMVAGQAADMEGEGKTLTLSELEYIHRHKTGKMLQYSVHAGALIGGADARQTRELDEFAAHLGLAFQIR---------------------------------L--AGAKEKLAFHIEA----AQRHLRN-ADVDGAAL--AYICE-LVAAR', score=1047.0, start=0, end=303),\n",
       " Alignment(seqA='-------LNEQKQAVETALSRYIERLEGPAKLKKAMAYSLEAGGKRIRPLLLLSTVRALGKDPAVGLPVACAIEMIHTYSLIHDDLPSMDNDDLRRGKPTNHKVFGEAMAILAGDGLLTYAFQLITEIDDERIPPSVRLRLIERLAKAAGPEGMVAGQAADMEGEGKTLTLSELEYIHRHKTGKMLQYSVHAGALIGGADARQTRELDEFAAHLGLAFQIRDDI------------------------------LDIEGAEEK----IGKPVGSDQ--SNNKATYP-ALLSLAGAKEKL--A-', seqB='QLSVEQFLNEQKQAVETALSRYIERLEGPAKLKKAMAYSLEAGGKRIRPLLLLSTVRALGKDPAVGLPVACAIEMIHTYSLIHDDLPSMDNDDLRRGKPTNHKVFGEAMAILAGDGLLTYAFQLITE--DERIPPSVRLRLIERLAKAAGPEGMVAGQAADMEGEGKTLTLSELEYIHRHKTGKMLQYSVHAGALIGGADARQTRELDEFAAHLGLAFQIR---------------------------------L--AGAKEKLAFHIEA----AQRHLRN-ADVDGAAL--AYICE-LVAAR', score=1047.0, start=0, end=303),\n",
       " Alignment(seqA='-------LNEQKQAVETALSRYIERLEGPAKLKKAMAYSLEAGGKRIRPLLLLSTVRALGKDPAVGLPVACAIEMIHTYSLIHDDLPSMDNDDLRRGKPTNHKVFGEAMAILAGDGLLTYAFQLITEIDDERIPPSVRLRLIERLAKAAGPEGMVAGQAADMEGEGKTLTLSELEYIHRHKTGKMLQYSVHAGALIGGADARQTRELDEFAAHLGLAFQIR------------------------------DDILDIEGAEEK----IGKPVGSDQ--SNNKATYP-ALLSLAGAKEKL--A-', seqB='QLSVEQFLNEQKQAVETALSRYIERLEGPAKLKKAMAYSLEAGGKRIRPLLLLSTVRALGKDPAVGLPVACAIEMIHTYSLIHDDLPSMDNDDLRRGKPTNHKVFGEAMAILAGDGLLTYAFQLITE--DERIPPSVRLRLIERLAKAAGPEGMVAGQAADMEGEGKTLTLSELEYIHRHKTGKMLQYSVHAGALIGGADARQTRELDEFAAHLGLAFQIR---------------------------------LA--GAKEKLAFHIEA----AQRHLRN-ADVDGAAL--AYICE-LVAAR', score=1047.0, start=0, end=303),\n",
       " Alignment(seqA='-------LNEQKQAVETALSRYIERLEGPAKLKKAMAYSLEAGGKRIRPLLLLSTVRALGKDPAVGLPVACAIEMIHTYSLIHDDLPSMDNDDLRRGKPTNHKVFGEAMAILAGDGLLTYAFQLITEIDDERIPPSVRLRLIERLAKAAGPEGMVAGQAADMEGEGKTLTLSELEYIHRHKTGKMLQYSVHAGALIGGADARQTRELDEFAAHLGLAFQIRD------------------------------DILDIEGAEEK----IGKPVGSDQ--SNNKATYP-ALLSLAGAKEKL--A-', seqB='QLSVEQFLNEQKQAVETALSRYIERLEGPAKLKKAMAYSLEAGGKRIRPLLLLSTVRALGKDPAVGLPVACAIEMIHTYSLIHDDLPSMDNDDLRRGKPTNHKVFGEAMAILAGDGLLTYAFQLITE--DERIPPSVRLRLIERLAKAAGPEGMVAGQAADMEGEGKTLTLSELEYIHRHKTGKMLQYSVHAGALIGGADARQTRELDEFAAHLGLAFQIR---------------------------------LA--GAKEKLAFHIEA----AQRHLRN-ADVDGAAL--AYICE-LVAAR', score=1047.0, start=0, end=303),\n",
       " Alignment(seqA='-------LNEQKQAVETALSRYIERLEGPAKLKKAMAYSLEAGGKRIRPLLLLSTVRALGKDPAVGLPVACAIEMIHTYSLIHDDLPSMDNDDLRRGKPTNHKVFGEAMAILAGDGLLTYAFQLITEIDDERIPPSVRLRLIERLAKAAGPEGMVAGQAADMEGEGKTLTLSELEYIHRHKTGKMLQYSVHAGALIGGADARQTRELDEFAAHLGLAFQIRDD------------------------------ILDIEGAEEK----IGKPVGSDQ--SNNKATYP-ALLSLAGAKEKL--A-', seqB='QLSVEQFLNEQKQAVETALSRYIERLEGPAKLKKAMAYSLEAGGKRIRPLLLLSTVRALGKDPAVGLPVACAIEMIHTYSLIHDDLPSMDNDDLRRGKPTNHKVFGEAMAILAGDGLLTYAFQLITE--DERIPPSVRLRLIERLAKAAGPEGMVAGQAADMEGEGKTLTLSELEYIHRHKTGKMLQYSVHAGALIGGADARQTRELDEFAAHLGLAFQIR---------------------------------LA--GAKEKLAFHIEA----AQRHLRN-ADVDGAAL--AYICE-LVAAR', score=1047.0, start=0, end=303),\n",
       " Alignment(seqA='-------LNEQKQAVETALSRYIERLEGPAKLKKAMAYSLEAGGKRIRPLLLLSTVRALGKDPAVGLPVACAIEMIHTYSLIHDDLPSMDNDDLRRGKPTNHKVFGEAMAILAGDGLLTYAFQLITEIDDERIPPSVRLRLIERLAKAAGPEGMVAGQAADMEGEGKTLTLSELEYIHRHKTGKMLQYSVHAGALIGGADARQTRELDEFAAHLGLAFQIRDDI------------------------------LDIEGAEEK----IGKPVGSDQ--SNNKATYP-ALLSLAGAKEKL--A-', seqB='QLSVEQFLNEQKQAVETALSRYIERLEGPAKLKKAMAYSLEAGGKRIRPLLLLSTVRALGKDPAVGLPVACAIEMIHTYSLIHDDLPSMDNDDLRRGKPTNHKVFGEAMAILAGDGLLTYAFQLITE--DERIPPSVRLRLIERLAKAAGPEGMVAGQAADMEGEGKTLTLSELEYIHRHKTGKMLQYSVHAGALIGGADARQTRELDEFAAHLGLAFQIR---------------------------------LA--GAKEKLAFHIEA----AQRHLRN-ADVDGAAL--AYICE-LVAAR', score=1047.0, start=0, end=303),\n",
       " Alignment(seqA='-------LNEQKQAVETALSRYIERLEGPAKLKKAMAYSLEAGGKRIRPLLLLSTVRALGKDPAVGLPVACAIEMIHTYSLIHDDLPSMDNDDLRRGKPTNHKVFGEAMAILAGDGLLTYAFQLITEIDDERIPPSVRLRLIERLAKAAGPEGMVAGQAADMEGEGKTLTLSELEYIHRHKTGKMLQYSVHAGALIGGADARQTRELDEFAAHLGLAFQIR------------------------------DDILDIEGAEEK----IGKPVGSDQ--SNNKATYP-ALLSLAGAKEKL--A-', seqB='QLSVEQFLNEQKQAVETALSRYIERLEGPAKLKKAMAYSLEAGGKRIRPLLLLSTVRALGKDPAVGLPVACAIEMIHTYSLIHDDLPSMDNDDLRRGKPTNHKVFGEAMAILAGDGLLTYAFQLITE--DERIPPSVRLRLIERLAKAAGPEGMVAGQAADMEGEGKTLTLSELEYIHRHKTGKMLQYSVHAGALIGGADARQTRELDEFAAHLGLAFQIR---------------------------------L--AGAKEKLAFHIEAA----QRHLRN-ADVDGAAL--AYICE-LVAAR', score=1047.0, start=0, end=303),\n",
       " Alignment(seqA='-------LNEQKQAVETALSRYIERLEGPAKLKKAMAYSLEAGGKRIRPLLLLSTVRALGKDPAVGLPVACAIEMIHTYSLIHDDLPSMDNDDLRRGKPTNHKVFGEAMAILAGDGLLTYAFQLITEIDDERIPPSVRLRLIERLAKAAGPEGMVAGQAADMEGEGKTLTLSELEYIHRHKTGKMLQYSVHAGALIGGADARQTRELDEFAAHLGLAFQIRD------------------------------DILDIEGAEEK----IGKPVGSDQ--SNNKATYP-ALLSLAGAKEKL--A-', seqB='QLSVEQFLNEQKQAVETALSRYIERLEGPAKLKKAMAYSLEAGGKRIRPLLLLSTVRALGKDPAVGLPVACAIEMIHTYSLIHDDLPSMDNDDLRRGKPTNHKVFGEAMAILAGDGLLTYAFQLITE--DERIPPSVRLRLIERLAKAAGPEGMVAGQAADMEGEGKTLTLSELEYIHRHKTGKMLQYSVHAGALIGGADARQTRELDEFAAHLGLAFQIR---------------------------------L--AGAKEKLAFHIEAA----QRHLRN-ADVDGAAL--AYICE-LVAAR', score=1047.0, start=0, end=303),\n",
       " Alignment(seqA='-------LNEQKQAVETALSRYIERLEGPAKLKKAMAYSLEAGGKRIRPLLLLSTVRALGKDPAVGLPVACAIEMIHTYSLIHDDLPSMDNDDLRRGKPTNHKVFGEAMAILAGDGLLTYAFQLITEIDDERIPPSVRLRLIERLAKAAGPEGMVAGQAADMEGEGKTLTLSELEYIHRHKTGKMLQYSVHAGALIGGADARQTRELDEFAAHLGLAFQIRDD------------------------------ILDIEGAEEK----IGKPVGSDQ--SNNKATYP-ALLSLAGAKEKL--A-', seqB='QLSVEQFLNEQKQAVETALSRYIERLEGPAKLKKAMAYSLEAGGKRIRPLLLLSTVRALGKDPAVGLPVACAIEMIHTYSLIHDDLPSMDNDDLRRGKPTNHKVFGEAMAILAGDGLLTYAFQLITE--DERIPPSVRLRLIERLAKAAGPEGMVAGQAADMEGEGKTLTLSELEYIHRHKTGKMLQYSVHAGALIGGADARQTRELDEFAAHLGLAFQIR---------------------------------L--AGAKEKLAFHIEAA----QRHLRN-ADVDGAAL--AYICE-LVAAR', score=1047.0, start=0, end=303),\n",
       " Alignment(seqA='-------LNEQKQAVETALSRYIERLEGPAKLKKAMAYSLEAGGKRIRPLLLLSTVRALGKDPAVGLPVACAIEMIHTYSLIHDDLPSMDNDDLRRGKPTNHKVFGEAMAILAGDGLLTYAFQLITEIDDERIPPSVRLRLIERLAKAAGPEGMVAGQAADMEGEGKTLTLSELEYIHRHKTGKMLQYSVHAGALIGGADARQTRELDEFAAHLGLAFQIRDDI------------------------------LDIEGAEEK----IGKPVGSDQ--SNNKATYP-ALLSLAGAKEKL--A-', seqB='QLSVEQFLNEQKQAVETALSRYIERLEGPAKLKKAMAYSLEAGGKRIRPLLLLSTVRALGKDPAVGLPVACAIEMIHTYSLIHDDLPSMDNDDLRRGKPTNHKVFGEAMAILAGDGLLTYAFQLITE--DERIPPSVRLRLIERLAKAAGPEGMVAGQAADMEGEGKTLTLSELEYIHRHKTGKMLQYSVHAGALIGGADARQTRELDEFAAHLGLAFQIR---------------------------------L--AGAKEKLAFHIEAA----QRHLRN-ADVDGAAL--AYICE-LVAAR', score=1047.0, start=0, end=303),\n",
       " Alignment(seqA='-------LNEQKQAVETALSRYIERLEGPAKLKKAMAYSLEAGGKRIRPLLLLSTVRALGKDPAVGLPVACAIEMIHTYSLIHDDLPSMDNDDLRRGKPTNHKVFGEAMAILAGDGLLTYAFQLITEIDDERIPPSVRLRLIERLAKAAGPEGMVAGQAADMEGEGKTLTLSELEYIHRHKTGKMLQYSVHAGALIGGADARQTRELDEFAAHLGLAFQIR------------------------------DDILDIEGAEEK----IGKPVGSDQ--SNNKATYP-ALLSLAGAKEKL--A-', seqB='QLSVEQFLNEQKQAVETALSRYIERLEGPAKLKKAMAYSLEAGGKRIRPLLLLSTVRALGKDPAVGLPVACAIEMIHTYSLIHDDLPSMDNDDLRRGKPTNHKVFGEAMAILAGDGLLTYAFQLITE--DERIPPSVRLRLIERLAKAAGPEGMVAGQAADMEGEGKTLTLSELEYIHRHKTGKMLQYSVHAGALIGGADARQTRELDEFAAHLGLAFQIR---------------------------------LA--GAKEKLAFHIEAA----QRHLRN-ADVDGAAL--AYICE-LVAAR', score=1047.0, start=0, end=303),\n",
       " Alignment(seqA='-------LNEQKQAVETALSRYIERLEGPAKLKKAMAYSLEAGGKRIRPLLLLSTVRALGKDPAVGLPVACAIEMIHTYSLIHDDLPSMDNDDLRRGKPTNHKVFGEAMAILAGDGLLTYAFQLITEIDDERIPPSVRLRLIERLAKAAGPEGMVAGQAADMEGEGKTLTLSELEYIHRHKTGKMLQYSVHAGALIGGADARQTRELDEFAAHLGLAFQIRD------------------------------DILDIEGAEEK----IGKPVGSDQ--SNNKATYP-ALLSLAGAKEKL--A-', seqB='QLSVEQFLNEQKQAVETALSRYIERLEGPAKLKKAMAYSLEAGGKRIRPLLLLSTVRALGKDPAVGLPVACAIEMIHTYSLIHDDLPSMDNDDLRRGKPTNHKVFGEAMAILAGDGLLTYAFQLITE--DERIPPSVRLRLIERLAKAAGPEGMVAGQAADMEGEGKTLTLSELEYIHRHKTGKMLQYSVHAGALIGGADARQTRELDEFAAHLGLAFQIR---------------------------------LA--GAKEKLAFHIEAA----QRHLRN-ADVDGAAL--AYICE-LVAAR', score=1047.0, start=0, end=303),\n",
       " Alignment(seqA='-------LNEQKQAVETALSRYIERLEGPAKLKKAMAYSLEAGGKRIRPLLLLSTVRALGKDPAVGLPVACAIEMIHTYSLIHDDLPSMDNDDLRRGKPTNHKVFGEAMAILAGDGLLTYAFQLITEIDDERIPPSVRLRLIERLAKAAGPEGMVAGQAADMEGEGKTLTLSELEYIHRHKTGKMLQYSVHAGALIGGADARQTRELDEFAAHLGLAFQIRDD------------------------------ILDIEGAEEK----IGKPVGSDQ--SNNKATYP-ALLSLAGAKEKL--A-', seqB='QLSVEQFLNEQKQAVETALSRYIERLEGPAKLKKAMAYSLEAGGKRIRPLLLLSTVRALGKDPAVGLPVACAIEMIHTYSLIHDDLPSMDNDDLRRGKPTNHKVFGEAMAILAGDGLLTYAFQLITE--DERIPPSVRLRLIERLAKAAGPEGMVAGQAADMEGEGKTLTLSELEYIHRHKTGKMLQYSVHAGALIGGADARQTRELDEFAAHLGLAFQIR---------------------------------LA--GAKEKLAFHIEAA----QRHLRN-ADVDGAAL--AYICE-LVAAR', score=1047.0, start=0, end=303),\n",
       " Alignment(seqA='-------LNEQKQAVETALSRYIERLEGPAKLKKAMAYSLEAGGKRIRPLLLLSTVRALGKDPAVGLPVACAIEMIHTYSLIHDDLPSMDNDDLRRGKPTNHKVFGEAMAILAGDGLLTYAFQLITEIDDERIPPSVRLRLIERLAKAAGPEGMVAGQAADMEGEGKTLTLSELEYIHRHKTGKMLQYSVHAGALIGGADARQTRELDEFAAHLGLAFQIRDDI------------------------------LDIEGAEEK----IGKPVGSDQ--SNNKATYP-ALLSLAGAKEKL--A-', seqB='QLSVEQFLNEQKQAVETALSRYIERLEGPAKLKKAMAYSLEAGGKRIRPLLLLSTVRALGKDPAVGLPVACAIEMIHTYSLIHDDLPSMDNDDLRRGKPTNHKVFGEAMAILAGDGLLTYAFQLITE--DERIPPSVRLRLIERLAKAAGPEGMVAGQAADMEGEGKTLTLSELEYIHRHKTGKMLQYSVHAGALIGGADARQTRELDEFAAHLGLAFQIR---------------------------------LA--GAKEKLAFHIEAA----QRHLRN-ADVDGAAL--AYICE-LVAAR', score=1047.0, start=0, end=303)]"
      ]
     },
     "metadata": {},
     "execution_count": 61
    }
   ],
   "source": [
    "from Bio import pairwise2\n",
    "pairwise2.align.globalms(hit_seq_fil, pdb_seq, 5, -1, -2, -1)"
   ]
  },
  {
   "cell_type": "code",
   "execution_count": 62,
   "metadata": {},
   "outputs": [
    {
     "output_type": "execute_result",
     "data": {
      "text/plain": [
       "[Alignment(seqA='-------LNEQKQAVETALSRYIERLEGPAKLKKAMAYSLEAGGKRIRPLLLLSTVRALGKDPAVGLPVACAIEMIHTYSLIHDDLPSMDNDDLRRGKPTNHKVFGEAMAILAGDGLLTYAFQLITEIDDERIPPSVRLRLIERLAKAAGPEGMVAGQAADMEGEGKTLTLSELEYIHRHKTGKMLQYSVHAGALIGGADARQTRELDEFAAHLGLAFQIRDDILDIEGAEEKIGKPVGSDQSNNKATYPALLSLAGAKEKLA------------------------------', seqB='QLSVEQFLNEQKQAVETALSRYIERLEGPAKLKKAMAYSLEAGGKRIRPLLLLSTVRALGKDPAVGLPVACAIEMIHTYSLIHDDLPSMDNDDLRRGKPTNHKVFGEAMAILAGDGLLTYAFQLITE--DERIPPSVRLRLIERLAKAAGPEGMVAGQAADMEGEGKTLTLSELEYIHRHKTGKMLQYSVHAGALIGGADARQTRELDEFAAHLGLAFQIR---------------------------------LAGAKEKLAFHIEAAQRHLRNADVDGAALAYICELVAAR', score=1101.0, start=0, end=293)]"
      ]
     },
     "metadata": {},
     "execution_count": 62
    }
   ],
   "source": [
    "# pdb seqにギャップを挿入してあるので本来はミスマッチにして欲しいのだが，\n",
    "pairwise2.align.globalms(hit_seq_fil, pdb_seq, 5, 1, -2, -1)"
   ]
  },
  {
   "cell_type": "code",
   "execution_count": 47,
   "metadata": {},
   "outputs": [],
   "source": [
    "from Bio.Align import substitution_matrices"
   ]
  },
  {
   "cell_type": "code",
   "execution_count": 50,
   "metadata": {},
   "outputs": [
    {
     "output_type": "execute_result",
     "data": {
      "text/plain": [
       "'KKSPLHFAASYGRINTCQRLLQDISDTRLLNEGDLHGMTPLHLAAKNGHDKVVQLLLKKGALFLSDHNGWTALHHASMGGYTQTMKVILDTNLKCTDRLDEDGNTALHFAAREGHAKAVALLLSHNADIVLNKQQASFLHLALHNKRKEVVLTIIRSKRWDECLKIFSHNSPGNKCPITEMIEYLPECMKVLLDFCMLHSTEDKSCRDYYIEYNFKYL----------------YEPLTALNAMVQNNRIELLNHPVCKEYLLMKWLAYGFRAHMMNLGSYCLGLIPMTILVVNIKPGMAFN----------------TTNSYLIKTCMILVFLSSIFGY-----------------ISNVLEWIIYTTGIIFVLPLFVEIPAHLQWQCGAIAVYFYWMNFLLYLQRFENCGIFIVMLEVILKTLLRSTVVFIFLLLAFGLSFYILLNLQDPFSSPLLSIIQTFSMMLGDINYRESFLEPYLRNELAHPVLSFAQLVSFTIFVPIVLMNLLIGLAVGDIADVQKHASLKRIAMQVELHTSLEKKLPLWFLRKVDQKSTIVY------------------------QEIPNADKSLEMEILKQKYRLKDLTFLLEKQHELIKLIIQKMEIISET'"
      ]
     },
     "metadata": {},
     "execution_count": 50
    }
   ],
   "source": [
    "pdb_path = 'template_pdb/3J9P.pdb'\n",
    "pdb_seq, pdb_resnum = ReadSeq.pdb2seq(pdb_path, 'A')\n",
    "pdb_seq"
   ]
  },
  {
   "cell_type": "code",
   "execution_count": 66,
   "metadata": {},
   "outputs": [
    {
     "output_type": "execute_result",
     "data": {
      "text/plain": [
       "'KKSPLHFAASYGRINTCQRLLQDISDTRLLNEGDLHGMTPLHLAAKNGHDKVVQLLLKKGALFLSDHNGWTALHHASMGGYTQTMKVILDTNLKCTDRLDEDGNTALHFAAREGHAKAVALLLSHNADIVLNKQQASFLHLALHNKRKEVVLTIIRSKRWDECLKIFSHNSPGNKCPITEMIEYLPECMKVLLDFCMLHSTEDKSCRDYYIEYNFKYL----------------YEPLTALNAMVQNNRIELLNHPVCKEYLLMKWLAYGFRAHMMNLGSYCLGLIPMTILVVNIKPGMAFN----------------TTNSYLIKTCMILVFLSSIFGY-----------------ISNVLEWIIYTTGIIFVLPLFVEIPAHLQWQCGAIAVYFYWMNFLLYLQRFENCGIFIVMLEVILKTLLRSTVVFIFLLLAFGLSFYILLNLQDPFSSPLLSIIQTFSMMLGDINYRESFLEPYLRNELAHPVLSFAQLVSFTIFVPIVLMNLLIGLAVGDIADVQKHASLKRIAMQVELHTSLEKKLPLWFLRKVDQKSTIVY------------------------QEIPNADKSLEMEILKQKYRLKDLTFLLEKQHELIKLIIQKMEIISET'"
      ]
     },
     "metadata": {},
     "execution_count": 66
    }
   ],
   "source": [
    "repdb_path = 'template_pdb/3j9p_renum.pdb'\n",
    "repdb_seq, repdb_resnum = ReadSeq.pdb2seq(repdb_path, 'A')\n",
    "repdb_seq"
   ]
  },
  {
   "cell_type": "code",
   "execution_count": 64,
   "metadata": {},
   "outputs": [
    {
     "output_type": "execute_result",
     "data": {
      "text/plain": [
       "'KLVIWINGDKGYNGLAEVGKKFEKDTGIKVTVEHPDKLEEKFPQVAATGDGPDIIFWAHDRFGGYAQSGLLAEITPDKAFQDKLYPFTWDAVRYNGKLIAYPIAVEALSLIYNKDLLPNPPKTWEEIPALDKELKAKGKSALMFNLQEPYFTWPLIAADGGYAFKYENGKYDIKDVGVDNAGAKAGLTFLVDLIKNKHMNADTDYSIAEAAFNKGETAMTINGPWAWSNIDTSKVNYGVTVLPTFKGQPSKPFVGVLSAGINAASPNKELAKEFLENYLLTDEGLEAVNKDKPLGAVALKSYEEELAKDPRIAATMENAQKGEIMPNIPQMSAFW'"
      ]
     },
     "metadata": {},
     "execution_count": 64
    }
   ],
   "source": [
    "hit_seq = 'KLVIWIN-GDKGYNGLAEVGKKFEKDTGIKV-TVEHP-DKLEEKFPQVAATGDGPDIIFWA-HDRFGGYAQSGLLAEITP--DKAFQDKLYPFTWDAVRYNGKLIAYPIAVEALSLIYNKDLLPNPPKTWEEIPALDKELKAKGKSALMFNLQEPYFTWPLIAADGGYAF--KYENGKYDIKDVGVDNAGAKAGLTFLVDL-IKNKHMNADTDYSIAEAAFNKGETAMTINGPWAWSNIDTSKVNYGVTVLPTFKG--QPSKPFVGVLSAGINAASPNKELAKEFLENYLLTDEGLEAVNKDKPLGAVALKSYEEELAKDPRIAATMENAQKGEIMPNIPQMSAFW'\n",
    "hit_seq_fil = ''.join(list(filter(lambda x: x != '-', hit_seq)))\n",
    "hit_seq_fil"
   ]
  },
  {
   "cell_type": "code",
   "execution_count": 65,
   "metadata": {},
   "outputs": [
    {
     "output_type": "execute_result",
     "data": {
      "text/plain": [
       "(array(['K', 'L', '-', 'V', 'I', 'W', 'I', '-', 'N', 'G', 'D', 'K', 'L',\n",
       "        'A', 'V', 'E', 'T', '-', '-', '-', '-', 'G', 'I', 'V', 'T', 'V',\n",
       "        'E', 'H', 'P', 'D', 'K', 'L', 'K', 'P', 'Q', 'V', 'A', '-', '-',\n",
       "        '-', '-', 'A', 'G', 'G', 'P', 'D', 'I', '-', '-', '-', 'I', 'F',\n",
       "        'W', 'A', 'H', 'D', 'R', 'F', 'G', 'G', '-', '-', 'Y', 'A', 'S',\n",
       "        'G', 'L', '-', '-', '-', 'L', 'A', '-', 'E', '-', 'I', '-', 'T',\n",
       "        'D', 'K', 'A', 'F', 'Q', 'D', 'K', 'L', 'P', 'F', 'T', 'W', '-',\n",
       "        'D', 'A', 'V', 'R', 'N', 'G', 'K', 'P', '-', '-', 'I', 'A', 'V',\n",
       "        '-', '-', 'E', 'A', 'S', 'L', 'I', 'Y', 'N', 'K', 'D', '-', 'L',\n",
       "        'L', '-', '-', 'P', 'N', 'P', 'P', 'K', 'T', 'E', '-', 'E', '-',\n",
       "        'I', 'P', '-', '-', '-', 'A', 'L', 'D', 'K', '-', 'E', '-', 'L',\n",
       "        '-', 'K', 'A', 'K', 'G', 'S', 'A', 'L', 'M', 'F', 'N', 'L', 'Q',\n",
       "        'A', 'A', 'D', '-', '-', 'G', '-', 'G', 'K', '-', '-', '-', '-',\n",
       "        'Y', 'E', 'G', 'K', 'Y', 'I', '-', '-', '-', 'K', 'V', 'G', '-',\n",
       "        '-', '-', '-', '-', '-', 'V', 'N', 'A', 'G', 'A', 'L', 'I', 'M',\n",
       "        'N', 'A', 'D', '-', '-', '-', 'T', '-', '-', '-', 'D', 'E', '-',\n",
       "        'A', 'A', 'N', 'K', 'G', 'T', 'A', 'M', 'T', 'I', 'G', 'L', 'A',\n",
       "        'G', 'A', 'K', 'E', '-', 'L', 'A', 'F', 'L', '-', 'E', 'L', 'T',\n",
       "        'D', 'E', 'G', 'L', 'E', '-', 'A', '-', 'V', 'D', 'G', 'A', 'A',\n",
       "        'L', 'S', 'Y', 'E', 'E', 'E', 'L', 'I', 'A', 'A', 'W'], dtype='<U1'),\n",
       " array(['Q', 'L', 'V', 'E', 'Q', 'F', 'N', 'E', 'Q', 'K', '-', '-', '-',\n",
       "        '-', 'Q', 'A', '-', 'V', '-', '-', '-', '-', 'E', '-', '-', 'T',\n",
       "        'Y', 'I', '-', 'E', 'R', 'L', 'E', 'G', 'P', 'A', 'K', 'L', '-',\n",
       "        '-', 'K', '-', 'K', 'A', 'M', 'A', 'A', '-', 'G', '-', 'G', 'K',\n",
       "        'R', 'I', 'L', 'L', 'L', 'S', 'T', 'V', 'R', 'A', 'L', 'G', 'P',\n",
       "        'A', '-', 'V', 'G', 'L', 'C', 'A', 'E', 'I', 'T', '-', 'Y', 'S',\n",
       "        'L', 'I', 'H', 'D', 'D', 'L', '-', 'P', 'S', 'M', 'D', 'D', 'D',\n",
       "        'L', 'R', '-', 'R', 'G', 'K', '-', '-', '-', '-', 'P', 'H', 'K',\n",
       "        'V', 'E', 'A', '-', 'M', 'A', 'I', 'L', 'A', 'G', 'D', 'L', 'L',\n",
       "        'A', 'F', 'Q', 'L', 'I', 'T', '-', 'E', 'E', 'I', 'P', 'R', 'L',\n",
       "        'R', 'L', 'E', 'L', 'K', 'A', 'A', 'G', '-', 'P', 'E', 'G', 'M',\n",
       "        'V', 'A', 'G', 'Q', '-', '-', '-', '-', '-', '-', '-', '-', '-',\n",
       "        'A', 'A', 'D', 'G', 'G', '-', '-', '-', 'K', 'S', 'E', '-', 'L',\n",
       "        'E', 'Y', '-', 'I', 'K', '-', 'T', 'G', 'V', '-', 'H', 'A', 'G',\n",
       "        'A', '-', '-', '-', '-', '-', '-', '-', '-', '-', 'L', 'I', '-',\n",
       "        '-', '-', '-', 'G', 'G', 'A', 'D', 'T', 'D', '-', '-', '-', '-',\n",
       "        'E', 'A', 'A', '-', 'H', 'L', 'G', '-', 'L', 'A', 'F', 'Q', 'I',\n",
       "        '-', 'R', '-', '-', '-', '-', '-', '-', '-', '-', '-', '-', '-',\n",
       "        '-', '-', '-', '-', '-', '-', '-', '-', '-', '-', '-', '-', '-',\n",
       "        '-', '-', '-', '-', '-', '-', '-', '-', '-', 'L', '-', 'A', 'G',\n",
       "        '-', '-', 'A', '-', '-', '-', '-', 'K', 'E', 'L', 'A', '-', '-',\n",
       "        'F', 'H', 'E', '-', '-', '-', 'A', 'A', 'Q', 'R', 'H', 'L', 'R',\n",
       "        'A', 'V', '-', '-', 'D', '-', '-', '-', 'G', 'A', '-', 'A', 'L',\n",
       "        '-', 'A', 'Y', 'I', 'C', 'E', 'L', '-', '-', '-', '-', '-', 'V',\n",
       "        'A', 'A', '-', '-', '-', '-', '-', '-', '-', '-', '-', '-', '-',\n",
       "        '-', '-', '-', '-', '-', '-', '-', '-', '-', 'R'], dtype='<U1'),\n",
       " array([  0,   1,   2,   3,   4,   5,   6,   7,   8,   9,  14,  15,  17,\n",
       "         22,  25,  26,  27,  29,  30,  31,  32,  33,  34,  35,  36,  37,\n",
       "         40,  42,  43,  44,  45,  46,  48,  50,  51,  52,  53,  54,  55,\n",
       "         56,  57,  58,  59,  60,  61,  62,  63,  64,  65,  67,  68,  69,\n",
       "         70,  71,  72,  73,  74,  76,  77,  78,  79,  80,  81,  82,  83,\n",
       "         85,  86,  87,  88,  89,  90,  91,  92,  94,  95,  96, 101, 102,\n",
       "        103, 104, 105, 106, 108, 109, 110, 111, 112, 113, 114, 115, 116,\n",
       "        117, 118, 119, 120, 121, 122, 124, 125, 126, 127, 128, 129, 130,\n",
       "        131, 132, 133, 134, 135, 136, 137, 139, 140, 141, 142, 143, 144,\n",
       "        145, 146, 156, 157, 158, 159, 160, 164, 165, 166, 168, 169, 170,\n",
       "        172, 173, 175, 176, 177, 179, 180, 181, 182, 192, 193, 198, 199,\n",
       "        200, 201, 202, 203, 208, 209, 210, 212, 213, 214, 216, 217, 218,\n",
       "        219, 220, 222, 256, 258, 259, 262, 267, 268, 269, 270, 273, 274,\n",
       "        275, 279, 280, 281, 282, 283, 284, 285, 286, 287, 290, 294, 295,\n",
       "        297, 298, 300, 301, 302, 303, 304, 305, 311, 312, 313, 334]),\n",
       " array([  0,   1,   3,   4,   5,   6,   8,   9,  10,  11,  12,  13,  14,\n",
       "         15,  16,  21,  22,  23,  24,  25,  26,  27,  28,  29,  30,  31,\n",
       "         32,  33,  34,  35,  36,  41,  42,  43,  44,  45,  46,  50,  51,\n",
       "         52,  53,  54,  55,  56,  57,  58,  59,  62,  63,  64,  65,  66,\n",
       "         70,  71,  73,  75,  77,  78,  79,  80,  81,  82,  83,  84,  85,\n",
       "         86,  87,  88,  89,  91,  92,  93,  94,  95,  96,  97,  98, 101,\n",
       "        102, 103, 106, 107, 108, 109, 110, 111, 112, 113, 114, 116, 117,\n",
       "        120, 121, 122, 123, 124, 125, 126, 128, 130, 131, 135, 136, 137,\n",
       "        138, 140, 142, 144, 145, 146, 147, 148, 149, 150, 151, 152, 153,\n",
       "        154, 155, 156, 157, 158, 161, 163, 164, 169, 170, 171, 172, 173,\n",
       "        174, 178, 179, 180, 187, 188, 189, 190, 191, 192, 193, 194, 195,\n",
       "        196, 197, 201, 205, 206, 208, 209, 210, 211, 212, 213, 214, 215,\n",
       "        216, 217, 218, 219, 220, 221, 222, 223, 224, 226, 227, 228, 229,\n",
       "        231, 232, 233, 234, 235, 236, 237, 238, 240, 242, 243, 244, 245,\n",
       "        246, 247, 248, 249, 250, 251, 252, 253, 254, 255, 256, 257]))"
      ]
     },
     "metadata": {},
     "execution_count": 65
    }
   ],
   "source": [
    "AlignSeq.align_seq(hit_seq_fil, pdb_seq)"
   ]
  },
  {
   "cell_type": "code",
   "execution_count": 67,
   "metadata": {},
   "outputs": [
    {
     "output_type": "error",
     "ename": "AssertionError",
     "evalue": "",
     "traceback": [
      "\u001b[0;31m---------------------------------------------------------------------------\u001b[0m",
      "\u001b[0;31mAssertionError\u001b[0m                            Traceback (most recent call last)",
      "\u001b[0;32m<ipython-input-67-b960e461c232>\u001b[0m in \u001b[0;36m<module>\u001b[0;34m\u001b[0m\n\u001b[1;32m      1\u001b[0m \u001b[0mpdb_path\u001b[0m \u001b[0;34m=\u001b[0m \u001b[0;34m'template_pdb/1IUD.pdb'\u001b[0m\u001b[0;34m\u001b[0m\u001b[0;34m\u001b[0m\u001b[0m\n\u001b[0;32m----> 2\u001b[0;31m \u001b[0mReadSeq\u001b[0m\u001b[0;34m.\u001b[0m\u001b[0mpdb2seq\u001b[0m\u001b[0;34m(\u001b[0m\u001b[0mpdb_path\u001b[0m\u001b[0;34m,\u001b[0m \u001b[0;34m'A'\u001b[0m\u001b[0;34m)\u001b[0m\u001b[0;34m\u001b[0m\u001b[0;34m\u001b[0m\u001b[0m\n\u001b[0m",
      "\u001b[0;32m~/research/MQA_dataset/src/seq.py\u001b[0m in \u001b[0;36mpdb2seq\u001b[0;34m(cls, pdb_path, chain, read_HETATM, insert_gap)\u001b[0m\n\u001b[1;32m     65\u001b[0m         \u001b[0;32mreturn\u001b[0m \u001b[0mseq\u001b[0m\u001b[0;34m,\u001b[0m \u001b[0mresnums\u001b[0m\u001b[0;34m\u001b[0m\u001b[0;34m\u001b[0m\u001b[0m\n\u001b[1;32m     66\u001b[0m \u001b[0;34m\u001b[0m\u001b[0m\n\u001b[0;32m---> 67\u001b[0;31m     \u001b[0;34m@\u001b[0m\u001b[0mstaticmethod\u001b[0m\u001b[0;34m\u001b[0m\u001b[0;34m\u001b[0m\u001b[0m\n\u001b[0m\u001b[1;32m     68\u001b[0m     \u001b[0;32mdef\u001b[0m \u001b[0mfasta2seq\u001b[0m\u001b[0;34m(\u001b[0m\u001b[0mfasta_path\u001b[0m\u001b[0;34m:\u001b[0m \u001b[0mstr\u001b[0m\u001b[0;34m)\u001b[0m \u001b[0;34m->\u001b[0m \u001b[0mstr\u001b[0m\u001b[0;34m:\u001b[0m\u001b[0;34m\u001b[0m\u001b[0;34m\u001b[0m\u001b[0m\n\u001b[1;32m     69\u001b[0m         \"\"\"Convert fasta to sequence.\n",
      "\u001b[0;32m~/research/MQA_dataset/src/seq.py\u001b[0m in \u001b[0;36mmol2seq\u001b[0;34m(mol, insert_gap)\u001b[0m\n\u001b[1;32m     25\u001b[0m         \u001b[0mseq\u001b[0m \u001b[0;34m=\u001b[0m \u001b[0;34m''\u001b[0m\u001b[0;34m.\u001b[0m\u001b[0mjoin\u001b[0m\u001b[0;34m(\u001b[0m\u001b[0mnp\u001b[0m\u001b[0;34m.\u001b[0m\u001b[0marray\u001b[0m\u001b[0;34m(\u001b[0m\u001b[0mlist\u001b[0m\u001b[0;34m(\u001b[0m\u001b[0mmol\u001b[0m\u001b[0;34m.\u001b[0m\u001b[0mgetSequence\u001b[0m\u001b[0;34m(\u001b[0m\u001b[0;34m)\u001b[0m\u001b[0;34m)\u001b[0m\u001b[0;34m)\u001b[0m\u001b[0;34m[\u001b[0m\u001b[0mres_start_indices\u001b[0m\u001b[0;34m]\u001b[0m\u001b[0;34m)\u001b[0m\u001b[0;34m\u001b[0m\u001b[0;34m\u001b[0m\u001b[0m\n\u001b[1;32m     26\u001b[0m         \u001b[0mresnums\u001b[0m \u001b[0;34m=\u001b[0m \u001b[0mmol\u001b[0m\u001b[0;34m.\u001b[0m\u001b[0mgetResnums\u001b[0m\u001b[0;34m(\u001b[0m\u001b[0;34m)\u001b[0m\u001b[0;34m[\u001b[0m\u001b[0mres_start_indices\u001b[0m\u001b[0;34m]\u001b[0m\u001b[0;34m\u001b[0m\u001b[0;34m\u001b[0m\u001b[0m\n\u001b[0;32m---> 27\u001b[0;31m         \u001b[0;32massert\u001b[0m \u001b[0mlen\u001b[0m\u001b[0;34m(\u001b[0m\u001b[0mresnums\u001b[0m\u001b[0;34m)\u001b[0m \u001b[0;34m==\u001b[0m \u001b[0mlen\u001b[0m\u001b[0;34m(\u001b[0m\u001b[0mnp\u001b[0m\u001b[0;34m.\u001b[0m\u001b[0munique\u001b[0m\u001b[0;34m(\u001b[0m\u001b[0mresnums\u001b[0m\u001b[0;34m)\u001b[0m\u001b[0;34m)\u001b[0m\u001b[0;34m\u001b[0m\u001b[0;34m\u001b[0m\u001b[0m\n\u001b[0m\u001b[1;32m     28\u001b[0m         \u001b[0;32mif\u001b[0m \u001b[0minsert_gap\u001b[0m\u001b[0;34m:\u001b[0m\u001b[0;34m\u001b[0m\u001b[0;34m\u001b[0m\u001b[0m\n\u001b[1;32m     29\u001b[0m             \u001b[0mmin_resnums\u001b[0m \u001b[0;34m=\u001b[0m \u001b[0mnp\u001b[0m\u001b[0;34m.\u001b[0m\u001b[0mmin\u001b[0m\u001b[0;34m(\u001b[0m\u001b[0mresnums\u001b[0m\u001b[0;34m)\u001b[0m\u001b[0;34m\u001b[0m\u001b[0;34m\u001b[0m\u001b[0m\n",
      "\u001b[0;31mAssertionError\u001b[0m: "
     ]
    }
   ],
   "source": [
    "pdb_path = 'template_pdb/1IUD.pdb'\n",
    "ReadSeq.pdb2seq(pdb_path, 'A')"
   ]
  },
  {
   "cell_type": "code",
   "execution_count": 68,
   "metadata": {},
   "outputs": [],
   "source": [
    "mol = parsePDB(pdb_path, chain='A')"
   ]
  },
  {
   "cell_type": "code",
   "execution_count": 70,
   "metadata": {},
   "outputs": [
    {
     "output_type": "execute_result",
     "data": {
      "text/plain": [
       "array([  4,   5,   6,   7,   8,   9,  10,  11,  12,  13,  14,  15,  16,\n",
       "        17,  18,  19,  20,  21,  22,  23,  24,  25,  26,  27,  28,  29,\n",
       "        30,  31,  32,  33,  34,  35,  36,  37,  38,  39,  40,  41,  42,\n",
       "        43,  44,  45,  46,  47,  48,  49,  50,  51,  52,  53,  54,  55,\n",
       "        56,  57,  58,  59,  60,  61,  62,  63,  64,  65,  66,  67,  68,\n",
       "        69,  70,  71,  72,  73,  74,  75,  76,  77,  78,  79,  80,  81,\n",
       "        82,  83,  84,  85,  86,  87,  88,  89,  90,  91,  92,  93,  94,\n",
       "        95,  96,  97,  98,  99, 100, 101, 102, 103, 104, 105, 106, 107,\n",
       "       108, 109, 110, 111, 112, 113, 114, 115, 116, 117, 118, 119, 120,\n",
       "       121, 122, 123, 124, 125, 126, 127, 128, 129, 130, 131, 132, 133,\n",
       "       130, 131, 132, 133, 134, 135, 136, 137, 138, 139, 140, 144, 145,\n",
       "       146, 147, 148, 149, 150, 151, 152, 153, 154, 155, 156, 157, 158,\n",
       "       159, 160, 161, 162, 163, 164, 165, 166, 167, 168, 169, 170, 171,\n",
       "       172, 173, 174, 175, 176, 177, 178, 179, 180, 181, 182, 183, 184,\n",
       "       185, 186, 187, 188, 189, 190, 191, 192, 193, 194, 195, 196, 197,\n",
       "       198, 199, 200, 201, 202, 203, 204, 205, 206, 207, 208, 209, 210,\n",
       "       211, 212, 213, 214, 215, 216, 217, 218, 219, 220, 221, 222, 223,\n",
       "       224, 225, 226, 227, 228, 229, 230, 231, 232, 233, 234, 235, 236,\n",
       "       237, 238, 239, 240, 241, 242, 243, 244, 245, 246, 247, 248, 249,\n",
       "       250, 251, 252, 253, 254, 255, 256, 257, 258, 259, 260, 261, 262,\n",
       "       263, 264, 265, 266, 267, 268, 269, 270, 271, 272, 273, 274, 275,\n",
       "       276, 277, 278, 279, 280, 281, 282, 283, 284, 285, 286, 287, 288,\n",
       "       289, 290, 291, 292, 293, 294, 295, 296, 297, 298, 299, 300, 301,\n",
       "       302, 303, 304, 305, 306, 307, 308, 309, 310, 311, 312, 313, 314,\n",
       "       315, 316, 317, 318, 319, 320, 321, 322, 323, 324, 325, 326, 327,\n",
       "       328, 329, 330, 331, 332, 333, 334, 335, 336, 337, 338, 339, 340,\n",
       "       341, 342, 343, 344, 345, 346, 347, 348, 349, 350, 351, 352, 353,\n",
       "       354, 355, 356, 357, 358, 359, 360, 361, 362, 363, 364, 365, 366,\n",
       "       367, 368, 369, 370])"
      ]
     },
     "metadata": {},
     "execution_count": 70
    }
   ],
   "source": [
    "resnums = mol.select('name CA').getResnums()\n",
    "resnums"
   ]
  },
  {
   "cell_type": "code",
   "execution_count": 74,
   "metadata": {},
   "outputs": [
    {
     "output_type": "execute_result",
     "data": {
      "text/plain": [
       "array(['GLU', 'GLY', 'LYS', 'LEU', 'VAL', 'ILE', 'TRP', 'ILE', 'ASN',\n",
       "       'GLY', 'ASP', 'LYS', 'GLY', 'TYR', 'ASN', 'GLY', 'LEU', 'ALA',\n",
       "       'GLU', 'VAL', 'GLY', 'LYS', 'LYS', 'PHE', 'GLU', 'LYS', 'ASP',\n",
       "       'THR', 'GLY', 'ILE', 'LYS', 'VAL', 'THR', 'VAL', 'GLU', 'HIS',\n",
       "       'PRO', 'ASP', 'LYS', 'LEU', 'GLU', 'GLU', 'LYS', 'PHE', 'PRO',\n",
       "       'GLN', 'VAL', 'ALA', 'ALA', 'THR', 'GLY', 'ASP', 'GLY', 'PRO',\n",
       "       'ASP', 'ILE', 'ILE', 'PHE', 'TRP', 'ALA', 'HIS', 'ASP', 'ARG',\n",
       "       'PHE', 'GLY', 'GLY', 'TYR', 'ALA', 'GLN', 'SER', 'GLY', 'LEU',\n",
       "       'LEU', 'ALA', 'GLU', 'ILE', 'THR', 'PRO', 'ASP', 'LYS', 'ALA',\n",
       "       'PHE', 'GLN', 'ASP', 'LYS', 'LEU', 'TYR', 'PRO', 'PHE', 'THR',\n",
       "       'TRP', 'ASP', 'ALA', 'VAL', 'ARG', 'TYR', 'ASN', 'GLY', 'LYS',\n",
       "       'LEU', 'ILE', 'ALA', 'TYR', 'PRO', 'ILE', 'ALA', 'VAL', 'GLU',\n",
       "       'ALA', 'LEU', 'SER', 'LEU', 'ILE', 'TYR', 'ASN', 'LYS', 'ASP',\n",
       "       'LEU', 'LEU', 'PRO', 'ASN', 'PRO', 'PRO', 'LYS', 'THR', 'TRP',\n",
       "       'GLU', 'GLU', 'ILE', 'PRO', 'ASP', 'PRO', 'GLN', 'ASP', 'PRO',\n",
       "       'ARG', 'VAL', 'ARG', 'GLY', 'LEU', 'TYR', 'LYS', 'SER', 'ALA',\n",
       "       'LEU', 'MET', 'PHE', 'ASN', 'LEU', 'GLN', 'GLU', 'PRO', 'TYR',\n",
       "       'PHE', 'THR', 'TRP', 'PRO', 'LEU', 'ILE', 'ALA', 'ALA', 'ASP',\n",
       "       'GLY', 'GLY', 'TYR', 'ALA', 'PHE', 'LYS', 'TYR', 'GLU', 'ASN',\n",
       "       'GLY', 'LYS', 'TYR', 'ASP', 'ILE', 'LYS', 'ASP', 'VAL', 'GLY',\n",
       "       'VAL', 'ASP', 'ASN', 'ALA', 'GLY', 'ALA', 'LYS', 'ALA', 'GLY',\n",
       "       'LEU', 'THR', 'PHE', 'LEU', 'VAL', 'ASP', 'LEU', 'ILE', 'LYS',\n",
       "       'ASN', 'LYS', 'HIS', 'MET', 'ASN', 'ALA', 'ASP', 'THR', 'ASP',\n",
       "       'TYR', 'SER', 'ILE', 'ALA', 'GLU', 'ALA', 'ALA', 'PHE', 'ASN',\n",
       "       'LYS', 'GLY', 'GLU', 'THR', 'ALA', 'MET', 'THR', 'ILE', 'ASN',\n",
       "       'GLY', 'PRO', 'TRP', 'ALA', 'TRP', 'SER', 'ASN', 'ILE', 'ASP',\n",
       "       'THR', 'SER', 'LYS', 'VAL', 'ASN', 'TYR', 'GLY', 'VAL', 'THR',\n",
       "       'VAL', 'LEU', 'PRO', 'THR', 'PHE', 'LYS', 'GLY', 'GLN', 'PRO',\n",
       "       'SER', 'LYS', 'PRO', 'PHE', 'VAL', 'GLY', 'VAL', 'LEU', 'SER',\n",
       "       'ALA', 'GLY', 'ILE', 'ASN', 'ALA', 'ALA', 'SER', 'PRO', 'ASN',\n",
       "       'LYS', 'GLU', 'LEU', 'ALA', 'LYS', 'GLU', 'PHE', 'LEU', 'GLU',\n",
       "       'ASN', 'TYR', 'LEU', 'LEU', 'THR', 'ASP', 'GLU', 'GLY', 'LEU',\n",
       "       'GLU', 'ALA', 'VAL', 'ASN', 'LYS', 'ASP', 'LYS', 'PRO', 'LEU',\n",
       "       'GLY', 'ALA', 'VAL', 'ALA', 'LEU', 'LYS', 'SER', 'TYR', 'GLU',\n",
       "       'GLU', 'GLU', 'LEU', 'ALA', 'LYS', 'ASP', 'PRO', 'ARG', 'ILE',\n",
       "       'ALA', 'ALA', 'THR', 'MET', 'GLU', 'ASN', 'ALA', 'GLN', 'LYS',\n",
       "       'GLY', 'GLU', 'ILE', 'MET', 'PRO', 'ASN', 'ILE', 'PRO', 'GLN',\n",
       "       'MET', 'SER', 'ALA', 'PHE', 'TRP', 'TYR', 'ALA', 'VAL', 'ARG',\n",
       "       'THR', 'ALA', 'VAL', 'ILE', 'ASN', 'ALA', 'ALA', 'SER', 'GLY',\n",
       "       'ARG', 'GLN', 'THR', 'VAL', 'ASP', 'GLU', 'ALA', 'LEU', 'LYS',\n",
       "       'ASP', 'ALA', 'GLN', 'THR', 'ARG', 'ILE', 'THR', 'LYS'],\n",
       "      dtype='<U6')"
      ]
     },
     "metadata": {},
     "execution_count": 74
    }
   ],
   "source": [
    "mol.select('name CA').getResnames()"
   ]
  },
  {
   "cell_type": "code",
   "execution_count": 73,
   "metadata": {},
   "outputs": [
    {
     "output_type": "execute_result",
     "data": {
      "text/plain": [
       "array([  4,   5,   6,   7,   8,   9,  10,  11,  12,  13,  14,  15,  16,\n",
       "        17,  18,  19,  20,  21,  22,  23,  24,  25,  26,  27,  28,  29,\n",
       "        30,  31,  32,  33,  34,  35,  36,  37,  38,  39,  40,  41,  42,\n",
       "        43,  44,  45,  46,  47,  48,  49,  50,  51,  52,  53,  54,  55,\n",
       "        56,  57,  58,  59,  60,  61,  62,  63,  64,  65,  66,  67,  68,\n",
       "        69,  70,  71,  72,  73,  74,  75,  76,  77,  78,  79,  80,  81,\n",
       "        82,  83,  84,  85,  86,  87,  88,  89,  90,  91,  92,  93,  94,\n",
       "        95,  96,  97,  98,  99, 100, 101, 102, 103, 104, 105, 106, 107,\n",
       "       108, 109, 110, 111, 112, 113, 114, 115, 116, 117, 118, 119, 120,\n",
       "       121, 122, 123, 124, 125, 126, 127, 128, 129, 130, 131, 132, 133,\n",
       "       130, 131, 132, 133, 134, 135, 136, 137, 138, 139, 140, 144, 145,\n",
       "       146, 147, 148, 149, 150, 151, 152, 153, 154, 155, 156, 157, 158,\n",
       "       159, 160, 161, 162, 163, 164, 165, 166, 167, 168, 169, 170, 171,\n",
       "       172, 173, 174, 175, 176, 177, 178, 179, 180, 181, 182, 183, 184,\n",
       "       185, 186, 187, 188, 189, 190, 191, 192, 193, 194, 195, 196, 197,\n",
       "       198, 199, 200, 201, 202, 203, 204, 205, 206, 207, 208, 209, 210,\n",
       "       211, 212, 213, 214, 215, 216, 217, 218, 219, 220, 221, 222, 223,\n",
       "       224, 225, 226, 227, 228, 229, 230, 231, 232, 233, 234, 235, 236,\n",
       "       237, 238, 239, 240, 241, 242, 243, 244, 245, 246, 247, 248, 249,\n",
       "       250, 251, 252, 253, 254, 255, 256, 257, 258, 259, 260, 261, 262,\n",
       "       263, 264, 265, 266, 267, 268, 269, 270, 271, 272, 273, 274, 275,\n",
       "       276, 277, 278, 279, 280, 281, 282, 283, 284, 285, 286, 287, 288,\n",
       "       289, 290, 291, 292, 293, 294, 295, 296, 297, 298, 299, 300, 301,\n",
       "       302, 303, 304, 305, 306, 307, 308, 309, 310, 311, 312, 313, 314,\n",
       "       315, 316, 317, 318, 319, 320, 321, 322, 323, 324, 325, 326, 327,\n",
       "       328, 329, 330, 331, 332, 333, 334, 335, 336, 337, 338, 339, 340,\n",
       "       341, 342, 343, 344, 345, 346, 347, 348, 349, 350, 351, 352, 353,\n",
       "       354, 355, 356, 357, 358, 359, 360, 361, 362, 363, 364, 365, 366,\n",
       "       367, 368, 369, 370])"
      ]
     },
     "metadata": {},
     "execution_count": 73
    }
   ],
   "source": [
    "mol.select('not hetatm and name CA').getResnums()"
   ]
  },
  {
   "cell_type": "code",
   "execution_count": 72,
   "metadata": {},
   "outputs": [
    {
     "output_type": "execute_result",
     "data": {
      "text/plain": [
       "array([  4,   5,   6,   7,   8,   9,  10,  11,  12,  13,  14,  15,  16,\n",
       "        17,  18,  19,  20,  21,  22,  23,  24,  25,  26,  27,  28,  29,\n",
       "        30,  31,  32,  33,  34,  35,  36,  37,  38,  39,  40,  41,  42,\n",
       "        43,  44,  45,  46,  47,  48,  49,  50,  51,  52,  53,  54,  55,\n",
       "        56,  57,  58,  59,  60,  61,  62,  63,  64,  65,  66,  67,  68,\n",
       "        69,  70,  71,  72,  73,  74,  75,  76,  77,  78,  79,  80,  81,\n",
       "        82,  83,  84,  85,  86,  87,  88,  89,  90,  91,  92,  93,  94,\n",
       "        95,  96,  97,  98,  99, 100, 101, 102, 103, 104, 105, 106, 107,\n",
       "       108, 109, 110, 111, 112, 113, 114, 115, 116, 117, 118, 119, 120,\n",
       "       121, 122, 123, 124, 125, 126, 127, 128, 129, 130, 131, 132, 133,\n",
       "       134, 135, 136, 137, 138, 139, 140, 144, 145, 146, 147, 148, 149,\n",
       "       150, 151, 152, 153, 154, 155, 156, 157, 158, 159, 160, 161, 162,\n",
       "       163, 164, 165, 166, 167, 168, 169, 170, 171, 172, 173, 174, 175,\n",
       "       176, 177, 178, 179, 180, 181, 182, 183, 184, 185, 186, 187, 188,\n",
       "       189, 190, 191, 192, 193, 194, 195, 196, 197, 198, 199, 200, 201,\n",
       "       202, 203, 204, 205, 206, 207, 208, 209, 210, 211, 212, 213, 214,\n",
       "       215, 216, 217, 218, 219, 220, 221, 222, 223, 224, 225, 226, 227,\n",
       "       228, 229, 230, 231, 232, 233, 234, 235, 236, 237, 238, 239, 240,\n",
       "       241, 242, 243, 244, 245, 246, 247, 248, 249, 250, 251, 252, 253,\n",
       "       254, 255, 256, 257, 258, 259, 260, 261, 262, 263, 264, 265, 266,\n",
       "       267, 268, 269, 270, 271, 272, 273, 274, 275, 276, 277, 278, 279,\n",
       "       280, 281, 282, 283, 284, 285, 286, 287, 288, 289, 290, 291, 292,\n",
       "       293, 294, 295, 296, 297, 298, 299, 300, 301, 302, 303, 304, 305,\n",
       "       306, 307, 308, 309, 310, 311, 312, 313, 314, 315, 316, 317, 318,\n",
       "       319, 320, 321, 322, 323, 324, 325, 326, 327, 328, 329, 330, 331,\n",
       "       332, 333, 334, 335, 336, 337, 338, 339, 340, 341, 342, 343, 344,\n",
       "       345, 346, 347, 348, 349, 350, 351, 352, 353, 354, 355, 356, 357,\n",
       "       358, 359, 360, 361, 362, 363, 364, 365, 366, 367, 368, 369, 370])"
      ]
     },
     "metadata": {},
     "execution_count": 72
    }
   ],
   "source": [
    "np.unique(resnums)"
   ]
  },
  {
   "cell_type": "code",
   "execution_count": 71,
   "metadata": {},
   "outputs": [
    {
     "output_type": "stream",
     "name": "stdout",
     "text": [
      "368 364\n"
     ]
    }
   ],
   "source": [
    "print(len(resnums), len(np.unique(resnums)))"
   ]
  },
  {
   "cell_type": "code",
   "execution_count": null,
   "metadata": {},
   "outputs": [],
   "source": []
  }
 ]
}