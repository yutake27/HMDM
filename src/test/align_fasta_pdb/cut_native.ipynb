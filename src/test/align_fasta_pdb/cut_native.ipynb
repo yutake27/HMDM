{
 "metadata": {
  "language_info": {
   "codemirror_mode": {
    "name": "ipython",
    "version": 3
   },
   "file_extension": ".py",
   "mimetype": "text/x-python",
   "name": "python",
   "nbconvert_exporter": "python",
   "pygments_lexer": "ipython3",
   "version": "3.9.1"
  },
  "orig_nbformat": 2,
  "kernelspec": {
   "name": "python37364bit00d4d3a58f944c1c8375f1b9a9835895",
   "display_name": "Python 3.9.1 64-bit ('mypython': conda)"
  },
  "metadata": {
   "interpreter": {
    "hash": "033a30f494deec8ceeb512afef8c9dc113472ba2d32680e95a1365ed9cc23893"
   }
  }
 },
 "nbformat": 4,
 "nbformat_minor": 2,
 "cells": [
  {
   "cell_type": "code",
   "execution_count": 1,
   "metadata": {},
   "outputs": [],
   "source": [
    "from pathlib import Path\n",
    "import numpy as np\n",
    "from prody import parsePDB, writePDB, LOGGER\n",
    "LOGGER.verbosity = 'None'"
   ]
  },
  {
   "cell_type": "code",
   "execution_count": 2,
   "metadata": {},
   "outputs": [],
   "source": [
    "fasta_dir = Path('../../../fasta/scop_cl_equal_globular100/')\n",
    "native_dir = Path('native_pdb/')\n",
    "cut_pdb_dir = Path('cut_pdb/')\n",
    "correct_pdb_dir = Path('correct_pdb/')"
   ]
  },
  {
   "cell_type": "code",
   "execution_count": 3,
   "metadata": {},
   "outputs": [],
   "source": [
    "import sys\n",
    "sys.path.append('../..')\n",
    "from seq import ReadSeq, AlignSeq"
   ]
  },
  {
   "cell_type": "code",
   "execution_count": 4,
   "metadata": {},
   "outputs": [],
   "source": [
    "def correct_renums(mol) -> np.ndarray:\n",
    "    \"\"\"correct the residue number if different residues are assigned the same residue number.\n",
    "\n",
    "    Args:\n",
    "        mol (prody.Atom.atomic): mol read by prody.\n",
    "\n",
    "    Returns:\n",
    "        np.ndarray: residue numbers after modification.\n",
    "    \"\"\"\n",
    "    new_resnum_list = []\n",
    "    plus = 0\n",
    "    resnum_before = float('inf')\n",
    "    resid_before = float('inf')\n",
    "    for resnum, resid in zip(mol.getResnums(), mol.getResindices()):\n",
    "        if resnum_before == resnum and resid_before != resid:\n",
    "            plus += 1\n",
    "        new_resnum_list.append(resnum + plus)\n",
    "        resnum_before = resnum\n",
    "        resid_before = resid\n",
    "    return np.array(new_resnum_list)\n",
    "\n",
    "def cut_native(native_path: str, chain: str, start: str, end: str, out_pdb_path: str):\n",
    "    mol = parsePDB(native_path, chain=chain)\n",
    "    mol = mol.select('resnum ' + start + ' to ' + end)\n",
    "    resnums = correct_renums(mol)\n",
    "    mol.setResnums(resnums)\n",
    "    writePDB(str(out_pdb_path), mol)"
   ]
  },
  {
   "cell_type": "code",
   "execution_count": 5,
   "metadata": {},
   "outputs": [],
   "source": [
    "def read_fasta(fasta_path):\n",
    "    seq = ReadSeq.fasta2seq(fasta_path)\n",
    "    with open(fasta_path, 'r') as f:\n",
    "        line = f.readline()\n",
    "        start, end = line.split()[8].split(':')[1].split('-')\n",
    "    return seq, start, end"
   ]
  },
  {
   "cell_type": "code",
   "execution_count": 6,
   "metadata": {},
   "outputs": [],
   "source": [
    "def save_cutted_pdb(target: str):\n",
    "    pdb_id = target.split('_')[0]\n",
    "    chain = target.split('_')[1]\n",
    "    fasta_path = (fasta_dir / target).with_suffix('.fasta')\n",
    "    pdb_path = (native_dir / pdb_id).with_suffix('.pdb')\n",
    "    out_pdb_path = (cut_pdb_dir / target).with_suffix('.pdb')\n",
    "    seq, scop_start, scop_end = read_fasta(fasta_path)\n",
    "    cut_native(pdb_path, chain, scop_start, scop_end, out_pdb_path)"
   ]
  },
  {
   "cell_type": "code",
   "execution_count": 7,
   "metadata": {},
   "outputs": [],
   "source": [
    "target = '1IRU_I'\n",
    "save_cutted_pdb(target)"
   ]
  },
  {
   "cell_type": "code",
   "execution_count": 8,
   "metadata": {},
   "outputs": [],
   "source": [
    "target = '1IRU_I'\n",
    "pdb_id = target.split('_')[0]\n",
    "chain = target.split('_')[1]\n",
    "fasta_path = (fasta_dir / target).with_suffix('.fasta')\n",
    "pdb_path = (native_dir / pdb_id).with_suffix('.pdb')\n",
    "out_pdb_path = (cut_pdb_dir / target).with_suffix('.pdb')\n",
    "fasta_seq, scop_start, scop_end = read_fasta(fasta_path)\n",
    "cut_native(pdb_path, chain, scop_start, scop_end, out_pdb_path)\n",
    "pdb_seq, pdb_resnum = ReadSeq.pdb2seq(out_pdb_path, chain, read_HETATM=True)"
   ]
  },
  {
   "cell_type": "code",
   "execution_count": 9,
   "metadata": {},
   "outputs": [
    {
     "output_type": "execute_result",
     "data": {
      "text/plain": [
       "'TTIAGVVYKDGIVLGADTRATEGMVVADKNCSKIHFISPNIYCCGAGTAADTDMTTQLISSNLELHSLSTGRLPRVVTANRMLKQMLFRYQGYIGAALVLGGVDVTGPHLYSIYPHGSTDKLPYVTMGSGSLAAMAVFEDKFRPDMEEEEAKKLVSEAIAAGIFNDLGSGSNIDLCVISKSKLDFLRPYSVPNKKGTRFGRYRCEKGTNAVLTEKVTTLE'"
      ]
     },
     "metadata": {},
     "execution_count": 9
    }
   ],
   "source": [
    "fasta_seq"
   ]
  },
  {
   "cell_type": "code",
   "execution_count": 10,
   "metadata": {},
   "outputs": [
    {
     "output_type": "execute_result",
     "data": {
      "text/plain": [
       "'TTIAGVVYKDGIVLGADTRATEGMVVADKNCSKIHFISPNIYCCGAGTAADTDMTTQLISSNLELHSLSTGRLPRVVTANRMLKQMLFRYRGYIGAALVLGGVDVTGPHLYSIYPHGSTDKLPYVTMGSGSLAAMAVFEDKFRPDMEEEEAKNLVSEAIAAGIFNDLGSGSNIDLCVISKNKLDFLRPYTVPNKKGTRLGRYRCEKGTTAVLTEKITPLE'"
      ]
     },
     "metadata": {},
     "execution_count": 10
    }
   ],
   "source": [
    "pdb_seq"
   ]
  },
  {
   "cell_type": "code",
   "execution_count": 11,
   "metadata": {},
   "outputs": [
    {
     "output_type": "execute_result",
     "data": {
      "text/plain": [
       "[Alignment(seqA='TTIAGVVYKDGIVLGADTRATEGMVVADKNCSKIHFISPNIYCCGAGTAADTDMTTQLISSNLELHSLSTGRLPRVVTANRMLKQMLFRYQGYIGAALVLGGVDVTGPHLYSIYPHGSTDKLPYVTMGSGSLAAMAVFEDKFRPDMEEEEAKKLVSEAIAAGIFNDLGSGSNIDLCVISKSKLDFLRPYSVPNKKGTRFGRYRCEKGTNAVLTEKVTTLE', seqB='TTIAGVVYKDGIVLGADTRATEGMVVADKNCSKIHFISPNIYCCGAGTAADTDMTTQLISSNLELHSLSTGRLPRVVTANRMLKQMLFRYRGYIGAALVLGGVDVTGPHLYSIYPHGSTDKLPYVTMGSGSLAAMAVFEDKFRPDMEEEEAKNLVSEAIAAGIFNDLGSGSNIDLCVISKNKLDFLRPYTVPNKKGTRLGRYRCEKGTTAVLTEKITPLE', score=1052.0, start=0, end=220)]"
      ]
     },
     "metadata": {},
     "execution_count": 11
    }
   ],
   "source": [
    "from Bio import pairwise2\n",
    "# TODO もしかしてミスマッチのペナルティがデカすぎたせいでアライメントのミスが目立ってた？\n",
    "pairwise2.align.globalms(fasta_seq, pdb_seq, 5, -1, -2, -1)"
   ]
  },
  {
   "cell_type": "code",
   "execution_count": 12,
   "metadata": {},
   "outputs": [
    {
     "output_type": "stream",
     "name": "stdout",
     "text": [
      "length: 220\ndiff: 8\nmissing: 0\n"
     ]
    }
   ],
   "source": [
    "pdb_resnum_resname_dict = dict(zip(pdb_resnum, pdb_seq))\n",
    "missing = 0\n",
    "diff = 0\n",
    "for i, r in enumerate(fasta_seq):\n",
    "    fasta_resnum = i + 1\n",
    "    if fasta_resnum in pdb_resnum_resname_dict:\n",
    "        if r != pdb_resnum_resname_dict[fasta_resnum]:\n",
    "            diff += 1\n",
    "    else:\n",
    "        missing += 1\n",
    "print('length:', len(fasta_seq))\n",
    "print('diff:', diff)\n",
    "print('missing:', missing)"
   ]
  },
  {
   "cell_type": "code",
   "execution_count": 13,
   "metadata": {
    "tags": []
   },
   "outputs": [
    {
     "output_type": "stream",
     "name": "stdout",
     "text": [
      "2I2Y_A\n",
      "Alignment(seqA='----------------------------------------------------------------MHRDSCPLDCKVYVGNLGNNGNKTELERAFGYYGPLRSVWVARNPPGFAFVEFEDPRDAADAVRELDGRTLCGCRVRVELSNGEKR', seqB='MQYKLILNGKTLKGETTTEAVDAATAEKVFKQYANDNGVDGEWTYDDATKTFTVTEGSHHHHHHMHRDSCPLDCKVYVGNLGNNGNKTELERAFGYYGPLRSVWVARNPPGFAFVEFEDPRDAADAVRELDGRTLCGCRVRVELSNGEKR', score=365.0, start=0, end=150)\n",
      "Alignment(seqA='M----------------------------------------------------------------HRDSCPLDCKVYVGNLGNNGNKTELERAFGYYGPLRSVWVARNPPGFAFVEFEDPRDAADAVRELDGRTLCGCRVRVELSNGEKR', seqB='MQYKLILNGKTLKGETTTEAVDAATAEKVFKQYANDNGVDGEWTYDDATKTFTVTEGSHHHHHHMHRDSCPLDCKVYVGNLGNNGNKTELERAFGYYGPLRSVWVARNPPGFAFVEFEDPRDAADAVRELDGRTLCGCRVRVELSNGEKR', score=365.0, start=0, end=150)\n",
      "\n",
      "3M0G_A\n",
      "Alignment(seqA='--SERLKEVQDGVEAAMAAAIGRLPAGDLRDAMAYAAQGGKRLRAFLAIESAAIHGISMEQAMPAALAVEALHAYSLVHDDMPCMDNDDLRRGLPTVHRKWDEATAVLAGDALQTLAFELCTDPVLGSAENRVALVAALAQASGAEGMVYGQALDIAAETAAVPLTLDEIIRLQAGKTGALISFAAQAGAIIAGADRALLAAYATALGLAFQIADDILDVEGDEEAAGKRLGKDAEAHKATFVSLLGLPGAKARAADLVAEAEAALAPYGEAAATLRACARYVIE--------------------------------------------------------------------------------------------------------------------------------------------------', seqB='SLSERLKEVQDAVETAMAAAIGRLPAGDLRDAMAYAAQGGKRLRAFLAIESAAIHGISMAQAMPAALAVEALHAYSLVHDDMPCMDNDDLRRGLPTVHKKWDDATAVLAGDALQTLAFELCTDPVLGSAENRVALVAALAQASGAEGMVYGQALDIAAETAAVPLTLDEIIRLQAGKTGALISFAAQAGAILAGADRGPLTAYATALGLAFQIADDIL---------------------ATFVSLLGLAGAKSRAADLVAEAEAALAPYGEAASTLRACARYVIE-----------XXXXXXXXXXXXXXXXXXXXXXXXXXXXXXXXXXXXXXXXXXXXXXXXXXXXXXXXXXXXXXXXXXXXXXXXXXXXXXXXXXXXXXXXXXXXXXXXXXXXXXXXXXXXXXXXXXXXXXXXXXXXXXXXXXXXXXX', score=1067.0, start=0, end=431)\n",
      "Alignment(seqA='S--ERLKEVQDGVEAAMAAAIGRLPAGDLRDAMAYAAQGGKRLRAFLAIESAAIHGISMEQAMPAALAVEALHAYSLVHDDMPCMDNDDLRRGLPTVHRKWDEATAVLAGDALQTLAFELCTDPVLGSAENRVALVAALAQASGAEGMVYGQALDIAAETAAVPLTLDEIIRLQAGKTGALISFAAQAGAIIAGADRALLAAYATALGLAFQIADDILDVEGDEEAAGKRLGKDAEAHKATFVSLLGLPGAKARAADLVAEAEAALAPYGEAAATLRACARYVIE--------------------------------------------------------------------------------------------------------------------------------------------------', seqB='SLSERLKEVQDAVETAMAAAIGRLPAGDLRDAMAYAAQGGKRLRAFLAIESAAIHGISMAQAMPAALAVEALHAYSLVHDDMPCMDNDDLRRGLPTVHKKWDDATAVLAGDALQTLAFELCTDPVLGSAENRVALVAALAQASGAEGMVYGQALDIAAETAAVPLTLDEIIRLQAGKTGALISFAAQAGAILAGADRGPLTAYATALGLAFQIADDIL---------------------ATFVSLLGLAGAKSRAADLVAEAEAALAPYGEAASTLRACARYVIE-----------XXXXXXXXXXXXXXXXXXXXXXXXXXXXXXXXXXXXXXXXXXXXXXXXXXXXXXXXXXXXXXXXXXXXXXXXXXXXXXXXXXXXXXXXXXXXXXXXXXXXXXXXXXXXXXXXXXXXXXXXXXXXXXXXXXXXXXX', score=1067.0, start=0, end=431)\n",
      "\n",
      "2V90_C\n",
      "Alignment(seqA='PRCLHLEKGPQGFGFLLREEKGLDGRPGQFLWEVDPGLPAKKAGMQAGDRLVAVAGESVEGLGHEETVSRIQGQGSCVSLTVVDPEADRFFS---------------------------------------------------------------------------------------------------------------------------------------------------------------------------------------------------------------------------------------------------------------------------------------------------------------------------------------------------------------------------------------------------------------------------------------------------------------------------------------------------------------------------------------------------------------------------------------------------------------------------------------------------------------------------------------------------------------------------------------------------------------------------------------------------------------------------------------------------------------------------------------------------------------------------------------------------------------------------------------------------------------------------------------------------------------------------------------------------------------------------------------------------------------------------------------------------------------------------------------------------------------------------------------------------------------------------------------------------------------------------------------------------------------------------------------------------------------------------------------------------------------------------------------------------------------------------------------------------------------------------------------------------------------------------------------------------------------------------------------------------------------------------------------M', seqB='PRCLHLEKGPQGFGFLLREEKGLDGRPGQFLWEVDPGLPAKKAGMQAGDRLVAVAGESVEGLGHEETVSRIQGQGSCVSLTVVDPEADRETSV-----------------------------------------------------------------------------------------------------------------------------------------------------------------------------------------------------------------------------------------------------------------------------------------------------------------------------------------------------------------------------------------------------------------------------------------------------------------------------------------------------------------------------------------------------------------------------------------------------------------------------------------------------------------------------------------------------------------------------------------------------------------------------------------------------------------------------------------------------------------------------------------------------------------------------------------------------------------------------------------------------------------------------------------------------------------------------------------------------------------------------------------------------------------------------------------------------------------------------------------------------------------------------------------------------------------------------------------------------------------------------------------------------------------------------------------------------------------------------------------------------------------------------------------------------------------------------------------------------------------------------------------------------------------------------------------------------------------------------XXXXXXXXXXXXXXXXXXXXXXXXXXXXXXXXXXXXXXXXXXXXXXXXXXXXXXXXXX', score=-1273.0, start=0, end=1812)\n",
      "Alignment(seqA='PRCLHLEKGPQGFGFLLREEKGLDGRPGQFLWEVDPGLPAKKAGMQAGDRLVAVAGESVEGLGHEETVSRIQGQGSCVSLTVVDPEADRFFSM---------------------------------------------------------------------------------------------------------------------------------------------------------------------------------------------------------------------------------------------------------------------------------------------------------------------------------------------------------------------------------------------------------------------------------------------------------------------------------------------------------------------------------------------------------------------------------------------------------------------------------------------------------------------------------------------------------------------------------------------------------------------------------------------------------------------------------------------------------------------------------------------------------------------------------------------------------------------------------------------------------------------------------------------------------------------------------------------------------------------------------------------------------------------------------------------------------------------------------------------------------------------------------------------------------------------------------------------------------------------------------------------------------------------------------------------------------------------------------------------------------------------------------------------------------------------------------------------------------------------------------------------------------------------------------------------------------------------------------------------------------------------------------------', seqB='PRCLHLEKGPQGFGFLLREEKGLDGRPGQFLWEVDPGLPAKKAGMQAGDRLVAVAGESVEGLGHEETVSRIQGQGSCVSLTVVDPEADRETSV-----------------------------------------------------------------------------------------------------------------------------------------------------------------------------------------------------------------------------------------------------------------------------------------------------------------------------------------------------------------------------------------------------------------------------------------------------------------------------------------------------------------------------------------------------------------------------------------------------------------------------------------------------------------------------------------------------------------------------------------------------------------------------------------------------------------------------------------------------------------------------------------------------------------------------------------------------------------------------------------------------------------------------------------------------------------------------------------------------------------------------------------------------------------------------------------------------------------------------------------------------------------------------------------------------------------------------------------------------------------------------------------------------------------------------------------------------------------------------------------------------------------------------------------------------------------------------------------------------------------------------------------------------------------------------------------------------------------------------XXXXXXXXXXXXXXXXXXXXXXXXXXXXXXXXXXXXXXXXXXXXXXXXXXXXXXXXXX', score=-1273.0, start=0, end=1812)\n",
      "\n",
      "1K28_A\n",
      "Alignment(seqA='----------------------------------------------------------------------------------------------------------------------------NVLNQGGEVGYDSSSNVIQDSNLDTAINPDDRPLSEIPTDDNPNMSMAEMLRRDEGLRLKVYWDTEGYPTIGIGHLIMKQPVRDMAQINKVLSKQVGREITGNPGSITMEEATTLFERDLADMQRDIKSHSKVGPVWQAVNRSRQMALENMAFQMGVGGVAKFNTMLTAMLAGDWEKAYKAGRDSLWYQQTKGRASRVTMIILTGNLESYGVEVKT--------------------------------------------------------------------------------------------------------------------------------------------------------------------------------------------------------------------------------------------------------------------------------------------------------------------------------------------------------------------------------------------------------------------------------------------------------------------------------------------------------------------------------------------------------------------', seqB='NNLNWFVGVVEDRMDPLKLGRVRVRVVGLHPPQRAQGDVMGIPTEKLPWMSVIQPITSAAMSGIGGSVTGPVEGTRVYGHFLDKWKTNGIVLGTYGGIVREKPNRLEGFSDPTGQYPRRLGNDTNVLNQGGEVGYDSSSNVIQDSNLDTAINPDDRPLSEIPTDDNPNMSMAEMLRRDEGLRLKVYWDTEGYPTIGIGHLIMKQPVRDMAQINKVLSKQVGREITGNPGSITMEEATTLFERDLADMQRDIKSHSKVGPVWQAVNRSRQMALENMAFQMGVGGVAKFNTMLTAMLAGDWEKAYKAGRDSLWYQQTKGRASRVTMIILTGNLESYGVEVKT----------------DPADPPIPNDSRILFKEPVSSYKGEYPYVHTMETESGHIQEFDDTPGQERYRLVHPTGTYEEVSPSGRRTRKTVDNLYDITNADGNFLVAGDKKTNVGGSEIYYNMDNRLHQIDGSNTIFVRGDETKTVEGNGTILVKGNVTIIVEGNADITVKGDATTLVEGNQTNTVNGNLSWKVAGTVDWDVGGDWTEKMASMSSISSGQYTIDGSRIDIGS------HHLYXXXXXXXXXXXXXXXXXXXXXXXXXXXXXXXXXXXXXXXXXXXXXXXXXXXXXXXXXXXXXXXXXXXXXXXXXXXXXXXXXXXXXXXXXXXXXXXXXXXXXXXXXXXXXXXXXXXXXXXXXXXXXXXXXXXXXXXXXXXXXXXXXXXXXXXXXXXXXXXXXXXXXXXXXXXXXXXXXXXXXXXXXXXXXXXXXXXXXXXXXXXXXXXXXXXXXXXXXXXXXXXXXXXXXXXXXXXXXXXXXXXXXXXXXXXXXXXXXXXXXXXXXXXXXXXXXXXXXXXXXXXXXXXXXXXXXXXXXXXXXXXXXXX', score=406.0, start=0, end=888)\n",
      "Alignment(seqA='N----------------------------------------------------------------------------------------------------------------------------VLNQGGEVGYDSSSNVIQDSNLDTAINPDDRPLSEIPTDDNPNMSMAEMLRRDEGLRLKVYWDTEGYPTIGIGHLIMKQPVRDMAQINKVLSKQVGREITGNPGSITMEEATTLFERDLADMQRDIKSHSKVGPVWQAVNRSRQMALENMAFQMGVGGVAKFNTMLTAMLAGDWEKAYKAGRDSLWYQQTKGRASRVTMIILTGNLESYGVEVKT--------------------------------------------------------------------------------------------------------------------------------------------------------------------------------------------------------------------------------------------------------------------------------------------------------------------------------------------------------------------------------------------------------------------------------------------------------------------------------------------------------------------------------------------------------------------', seqB='NNLNWFVGVVEDRMDPLKLGRVRVRVVGLHPPQRAQGDVMGIPTEKLPWMSVIQPITSAAMSGIGGSVTGPVEGTRVYGHFLDKWKTNGIVLGTYGGIVREKPNRLEGFSDPTGQYPRRLGNDTNVLNQGGEVGYDSSSNVIQDSNLDTAINPDDRPLSEIPTDDNPNMSMAEMLRRDEGLRLKVYWDTEGYPTIGIGHLIMKQPVRDMAQINKVLSKQVGREITGNPGSITMEEATTLFERDLADMQRDIKSHSKVGPVWQAVNRSRQMALENMAFQMGVGGVAKFNTMLTAMLAGDWEKAYKAGRDSLWYQQTKGRASRVTMIILTGNLESYGVEVKT----------------DPADPPIPNDSRILFKEPVSSYKGEYPYVHTMETESGHIQEFDDTPGQERYRLVHPTGTYEEVSPSGRRTRKTVDNLYDITNADGNFLVAGDKKTNVGGSEIYYNMDNRLHQIDGSNTIFVRGDETKTVEGNGTILVKGNVTIIVEGNADITVKGDATTLVEGNQTNTVNGNLSWKVAGTVDWDVGGDWTEKMASMSSISSGQYTIDGSRIDIGS------HHLYXXXXXXXXXXXXXXXXXXXXXXXXXXXXXXXXXXXXXXXXXXXXXXXXXXXXXXXXXXXXXXXXXXXXXXXXXXXXXXXXXXXXXXXXXXXXXXXXXXXXXXXXXXXXXXXXXXXXXXXXXXXXXXXXXXXXXXXXXXXXXXXXXXXXXXXXXXXXXXXXXXXXXXXXXXXXXXXXXXXXXXXXXXXXXXXXXXXXXXXXXXXXXXXXXXXXXXXXXXXXXXXXXXXXXXXXXXXXXXXXXXXXXXXXXXXXXXXXXXXXXXXXXXXXXXXXXXXXXXXXXXXXXXXXXXXXXXXXXXXXXXXXXXX', score=406.0, start=0, end=888)\n",
      "\n"
     ]
    }
   ],
   "source": [
    "def align_fasta_pdb(target):\n",
    "    pdb_id = target.split('_')[0]\n",
    "    chain = target.split('_')[1]\n",
    "    fasta_path = (fasta_dir / target).with_suffix('.fasta')\n",
    "    pdb_path = (native_dir / pdb_id).with_suffix('.pdb')\n",
    "    fasta_seq = ReadSeq.fasta2seq(fasta_path)\n",
    "    pdb_seq, _ = ReadSeq.pdb2seq(pdb_path, chain, read_HETATM=True)\n",
    "    alignment_list = pairwise2.align.globalms(fasta_seq, pdb_seq, 5, -1, -2, -1)\n",
    "    return alignment_list\n",
    "\n",
    "for fasta in fasta_dir.glob('*.fasta'):\n",
    "    target = fasta.stem\n",
    "    alignment_list = align_fasta_pdb(target)\n",
    "    if len(alignment_list) > 1:\n",
    "        print(target)\n",
    "        for alignment in alignment_list:\n",
    "            print(alignment)\n",
    "        print()"
   ]
  },
  {
   "cell_type": "code",
   "execution_count": 14,
   "metadata": {
    "tags": []
   },
   "outputs": [
    {
     "output_type": "stream",
     "name": "stdout",
     "text": [
      "Alignment(seqA='CDNFP----QMLRDLRDAFSRVKTFFQTKDEVDNLLLKESLLEDFKGYLGCQALSEMIQFYLEEVMPQAENQDPEAKDHVNSLGENLKTLRLRLRRCHRFLPCENKSKAVEQIKNAFNKLQEKGIYKAMSEFDIFINYIEAYMTIK----------------------------------------------------------------------------------------------------------------------', seqB='CDNFP----QMLRDLRDAFSRVKTFFQTKDEVDNLLLKESLLEDFKGYLGCQALSEMIQFYLEEVMPQAENQDPEAKDHVNSLGENLKTLRLRLRRCHRFLPCENKSKAVEQIKNAFNKLQEKGIYKAMSEFDIFINYIEAYMTIK-------------------------------------------XXXXXXXXXXXXXXXXXXXXXXXXXXXXXXXXXXXXXXXXXXXXXXXXXXXXXXXXXXXXXXXXXXXXXXXXXXX', score=586.0, start=0, end=264)\n"
     ]
    }
   ],
   "source": [
    "target = '1VLK_A'\n",
    "alignment_list = align_fasta_pdb(target)\n",
    "for alignment in alignment_list:\n",
    "    print(alignment)"
   ]
  },
  {
   "source": [
    "## 想定\n",
    "1. pdbをダウンロード\n",
    "2. correct resnumで残基番号を修正\n",
    "3. 残基番号をもとに配列を生成．このときmissing residueは'-'か何かにする\n",
    "4. fastaと生成した配列をアライメント"
   ],
   "cell_type": "markdown",
   "metadata": {}
  },
  {
   "cell_type": "code",
   "execution_count": 15,
   "metadata": {},
   "outputs": [
    {
     "output_type": "execute_result",
     "data": {
      "text/plain": [
       "'correct_pdb/4PNE.pdb'"
      ]
     },
     "metadata": {},
     "execution_count": 15
    }
   ],
   "source": [
    "target = '4PNE_B'\n",
    "pdb_id = target.split('_')[0]\n",
    "chain = target.split('_')[1]\n",
    "fasta_path = (fasta_dir / target).with_suffix('.fasta')\n",
    "pdb_path = (native_dir / pdb_id).with_suffix('.pdb')\n",
    "fasta_seq = ReadSeq.fasta2seq(fasta_path)\n",
    "correct_pdb_path = (correct_pdb_dir / pdb_id).with_suffix('.pdb')\n",
    "mol = parsePDB(pdb_path, chain=chain)\n",
    "new_resnum = correct_renums(mol)\n",
    "mol.setResnums(new_resnum)\n",
    "writePDB(str(correct_pdb_path), mol)"
   ]
  },
  {
   "cell_type": "code",
   "execution_count": 16,
   "metadata": {},
   "outputs": [
    {
     "output_type": "execute_result",
     "data": {
      "text/plain": [
       "'APTSQQVGQMYDLVTPLLNSVAGGPCAIHHGYWENDGRASWQQAADRLTDLVAERTVLDGGVRLLDVGCGTGQPALRVARDNAIQITGITVSQVQVAIAADCARERGLSHRVDFSCVDAMSLPYPDNAFDAAWAMQSLLEMSEPDRAIREILRVLKPGGILGVTEVVKREAGGGMPVSGDRWPTGLRICLAEQLLESLRAAGFEILDWEDVSSRTRYFMPQFAEELAAHQHGIADRYGPAVAGWAAAVCDYEKYAHDMGYAILTARKPVG'"
      ]
     },
     "metadata": {},
     "execution_count": 16
    }
   ],
   "source": [
    "fasta_seq"
   ]
  },
  {
   "cell_type": "code",
   "execution_count": 17,
   "metadata": {},
   "outputs": [],
   "source": [
    "pdb_seq, pdb_resnums = ReadSeq.pdb2seq(correct_pdb_path, chain, read_HETATM=True, insert_gap=False)"
   ]
  },
  {
   "cell_type": "code",
   "execution_count": 18,
   "metadata": {},
   "outputs": [
    {
     "output_type": "execute_result",
     "data": {
      "text/plain": [
       "array([  4,   5,   6,   7,  13,  14,  15,  16,  17,  18,  19,  20,  21,\n",
       "        22,  23,  24,  25,  26,  27,  28,  29,  30,  31,  32,  33,  34,\n",
       "        35,  36,  37,  38,  39,  40,  41,  42,  43,  44,  45,  46,  47,\n",
       "        48,  49,  50,  51,  52,  53,  54,  55,  56,  57,  58,  59,  60,\n",
       "        61,  62,  63,  64,  65,  66,  67,  68,  69,  70,  71,  72,  73,\n",
       "        74,  75,  76,  77,  78,  79,  80,  81,  82,  83,  84,  85,  86,\n",
       "        87,  88,  89,  90,  91,  92,  93,  94,  95,  96,  97,  98,  99,\n",
       "       100, 101, 102, 103, 104, 105, 106, 107, 108, 109, 110, 111, 112,\n",
       "       113, 114, 115, 116, 117, 118, 119, 120, 121, 122, 123, 124, 125,\n",
       "       126, 127, 128, 129, 130, 131, 132, 133, 134, 135, 136, 137, 138,\n",
       "       139, 140, 141, 142, 143, 144, 145, 146, 147, 148, 149, 150, 151,\n",
       "       152, 153, 154, 155, 156, 157, 158, 159, 160, 161, 162, 163, 164,\n",
       "       165, 166, 167, 168, 169, 170, 171, 172, 173, 174, 175, 176, 177,\n",
       "       178, 179, 180, 181, 182, 183, 186, 187, 188, 189, 190, 191, 192,\n",
       "       193, 194, 195, 196, 197, 198, 199, 200, 201, 202, 203, 204, 205,\n",
       "       206, 207, 208, 209, 210, 211, 212, 213, 214, 215, 216, 217, 218,\n",
       "       219, 220, 221, 222, 223, 224, 225, 226, 227, 228, 229, 230, 231,\n",
       "       232, 233, 234, 235, 236, 237, 238, 239, 240, 241, 242, 243, 244,\n",
       "       245, 246, 247, 248, 249, 250, 251, 252, 253, 254, 255, 256, 257,\n",
       "       258, 259, 260, 261, 262, 263, 264, 265, 266, 267, 268, 269, 270,\n",
       "       271, 272, 273, 274, 275, 276, 277, 278, 279, 280, 281, 282, 301,\n",
       "       302, 401, 402, 403, 404, 405, 406, 407, 408, 409, 410, 411, 412,\n",
       "       413, 414, 415, 416, 417, 418, 419, 420, 421, 422, 423, 424, 425,\n",
       "       426, 427, 428, 429, 430, 431, 432, 433, 434, 435, 436, 437, 438,\n",
       "       439, 440, 441, 442, 443, 444, 445, 446, 447, 448, 449, 450, 451,\n",
       "       452, 453, 454, 455, 456, 457, 458, 459, 460, 461, 462, 463, 464,\n",
       "       465, 466, 467, 468, 469, 470, 471, 472, 473, 474, 475, 476, 477,\n",
       "       478, 479, 480, 481, 482, 483, 484, 485, 486, 487, 488, 489, 490,\n",
       "       491, 492, 493, 494, 495, 496, 497, 498, 499, 500, 501, 502, 503,\n",
       "       504, 505, 506, 507])"
      ]
     },
     "metadata": {},
     "execution_count": 18
    }
   ],
   "source": [
    "pdb_resnums"
   ]
  },
  {
   "cell_type": "code",
   "execution_count": 19,
   "metadata": {},
   "outputs": [
    {
     "output_type": "execute_result",
     "data": {
      "text/plain": [
       "'SGIPAPTSQQVGQMYDLVTPLLNSVAGGPCAIHHGYWENDGRASWQQAADRLTDLVAERTVLDGGVRLLDVGCGTGQPALRVARDNAIQITGITVSQVQVAIAADCARERGLSHRVDFSCVDAMSLPYPDNAFDAAWAMQSLLEMSEPDRAIREILRVLKPGGILGVTEVVKREAGMPVSGDRWPTGLRICLAEQLLESLRAAGFEILDWEDVSSRTRYFMPQFAEELAAHQHGIADRYGPAVAGWAAAVCDYEKYAHDMGYAILTARKPVGCXXXXXXXXXXXXXXXXXXXXXXXXXXXXXXXXXXXXXXXXXXXXXXXXXXXXXXXXXXXXXXXXXXXXXXXXXXXXXXXXXXXXXXXXXXXXXXXXXXXXXXXXXXXX'"
      ]
     },
     "metadata": {},
     "execution_count": 19
    }
   ],
   "source": [
    "pdb_seq"
   ]
  },
  {
   "cell_type": "code",
   "execution_count": 20,
   "metadata": {},
   "outputs": [
    {
     "output_type": "execute_result",
     "data": {
      "text/plain": [
       "array(['-', '-', '-', '-', '-', '-', '-', '-', '-', '-', '-', '-', '-',\n",
       "       '-', '-', '-', '-', '-', '-', '-', '-', '-', '-', '-', '-', '-',\n",
       "       '-', '-', '-', '-', '-', '-', '-', '-', '-', '-', '-', '-', '-',\n",
       "       '-', '-', '-', '-', '-', '-', '-', '-', '-', '-', '-', '-', '-',\n",
       "       '-', '-', '-', '-', '-', '-', '-', '-', '-', '-', '-', '-', '-',\n",
       "       '-', '-', '-', '-', '-', '-', '-', '-', '-', '-', '-', '-', '-',\n",
       "       '-', '-', '-', '-', '-', '-', '-', '-', '-', '-', '-', '-', '-',\n",
       "       '-', '-', '-', '-', '-', '-', '-', '-', '-', '-', '-', '-', '-',\n",
       "       '-', '-', '-', '-', '-', '-', '-', '-', '-', '-', '-', '-', '-',\n",
       "       '-', '-', '-', '-', '-', '-', '-', '-', '-', '-', '-', '-', '-',\n",
       "       '-', '-', '-', '-', '-', '-', '-', '-', '-', '-', '-', '-', '-',\n",
       "       '-', '-', '-', '-', '-', '-', '-', '-', '-', '-', '-', '-', '-',\n",
       "       '-', '-', '-', '-', '-', '-', '-', '-', '-', '-', '-', '-', '-',\n",
       "       '-', '-', '-', '-', '-', '-', '-', '-', '-', '-', '-', '-', '-',\n",
       "       '-', '-', '-', '-', '-', '-', '-', '-', '-', '-', '-', '-', '-',\n",
       "       '-', '-', '-', '-', '-', '-', '-', '-', '-', '-', '-', '-', '-',\n",
       "       '-', '-', '-', '-', '-', '-', '-', '-', '-', '-', '-', '-', '-',\n",
       "       '-', '-', '-', '-', '-', '-', '-', '-', '-', '-', '-', '-', '-',\n",
       "       '-', '-', '-', '-', '-', '-', '-', '-', '-', '-', '-', '-', '-',\n",
       "       '-', '-', '-', '-', '-', '-', '-', '-', '-', '-', '-', '-', '-',\n",
       "       '-', '-', '-', '-', '-', '-', '-', '-', '-', '-', '-', '-', '-',\n",
       "       '-', '-', '-', '-', '-', '-', '-', '-', '-', '-', '-', '-', '-',\n",
       "       '-', '-', '-', '-', '-', '-', '-', '-', '-', '-', '-', '-', '-',\n",
       "       '-', '-', '-', '-', '-', '-', '-', '-', '-', '-', '-', '-', '-',\n",
       "       '-', '-', '-', '-', '-', '-', '-', '-', '-', '-', '-', '-', '-',\n",
       "       '-', '-', '-', '-', '-', '-', '-', '-', '-', '-', '-', '-', '-',\n",
       "       '-', '-', '-', '-', '-', '-', '-', '-', '-', '-', '-', '-', '-',\n",
       "       '-', '-', '-', '-', '-', '-', '-', '-', '-', '-', '-', '-', '-',\n",
       "       '-', '-', '-', '-', '-', '-', '-', '-', '-', '-', '-', '-', '-',\n",
       "       '-', '-', '-', '-', '-', '-', '-', '-', '-', '-', '-', '-', '-',\n",
       "       '-', '-', '-', '-', '-', '-', '-', '-', '-', '-', '-', '-', '-',\n",
       "       '-', '-', '-', '-', '-', '-', '-', '-', '-', '-', '-', '-', '-',\n",
       "       '-', '-', '-', '-', '-', '-', '-', '-', '-', '-', '-', '-', '-',\n",
       "       '-', '-', '-', '-', '-', '-', '-', '-', '-', '-', '-', '-', '-',\n",
       "       '-', '-', '-', '-', '-', '-', '-', '-', '-', '-', '-', '-', '-',\n",
       "       '-', '-', '-', '-', '-', '-', '-', '-', '-', '-', '-', '-', '-',\n",
       "       '-', '-', '-', '-', '-', '-', '-', '-', '-', '-', '-', '-', '-',\n",
       "       '-', '-', '-', '-', '-', '-', '-', '-', '-', '-', '-', '-', '-',\n",
       "       '-', '-', '-', '-', '-', '-', '-', '-', '-', '-'], dtype='<U1')"
      ]
     },
     "metadata": {},
     "execution_count": 20
    }
   ],
   "source": [
    "seq_len = pdb_resnums[-1] - pdb_resnums[0] + 1\n",
    "seq_array = np.array(['-'] * seq_len)\n",
    "seq_array"
   ]
  },
  {
   "cell_type": "code",
   "execution_count": 21,
   "metadata": {},
   "outputs": [
    {
     "output_type": "execute_result",
     "data": {
      "text/plain": [
       "array([  0,   1,   2,   3,   9,  10,  11,  12,  13,  14,  15,  16,  17,\n",
       "        18,  19,  20,  21,  22,  23,  24,  25,  26,  27,  28,  29,  30,\n",
       "        31,  32,  33,  34,  35,  36,  37,  38,  39,  40,  41,  42,  43,\n",
       "        44,  45,  46,  47,  48,  49,  50,  51,  52,  53,  54,  55,  56,\n",
       "        57,  58,  59,  60,  61,  62,  63,  64,  65,  66,  67,  68,  69,\n",
       "        70,  71,  72,  73,  74,  75,  76,  77,  78,  79,  80,  81,  82,\n",
       "        83,  84,  85,  86,  87,  88,  89,  90,  91,  92,  93,  94,  95,\n",
       "        96,  97,  98,  99, 100, 101, 102, 103, 104, 105, 106, 107, 108,\n",
       "       109, 110, 111, 112, 113, 114, 115, 116, 117, 118, 119, 120, 121,\n",
       "       122, 123, 124, 125, 126, 127, 128, 129, 130, 131, 132, 133, 134,\n",
       "       135, 136, 137, 138, 139, 140, 141, 142, 143, 144, 145, 146, 147,\n",
       "       148, 149, 150, 151, 152, 153, 154, 155, 156, 157, 158, 159, 160,\n",
       "       161, 162, 163, 164, 165, 166, 167, 168, 169, 170, 171, 172, 173,\n",
       "       174, 175, 176, 177, 178, 179, 182, 183, 184, 185, 186, 187, 188,\n",
       "       189, 190, 191, 192, 193, 194, 195, 196, 197, 198, 199, 200, 201,\n",
       "       202, 203, 204, 205, 206, 207, 208, 209, 210, 211, 212, 213, 214,\n",
       "       215, 216, 217, 218, 219, 220, 221, 222, 223, 224, 225, 226, 227,\n",
       "       228, 229, 230, 231, 232, 233, 234, 235, 236, 237, 238, 239, 240,\n",
       "       241, 242, 243, 244, 245, 246, 247, 248, 249, 250, 251, 252, 253,\n",
       "       254, 255, 256, 257, 258, 259, 260, 261, 262, 263, 264, 265, 266,\n",
       "       267, 268, 269, 270, 271, 272, 273, 274, 275, 276, 277, 278, 297,\n",
       "       298, 397, 398, 399, 400, 401, 402, 403, 404, 405, 406, 407, 408,\n",
       "       409, 410, 411, 412, 413, 414, 415, 416, 417, 418, 419, 420, 421,\n",
       "       422, 423, 424, 425, 426, 427, 428, 429, 430, 431, 432, 433, 434,\n",
       "       435, 436, 437, 438, 439, 440, 441, 442, 443, 444, 445, 446, 447,\n",
       "       448, 449, 450, 451, 452, 453, 454, 455, 456, 457, 458, 459, 460,\n",
       "       461, 462, 463, 464, 465, 466, 467, 468, 469, 470, 471, 472, 473,\n",
       "       474, 475, 476, 477, 478, 479, 480, 481, 482, 483, 484, 485, 486,\n",
       "       487, 488, 489, 490, 491, 492, 493, 494, 495, 496, 497, 498, 499,\n",
       "       500, 501, 502, 503])"
      ]
     },
     "metadata": {},
     "execution_count": 21
    }
   ],
   "source": [
    "seq_indices = pdb_resnums - pdb_resnums[0]\n",
    "seq_indices"
   ]
  },
  {
   "cell_type": "code",
   "execution_count": 22,
   "metadata": {},
   "outputs": [
    {
     "output_type": "execute_result",
     "data": {
      "text/plain": [
       "array(['S', 'G', 'I', 'P', '-', '-', '-', '-', '-', 'A', 'P', 'T', 'S',\n",
       "       'Q', 'Q', 'V', 'G', 'Q', 'M', 'Y', 'D', 'L', 'V', 'T', 'P', 'L',\n",
       "       'L', 'N', 'S', 'V', 'A', 'G', 'G', 'P', 'C', 'A', 'I', 'H', 'H',\n",
       "       'G', 'Y', 'W', 'E', 'N', 'D', 'G', 'R', 'A', 'S', 'W', 'Q', 'Q',\n",
       "       'A', 'A', 'D', 'R', 'L', 'T', 'D', 'L', 'V', 'A', 'E', 'R', 'T',\n",
       "       'V', 'L', 'D', 'G', 'G', 'V', 'R', 'L', 'L', 'D', 'V', 'G', 'C',\n",
       "       'G', 'T', 'G', 'Q', 'P', 'A', 'L', 'R', 'V', 'A', 'R', 'D', 'N',\n",
       "       'A', 'I', 'Q', 'I', 'T', 'G', 'I', 'T', 'V', 'S', 'Q', 'V', 'Q',\n",
       "       'V', 'A', 'I', 'A', 'A', 'D', 'C', 'A', 'R', 'E', 'R', 'G', 'L',\n",
       "       'S', 'H', 'R', 'V', 'D', 'F', 'S', 'C', 'V', 'D', 'A', 'M', 'S',\n",
       "       'L', 'P', 'Y', 'P', 'D', 'N', 'A', 'F', 'D', 'A', 'A', 'W', 'A',\n",
       "       'M', 'Q', 'S', 'L', 'L', 'E', 'M', 'S', 'E', 'P', 'D', 'R', 'A',\n",
       "       'I', 'R', 'E', 'I', 'L', 'R', 'V', 'L', 'K', 'P', 'G', 'G', 'I',\n",
       "       'L', 'G', 'V', 'T', 'E', 'V', 'V', 'K', 'R', 'E', 'A', '-', '-',\n",
       "       'G', 'M', 'P', 'V', 'S', 'G', 'D', 'R', 'W', 'P', 'T', 'G', 'L',\n",
       "       'R', 'I', 'C', 'L', 'A', 'E', 'Q', 'L', 'L', 'E', 'S', 'L', 'R',\n",
       "       'A', 'A', 'G', 'F', 'E', 'I', 'L', 'D', 'W', 'E', 'D', 'V', 'S',\n",
       "       'S', 'R', 'T', 'R', 'Y', 'F', 'M', 'P', 'Q', 'F', 'A', 'E', 'E',\n",
       "       'L', 'A', 'A', 'H', 'Q', 'H', 'G', 'I', 'A', 'D', 'R', 'Y', 'G',\n",
       "       'P', 'A', 'V', 'A', 'G', 'W', 'A', 'A', 'A', 'V', 'C', 'D', 'Y',\n",
       "       'E', 'K', 'Y', 'A', 'H', 'D', 'M', 'G', 'Y', 'A', 'I', 'L', 'T',\n",
       "       'A', 'R', 'K', 'P', 'V', 'G', '-', '-', '-', '-', '-', '-', '-',\n",
       "       '-', '-', '-', '-', '-', '-', '-', '-', '-', '-', '-', 'C', 'X',\n",
       "       '-', '-', '-', '-', '-', '-', '-', '-', '-', '-', '-', '-', '-',\n",
       "       '-', '-', '-', '-', '-', '-', '-', '-', '-', '-', '-', '-', '-',\n",
       "       '-', '-', '-', '-', '-', '-', '-', '-', '-', '-', '-', '-', '-',\n",
       "       '-', '-', '-', '-', '-', '-', '-', '-', '-', '-', '-', '-', '-',\n",
       "       '-', '-', '-', '-', '-', '-', '-', '-', '-', '-', '-', '-', '-',\n",
       "       '-', '-', '-', '-', '-', '-', '-', '-', '-', '-', '-', '-', '-',\n",
       "       '-', '-', '-', '-', '-', '-', '-', '-', '-', '-', '-', '-', '-',\n",
       "       '-', '-', '-', '-', '-', '-', '-', 'X', 'X', 'X', 'X', 'X', 'X',\n",
       "       'X', 'X', 'X', 'X', 'X', 'X', 'X', 'X', 'X', 'X', 'X', 'X', 'X',\n",
       "       'X', 'X', 'X', 'X', 'X', 'X', 'X', 'X', 'X', 'X', 'X', 'X', 'X',\n",
       "       'X', 'X', 'X', 'X', 'X', 'X', 'X', 'X', 'X', 'X', 'X', 'X', 'X',\n",
       "       'X', 'X', 'X', 'X', 'X', 'X', 'X', 'X', 'X', 'X', 'X', 'X', 'X',\n",
       "       'X', 'X', 'X', 'X', 'X', 'X', 'X', 'X', 'X', 'X', 'X', 'X', 'X',\n",
       "       'X', 'X', 'X', 'X', 'X', 'X', 'X', 'X', 'X', 'X', 'X', 'X', 'X',\n",
       "       'X', 'X', 'X', 'X', 'X', 'X', 'X', 'X', 'X', 'X', 'X', 'X', 'X',\n",
       "       'X', 'X', 'X', 'X', 'X', 'X', 'X', 'X', 'X', 'X'], dtype='<U1')"
      ]
     },
     "metadata": {},
     "execution_count": 22
    }
   ],
   "source": [
    "seq_array[seq_indices] = list(pdb_seq)\n",
    "seq_array"
   ]
  },
  {
   "cell_type": "code",
   "execution_count": 23,
   "metadata": {},
   "outputs": [
    {
     "output_type": "execute_result",
     "data": {
      "text/plain": [
       "'SGIP-----APTSQQVGQMYDLVTPLLNSVAGGPCAIHHGYWENDGRASWQQAADRLTDLVAERTVLDGGVRLLDVGCGTGQPALRVARDNAIQITGITVSQVQVAIAADCARERGLSHRVDFSCVDAMSLPYPDNAFDAAWAMQSLLEMSEPDRAIREILRVLKPGGILGVTEVVKREA--GMPVSGDRWPTGLRICLAEQLLESLRAAGFEILDWEDVSSRTRYFMPQFAEELAAHQHGIADRYGPAVAGWAAAVCDYEKYAHDMGYAILTARKPVG------------------CX--------------------------------------------------------------------------------------------------XXXXXXXXXXXXXXXXXXXXXXXXXXXXXXXXXXXXXXXXXXXXXXXXXXXXXXXXXXXXXXXXXXXXXXXXXXXXXXXXXXXXXXXXXXXXXXXXXXXXXXXXXXX'"
      ]
     },
     "metadata": {},
     "execution_count": 23
    }
   ],
   "source": [
    "pdb_seq_correct = ''.join(seq_array)\n",
    "pdb_seq_correct"
   ]
  },
  {
   "cell_type": "code",
   "execution_count": 24,
   "metadata": {},
   "outputs": [
    {
     "output_type": "execute_result",
     "data": {
      "text/plain": [
       "[Alignment(seqA='---------APTSQQVGQMYDLVTPLLNSVAGGPCAIHHGYWENDGRASWQQAADRLTDLVAERTVLDGGVRLLDVGCGTGQPALRVARDNAIQITGITVSQVQVAIAADCARERGLSHRVDFSCVDAMSLPYPDNAFDAAWAMQSLLEMSEPDRAIREILRVLKPGGILGVTEVVKREAGGGMPVSGDRWPTGLRICLAEQLLESLRAAGFEILDWEDVSSRTRYFMPQFAEELAAHQHGIADRYGPAVAGWAAAVCDYEKYAHDMGYAILTARKPVG---------------------------------------------------------------------------------------------------------------------------------------------------------------------------------------------------------------------------------', seqB='SGIP-----APTSQQVGQMYDLVTPLLNSVAGGPCAIHHGYWENDGRASWQQAADRLTDLVAERTVLDGGVRLLDVGCGTGQPALRVARDNAIQITGITVSQVQVAIAADCARERGLSHRVDFSCVDAMSLPYPDNAFDAAWAMQSLLEMSEPDRAIREILRVLKPGGILGVTEVVKREA--GMPVSGDRWPTGLRICLAEQLLESLRAAGFEILDWEDVSSRTRYFMPQFAEELAAHQHGIADRYGPAVAGWAAAVCDYEKYAHDMGYAILTARKPVG------------------CX--------------------------------------------------------------------------------------------------XXXXXXXXXXXXXXXXXXXXXXXXXXXXXXXXXXXXXXXXXXXXXXXXXXXXXXXXXXXXXXXXXXXXXXXXXXXXXXXXXXXXXXXXXXXXXXXXXXXXXXXXXXX', score=1102.0, start=0, end=504)]"
      ]
     },
     "metadata": {},
     "execution_count": 24
    }
   ],
   "source": [
    "pairwise2.align.globalms(fasta_seq, pdb_seq_correct, 5, -1, -2, -1)"
   ]
  },
  {
   "cell_type": "code",
   "execution_count": 25,
   "metadata": {
    "tags": []
   },
   "outputs": [
    {
     "output_type": "stream",
     "name": "stdout",
     "text": [
      "2I2Y_A\n",
      "Alignment(seqA='----------------------------------------------------------------MHRDSCPLDCKVYVGNLGNNGNKTELERAFGYYGPLRSVWVARNPPGFAFVEFEDPRDAADAVRELDGRTLCGCRVRVELSNGEKR', seqB='MQYKLILNGKTLKGETTTEAVDAATAEKVFKQYANDNGVDGEWTYDDATKTFTVTEGSHHHHHHMHRDSCPLDCKVYVGNLGNNGNKTELERAFGYYGPLRSVWVARNPPGFAFVEFEDPRDAADAVRELDGRTLCGCRVRVELSNGEKR', score=365.0, start=0, end=150)\n",
      "Alignment(seqA='M----------------------------------------------------------------HRDSCPLDCKVYVGNLGNNGNKTELERAFGYYGPLRSVWVARNPPGFAFVEFEDPRDAADAVRELDGRTLCGCRVRVELSNGEKR', seqB='MQYKLILNGKTLKGETTTEAVDAATAEKVFKQYANDNGVDGEWTYDDATKTFTVTEGSHHHHHHMHRDSCPLDCKVYVGNLGNNGNKTELERAFGYYGPLRSVWVARNPPGFAFVEFEDPRDAADAVRELDGRTLCGCRVRVELSNGEKR', score=365.0, start=0, end=150)\n",
      "\n",
      "3M0G_A\n",
      "Alignment(seqA='--SERLKEVQDGVEAAMAAAIGRLPAGDLRDAMAYAAQGGKRLRAFLAIESAAIHGISMEQAMPAALAVEALHAYSLVHDDMPCMDNDDLRRGLPTVHRKWDEATAVLAGDALQTLAFELCTDPVLGSAENRVALVAALAQASGAEGMVYGQALDIAAETAAVPLTLDEIIRLQAGKTGALISFAAQAGAIIAGADRALLAAYATALGLAFQIADDILDVEGDEEAAGKRLGKDAEAHKATFVSLLGLPGAKARAADLVAEAEAALAPYGEAAATLRACARYVIE--------------------------------------------------------------------------------------------------------------------------------------------------', seqB='SLSERLKEVQDAVETAMAAAIGRLPAGDLRDAMAYAAQGGKRLRAFLAIESAAIHGISMAQAMPAALAVEALHAYSLVHDDMPCMDNDDLRRGLPTVHKKWDDATAVLAGDALQTLAFELCTDPVLGSAENRVALVAALAQASGAEGMVYGQALDIAAETAAVPLTLDEIIRLQAGKTGALISFAAQAGAILAGADRGPLTAYATALGLAFQIADDIL---------------------ATFVSLLGLAGAKSRAADLVAEAEAALAPYGEAASTLRACARYVIE-----------XXXXXXXXXXXXXXXXXXXXXXXXXXXXXXXXXXXXXXXXXXXXXXXXXXXXXXXXXXXXXXXXXXXXXXXXXXXXXXXXXXXXXXXXXXXXXXXXXXXXXXXXXXXXXXXXXXXXXXXXXXXXXXXXXXXXXXX', score=1067.0, start=0, end=431)\n",
      "Alignment(seqA='S--ERLKEVQDGVEAAMAAAIGRLPAGDLRDAMAYAAQGGKRLRAFLAIESAAIHGISMEQAMPAALAVEALHAYSLVHDDMPCMDNDDLRRGLPTVHRKWDEATAVLAGDALQTLAFELCTDPVLGSAENRVALVAALAQASGAEGMVYGQALDIAAETAAVPLTLDEIIRLQAGKTGALISFAAQAGAIIAGADRALLAAYATALGLAFQIADDILDVEGDEEAAGKRLGKDAEAHKATFVSLLGLPGAKARAADLVAEAEAALAPYGEAAATLRACARYVIE--------------------------------------------------------------------------------------------------------------------------------------------------', seqB='SLSERLKEVQDAVETAMAAAIGRLPAGDLRDAMAYAAQGGKRLRAFLAIESAAIHGISMAQAMPAALAVEALHAYSLVHDDMPCMDNDDLRRGLPTVHKKWDDATAVLAGDALQTLAFELCTDPVLGSAENRVALVAALAQASGAEGMVYGQALDIAAETAAVPLTLDEIIRLQAGKTGALISFAAQAGAILAGADRGPLTAYATALGLAFQIADDIL---------------------ATFVSLLGLAGAKSRAADLVAEAEAALAPYGEAASTLRACARYVIE-----------XXXXXXXXXXXXXXXXXXXXXXXXXXXXXXXXXXXXXXXXXXXXXXXXXXXXXXXXXXXXXXXXXXXXXXXXXXXXXXXXXXXXXXXXXXXXXXXXXXXXXXXXXXXXXXXXXXXXXXXXXXXXXXXXXXXXXXX', score=1067.0, start=0, end=431)\n",
      "\n",
      "2V90_C\n",
      "Alignment(seqA='PRCLHLEKGPQGFGFLLREEKGLDGRPGQFLWEVDPGLPAKKAGMQAGDRLVAVAGESVEGLGHEETVSRIQGQGSCVSLTVVDPEADRFFS---------------------------------------------------------------------------------------------------------------------------------------------------------------------------------------------------------------------------------------------------------------------------------------------------------------------------------------------------------------------------------------------------------------------------------------------------------------------------------------------------------------------------------------------------------------------------------------------------------------------------------------------------------------------------------------------------------------------------------------------------------------------------------------------------------------------------------------------------------------------------------------------------------------------------------------------------------------------------------------------------------------------------------------------------------------------------------------------------------------------------------------------------------------------------------------------------------------------------------------------------------------------------------------------------------------------------------------------------------------------------------------------------------------------------------------------------------------------------------------------------------------------------------------------------------------------------------------------------------------------------------------------------------------------------------------------------------------------------------------------------------------------------------------M', seqB='PRCLHLEKGPQGFGFLLREEKGLDGRPGQFLWEVDPGLPAKKAGMQAGDRLVAVAGESVEGLGHEETVSRIQGQGSCVSLTVVDPEADRETSV-----------------------------------------------------------------------------------------------------------------------------------------------------------------------------------------------------------------------------------------------------------------------------------------------------------------------------------------------------------------------------------------------------------------------------------------------------------------------------------------------------------------------------------------------------------------------------------------------------------------------------------------------------------------------------------------------------------------------------------------------------------------------------------------------------------------------------------------------------------------------------------------------------------------------------------------------------------------------------------------------------------------------------------------------------------------------------------------------------------------------------------------------------------------------------------------------------------------------------------------------------------------------------------------------------------------------------------------------------------------------------------------------------------------------------------------------------------------------------------------------------------------------------------------------------------------------------------------------------------------------------------------------------------------------------------------------------------------------------XXXXXXXXXXXXXXXXXXXXXXXXXXXXXXXXXXXXXXXXXXXXXXXXXXXXXXXXXX', score=-1273.0, start=0, end=1812)\n",
      "Alignment(seqA='PRCLHLEKGPQGFGFLLREEKGLDGRPGQFLWEVDPGLPAKKAGMQAGDRLVAVAGESVEGLGHEETVSRIQGQGSCVSLTVVDPEADRFFSM---------------------------------------------------------------------------------------------------------------------------------------------------------------------------------------------------------------------------------------------------------------------------------------------------------------------------------------------------------------------------------------------------------------------------------------------------------------------------------------------------------------------------------------------------------------------------------------------------------------------------------------------------------------------------------------------------------------------------------------------------------------------------------------------------------------------------------------------------------------------------------------------------------------------------------------------------------------------------------------------------------------------------------------------------------------------------------------------------------------------------------------------------------------------------------------------------------------------------------------------------------------------------------------------------------------------------------------------------------------------------------------------------------------------------------------------------------------------------------------------------------------------------------------------------------------------------------------------------------------------------------------------------------------------------------------------------------------------------------------------------------------------------------------', seqB='PRCLHLEKGPQGFGFLLREEKGLDGRPGQFLWEVDPGLPAKKAGMQAGDRLVAVAGESVEGLGHEETVSRIQGQGSCVSLTVVDPEADRETSV-----------------------------------------------------------------------------------------------------------------------------------------------------------------------------------------------------------------------------------------------------------------------------------------------------------------------------------------------------------------------------------------------------------------------------------------------------------------------------------------------------------------------------------------------------------------------------------------------------------------------------------------------------------------------------------------------------------------------------------------------------------------------------------------------------------------------------------------------------------------------------------------------------------------------------------------------------------------------------------------------------------------------------------------------------------------------------------------------------------------------------------------------------------------------------------------------------------------------------------------------------------------------------------------------------------------------------------------------------------------------------------------------------------------------------------------------------------------------------------------------------------------------------------------------------------------------------------------------------------------------------------------------------------------------------------------------------------------------------XXXXXXXXXXXXXXXXXXXXXXXXXXXXXXXXXXXXXXXXXXXXXXXXXXXXXXXXXX', score=-1273.0, start=0, end=1812)\n",
      "\n",
      "1K28_A\n",
      "Alignment(seqA='----------------------------------------------------------------------------------------------------------------------------NVLNQGGEVGYDSSSNVIQDSNLDTAINPDDRPLSEIPTDDNPNMSMAEMLRRDEGLRLKVYWDTEGYPTIGIGHLIMKQPVRDMAQINKVLSKQVGREITGNPGSITMEEATTLFERDLADMQRDIKSHSKVGPVWQAVNRSRQMALENMAFQMGVGGVAKFNTMLTAMLAGDWEKAYKAGRDSLWYQQTKGRASRVTMIILTGNLESYGVEVKT--------------------------------------------------------------------------------------------------------------------------------------------------------------------------------------------------------------------------------------------------------------------------------------------------------------------------------------------------------------------------------------------------------------------------------------------------------------------------------------------------------------------------------------------------------------------', seqB='NNLNWFVGVVEDRMDPLKLGRVRVRVVGLHPPQRAQGDVMGIPTEKLPWMSVIQPITSAAMSGIGGSVTGPVEGTRVYGHFLDKWKTNGIVLGTYGGIVREKPNRLEGFSDPTGQYPRRLGNDTNVLNQGGEVGYDSSSNVIQDSNLDTAINPDDRPLSEIPTDDNPNMSMAEMLRRDEGLRLKVYWDTEGYPTIGIGHLIMKQPVRDMAQINKVLSKQVGREITGNPGSITMEEATTLFERDLADMQRDIKSHSKVGPVWQAVNRSRQMALENMAFQMGVGGVAKFNTMLTAMLAGDWEKAYKAGRDSLWYQQTKGRASRVTMIILTGNLESYGVEVKT----------------DPADPPIPNDSRILFKEPVSSYKGEYPYVHTMETESGHIQEFDDTPGQERYRLVHPTGTYEEVSPSGRRTRKTVDNLYDITNADGNFLVAGDKKTNVGGSEIYYNMDNRLHQIDGSNTIFVRGDETKTVEGNGTILVKGNVTIIVEGNADITVKGDATTLVEGNQTNTVNGNLSWKVAGTVDWDVGGDWTEKMASMSSISSGQYTIDGSRIDIGS------HHLYXXXXXXXXXXXXXXXXXXXXXXXXXXXXXXXXXXXXXXXXXXXXXXXXXXXXXXXXXXXXXXXXXXXXXXXXXXXXXXXXXXXXXXXXXXXXXXXXXXXXXXXXXXXXXXXXXXXXXXXXXXXXXXXXXXXXXXXXXXXXXXXXXXXXXXXXXXXXXXXXXXXXXXXXXXXXXXXXXXXXXXXXXXXXXXXXXXXXXXXXXXXXXXXXXXXXXXXXXXXXXXXXXXXXXXXXXXXXXXXXXXXXXXXXXXXXXXXXXXXXXXXXXXXXXXXXXXXXXXXXXXXXXXXXXXXXXXXXXXXXXXXXXXX', score=406.0, start=0, end=888)\n",
      "Alignment(seqA='N----------------------------------------------------------------------------------------------------------------------------VLNQGGEVGYDSSSNVIQDSNLDTAINPDDRPLSEIPTDDNPNMSMAEMLRRDEGLRLKVYWDTEGYPTIGIGHLIMKQPVRDMAQINKVLSKQVGREITGNPGSITMEEATTLFERDLADMQRDIKSHSKVGPVWQAVNRSRQMALENMAFQMGVGGVAKFNTMLTAMLAGDWEKAYKAGRDSLWYQQTKGRASRVTMIILTGNLESYGVEVKT--------------------------------------------------------------------------------------------------------------------------------------------------------------------------------------------------------------------------------------------------------------------------------------------------------------------------------------------------------------------------------------------------------------------------------------------------------------------------------------------------------------------------------------------------------------------', seqB='NNLNWFVGVVEDRMDPLKLGRVRVRVVGLHPPQRAQGDVMGIPTEKLPWMSVIQPITSAAMSGIGGSVTGPVEGTRVYGHFLDKWKTNGIVLGTYGGIVREKPNRLEGFSDPTGQYPRRLGNDTNVLNQGGEVGYDSSSNVIQDSNLDTAINPDDRPLSEIPTDDNPNMSMAEMLRRDEGLRLKVYWDTEGYPTIGIGHLIMKQPVRDMAQINKVLSKQVGREITGNPGSITMEEATTLFERDLADMQRDIKSHSKVGPVWQAVNRSRQMALENMAFQMGVGGVAKFNTMLTAMLAGDWEKAYKAGRDSLWYQQTKGRASRVTMIILTGNLESYGVEVKT----------------DPADPPIPNDSRILFKEPVSSYKGEYPYVHTMETESGHIQEFDDTPGQERYRLVHPTGTYEEVSPSGRRTRKTVDNLYDITNADGNFLVAGDKKTNVGGSEIYYNMDNRLHQIDGSNTIFVRGDETKTVEGNGTILVKGNVTIIVEGNADITVKGDATTLVEGNQTNTVNGNLSWKVAGTVDWDVGGDWTEKMASMSSISSGQYTIDGSRIDIGS------HHLYXXXXXXXXXXXXXXXXXXXXXXXXXXXXXXXXXXXXXXXXXXXXXXXXXXXXXXXXXXXXXXXXXXXXXXXXXXXXXXXXXXXXXXXXXXXXXXXXXXXXXXXXXXXXXXXXXXXXXXXXXXXXXXXXXXXXXXXXXXXXXXXXXXXXXXXXXXXXXXXXXXXXXXXXXXXXXXXXXXXXXXXXXXXXXXXXXXXXXXXXXXXXXXXXXXXXXXXXXXXXXXXXXXXXXXXXXXXXXXXXXXXXXXXXXXXXXXXXXXXXXXXXXXXXXXXXXXXXXXXXXXXXXXXXXXXXXXXXXXXXXXXXXXX', score=406.0, start=0, end=888)\n",
      "\n"
     ]
    }
   ],
   "source": [
    "def align_fasta_pdb(target):\n",
    "    pdb_id = target.split('_')[0]\n",
    "    chain = target.split('_')[1]\n",
    "    fasta_path = (fasta_dir / target).with_suffix('.fasta')\n",
    "    pdb_path = (native_dir / pdb_id).with_suffix('.pdb')\n",
    "    correct_pdb_path = (correct_pdb_dir / target).with_suffix('.pdb')\n",
    "    fasta_seq = ReadSeq.fasta2seq(fasta_path)\n",
    "    mol = parsePDB(pdb_path, chain=chain)\n",
    "    new_resnums = correct_renums(mol)\n",
    "    mol.setResnums(new_resnums)\n",
    "    pdb_seq, pdb_resnum = ReadSeq.mol2seq(mol, insert_gap=False)\n",
    "    seq_len = np.max(pdb_resnum) - np.min(pdb_resnum) + 1\n",
    "    seq_array = np.array(['-'] * seq_len)\n",
    "    seq_indices = pdb_resnum - pdb_resnum[0]\n",
    "    try:\n",
    "        seq_array[seq_indices] = list(pdb_seq)\n",
    "    except IndexError as e:\n",
    "        print(target, e)\n",
    "        print(fasta_seq)\n",
    "        print(pdb_seq)\n",
    "        print(pdb_resnum)\n",
    "        print(seq_indices)\n",
    "        return None\n",
    "    pdb_seq_correct = ''.join(seq_array)\n",
    "    alignment_list = pairwise2.align.globalms(fasta_seq, pdb_seq_correct, 5, -1, -2, -1)\n",
    "    return alignment_list\n",
    "\n",
    "for fasta in fasta_dir.glob('*.fasta'):\n",
    "    target = fasta.stem\n",
    "    alignment_list = align_fasta_pdb(target)\n",
    "    # try:\n",
    "    #     alignment_list = align_fasta_pdb(target)\n",
    "    # except IndexError as e:\n",
    "    #     print('target:', target, e)\n",
    "    if len(alignment_list) > 1:\n",
    "        print(target)\n",
    "        for alignment in alignment_list:\n",
    "            print(alignment)\n",
    "        print()"
   ]
  },
  {
   "cell_type": "code",
   "execution_count": 26,
   "metadata": {},
   "outputs": [],
   "source": [
    "from functools import reduce\n",
    "\n",
    "def get_native_target(target):\n",
    "    pdb_id = target.split('_')[0]\n",
    "    chain = target.split('_')[1]\n",
    "    fasta_path = (fasta_dir / target).with_suffix('.fasta')\n",
    "    pdb_path = (native_dir / pdb_id).with_suffix('.pdb')\n",
    "    correct_pdb_path = (correct_pdb_dir / target).with_suffix('.pdb')\n",
    "    fasta_seq = ReadSeq.fasta2seq(fasta_path)\n",
    "    mol = parsePDB(pdb_path, chain=chain)\n",
    "    new_resnums = correct_renums(mol)\n",
    "    mol.setResnums(new_resnums)\n",
    "    # TODO ここでresnumsをmolのresnumsの順番から変更してしまっているのでバグが出る\n",
    "    pdb_seq, pdb_resnums = ReadSeq.mol2seq(mol)\n",
    "    # pdb_seq, pdb_resnum = ReadSeq.mol2seq(mol, insert_gap=False)\n",
    "    # if pdb_resnum[0] != np.min(pdb_resnum):\n",
    "    #     print('different!!!', pdb_resnum[0], np.min(pdb_resnum))\n",
    "    #     del_indices = np.where(pdb_resnum < pdb_resnum[0])[0]\n",
    "    #     pdb_seq = ''.join(np.delete(list(pdb_seq), del_indices, 0))\n",
    "    #     pdb_resnum = np.delete(pdb_resnum, del_indices, 0)\n",
    "    # if pdb_resnum[0] != np.min(pdb_resnum):\n",
    "    #     print('different again!!!', pdb_resnum[0], np.min(pdb_resnum))\n",
    "    # seq_len = np.max(pdb_resnum) - np.min(pdb_resnum) + 1\n",
    "    # seq_array = np.array(['-'] * seq_len)\n",
    "    # seq_indices = pdb_resnum - pdb_resnum[0]\n",
    "    # seq_array[seq_indices] = list(pdb_seq)\n",
    "    # pdb_seq_correct = ''.join(seq_array)\n",
    "    align_fseq, align_pseq, align_findices, align_pindices = AlignSeq.align_fasta_and_pdb(fasta_seq, pdb_seq, alignment_percentage_threshold=0.7)\n",
    "    # TODO 単純にpdb_seq_correctとmol.getResindices()の順序が一部変更されているのでalign_pindicesをそのまま使うとずれが生じる\n",
    "    # sel_mol = mol.select('resindex {}'.format(reduce(lambda a, b: str(a) + ' ' + str(b), align_pindices)))\n",
    "    sel_pdb_resnums = pdb_resnums[align_pindices]\n",
    "    sel_mol = mol.select('resnum {}'.format(reduce(lambda a, b: str(a) + ' ' + str(b), sel_pdb_resnums)))\n",
    "    assert sel_mol is not None\n",
    "    # pdb_resnum = sel_mol.getResnums()\n",
    "    pdb_resnum_start, pdb_resnum_end = str(sel_pdb_resnums[0]), str(sel_pdb_resnums[-1])\n",
    "    _, scop_resnum_start, scop_resnum_end = read_fasta(fasta_path)\n",
    "    if pdb_resnum_start != scop_resnum_start or pdb_resnum_end != scop_resnum_end:\n",
    "        print('The residue number of pdb and scop are different')\n",
    "        print('pdb start: {}, scop start: {}, pdb end: {}, scop end:{}'\n",
    "                .format(pdb_resnum_start, scop_resnum_start, pdb_resnum_end, scop_resnum_end))\n",
    "    fasta_resnum = align_findices + 1\n",
    "    # TODO ここもalign_pindicesをそのまま使うとずれが生じる\n",
    "    convert_resnum_dict = dict(zip(sel_pdb_resnums, fasta_resnum))\n",
    "    # TODO ResindicesではなくResnumsを使う\n",
    "    new_resnum = [convert_resnum_dict[resnum] for resnum in sel_mol.getResnums()]\n",
    "    sel_mol.setResnums(new_resnum)\n",
    "    writePDB(str(correct_pdb_path), sel_mol)"
   ]
  },
  {
   "cell_type": "code",
   "execution_count": 27,
   "metadata": {},
   "outputs": [
    {
     "output_type": "stream",
     "name": "stdout",
     "text": [
      "4EFH_A\n",
      "2UUB_E\n",
      "4WE5_A\n",
      "5V93_o\n",
      "1HV5_A\n",
      "2V2F_F\n",
      "4HRR_H\n",
      "5XX9_B\n",
      "1IFV_A\n",
      "1W3B_A\n",
      "3DMI_A\n",
      "2F2H_A\n",
      "1DE4_A\n",
      "4ZPL_A\n",
      "6KNA_A\n",
      "3RHH_C\n",
      "2WP2_B\n",
      "5CZJ_B\n",
      "1F2E_A\n",
      "2BWJ_A\n",
      "1AYZ_A\n",
      "1I0D_A\n",
      "3JAI_SS\n",
      "4PNE_B\n",
      "2MR9_A\n",
      "1P3C_A\n",
      "2I2Y_A\n",
      "6K9F_B\n",
      "6O8W_g\n",
      "2D9Y_A\n",
      "2VKE_A\n",
      "2DS4_A\n",
      "1OHE_A\n",
      "3O1D_A\n",
      "1RSY_A\n",
      "6CD6_A\n",
      "1VLK_A\n",
      "5GJH_A\n",
      "1I4K_A\n",
      "4IOP_B\n",
      "2DKF_A\n",
      "5DE0_C\n",
      "1WLU_A\n",
      "3GFO_A\n",
      "5JP5_A\n",
      "1EA9_C\n",
      "4RM4_A\n",
      "6SPF_T\n",
      "5JT8_A\n",
      "2CNW_D\n",
      "2HSZ_A\n",
      "1HTA_A\n",
      "4G12_A\n",
      "1TW4_A\n",
      "1ST9_A\n",
      "4NBU_B\n",
      "6KWQ_A\n",
      "1YR0_A\n",
      "3M0G_A\n",
      "1MZE_A\n",
      "2RKG_A\n",
      "1V2F_A\n",
      "1XWN_A\n",
      "1XZP_A\n",
      "3JB4_B\n",
      "1S3J_A\n",
      "1KWF_A\n",
      "1OH0_A\n",
      "1UTI_A\n",
      "1IRU_I\n",
      "2GH9_A\n",
      "5Y4E_A\n",
      "4NYN_A\n",
      "1EXR_A\n",
      "2P6R_A\n",
      "2UUB_Q\n",
      "3HRX_A\n",
      "1UB7_A\n",
      "2CYB_B\n",
      "4V52_BC\n",
      "1KA9_F\n",
      "2B5A_A\n",
      "1W8O_A\n",
      "2V90_C\n",
      "The residue number of pdb and scop are different\n",
      "pdb start: 247, scop start: 247, pdb end: 338, scop end:339\n",
      "4KE6_E\n",
      "1RE5_A\n",
      "3CRN_A\n",
      "3TJ3_A\n",
      "2YV3_A\n",
      "2C21_A\n",
      "1V70_A\n",
      "1BQU_A\n",
      "1G4I_A\n",
      "1QNI_A\n",
      "1K28_A\n",
      "4M1Q_B\n",
      "3GM8_A\n",
      "2ZJR_H\n",
      "1RT8_A\n",
      "1RHF_A\n"
     ]
    }
   ],
   "source": [
    "for fasta in fasta_dir.glob('*.fasta'):\n",
    "    target = fasta.stem\n",
    "    print(target)\n",
    "    get_native_target(target)\n",
    "    # try:\n",
    "    #     get_native_target(target)\n",
    "    # except ValueError as e:\n",
    "    #     print(e)"
   ]
  },
  {
   "source": [
    "# Test the extracted pdb sequence matches to the fasta sequence for all targets"
   ],
   "cell_type": "markdown",
   "metadata": {}
  },
  {
   "cell_type": "code",
   "execution_count": 28,
   "metadata": {},
   "outputs": [
    {
     "output_type": "stream",
     "name": "stdout",
     "text": [
      "4EFH_A\n",
      "length: 227\n",
      "diff: 0\n",
      "missing: 0\n",
      "\n",
      "2UUB_E\n",
      "length: 81\n",
      "diff: 0\n",
      "missing: 0\n",
      "\n",
      "4WE5_A\n",
      "length: 321\n",
      "diff: 0\n",
      "missing: 0\n",
      "\n",
      "5V93_o\n",
      "length: 87\n",
      "diff: 0\n",
      "missing: 0\n",
      "\n",
      "1HV5_A\n",
      "length: 161\n",
      "diff: 0\n",
      "missing: 0\n",
      "\n",
      "2V2F_F\n",
      "length: 384\n",
      "diff: 0\n",
      "missing: 17\n",
      "\n",
      "4HRR_H\n",
      "length: 150\n",
      "diff: 3\n",
      "missing: 0\n",
      "\n",
      "5XX9_B\n",
      "length: 157\n",
      "diff: 0\n",
      "missing: 0\n",
      "\n",
      "1IFV_A\n",
      "length: 155\n",
      "diff: 0\n",
      "missing: 0\n",
      "\n",
      "1W3B_A\n",
      "length: 388\n",
      "diff: 2\n",
      "missing: 0\n",
      "\n",
      "3DMI_A\n",
      "length: 87\n",
      "diff: 0\n",
      "missing: 0\n",
      "\n",
      "2F2H_A\n",
      "length: 80\n",
      "diff: 0\n",
      "missing: 0\n",
      "\n",
      "1DE4_A\n",
      "length: 178\n",
      "diff: 0\n",
      "missing: 0\n",
      "\n",
      "4ZPL_A\n",
      "length: 107\n",
      "diff: 0\n",
      "missing: 0\n",
      "\n",
      "6KNA_A\n",
      "length: 76\n",
      "diff: 0\n",
      "missing: 0\n",
      "\n",
      "3RHH_C\n",
      "length: 476\n",
      "diff: 0\n",
      "missing: 0\n",
      "\n",
      "2WP2_B\n",
      "length: 110\n",
      "diff: 0\n",
      "missing: 0\n",
      "\n",
      "5CZJ_B\n",
      "length: 319\n",
      "diff: 0\n",
      "missing: 0\n",
      "\n",
      "1F2E_A\n",
      "length: 121\n",
      "diff: 0\n",
      "missing: 0\n",
      "\n",
      "2BWJ_A\n",
      "length: 192\n",
      "diff: 1\n",
      "missing: 0\n",
      "\n",
      "1AYZ_A\n",
      "length: 153\n",
      "diff: 0\n",
      "missing: 0\n",
      "\n",
      "1I0D_A\n",
      "length: 331\n",
      "diff: 0\n",
      "missing: 0\n",
      "\n",
      "3JAI_SS\n",
      "length: 137\n",
      "diff: 0\n",
      "missing: 0\n",
      "\n",
      "4PNE_B\n",
      "length: 270\n",
      "diff: 0\n",
      "missing: 2\n",
      "\n",
      "2MR9_A\n",
      "length: 40\n",
      "diff: 0\n",
      "missing: 0\n",
      "\n",
      "1P3C_A\n",
      "length: 215\n",
      "diff: 0\n",
      "missing: 0\n",
      "\n",
      "2I2Y_A\n",
      "length: 86\n",
      "diff: 0\n",
      "missing: 0\n",
      "\n",
      "6K9F_B\n",
      "length: 87\n",
      "diff: 0\n",
      "missing: 0\n",
      "\n",
      "6O8W_g\n",
      "length: 154\n",
      "diff: 0\n",
      "missing: 0\n",
      "\n",
      "2D9Y_A\n",
      "length: 104\n",
      "diff: 0\n",
      "missing: 0\n",
      "\n",
      "2VKE_A\n",
      "length: 162\n",
      "diff: 0\n",
      "missing: 7\n",
      "\n",
      "2DS4_A\n",
      "length: 106\n",
      "diff: 1\n",
      "missing: 0\n",
      "\n",
      "1OHE_A\n",
      "length: 182\n",
      "diff: 1\n",
      "missing: 0\n",
      "\n",
      "3O1D_A\n",
      "length: 298\n",
      "diff: 0\n",
      "missing: 60\n",
      "\n",
      "1RSY_A\n",
      "length: 126\n",
      "diff: 0\n",
      "missing: 0\n",
      "\n",
      "6CD6_A\n",
      "length: 287\n",
      "diff: 0\n",
      "missing: 23\n",
      "\n",
      "1VLK_A\n",
      "length: 142\n",
      "diff: 0\n",
      "missing: 0\n",
      "\n",
      "5GJH_A\n",
      "length: 95\n",
      "diff: 0\n",
      "missing: 0\n",
      "\n",
      "1I4K_A\n",
      "length: 72\n",
      "diff: 0\n",
      "missing: 0\n",
      "\n",
      "4IOP_B\n",
      "length: 121\n",
      "diff: 0\n",
      "missing: 0\n",
      "\n",
      "2DKF_A\n",
      "length: 431\n",
      "diff: 0\n",
      "missing: 0\n",
      "\n",
      "5DE0_C\n",
      "length: 135\n",
      "diff: 0\n",
      "missing: 0\n",
      "\n",
      "1WLU_A\n",
      "length: 116\n",
      "diff: 0\n",
      "missing: 0\n",
      "\n",
      "3GFO_A\n",
      "length: 222\n",
      "diff: 0\n",
      "missing: 0\n",
      "\n",
      "5JP5_A\n",
      "length: 134\n",
      "diff: 0\n",
      "missing: 0\n",
      "\n",
      "1EA9_C\n",
      "length: 382\n",
      "diff: 0\n",
      "missing: 0\n",
      "\n",
      "4RM4_A\n",
      "length: 375\n",
      "diff: 0\n",
      "missing: 11\n",
      "\n",
      "6SPF_T\n",
      "length: 94\n",
      "diff: 0\n",
      "missing: 0\n",
      "\n",
      "5JT8_A\n",
      "length: 310\n",
      "diff: 5\n",
      "missing: 0\n",
      "\n",
      "2CNW_D\n",
      "length: 191\n",
      "diff: 0\n",
      "missing: 0\n",
      "\n",
      "2HSZ_A\n",
      "length: 224\n",
      "diff: 0\n",
      "missing: 0\n",
      "\n",
      "1HTA_A\n",
      "length: 68\n",
      "diff: 0\n",
      "missing: 0\n",
      "\n",
      "4G12_A\n",
      "length: 44\n",
      "diff: 0\n",
      "missing: 0\n",
      "\n",
      "1TW4_A\n",
      "length: 125\n",
      "diff: 0\n",
      "missing: 0\n",
      "\n",
      "1ST9_A\n",
      "length: 113\n",
      "diff: 0\n",
      "missing: 0\n",
      "\n",
      "4NBU_B\n",
      "length: 243\n",
      "diff: 0\n",
      "missing: 0\n",
      "\n",
      "6KWQ_A\n",
      "length: 462\n",
      "diff: 0\n",
      "missing: 0\n",
      "\n",
      "1YR0_A\n",
      "length: 163\n",
      "diff: 0\n",
      "missing: 0\n",
      "\n",
      "3M0G_A\n",
      "length: 283\n",
      "diff: 12\n",
      "missing: 21\n",
      "\n",
      "1MZE_A\n",
      "length: 337\n",
      "diff: 0\n",
      "missing: 2\n",
      "\n",
      "2RKG_A\n",
      "length: 100\n",
      "diff: 1\n",
      "missing: 0\n",
      "\n",
      "1V2F_A\n",
      "length: 368\n",
      "diff: 0\n",
      "missing: 0\n",
      "\n",
      "1XWN_A\n",
      "length: 166\n",
      "diff: 0\n",
      "missing: 0\n",
      "\n",
      "1XZP_A\n",
      "length: 160\n",
      "diff: 0\n",
      "missing: 0\n",
      "\n",
      "3JB4_B\n",
      "length: 166\n",
      "diff: 1\n",
      "missing: 0\n",
      "\n",
      "1S3J_A\n",
      "length: 66\n",
      "diff: 0\n",
      "missing: 0\n",
      "\n",
      "1KWF_A\n",
      "length: 363\n",
      "diff: 1\n",
      "missing: 0\n",
      "\n",
      "1OH0_A\n",
      "length: 125\n",
      "diff: 0\n",
      "missing: 0\n",
      "\n",
      "1UTI_A\n",
      "length: 57\n",
      "diff: 0\n",
      "missing: 0\n",
      "\n",
      "1IRU_I\n",
      "length: 220\n",
      "diff: 8\n",
      "missing: 0\n",
      "\n",
      "2GH9_A\n",
      "length: 378\n",
      "diff: 2\n",
      "missing: 0\n",
      "\n",
      "5Y4E_A\n",
      "length: 219\n",
      "diff: 0\n",
      "missing: 0\n",
      "\n",
      "4NYN_A\n",
      "length: 133\n",
      "diff: 0\n",
      "missing: 0\n",
      "\n",
      "1EXR_A\n",
      "length: 146\n",
      "diff: 0\n",
      "missing: 0\n",
      "\n",
      "2P6R_A\n",
      "length: 202\n",
      "diff: 0\n",
      "missing: 3\n",
      "\n",
      "2UUB_Q\n",
      "length: 104\n",
      "diff: 0\n",
      "missing: 0\n",
      "\n",
      "3HRX_A\n",
      "length: 254\n",
      "diff: 0\n",
      "missing: 0\n",
      "\n",
      "1UB7_A\n",
      "length: 172\n",
      "diff: 0\n",
      "missing: 0\n",
      "\n",
      "2CYB_B\n",
      "length: 320\n",
      "diff: 0\n",
      "missing: 3\n",
      "\n",
      "4V52_BC\n",
      "length: 147\n",
      "diff: 0\n",
      "missing: 0\n",
      "\n",
      "1KA9_F\n",
      "length: 251\n",
      "diff: 0\n",
      "missing: 0\n",
      "\n",
      "2B5A_A\n",
      "length: 77\n",
      "diff: 0\n",
      "missing: 0\n",
      "\n",
      "1W8O_A\n",
      "length: 356\n",
      "diff: 1\n",
      "missing: 0\n",
      "\n",
      "2V90_C\n",
      "length: 93\n",
      "diff: 2\n",
      "missing: 1\n",
      "\n",
      "4KE6_E\n",
      "length: 246\n",
      "diff: 1\n",
      "missing: 20\n",
      "\n",
      "1RE5_A\n",
      "length: 448\n",
      "diff: 1\n",
      "missing: 10\n",
      "\n",
      "3CRN_A\n",
      "length: 121\n",
      "diff: 0\n",
      "missing: 0\n",
      "\n",
      "3TJ3_A\n",
      "length: 426\n",
      "diff: 0\n",
      "missing: 0\n",
      "\n",
      "2YV3_A\n",
      "length: 328\n",
      "diff: 0\n",
      "missing: 0\n",
      "\n",
      "2C21_A\n",
      "length: 139\n",
      "diff: 0\n",
      "missing: 0\n",
      "\n",
      "1V70_A\n",
      "length: 105\n",
      "diff: 0\n",
      "missing: 0\n",
      "\n",
      "1BQU_A\n",
      "length: 115\n",
      "diff: 1\n",
      "missing: 2\n",
      "\n",
      "1G4I_A\n",
      "length: 123\n",
      "diff: 0\n",
      "missing: 0\n",
      "\n",
      "1QNI_A\n",
      "length: 131\n",
      "diff: 0\n",
      "missing: 0\n",
      "\n",
      "1K28_A\n",
      "length: 216\n",
      "diff: 0\n",
      "missing: 0\n",
      "\n",
      "4M1Q_B\n",
      "length: 312\n",
      "diff: 0\n",
      "missing: 3\n",
      "\n",
      "3GM8_A\n",
      "length: 158\n",
      "diff: 0\n",
      "missing: 0\n",
      "\n",
      "2ZJR_H\n",
      "length: 134\n",
      "diff: 0\n",
      "missing: 0\n",
      "\n",
      "1RT8_A\n",
      "length: 102\n",
      "diff: 0\n",
      "missing: 0\n",
      "\n",
      "1RHF_A\n",
      "length: 91\n",
      "diff: 0\n",
      "missing: 0\n",
      "\n"
     ]
    }
   ],
   "source": [
    "cut_pdb_dir = Path('correct_pdb')\n",
    "\n",
    "def test_match_from_seq(fasta_seq, pdb_seq, pdb_resnum):\n",
    "    fasta_seq_array = np.array(list(fasta_seq))\n",
    "    pdb_seq_array = np.copy(fasta_seq_array)\n",
    "    pdb_seq_array[pdb_resnum - 1] = list(pdb_seq)\n",
    "    num_diff = np.count_nonzero(fasta_seq_array != pdb_seq_array)\n",
    "    num_missing = len(fasta_seq) - len(pdb_seq)\n",
    "    return num_diff, num_missing\n",
    "\n",
    "def test_match(target):\n",
    "    chain = target.split('_')[1]\n",
    "    pdb_path = (cut_pdb_dir / target).with_suffix('.pdb')\n",
    "    fasta_path = (fasta_dir / target).with_suffix('.fasta')\n",
    "    fasta_seq = ReadSeq.fasta2seq(fasta_path)\n",
    "    pdb_seq, pdb_resnum = ReadSeq.pdb2seq(pdb_path, chain=chain, read_HETATM=True, insert_gap=False)\n",
    "\n",
    "    # pdb_resnum_resname_dict = dict(zip(pdb_resnum, pdb_seq))\n",
    "    # missing = 0\n",
    "    # diff = 0\n",
    "    # for i, r in enumerate(fasta_seq):\n",
    "    #     fasta_resnum = i + 1\n",
    "    #     if fasta_resnum in pdb_resnum_resname_dict:\n",
    "    #         if r != pdb_resnum_resname_dict[fasta_resnum]:\n",
    "    #             diff += 1\n",
    "    #     else:\n",
    "    #         missing += 1\n",
    "    print('length:', len(fasta_seq))\n",
    "    # print('diff:', diff)\n",
    "    # print('missing:', missing)\n",
    "\n",
    "    diff, missing = test_match_from_seq(fasta_seq, pdb_seq, pdb_resnum)\n",
    "    print('diff:', diff)\n",
    "    print('missing:', missing)\n",
    "\n",
    "\n",
    "for fasta in fasta_dir.glob('*.fasta'):\n",
    "    target = fasta.stem\n",
    "    print(target)\n",
    "    test_match(target)\n",
    "    print()"
   ]
  },
  {
   "cell_type": "code",
   "execution_count": 29,
   "metadata": {},
   "outputs": [],
   "source": [
    "target = '2V2F_F'\n",
    "chain = target.split('_')[1]\n",
    "pdb_path = (cut_pdb_dir / target).with_suffix('.pdb')\n",
    "fasta_path = (fasta_dir / target).with_suffix('.fasta')\n",
    "fasta_seq = ReadSeq.fasta2seq(fasta_path)\n",
    "pdb_seq, pdb_resnum = ReadSeq.pdb2seq(pdb_path, chain=chain, read_HETATM=True, insert_gap=False)"
   ]
  },
  {
   "cell_type": "code",
   "execution_count": 30,
   "metadata": {},
   "outputs": [
    {
     "output_type": "execute_result",
     "data": {
      "text/plain": [
       "'YPAYMDNYLKEVINQVEQETGYNLLTTGMDVYTNVDQEAQKHLWDIYNSDQYVSYPDDDLQVASTVVDVSNGKVIAQLGARHQASNVSFGTNQAVETNRDWGSAMKPITDYAPAIEYGVYDSTATMVNDIPYNYPGTSTPVYNWDRAYFGNITLQYALQQSRNVTAVETLNKVGLDRAKTFLNGLGIDYPSMHYANAISSNTTESNKQYGASSEKMAAAYAAFANGGIYHKPMYINKVVFSDGSKKEFSDVGTRAMKETTAYMMTEMMKTVLAYGTGRGAYLPWLAQAGKTGTSNYTDDEIEKHIKNTGYVAPDEMFVGYTRKYSMAVWTGYSNRLTPIVGDGFLVAAKVYRSMITYLSEGSNPEDWNIPEGLYRNGEFVFKNG'"
      ]
     },
     "metadata": {},
     "execution_count": 30
    }
   ],
   "source": [
    "fasta_seq"
   ]
  },
  {
   "cell_type": "code",
   "execution_count": 31,
   "metadata": {},
   "outputs": [
    {
     "output_type": "execute_result",
     "data": {
      "text/plain": [
       "'YPAYMDNYLKEVINQVEQETGYNLLTTGMDVYTNVDQEAQKHLWDIYNSDQYVSYPDDDLQVASTVVDVSNGKVIAQLGARHSFGTNQAVETNRDWGSAMKPITDYAPAIEYGVYDSTATMVNDIPYNYPGTSTPVYNWDRAYFGNITLQYALQQSRNVTAVETLNKVGLDRAKTFLNGLGIDYPSMHYANAISSNTTESNKQYGASSEKMAAAYAAFANGGIYHKPMYINKVVFSDGSKKEFSDVGTRAMKETTAYMMTEMMKTVLAYGTGRGAYLPWLAQAGKTGTSNYTDYVAPDEMFVGYTRKYSMAVWTGYSNRLTPIVGDGFLVAAKVYRSMITYLSEGSPEDWNIPEGLYRNGEFVFKNG'"
      ]
     },
     "metadata": {},
     "execution_count": 31
    }
   ],
   "source": [
    "pdb_seq"
   ]
  },
  {
   "cell_type": "code",
   "execution_count": 32,
   "metadata": {},
   "outputs": [
    {
     "output_type": "execute_result",
     "data": {
      "text/plain": [
       "array([  1,   2,   3,   4,   5,   6,   7,   8,   9,  10,  11,  12,  13,\n",
       "        14,  15,  16,  17,  18,  19,  20,  21,  22,  23,  24,  25,  26,\n",
       "        27,  28,  29,  30,  31,  32,  33,  34,  35,  36,  37,  38,  39,\n",
       "        40,  41,  42,  43,  44,  45,  46,  47,  48,  49,  50,  51,  52,\n",
       "        53,  54,  55,  56,  57,  58,  59,  60,  61,  62,  63,  64,  65,\n",
       "        66,  67,  68,  69,  70,  71,  72,  73,  74,  75,  76,  77,  78,\n",
       "        79,  80,  81,  82,  88,  89,  90,  91,  92,  93,  94,  95,  96,\n",
       "        97,  98,  99, 100, 101, 102, 103, 104, 105, 106, 107, 108, 109,\n",
       "       110, 111, 112, 113, 114, 115, 116, 117, 118, 119, 120, 121, 122,\n",
       "       123, 124, 125, 126, 127, 128, 129, 130, 131, 132, 133, 134, 135,\n",
       "       136, 137, 138, 139, 140, 141, 142, 143, 144, 145, 146, 147, 148,\n",
       "       149, 150, 151, 152, 153, 154, 155, 156, 157, 158, 159, 160, 161,\n",
       "       162, 163, 164, 165, 166, 167, 168, 169, 170, 171, 172, 173, 174,\n",
       "       175, 176, 177, 178, 179, 180, 181, 182, 183, 184, 185, 186, 187,\n",
       "       188, 189, 190, 191, 192, 193, 194, 195, 196, 197, 198, 199, 200,\n",
       "       201, 202, 203, 204, 205, 206, 207, 208, 209, 210, 211, 212, 213,\n",
       "       214, 215, 216, 217, 218, 219, 220, 221, 222, 223, 224, 225, 226,\n",
       "       227, 228, 229, 230, 231, 232, 233, 234, 235, 236, 237, 238, 239,\n",
       "       240, 241, 242, 243, 244, 245, 246, 247, 248, 249, 250, 251, 252,\n",
       "       253, 254, 255, 256, 257, 258, 259, 260, 261, 262, 263, 264, 265,\n",
       "       266, 267, 268, 269, 270, 271, 272, 273, 274, 275, 276, 277, 278,\n",
       "       279, 280, 281, 282, 283, 284, 285, 286, 287, 288, 289, 290, 291,\n",
       "       292, 293, 294, 295, 296, 297, 298, 310, 311, 312, 313, 314, 315,\n",
       "       316, 317, 318, 319, 320, 321, 322, 323, 324, 325, 326, 327, 328,\n",
       "       329, 330, 331, 332, 333, 334, 335, 336, 337, 338, 339, 340, 341,\n",
       "       342, 343, 344, 345, 346, 347, 348, 349, 350, 351, 352, 353, 354,\n",
       "       355, 356, 357, 358, 359, 360, 361, 362, 364, 365, 366, 367, 368,\n",
       "       369, 370, 371, 372, 373, 374, 375, 376, 377, 378, 379, 380, 381,\n",
       "       382, 383, 384])"
      ]
     },
     "metadata": {},
     "execution_count": 32
    }
   ],
   "source": [
    "pdb_resnum"
   ]
  },
  {
   "cell_type": "code",
   "execution_count": 33,
   "metadata": {},
   "outputs": [],
   "source": [
    "pdb_seq_insert = np.array(['-'] * len(fasta_seq))\n",
    "pdb_seq_insert[pdb_resnum - 1] = list(pdb_seq)"
   ]
  },
  {
   "cell_type": "code",
   "execution_count": 34,
   "metadata": {},
   "outputs": [
    {
     "output_type": "execute_result",
     "data": {
      "text/plain": [
       "array(['Y', 'P', 'A', 'Y', 'M', 'D', 'N', 'Y', 'L', 'K', 'E', 'V', 'I',\n",
       "       'N', 'Q', 'V', 'E', 'Q', 'E', 'T', 'G', 'Y', 'N', 'L', 'L', 'T',\n",
       "       'T', 'G', 'M', 'D', 'V', 'Y', 'T', 'N', 'V', 'D', 'Q', 'E', 'A',\n",
       "       'Q', 'K', 'H', 'L', 'W', 'D', 'I', 'Y', 'N', 'S', 'D', 'Q', 'Y',\n",
       "       'V', 'S', 'Y', 'P', 'D', 'D', 'D', 'L', 'Q', 'V', 'A', 'S', 'T',\n",
       "       'V', 'V', 'D', 'V', 'S', 'N', 'G', 'K', 'V', 'I', 'A', 'Q', 'L',\n",
       "       'G', 'A', 'R', 'H', '-', '-', '-', '-', '-', 'S', 'F', 'G', 'T',\n",
       "       'N', 'Q', 'A', 'V', 'E', 'T', 'N', 'R', 'D', 'W', 'G', 'S', 'A',\n",
       "       'M', 'K', 'P', 'I', 'T', 'D', 'Y', 'A', 'P', 'A', 'I', 'E', 'Y',\n",
       "       'G', 'V', 'Y', 'D', 'S', 'T', 'A', 'T', 'M', 'V', 'N', 'D', 'I',\n",
       "       'P', 'Y', 'N', 'Y', 'P', 'G', 'T', 'S', 'T', 'P', 'V', 'Y', 'N',\n",
       "       'W', 'D', 'R', 'A', 'Y', 'F', 'G', 'N', 'I', 'T', 'L', 'Q', 'Y',\n",
       "       'A', 'L', 'Q', 'Q', 'S', 'R', 'N', 'V', 'T', 'A', 'V', 'E', 'T',\n",
       "       'L', 'N', 'K', 'V', 'G', 'L', 'D', 'R', 'A', 'K', 'T', 'F', 'L',\n",
       "       'N', 'G', 'L', 'G', 'I', 'D', 'Y', 'P', 'S', 'M', 'H', 'Y', 'A',\n",
       "       'N', 'A', 'I', 'S', 'S', 'N', 'T', 'T', 'E', 'S', 'N', 'K', 'Q',\n",
       "       'Y', 'G', 'A', 'S', 'S', 'E', 'K', 'M', 'A', 'A', 'A', 'Y', 'A',\n",
       "       'A', 'F', 'A', 'N', 'G', 'G', 'I', 'Y', 'H', 'K', 'P', 'M', 'Y',\n",
       "       'I', 'N', 'K', 'V', 'V', 'F', 'S', 'D', 'G', 'S', 'K', 'K', 'E',\n",
       "       'F', 'S', 'D', 'V', 'G', 'T', 'R', 'A', 'M', 'K', 'E', 'T', 'T',\n",
       "       'A', 'Y', 'M', 'M', 'T', 'E', 'M', 'M', 'K', 'T', 'V', 'L', 'A',\n",
       "       'Y', 'G', 'T', 'G', 'R', 'G', 'A', 'Y', 'L', 'P', 'W', 'L', 'A',\n",
       "       'Q', 'A', 'G', 'K', 'T', 'G', 'T', 'S', 'N', 'Y', 'T', 'D', '-',\n",
       "       '-', '-', '-', '-', '-', '-', '-', '-', '-', '-', 'Y', 'V', 'A',\n",
       "       'P', 'D', 'E', 'M', 'F', 'V', 'G', 'Y', 'T', 'R', 'K', 'Y', 'S',\n",
       "       'M', 'A', 'V', 'W', 'T', 'G', 'Y', 'S', 'N', 'R', 'L', 'T', 'P',\n",
       "       'I', 'V', 'G', 'D', 'G', 'F', 'L', 'V', 'A', 'A', 'K', 'V', 'Y',\n",
       "       'R', 'S', 'M', 'I', 'T', 'Y', 'L', 'S', 'E', 'G', 'S', '-', 'P',\n",
       "       'E', 'D', 'W', 'N', 'I', 'P', 'E', 'G', 'L', 'Y', 'R', 'N', 'G',\n",
       "       'E', 'F', 'V', 'F', 'K', 'N', 'G'], dtype='<U1')"
      ]
     },
     "metadata": {},
     "execution_count": 34
    }
   ],
   "source": [
    "pdb_seq_insert"
   ]
  },
  {
   "cell_type": "code",
   "execution_count": 52,
   "metadata": {},
   "outputs": [],
   "source": [
    "def test_match(fasta_seq, pdb_seq, pdb_resnum):\n",
    "    fasta_seq_array = np.array(list(fasta_seq))\n",
    "    pdb_seq_array = np.copy(fasta_seq_array)\n",
    "    pdb_seq_array[pdb_resnum - 1] = list(pdb_seq)\n",
    "    num_diff = np.count_nonzero(fasta_seq_array != pdb_seq_array)\n",
    "    num_missing = len(fasta_seq) - len(pdb_seq)\n",
    "    return num_diff, num_missing"
   ]
  },
  {
   "cell_type": "code",
   "execution_count": 38,
   "metadata": {},
   "outputs": [],
   "source": [
    "target = '3M0G_A'\n",
    "chain = target.split('_')[1]\n",
    "pdb_path = (cut_pdb_dir / target).with_suffix('.pdb')\n",
    "fasta_path = (fasta_dir / target).with_suffix('.fasta')\n",
    "fasta_seq = ReadSeq.fasta2seq(fasta_path)\n",
    "pdb_seq, pdb_resnum = ReadSeq.pdb2seq(pdb_path, chain=chain, read_HETATM=True, insert_gap=True)"
   ]
  },
  {
   "cell_type": "code",
   "execution_count": 37,
   "metadata": {},
   "outputs": [
    {
     "output_type": "execute_result",
     "data": {
      "text/plain": [
       "'SERLKEVQDAVETAMAAAIGRLPAGDLRDAMAYAAQGGKRLRAFLAIESAAIHGISMAQAMPAALAVEALHAYSLVHDDMPCMDNDDLRRGLPTVHKKWDDATAVLAGDALQTLAFELCTDPVLGSAENRVALVAALAQASGAEGMVYGQALDIAAETAAVPLTLDEIIRLQAGKTGALISFAAQAGAILAGADRGPLTAYATALGLAFQIADDILATFVSLLGLAGAKSRAADLVAEAEAALAPYGEAASTLRACARYVIE'"
      ]
     },
     "metadata": {},
     "execution_count": 37
    }
   ],
   "source": [
    "pdb_seq"
   ]
  },
  {
   "cell_type": "code",
   "execution_count": 41,
   "metadata": {},
   "outputs": [
    {
     "output_type": "execute_result",
     "data": {
      "text/plain": [
       "'SERLKEVQDGVEAAMAAAIGRLPAGDLRDAMAYAAQGGKRLRAFLAIESAAIHGISMEQAMPAALAVEALHAYSLVHDDMPCMDNDDLRRGLPTVHRKWDEATAVLAGDALQTLAFELCTDPVLGSAENRVALVAALAQASGAEGMVYGQALDIAAETAAVPLTLDEIIRLQAGKTGALISFAAQAGAIIAGADRALLAAYATALGLAFQIADDILDVEGDEEAAGKRLGKDAEAHKATFVSLLGLPGAKARAADLVAEAEAALAPYGEAAATLRACARYVIE'"
      ]
     },
     "metadata": {},
     "execution_count": 41
    }
   ],
   "source": [
    "fasta_seq"
   ]
  },
  {
   "cell_type": "code",
   "execution_count": 42,
   "metadata": {},
   "outputs": [
    {
     "output_type": "execute_result",
     "data": {
      "text/plain": [
       "(array(['S', 'E', 'R', 'L', 'K', 'E', 'V', 'Q', 'D', 'G', 'V', 'E', 'A',\n",
       "        'A', 'M', 'A', 'A', 'A', 'I', 'G', 'R', 'L', 'P', 'A', 'G', 'D',\n",
       "        'L', 'R', 'D', 'A', 'M', 'A', 'Y', 'A', 'A', 'Q', 'G', 'G', 'K',\n",
       "        'R', 'L', 'R', 'A', 'F', 'L', 'A', 'I', 'E', 'S', 'A', 'A', 'I',\n",
       "        'H', 'G', 'I', 'S', 'M', 'E', 'Q', 'A', 'M', 'P', 'A', 'A', 'L',\n",
       "        'A', 'V', 'E', 'A', 'L', 'H', 'A', 'Y', 'S', 'L', 'V', 'H', 'D',\n",
       "        'D', 'M', 'P', 'C', 'M', 'D', 'N', 'D', 'D', 'L', 'R', 'R', 'G',\n",
       "        'L', 'P', 'T', 'V', 'H', 'R', 'K', 'W', 'D', 'E', 'A', 'T', 'A',\n",
       "        'V', 'L', 'A', 'G', 'D', 'A', 'L', 'Q', 'T', 'L', 'A', 'F', 'E',\n",
       "        'L', 'C', 'T', 'D', 'P', 'V', 'L', 'G', 'S', 'A', 'E', 'N', 'R',\n",
       "        'V', 'A', 'L', 'V', 'A', 'A', 'L', 'A', 'Q', 'A', 'S', 'G', 'A',\n",
       "        'E', 'G', 'M', 'V', 'Y', 'G', 'Q', 'A', 'L', 'D', 'I', 'A', 'A',\n",
       "        'E', 'T', 'A', 'A', 'V', 'P', 'L', 'T', 'L', 'D', 'E', 'I', 'I',\n",
       "        'R', 'L', 'Q', 'A', 'G', 'K', 'T', 'G', 'A', 'L', 'I', 'S', 'F',\n",
       "        'A', 'A', 'Q', 'A', 'G', 'A', 'I', 'I', 'A', 'G', 'A', 'D', 'R',\n",
       "        'A', 'L', 'L', 'A', 'A', 'Y', 'A', 'T', 'A', 'L', 'G', 'L', 'A',\n",
       "        'F', 'Q', 'I', 'A', 'D', 'D', 'I', 'L', 'A', 'T', 'F', 'V', 'S',\n",
       "        'L', 'L', 'G', 'L', 'P', 'G', 'A', 'K', 'A', 'R', 'A', 'A', 'D',\n",
       "        'L', 'V', 'A', 'E', 'A', 'E', 'A', 'A', 'L', 'A', 'P', 'Y', 'G',\n",
       "        'E', 'A', 'A', 'A', 'T', 'L', 'R', 'A', 'C', 'A', 'R', 'Y', 'V',\n",
       "        'I', 'E'], dtype='<U1'),\n",
       " array(['S', 'E', 'R', 'L', 'K', 'E', 'V', 'Q', 'D', 'A', 'V', 'E', 'T',\n",
       "        'A', 'M', 'A', 'A', 'A', 'I', 'G', 'R', 'L', 'P', 'A', 'G', 'D',\n",
       "        'L', 'R', 'D', 'A', 'M', 'A', 'Y', 'A', 'A', 'Q', 'G', 'G', 'K',\n",
       "        'R', 'L', 'R', 'A', 'F', 'L', 'A', 'I', 'E', 'S', 'A', 'A', 'I',\n",
       "        'H', 'G', 'I', 'S', 'M', 'A', 'Q', 'A', 'M', 'P', 'A', 'A', 'L',\n",
       "        'A', 'V', 'E', 'A', 'L', 'H', 'A', 'Y', 'S', 'L', 'V', 'H', 'D',\n",
       "        'D', 'M', 'P', 'C', 'M', 'D', 'N', 'D', 'D', 'L', 'R', 'R', 'G',\n",
       "        'L', 'P', 'T', 'V', 'H', 'K', 'K', 'W', 'D', 'D', 'A', 'T', 'A',\n",
       "        'V', 'L', 'A', 'G', 'D', 'A', 'L', 'Q', 'T', 'L', 'A', 'F', 'E',\n",
       "        'L', 'C', 'T', 'D', 'P', 'V', 'L', 'G', 'S', 'A', 'E', 'N', 'R',\n",
       "        'V', 'A', 'L', 'V', 'A', 'A', 'L', 'A', 'Q', 'A', 'S', 'G', 'A',\n",
       "        'E', 'G', 'M', 'V', 'Y', 'G', 'Q', 'A', 'L', 'D', 'I', 'A', 'A',\n",
       "        'E', 'T', 'A', 'A', 'V', 'P', 'L', 'T', 'L', 'D', 'E', 'I', 'I',\n",
       "        'R', 'L', 'Q', 'A', 'G', 'K', 'T', 'G', 'A', 'L', 'I', 'S', 'F',\n",
       "        'A', 'A', 'Q', 'A', 'G', 'A', 'I', 'L', 'A', 'G', 'A', 'D', 'R',\n",
       "        'G', 'P', 'L', 'T', 'A', 'Y', 'A', 'T', 'A', 'L', 'G', 'L', 'A',\n",
       "        'F', 'Q', 'I', 'A', 'D', 'D', 'I', 'L', '-', '-', '-', '-', '-',\n",
       "        '-', '-', '-', '-', '-', '-', '-', '-', '-', '-', '-', '-', '-',\n",
       "        '-', '-', '-', 'A', 'T', 'F', 'V', 'S', 'L', 'L', 'G', 'L', 'A',\n",
       "        'G', 'A', 'K', 'S', 'R', 'A', 'A', 'D', 'L', 'V', 'A', 'E', 'A',\n",
       "        'E', 'A', 'A', 'L', 'A', 'P', 'Y', 'G', 'E', 'A', 'A', 'S', 'T',\n",
       "        'L', 'R', 'A', 'C', 'A', 'R', 'Y', 'V', 'I', 'E'], dtype='<U1'),\n",
       " array([  0,   1,   2,   3,   4,   5,   6,   7,   8,   9,  10,  11,  12,\n",
       "         13,  14,  15,  16,  17,  18,  19,  20,  21,  22,  23,  24,  25,\n",
       "         26,  27,  28,  29,  30,  31,  32,  33,  34,  35,  36,  37,  38,\n",
       "         39,  40,  41,  42,  43,  44,  45,  46,  47,  48,  49,  50,  51,\n",
       "         52,  53,  54,  55,  56,  57,  58,  59,  60,  61,  62,  63,  64,\n",
       "         65,  66,  67,  68,  69,  70,  71,  72,  73,  74,  75,  76,  77,\n",
       "         78,  79,  80,  81,  82,  83,  84,  85,  86,  87,  88,  89,  90,\n",
       "         91,  92,  93,  94,  95,  96,  97,  98,  99, 100, 101, 102, 103,\n",
       "        104, 105, 106, 107, 108, 109, 110, 111, 112, 113, 114, 115, 116,\n",
       "        117, 118, 119, 120, 121, 122, 123, 124, 125, 126, 127, 128, 129,\n",
       "        130, 131, 132, 133, 134, 135, 136, 137, 138, 139, 140, 141, 142,\n",
       "        143, 144, 145, 146, 147, 148, 149, 150, 151, 152, 153, 154, 155,\n",
       "        156, 157, 158, 159, 160, 161, 162, 163, 164, 165, 166, 167, 168,\n",
       "        169, 170, 171, 172, 173, 174, 175, 176, 177, 178, 179, 180, 181,\n",
       "        182, 183, 184, 185, 186, 187, 188, 189, 190, 191, 192, 193, 194,\n",
       "        195, 196, 197, 198, 199, 200, 201, 202, 203, 204, 205, 206, 207,\n",
       "        208, 209, 210, 211, 212, 213, 214, 215, 237, 238, 239, 240, 241,\n",
       "        242, 243, 244, 245, 246, 247, 248, 249, 250, 251, 252, 253, 254,\n",
       "        255, 256, 257, 258, 259, 260, 261, 262, 263, 264, 265, 266, 267,\n",
       "        268, 269, 270, 271, 272, 273, 274, 275, 276, 277, 278, 279, 280,\n",
       "        281, 282]),\n",
       " array([  0,   1,   2,   3,   4,   5,   6,   7,   8,   9,  10,  11,  12,\n",
       "         13,  14,  15,  16,  17,  18,  19,  20,  21,  22,  23,  24,  25,\n",
       "         26,  27,  28,  29,  30,  31,  32,  33,  34,  35,  36,  37,  38,\n",
       "         39,  40,  41,  42,  43,  44,  45,  46,  47,  48,  49,  50,  51,\n",
       "         52,  53,  54,  55,  56,  57,  58,  59,  60,  61,  62,  63,  64,\n",
       "         65,  66,  67,  68,  69,  70,  71,  72,  73,  74,  75,  76,  77,\n",
       "         78,  79,  80,  81,  82,  83,  84,  85,  86,  87,  88,  89,  90,\n",
       "         91,  92,  93,  94,  95,  96,  97,  98,  99, 100, 101, 102, 103,\n",
       "        104, 105, 106, 107, 108, 109, 110, 111, 112, 113, 114, 115, 116,\n",
       "        117, 118, 119, 120, 121, 122, 123, 124, 125, 126, 127, 128, 129,\n",
       "        130, 131, 132, 133, 134, 135, 136, 137, 138, 139, 140, 141, 142,\n",
       "        143, 144, 145, 146, 147, 148, 149, 150, 151, 152, 153, 154, 155,\n",
       "        156, 157, 158, 159, 160, 161, 162, 163, 164, 165, 166, 167, 168,\n",
       "        169, 170, 171, 172, 173, 174, 175, 176, 177, 178, 179, 180, 181,\n",
       "        182, 183, 184, 185, 186, 187, 188, 189, 190, 191, 192, 193, 194,\n",
       "        195, 196, 197, 198, 199, 200, 201, 202, 203, 204, 205, 206, 207,\n",
       "        208, 209, 210, 211, 212, 213, 214, 215, 216, 217, 218, 219, 220,\n",
       "        221, 222, 223, 224, 225, 226, 227, 228, 229, 230, 231, 232, 233,\n",
       "        234, 235, 236, 237, 238, 239, 240, 241, 242, 243, 244, 245, 246,\n",
       "        247, 248, 249, 250, 251, 252, 253, 254, 255, 256, 257, 258, 259,\n",
       "        260, 261]))"
      ]
     },
     "metadata": {},
     "execution_count": 42
    }
   ],
   "source": [
    "AlignSeq.align_seq(fasta_seq, pdb_seq)"
   ]
  },
  {
   "cell_type": "code",
   "execution_count": null,
   "metadata": {},
   "outputs": [],
   "source": []
  }
 ]
}